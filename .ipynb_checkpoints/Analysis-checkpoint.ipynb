{
 "cells": [
  {
   "cell_type": "markdown",
   "id": "2077f0e3",
   "metadata": {},
   "source": [
    "# Defensive Stock Analysis"
   ]
  },
  {
   "cell_type": "markdown",
   "id": "9a8a8862",
   "metadata": {},
   "source": [
    "Which performs better Linear regression or time series? "
   ]
  },
  {
   "cell_type": "code",
   "execution_count": 1,
   "id": "9a27ba23",
   "metadata": {},
   "outputs": [],
   "source": [
    "import pandas as pd\n",
    "import numpy as np\n",
    "import matplotlib.pyplot as plt\n",
    "import seaborn as sns\n",
    "import itertools\n",
    "import zipfile\n",
    "import time\n",
    "from datetime import datetime\n",
    "from sklearn.model_selection import GroupShuffleSplit \n",
    "from sklearn.metrics import mean_squared_error\n",
    "from statsmodels.tsa.stattools import adfuller\n",
    "from statsmodels.graphics.tsaplots import plot_acf, plot_pacf\n",
    "from statsmodels.tsa.arima.model import ARIMA\n",
    "from statsmodels.tsa.statespace.sarimax import SARIMAX\n",
    "from sklearn.preprocessing import StandardScaler\n",
    "from pmdarima import auto_arima\n",
    "from sklearn.model_selection import train_test_split\n",
    "from sklearn.linear_model import LogisticRegression\n",
    "from sklearn.metrics import precision_score, recall_score, accuracy_score, f1_score, classification_report\n",
    "from sklearn import preprocessing\n",
    "from sklearn import utils\n",
    "import statsmodels.api as sm\n",
    "from pylab import rcParams\n",
    "%matplotlib inline"
   ]
  },
  {
   "cell_type": "code",
   "execution_count": 2,
   "id": "5569d3ec",
   "metadata": {},
   "outputs": [],
   "source": [
    "# with zipfile.ZipFile(\"Data/archive.zip\") as zip_ref:\n",
    "#     zip_ref.extractall(\"Data\")"
   ]
  },
  {
   "cell_type": "code",
   "execution_count": 3,
   "id": "e3de261e",
   "metadata": {},
   "outputs": [],
   "source": [
    "df1 = pd.read_csv('Data/sp500_companies.csv')\n",
    "df2 = pd.read_csv('Data/sp500_index.csv')\n",
    "df3 = pd.read_csv('Data/sp500_stocks.csv')\n",
    "dfg = pd.read_csv('Data/daily_gold_rate.csv')\n",
    "deth = pd.read_csv('Data/CBETHUSD.csv')\n",
    "dollar = pd.read_csv('Data/DTWEXBGS.csv')\n",
    "ppi = pd.read_csv('Data/WPU02850113.csv')"
   ]
  },
  {
   "cell_type": "markdown",
   "id": "6361f125",
   "metadata": {},
   "source": [
    "### Datasets "
   ]
  },
  {
   "cell_type": "markdown",
   "id": "0e7a2653",
   "metadata": {},
   "source": [
    "### Dataset #1"
   ]
  },
  {
   "cell_type": "code",
   "execution_count": 4,
   "id": "7e14fb9b",
   "metadata": {},
   "outputs": [
    {
     "data": {
      "text/html": [
       "<div>\n",
       "<style scoped>\n",
       "    .dataframe tbody tr th:only-of-type {\n",
       "        vertical-align: middle;\n",
       "    }\n",
       "\n",
       "    .dataframe tbody tr th {\n",
       "        vertical-align: top;\n",
       "    }\n",
       "\n",
       "    .dataframe thead th {\n",
       "        text-align: right;\n",
       "    }\n",
       "</style>\n",
       "<table border=\"1\" class=\"dataframe\">\n",
       "  <thead>\n",
       "    <tr style=\"text-align: right;\">\n",
       "      <th></th>\n",
       "      <th>Exchange</th>\n",
       "      <th>Symbol</th>\n",
       "      <th>Shortname</th>\n",
       "      <th>Longname</th>\n",
       "      <th>Sector</th>\n",
       "      <th>Industry</th>\n",
       "      <th>Currentprice</th>\n",
       "      <th>Marketcap</th>\n",
       "      <th>Ebitda</th>\n",
       "      <th>Revenuegrowth</th>\n",
       "      <th>City</th>\n",
       "      <th>State</th>\n",
       "      <th>Country</th>\n",
       "      <th>Fulltimeemployees</th>\n",
       "      <th>Longbusinesssummary</th>\n",
       "      <th>Weight</th>\n",
       "    </tr>\n",
       "  </thead>\n",
       "  <tbody>\n",
       "    <tr>\n",
       "      <th>0</th>\n",
       "      <td>NMS</td>\n",
       "      <td>AAPL</td>\n",
       "      <td>Apple Inc.</td>\n",
       "      <td>Apple Inc.</td>\n",
       "      <td>Technology</td>\n",
       "      <td>Consumer Electronics</td>\n",
       "      <td>149.70</td>\n",
       "      <td>2381442449408</td>\n",
       "      <td>1.305410e+11</td>\n",
       "      <td>0.081</td>\n",
       "      <td>Cupertino</td>\n",
       "      <td>CA</td>\n",
       "      <td>United States</td>\n",
       "      <td>164000.0</td>\n",
       "      <td>Apple Inc. designs, manufactures, and markets ...</td>\n",
       "      <td>0.067072</td>\n",
       "    </tr>\n",
       "    <tr>\n",
       "      <th>1</th>\n",
       "      <td>NMS</td>\n",
       "      <td>MSFT</td>\n",
       "      <td>Microsoft Corporation</td>\n",
       "      <td>Microsoft Corporation</td>\n",
       "      <td>Technology</td>\n",
       "      <td>Software—Infrastructure</td>\n",
       "      <td>247.11</td>\n",
       "      <td>1855296897024</td>\n",
       "      <td>9.798300e+10</td>\n",
       "      <td>0.124</td>\n",
       "      <td>Redmond</td>\n",
       "      <td>WA</td>\n",
       "      <td>United States</td>\n",
       "      <td>221000.0</td>\n",
       "      <td>Microsoft Corporation develops, licenses, and ...</td>\n",
       "      <td>0.052254</td>\n",
       "    </tr>\n",
       "    <tr>\n",
       "      <th>2</th>\n",
       "      <td>NMS</td>\n",
       "      <td>GOOGL</td>\n",
       "      <td>Alphabet Inc.</td>\n",
       "      <td>Alphabet Inc.</td>\n",
       "      <td>Communication Services</td>\n",
       "      <td>Internet Content &amp; Information</td>\n",
       "      <td>96.41</td>\n",
       "      <td>1249782136832</td>\n",
       "      <td>9.373300e+10</td>\n",
       "      <td>0.061</td>\n",
       "      <td>Mountain View</td>\n",
       "      <td>CA</td>\n",
       "      <td>United States</td>\n",
       "      <td>186779.0</td>\n",
       "      <td>Alphabet Inc. provides various products and pl...</td>\n",
       "      <td>0.035200</td>\n",
       "    </tr>\n",
       "    <tr>\n",
       "      <th>3</th>\n",
       "      <td>NMS</td>\n",
       "      <td>GOOG</td>\n",
       "      <td>Alphabet Inc.</td>\n",
       "      <td>Alphabet Inc.</td>\n",
       "      <td>Communication Services</td>\n",
       "      <td>Internet Content &amp; Information</td>\n",
       "      <td>96.73</td>\n",
       "      <td>1249780563968</td>\n",
       "      <td>9.373300e+10</td>\n",
       "      <td>0.061</td>\n",
       "      <td>Mountain View</td>\n",
       "      <td>CA</td>\n",
       "      <td>United States</td>\n",
       "      <td>186779.0</td>\n",
       "      <td>Alphabet Inc. provides various products and pl...</td>\n",
       "      <td>0.035200</td>\n",
       "    </tr>\n",
       "    <tr>\n",
       "      <th>4</th>\n",
       "      <td>NMS</td>\n",
       "      <td>AMZN</td>\n",
       "      <td>Amazon.com, Inc.</td>\n",
       "      <td>Amazon.com, Inc.</td>\n",
       "      <td>Consumer Cyclical</td>\n",
       "      <td>Internet Retail</td>\n",
       "      <td>100.79</td>\n",
       "      <td>1028229365760</td>\n",
       "      <td>5.154900e+10</td>\n",
       "      <td>0.147</td>\n",
       "      <td>Seattle</td>\n",
       "      <td>WA</td>\n",
       "      <td>United States</td>\n",
       "      <td>1544000.0</td>\n",
       "      <td>Amazon.com, Inc. engages in the retail sale of...</td>\n",
       "      <td>0.028960</td>\n",
       "    </tr>\n",
       "  </tbody>\n",
       "</table>\n",
       "</div>"
      ],
      "text/plain": [
       "  Exchange Symbol              Shortname               Longname  \\\n",
       "0      NMS   AAPL             Apple Inc.             Apple Inc.   \n",
       "1      NMS   MSFT  Microsoft Corporation  Microsoft Corporation   \n",
       "2      NMS  GOOGL          Alphabet Inc.          Alphabet Inc.   \n",
       "3      NMS   GOOG          Alphabet Inc.          Alphabet Inc.   \n",
       "4      NMS   AMZN       Amazon.com, Inc.       Amazon.com, Inc.   \n",
       "\n",
       "                   Sector                        Industry  Currentprice  \\\n",
       "0              Technology            Consumer Electronics        149.70   \n",
       "1              Technology         Software—Infrastructure        247.11   \n",
       "2  Communication Services  Internet Content & Information         96.41   \n",
       "3  Communication Services  Internet Content & Information         96.73   \n",
       "4       Consumer Cyclical                 Internet Retail        100.79   \n",
       "\n",
       "       Marketcap        Ebitda  Revenuegrowth           City State  \\\n",
       "0  2381442449408  1.305410e+11          0.081      Cupertino    CA   \n",
       "1  1855296897024  9.798300e+10          0.124        Redmond    WA   \n",
       "2  1249782136832  9.373300e+10          0.061  Mountain View    CA   \n",
       "3  1249780563968  9.373300e+10          0.061  Mountain View    CA   \n",
       "4  1028229365760  5.154900e+10          0.147        Seattle    WA   \n",
       "\n",
       "         Country  Fulltimeemployees  \\\n",
       "0  United States           164000.0   \n",
       "1  United States           221000.0   \n",
       "2  United States           186779.0   \n",
       "3  United States           186779.0   \n",
       "4  United States          1544000.0   \n",
       "\n",
       "                                 Longbusinesssummary    Weight  \n",
       "0  Apple Inc. designs, manufactures, and markets ...  0.067072  \n",
       "1  Microsoft Corporation develops, licenses, and ...  0.052254  \n",
       "2  Alphabet Inc. provides various products and pl...  0.035200  \n",
       "3  Alphabet Inc. provides various products and pl...  0.035200  \n",
       "4  Amazon.com, Inc. engages in the retail sale of...  0.028960  "
      ]
     },
     "execution_count": 4,
     "metadata": {},
     "output_type": "execute_result"
    }
   ],
   "source": [
    "df1.head()"
   ]
  },
  {
   "cell_type": "code",
   "execution_count": 5,
   "id": "a294d236",
   "metadata": {},
   "outputs": [
    {
     "data": {
      "text/html": [
       "<div>\n",
       "<style scoped>\n",
       "    .dataframe tbody tr th:only-of-type {\n",
       "        vertical-align: middle;\n",
       "    }\n",
       "\n",
       "    .dataframe tbody tr th {\n",
       "        vertical-align: top;\n",
       "    }\n",
       "\n",
       "    .dataframe thead th {\n",
       "        text-align: right;\n",
       "    }\n",
       "</style>\n",
       "<table border=\"1\" class=\"dataframe\">\n",
       "  <thead>\n",
       "    <tr style=\"text-align: right;\">\n",
       "      <th></th>\n",
       "      <th>Exchange</th>\n",
       "      <th>Symbol</th>\n",
       "      <th>Shortname</th>\n",
       "      <th>Longname</th>\n",
       "      <th>Sector</th>\n",
       "      <th>Industry</th>\n",
       "      <th>Currentprice</th>\n",
       "      <th>Marketcap</th>\n",
       "      <th>Ebitda</th>\n",
       "      <th>Revenuegrowth</th>\n",
       "      <th>City</th>\n",
       "      <th>State</th>\n",
       "      <th>Country</th>\n",
       "      <th>Fulltimeemployees</th>\n",
       "      <th>Longbusinesssummary</th>\n",
       "      <th>Weight</th>\n",
       "    </tr>\n",
       "  </thead>\n",
       "  <tbody>\n",
       "    <tr>\n",
       "      <th>11</th>\n",
       "      <td>NYQ</td>\n",
       "      <td>WMT</td>\n",
       "      <td>Walmart Inc.</td>\n",
       "      <td>Walmart Inc.</td>\n",
       "      <td>Consumer Defensive</td>\n",
       "      <td>Discount Stores</td>\n",
       "      <td>142.58</td>\n",
       "      <td>395499831296</td>\n",
       "      <td>3.458600e+10</td>\n",
       "      <td>0.084</td>\n",
       "      <td>Bentonville</td>\n",
       "      <td>AR</td>\n",
       "      <td>United States</td>\n",
       "      <td>2300000.0</td>\n",
       "      <td>Walmart Inc. engages in the operation of retai...</td>\n",
       "      <td>0.011139</td>\n",
       "    </tr>\n",
       "    <tr>\n",
       "      <th>13</th>\n",
       "      <td>NYQ</td>\n",
       "      <td>PG</td>\n",
       "      <td>Procter &amp; Gamble Company (The)</td>\n",
       "      <td>The Procter &amp; Gamble Company</td>\n",
       "      <td>Consumer Defensive</td>\n",
       "      <td>Household &amp; Personal Products</td>\n",
       "      <td>140.97</td>\n",
       "      <td>341140373504</td>\n",
       "      <td>2.136400e+10</td>\n",
       "      <td>0.013</td>\n",
       "      <td>Cincinnati</td>\n",
       "      <td>OH</td>\n",
       "      <td>United States</td>\n",
       "      <td>106000.0</td>\n",
       "      <td>The Procter &amp; Gamble Company provides branded ...</td>\n",
       "      <td>0.009608</td>\n",
       "    </tr>\n",
       "    <tr>\n",
       "      <th>20</th>\n",
       "      <td>NYQ</td>\n",
       "      <td>KO</td>\n",
       "      <td>Coca-Cola Company (The)</td>\n",
       "      <td>The Coca-Cola Company</td>\n",
       "      <td>Consumer Defensive</td>\n",
       "      <td>Beverages—Non-Alcoholic</td>\n",
       "      <td>61.32</td>\n",
       "      <td>264866824192</td>\n",
       "      <td>1.341400e+10</td>\n",
       "      <td>0.102</td>\n",
       "      <td>Atlanta</td>\n",
       "      <td>GA</td>\n",
       "      <td>United States</td>\n",
       "      <td>79000.0</td>\n",
       "      <td>The Coca-Cola Company, a beverage company, man...</td>\n",
       "      <td>0.007460</td>\n",
       "    </tr>\n",
       "    <tr>\n",
       "      <th>22</th>\n",
       "      <td>NMS</td>\n",
       "      <td>PEP</td>\n",
       "      <td>Pepsico, Inc.</td>\n",
       "      <td>PepsiCo, Inc.</td>\n",
       "      <td>Consumer Defensive</td>\n",
       "      <td>Beverages—Non-Alcoholic</td>\n",
       "      <td>178.05</td>\n",
       "      <td>246180839424</td>\n",
       "      <td>1.515600e+10</td>\n",
       "      <td>0.088</td>\n",
       "      <td>Purchase</td>\n",
       "      <td>NY</td>\n",
       "      <td>United States</td>\n",
       "      <td>309000.0</td>\n",
       "      <td>PepsiCo, Inc. manufactures, markets, distribut...</td>\n",
       "      <td>0.006934</td>\n",
       "    </tr>\n",
       "    <tr>\n",
       "      <th>23</th>\n",
       "      <td>NMS</td>\n",
       "      <td>COST</td>\n",
       "      <td>Costco Wholesale Corporation</td>\n",
       "      <td>Costco Wholesale Corporation</td>\n",
       "      <td>Consumer Defensive</td>\n",
       "      <td>Discount Stores</td>\n",
       "      <td>515.47</td>\n",
       "      <td>228575887360</td>\n",
       "      <td>9.693000e+09</td>\n",
       "      <td>0.150</td>\n",
       "      <td>Issaquah</td>\n",
       "      <td>WA</td>\n",
       "      <td>United States</td>\n",
       "      <td>304000.0</td>\n",
       "      <td>Costco Wholesale Corporation, together with it...</td>\n",
       "      <td>0.006438</td>\n",
       "    </tr>\n",
       "  </tbody>\n",
       "</table>\n",
       "</div>"
      ],
      "text/plain": [
       "   Exchange Symbol                       Shortname  \\\n",
       "11      NYQ    WMT                    Walmart Inc.   \n",
       "13      NYQ     PG  Procter & Gamble Company (The)   \n",
       "20      NYQ     KO         Coca-Cola Company (The)   \n",
       "22      NMS    PEP                   Pepsico, Inc.   \n",
       "23      NMS   COST    Costco Wholesale Corporation   \n",
       "\n",
       "                        Longname              Sector  \\\n",
       "11                  Walmart Inc.  Consumer Defensive   \n",
       "13  The Procter & Gamble Company  Consumer Defensive   \n",
       "20         The Coca-Cola Company  Consumer Defensive   \n",
       "22                 PepsiCo, Inc.  Consumer Defensive   \n",
       "23  Costco Wholesale Corporation  Consumer Defensive   \n",
       "\n",
       "                         Industry  Currentprice     Marketcap        Ebitda  \\\n",
       "11                Discount Stores        142.58  395499831296  3.458600e+10   \n",
       "13  Household & Personal Products        140.97  341140373504  2.136400e+10   \n",
       "20        Beverages—Non-Alcoholic         61.32  264866824192  1.341400e+10   \n",
       "22        Beverages—Non-Alcoholic        178.05  246180839424  1.515600e+10   \n",
       "23                Discount Stores        515.47  228575887360  9.693000e+09   \n",
       "\n",
       "    Revenuegrowth         City State        Country  Fulltimeemployees  \\\n",
       "11          0.084  Bentonville    AR  United States          2300000.0   \n",
       "13          0.013   Cincinnati    OH  United States           106000.0   \n",
       "20          0.102      Atlanta    GA  United States            79000.0   \n",
       "22          0.088     Purchase    NY  United States           309000.0   \n",
       "23          0.150     Issaquah    WA  United States           304000.0   \n",
       "\n",
       "                                  Longbusinesssummary    Weight  \n",
       "11  Walmart Inc. engages in the operation of retai...  0.011139  \n",
       "13  The Procter & Gamble Company provides branded ...  0.009608  \n",
       "20  The Coca-Cola Company, a beverage company, man...  0.007460  \n",
       "22  PepsiCo, Inc. manufactures, markets, distribut...  0.006934  \n",
       "23  Costco Wholesale Corporation, together with it...  0.006438  "
      ]
     },
     "execution_count": 5,
     "metadata": {},
     "output_type": "execute_result"
    }
   ],
   "source": [
    "df1 = df1[df1['Sector'] == 'Consumer Defensive']\n",
    "df1.head()"
   ]
  },
  {
   "cell_type": "markdown",
   "id": "f44ac9f3",
   "metadata": {},
   "source": [
    "### Dataset #2"
   ]
  },
  {
   "cell_type": "code",
   "execution_count": 6,
   "id": "a70666f8",
   "metadata": {},
   "outputs": [
    {
     "name": "stdout",
     "output_type": "stream",
     "text": [
      "<class 'pandas.core.frame.DataFrame'>\n",
      "RangeIndex: 2519 entries, 0 to 2518\n",
      "Data columns (total 2 columns):\n",
      " #   Column  Non-Null Count  Dtype  \n",
      "---  ------  --------------  -----  \n",
      " 0   Date    2519 non-null   object \n",
      " 1   S&P500  2519 non-null   float64\n",
      "dtypes: float64(1), object(1)\n",
      "memory usage: 39.5+ KB\n"
     ]
    }
   ],
   "source": [
    "df2.info()"
   ]
  },
  {
   "cell_type": "code",
   "execution_count": 7,
   "id": "f0dae194",
   "metadata": {},
   "outputs": [
    {
     "data": {
      "text/html": [
       "<div>\n",
       "<style scoped>\n",
       "    .dataframe tbody tr th:only-of-type {\n",
       "        vertical-align: middle;\n",
       "    }\n",
       "\n",
       "    .dataframe tbody tr th {\n",
       "        vertical-align: top;\n",
       "    }\n",
       "\n",
       "    .dataframe thead th {\n",
       "        text-align: right;\n",
       "    }\n",
       "</style>\n",
       "<table border=\"1\" class=\"dataframe\">\n",
       "  <thead>\n",
       "    <tr style=\"text-align: right;\">\n",
       "      <th></th>\n",
       "      <th>Date</th>\n",
       "      <th>S&amp;P500</th>\n",
       "    </tr>\n",
       "  </thead>\n",
       "  <tbody>\n",
       "    <tr>\n",
       "      <th>0</th>\n",
       "      <td>2012-11-12</td>\n",
       "      <td>1380.03</td>\n",
       "    </tr>\n",
       "    <tr>\n",
       "      <th>1</th>\n",
       "      <td>2012-11-13</td>\n",
       "      <td>1374.53</td>\n",
       "    </tr>\n",
       "    <tr>\n",
       "      <th>2</th>\n",
       "      <td>2012-11-14</td>\n",
       "      <td>1355.49</td>\n",
       "    </tr>\n",
       "    <tr>\n",
       "      <th>3</th>\n",
       "      <td>2012-11-15</td>\n",
       "      <td>1353.33</td>\n",
       "    </tr>\n",
       "    <tr>\n",
       "      <th>4</th>\n",
       "      <td>2012-11-16</td>\n",
       "      <td>1359.88</td>\n",
       "    </tr>\n",
       "  </tbody>\n",
       "</table>\n",
       "</div>"
      ],
      "text/plain": [
       "         Date   S&P500\n",
       "0  2012-11-12  1380.03\n",
       "1  2012-11-13  1374.53\n",
       "2  2012-11-14  1355.49\n",
       "3  2012-11-15  1353.33\n",
       "4  2012-11-16  1359.88"
      ]
     },
     "execution_count": 7,
     "metadata": {},
     "output_type": "execute_result"
    }
   ],
   "source": [
    "df2.head()"
   ]
  },
  {
   "cell_type": "code",
   "execution_count": 8,
   "id": "872956a9",
   "metadata": {},
   "outputs": [
    {
     "data": {
      "text/plain": [
       "(2519, 2)"
      ]
     },
     "execution_count": 8,
     "metadata": {},
     "output_type": "execute_result"
    }
   ],
   "source": [
    "df2.shape"
   ]
  },
  {
   "cell_type": "code",
   "execution_count": 9,
   "id": "de404587",
   "metadata": {},
   "outputs": [],
   "source": [
    "df2['Date'] = pd.to_datetime(df2['Date'],infer_datetime_format=True)"
   ]
  },
  {
   "cell_type": "code",
   "execution_count": 10,
   "id": "cd14277e",
   "metadata": {},
   "outputs": [],
   "source": [
    "# df2=df2[df2['Date'] >= '2019-01-1']"
   ]
  },
  {
   "cell_type": "code",
   "execution_count": 11,
   "id": "36d35574",
   "metadata": {},
   "outputs": [],
   "source": [
    "df2 = df2.rename(columns={\"S&P500\":\"S&PClose\"})"
   ]
  },
  {
   "cell_type": "code",
   "execution_count": 12,
   "id": "b6b9e5d9",
   "metadata": {},
   "outputs": [],
   "source": [
    "df2['Symbol'] = \"S&P500\""
   ]
  },
  {
   "cell_type": "code",
   "execution_count": 13,
   "id": "65c5d9a2",
   "metadata": {},
   "outputs": [
    {
     "data": {
      "text/html": [
       "<div>\n",
       "<style scoped>\n",
       "    .dataframe tbody tr th:only-of-type {\n",
       "        vertical-align: middle;\n",
       "    }\n",
       "\n",
       "    .dataframe tbody tr th {\n",
       "        vertical-align: top;\n",
       "    }\n",
       "\n",
       "    .dataframe thead th {\n",
       "        text-align: right;\n",
       "    }\n",
       "</style>\n",
       "<table border=\"1\" class=\"dataframe\">\n",
       "  <thead>\n",
       "    <tr style=\"text-align: right;\">\n",
       "      <th></th>\n",
       "      <th>Date</th>\n",
       "      <th>S&amp;PClose</th>\n",
       "      <th>Symbol</th>\n",
       "    </tr>\n",
       "  </thead>\n",
       "  <tbody>\n",
       "    <tr>\n",
       "      <th>0</th>\n",
       "      <td>2012-11-12</td>\n",
       "      <td>1380.03</td>\n",
       "      <td>S&amp;P500</td>\n",
       "    </tr>\n",
       "    <tr>\n",
       "      <th>1</th>\n",
       "      <td>2012-11-13</td>\n",
       "      <td>1374.53</td>\n",
       "      <td>S&amp;P500</td>\n",
       "    </tr>\n",
       "    <tr>\n",
       "      <th>2</th>\n",
       "      <td>2012-11-14</td>\n",
       "      <td>1355.49</td>\n",
       "      <td>S&amp;P500</td>\n",
       "    </tr>\n",
       "    <tr>\n",
       "      <th>3</th>\n",
       "      <td>2012-11-15</td>\n",
       "      <td>1353.33</td>\n",
       "      <td>S&amp;P500</td>\n",
       "    </tr>\n",
       "    <tr>\n",
       "      <th>4</th>\n",
       "      <td>2012-11-16</td>\n",
       "      <td>1359.88</td>\n",
       "      <td>S&amp;P500</td>\n",
       "    </tr>\n",
       "  </tbody>\n",
       "</table>\n",
       "</div>"
      ],
      "text/plain": [
       "        Date  S&PClose  Symbol\n",
       "0 2012-11-12   1380.03  S&P500\n",
       "1 2012-11-13   1374.53  S&P500\n",
       "2 2012-11-14   1355.49  S&P500\n",
       "3 2012-11-15   1353.33  S&P500\n",
       "4 2012-11-16   1359.88  S&P500"
      ]
     },
     "execution_count": 13,
     "metadata": {},
     "output_type": "execute_result"
    }
   ],
   "source": [
    "df2.head()"
   ]
  },
  {
   "cell_type": "code",
   "execution_count": 14,
   "id": "c359903c",
   "metadata": {},
   "outputs": [
    {
     "data": {
      "text/plain": [
       "Date        0\n",
       "S&PClose    0\n",
       "Symbol      0\n",
       "dtype: int64"
      ]
     },
     "execution_count": 14,
     "metadata": {},
     "output_type": "execute_result"
    }
   ],
   "source": [
    "df2.isna().sum()"
   ]
  },
  {
   "cell_type": "markdown",
   "id": "3d4cbc41",
   "metadata": {},
   "source": [
    "### Dataset #3"
   ]
  },
  {
   "cell_type": "code",
   "execution_count": 15,
   "id": "0213c0fd",
   "metadata": {},
   "outputs": [
    {
     "name": "stdout",
     "output_type": "stream",
     "text": [
      "<class 'pandas.core.frame.DataFrame'>\n",
      "RangeIndex: 1629217 entries, 0 to 1629216\n",
      "Data columns (total 8 columns):\n",
      " #   Column     Non-Null Count    Dtype  \n",
      "---  ------     --------------    -----  \n",
      " 0   Date       1629217 non-null  object \n",
      " 1   Symbol     1629217 non-null  object \n",
      " 2   Adj Close  1560290 non-null  float64\n",
      " 3   Close      1560290 non-null  float64\n",
      " 4   High       1560290 non-null  float64\n",
      " 5   Low        1560290 non-null  float64\n",
      " 6   Open       1560290 non-null  float64\n",
      " 7   Volume     1560290 non-null  float64\n",
      "dtypes: float64(6), object(2)\n",
      "memory usage: 99.4+ MB\n"
     ]
    }
   ],
   "source": [
    "df3.info()"
   ]
  },
  {
   "cell_type": "code",
   "execution_count": 16,
   "id": "c79fe1d7",
   "metadata": {},
   "outputs": [],
   "source": [
    "df3['Date'] = pd.to_datetime(df3['Date'])"
   ]
  },
  {
   "cell_type": "code",
   "execution_count": 17,
   "id": "621d6383",
   "metadata": {},
   "outputs": [],
   "source": [
    "df3 = df3.drop(['Adj Close', 'High', 'Low', 'Open', 'Volume'], axis=1)"
   ]
  },
  {
   "cell_type": "code",
   "execution_count": 18,
   "id": "63eaea20",
   "metadata": {},
   "outputs": [
    {
     "data": {
      "text/html": [
       "<div>\n",
       "<style scoped>\n",
       "    .dataframe tbody tr th:only-of-type {\n",
       "        vertical-align: middle;\n",
       "    }\n",
       "\n",
       "    .dataframe tbody tr th {\n",
       "        vertical-align: top;\n",
       "    }\n",
       "\n",
       "    .dataframe thead th {\n",
       "        text-align: right;\n",
       "    }\n",
       "</style>\n",
       "<table border=\"1\" class=\"dataframe\">\n",
       "  <thead>\n",
       "    <tr style=\"text-align: right;\">\n",
       "      <th></th>\n",
       "      <th>Date</th>\n",
       "      <th>Symbol</th>\n",
       "      <th>Close</th>\n",
       "    </tr>\n",
       "  </thead>\n",
       "  <tbody>\n",
       "    <tr>\n",
       "      <th>0</th>\n",
       "      <td>2010-01-04</td>\n",
       "      <td>MMM</td>\n",
       "      <td>83.019997</td>\n",
       "    </tr>\n",
       "    <tr>\n",
       "      <th>1</th>\n",
       "      <td>2010-01-05</td>\n",
       "      <td>MMM</td>\n",
       "      <td>82.500000</td>\n",
       "    </tr>\n",
       "    <tr>\n",
       "      <th>2</th>\n",
       "      <td>2010-01-06</td>\n",
       "      <td>MMM</td>\n",
       "      <td>83.669998</td>\n",
       "    </tr>\n",
       "    <tr>\n",
       "      <th>3</th>\n",
       "      <td>2010-01-07</td>\n",
       "      <td>MMM</td>\n",
       "      <td>83.730003</td>\n",
       "    </tr>\n",
       "    <tr>\n",
       "      <th>4</th>\n",
       "      <td>2010-01-08</td>\n",
       "      <td>MMM</td>\n",
       "      <td>84.320000</td>\n",
       "    </tr>\n",
       "  </tbody>\n",
       "</table>\n",
       "</div>"
      ],
      "text/plain": [
       "        Date Symbol      Close\n",
       "0 2010-01-04    MMM  83.019997\n",
       "1 2010-01-05    MMM  82.500000\n",
       "2 2010-01-06    MMM  83.669998\n",
       "3 2010-01-07    MMM  83.730003\n",
       "4 2010-01-08    MMM  84.320000"
      ]
     },
     "execution_count": 18,
     "metadata": {},
     "output_type": "execute_result"
    }
   ],
   "source": [
    "df3.head()"
   ]
  },
  {
   "cell_type": "code",
   "execution_count": 19,
   "id": "11590625",
   "metadata": {},
   "outputs": [],
   "source": [
    "df3 = df3.loc[df3['Symbol'].isin(['PEP', 'KO', 'PG', 'WMT', 'COST'])]"
   ]
  },
  {
   "cell_type": "code",
   "execution_count": 20,
   "id": "3186b161",
   "metadata": {},
   "outputs": [
    {
     "data": {
      "text/plain": [
       "Date      0\n",
       "Symbol    0\n",
       "Close     0\n",
       "dtype: int64"
      ]
     },
     "execution_count": 20,
     "metadata": {},
     "output_type": "execute_result"
    }
   ],
   "source": [
    "df3.isna().sum()"
   ]
  },
  {
   "cell_type": "code",
   "execution_count": 21,
   "id": "38b340ad",
   "metadata": {},
   "outputs": [],
   "source": [
    "df3['Date'] = pd.to_datetime(df3['Date'],infer_datetime_format=True)"
   ]
  },
  {
   "cell_type": "code",
   "execution_count": 22,
   "id": "87cb5a13",
   "metadata": {},
   "outputs": [],
   "source": [
    "# df3=df3[df3['Date'] >= '2019-01-1']"
   ]
  },
  {
   "cell_type": "code",
   "execution_count": 23,
   "id": "2e7db4a8",
   "metadata": {},
   "outputs": [
    {
     "data": {
      "text/html": [
       "<div>\n",
       "<style scoped>\n",
       "    .dataframe tbody tr th:only-of-type {\n",
       "        vertical-align: middle;\n",
       "    }\n",
       "\n",
       "    .dataframe tbody tr th {\n",
       "        vertical-align: top;\n",
       "    }\n",
       "\n",
       "    .dataframe thead th {\n",
       "        text-align: right;\n",
       "    }\n",
       "</style>\n",
       "<table border=\"1\" class=\"dataframe\">\n",
       "  <thead>\n",
       "    <tr style=\"text-align: right;\">\n",
       "      <th></th>\n",
       "      <th>Date</th>\n",
       "      <th>Symbol</th>\n",
       "      <th>Close</th>\n",
       "    </tr>\n",
       "  </thead>\n",
       "  <tbody>\n",
       "    <tr>\n",
       "      <th>382202</th>\n",
       "      <td>2010-01-04</td>\n",
       "      <td>KO</td>\n",
       "      <td>28.520000</td>\n",
       "    </tr>\n",
       "    <tr>\n",
       "      <th>382203</th>\n",
       "      <td>2010-01-05</td>\n",
       "      <td>KO</td>\n",
       "      <td>28.174999</td>\n",
       "    </tr>\n",
       "    <tr>\n",
       "      <th>382204</th>\n",
       "      <td>2010-01-06</td>\n",
       "      <td>KO</td>\n",
       "      <td>28.165001</td>\n",
       "    </tr>\n",
       "    <tr>\n",
       "      <th>382205</th>\n",
       "      <td>2010-01-07</td>\n",
       "      <td>KO</td>\n",
       "      <td>28.094999</td>\n",
       "    </tr>\n",
       "    <tr>\n",
       "      <th>382206</th>\n",
       "      <td>2010-01-08</td>\n",
       "      <td>KO</td>\n",
       "      <td>27.575001</td>\n",
       "    </tr>\n",
       "  </tbody>\n",
       "</table>\n",
       "</div>"
      ],
      "text/plain": [
       "             Date Symbol      Close\n",
       "382202 2010-01-04     KO  28.520000\n",
       "382203 2010-01-05     KO  28.174999\n",
       "382204 2010-01-06     KO  28.165001\n",
       "382205 2010-01-07     KO  28.094999\n",
       "382206 2010-01-08     KO  27.575001"
      ]
     },
     "execution_count": 23,
     "metadata": {},
     "output_type": "execute_result"
    }
   ],
   "source": [
    "df3.head()"
   ]
  },
  {
   "cell_type": "markdown",
   "id": "d199e331",
   "metadata": {},
   "source": [
    "### Dfg "
   ]
  },
  {
   "cell_type": "code",
   "execution_count": 24,
   "id": "85ce6718",
   "metadata": {},
   "outputs": [
    {
     "name": "stdout",
     "output_type": "stream",
     "text": [
      "<class 'pandas.core.frame.DataFrame'>\n",
      "RangeIndex: 9824 entries, 0 to 9823\n",
      "Data columns (total 7 columns):\n",
      " #   Column  Non-Null Count  Dtype  \n",
      "---  ------  --------------  -----  \n",
      " 0   Date    9824 non-null   object \n",
      " 1   USD     9824 non-null   float64\n",
      " 2   EUR     9824 non-null   float64\n",
      " 3   GBP     9824 non-null   float64\n",
      " 4   INR     9824 non-null   float64\n",
      " 5   AED     9824 non-null   float64\n",
      " 6   CNY     9820 non-null   float64\n",
      "dtypes: float64(6), object(1)\n",
      "memory usage: 537.4+ KB\n"
     ]
    }
   ],
   "source": [
    "dfg.info()"
   ]
  },
  {
   "cell_type": "code",
   "execution_count": 25,
   "id": "2be34764",
   "metadata": {},
   "outputs": [],
   "source": [
    "dfg = dfg.drop(['EUR','GBP','INR','AED','CNY'],axis=1)"
   ]
  },
  {
   "cell_type": "code",
   "execution_count": 26,
   "id": "e455a768",
   "metadata": {},
   "outputs": [],
   "source": [
    "dfg = dfg.rename(columns={\"USD\":\"Gold\"})"
   ]
  },
  {
   "cell_type": "code",
   "execution_count": 27,
   "id": "f67ea2f5",
   "metadata": {},
   "outputs": [
    {
     "data": {
      "text/plain": [
       "Date    0\n",
       "Gold    0\n",
       "dtype: int64"
      ]
     },
     "execution_count": 27,
     "metadata": {},
     "output_type": "execute_result"
    }
   ],
   "source": [
    "dfg.isna().sum()"
   ]
  },
  {
   "cell_type": "code",
   "execution_count": 28,
   "id": "a7a3f4ab",
   "metadata": {},
   "outputs": [],
   "source": [
    "dfg['Date'] = pd.to_datetime(dfg['Date'],infer_datetime_format=True)"
   ]
  },
  {
   "cell_type": "code",
   "execution_count": 29,
   "id": "9dec0d5c",
   "metadata": {},
   "outputs": [],
   "source": [
    "# dfg=dfg[dfg['Date'] >= '2019-01-1']"
   ]
  },
  {
   "cell_type": "code",
   "execution_count": 30,
   "id": "ffa549f3",
   "metadata": {},
   "outputs": [
    {
     "data": {
      "text/html": [
       "<div>\n",
       "<style scoped>\n",
       "    .dataframe tbody tr th:only-of-type {\n",
       "        vertical-align: middle;\n",
       "    }\n",
       "\n",
       "    .dataframe tbody tr th {\n",
       "        vertical-align: top;\n",
       "    }\n",
       "\n",
       "    .dataframe thead th {\n",
       "        text-align: right;\n",
       "    }\n",
       "</style>\n",
       "<table border=\"1\" class=\"dataframe\">\n",
       "  <thead>\n",
       "    <tr style=\"text-align: right;\">\n",
       "      <th></th>\n",
       "      <th>Date</th>\n",
       "      <th>Gold</th>\n",
       "    </tr>\n",
       "  </thead>\n",
       "  <tbody>\n",
       "    <tr>\n",
       "      <th>0</th>\n",
       "      <td>1985-01-01</td>\n",
       "      <td>308.30</td>\n",
       "    </tr>\n",
       "    <tr>\n",
       "      <th>1</th>\n",
       "      <td>1985-01-02</td>\n",
       "      <td>305.50</td>\n",
       "    </tr>\n",
       "    <tr>\n",
       "      <th>2</th>\n",
       "      <td>1985-01-03</td>\n",
       "      <td>302.30</td>\n",
       "    </tr>\n",
       "    <tr>\n",
       "      <th>3</th>\n",
       "      <td>1985-01-04</td>\n",
       "      <td>303.15</td>\n",
       "    </tr>\n",
       "    <tr>\n",
       "      <th>4</th>\n",
       "      <td>1985-01-07</td>\n",
       "      <td>298.25</td>\n",
       "    </tr>\n",
       "  </tbody>\n",
       "</table>\n",
       "</div>"
      ],
      "text/plain": [
       "        Date    Gold\n",
       "0 1985-01-01  308.30\n",
       "1 1985-01-02  305.50\n",
       "2 1985-01-03  302.30\n",
       "3 1985-01-04  303.15\n",
       "4 1985-01-07  298.25"
      ]
     },
     "execution_count": 30,
     "metadata": {},
     "output_type": "execute_result"
    }
   ],
   "source": [
    "dfg.head()"
   ]
  },
  {
   "cell_type": "code",
   "execution_count": 31,
   "id": "842ae2e1",
   "metadata": {},
   "outputs": [
    {
     "name": "stdout",
     "output_type": "stream",
     "text": [
      "<class 'pandas.core.frame.DataFrame'>\n",
      "RangeIndex: 9824 entries, 0 to 9823\n",
      "Data columns (total 2 columns):\n",
      " #   Column  Non-Null Count  Dtype         \n",
      "---  ------  --------------  -----         \n",
      " 0   Date    9824 non-null   datetime64[ns]\n",
      " 1   Gold    9824 non-null   float64       \n",
      "dtypes: datetime64[ns](1), float64(1)\n",
      "memory usage: 153.6 KB\n"
     ]
    }
   ],
   "source": [
    "dfg.info()"
   ]
  },
  {
   "cell_type": "markdown",
   "id": "15ace464",
   "metadata": {},
   "source": [
    "### Deth"
   ]
  },
  {
   "cell_type": "code",
   "execution_count": 32,
   "id": "77f6afa0",
   "metadata": {},
   "outputs": [
    {
     "name": "stdout",
     "output_type": "stream",
     "text": [
      "<class 'pandas.core.frame.DataFrame'>\n",
      "RangeIndex: 1827 entries, 0 to 1826\n",
      "Data columns (total 2 columns):\n",
      " #   Column    Non-Null Count  Dtype \n",
      "---  ------    --------------  ----- \n",
      " 0   DATE      1827 non-null   object\n",
      " 1   CBETHUSD  1827 non-null   object\n",
      "dtypes: object(2)\n",
      "memory usage: 28.7+ KB\n"
     ]
    }
   ],
   "source": [
    "deth.info()"
   ]
  },
  {
   "cell_type": "code",
   "execution_count": 33,
   "id": "14392767",
   "metadata": {},
   "outputs": [
    {
     "data": {
      "text/plain": [
       "DATE        0\n",
       "CBETHUSD    0\n",
       "dtype: int64"
      ]
     },
     "execution_count": 33,
     "metadata": {},
     "output_type": "execute_result"
    }
   ],
   "source": [
    "deth.isna().sum()"
   ]
  },
  {
   "cell_type": "code",
   "execution_count": 34,
   "id": "d4bbafde",
   "metadata": {},
   "outputs": [],
   "source": [
    "deth = deth.rename(columns={\"DATE\":\"Date\",\"CBETHUSD\":\"Ether\"})"
   ]
  },
  {
   "cell_type": "code",
   "execution_count": 35,
   "id": "81a299ac",
   "metadata": {},
   "outputs": [],
   "source": [
    "deth['Date'] = pd.to_datetime(deth['Date'],infer_datetime_format=True)"
   ]
  },
  {
   "cell_type": "code",
   "execution_count": 36,
   "id": "ba736d33",
   "metadata": {},
   "outputs": [],
   "source": [
    "# deth=deth[deth['Date'] >= '2019-01-1']"
   ]
  },
  {
   "cell_type": "code",
   "execution_count": 37,
   "id": "f020bce4",
   "metadata": {},
   "outputs": [
    {
     "data": {
      "text/html": [
       "<div>\n",
       "<style scoped>\n",
       "    .dataframe tbody tr th:only-of-type {\n",
       "        vertical-align: middle;\n",
       "    }\n",
       "\n",
       "    .dataframe tbody tr th {\n",
       "        vertical-align: top;\n",
       "    }\n",
       "\n",
       "    .dataframe thead th {\n",
       "        text-align: right;\n",
       "    }\n",
       "</style>\n",
       "<table border=\"1\" class=\"dataframe\">\n",
       "  <thead>\n",
       "    <tr style=\"text-align: right;\">\n",
       "      <th></th>\n",
       "      <th>Date</th>\n",
       "      <th>Ether</th>\n",
       "    </tr>\n",
       "  </thead>\n",
       "  <tbody>\n",
       "    <tr>\n",
       "      <th>0</th>\n",
       "      <td>2017-11-22</td>\n",
       "      <td>381.73</td>\n",
       "    </tr>\n",
       "    <tr>\n",
       "      <th>1</th>\n",
       "      <td>2017-11-23</td>\n",
       "      <td>406.61</td>\n",
       "    </tr>\n",
       "    <tr>\n",
       "      <th>2</th>\n",
       "      <td>2017-11-24</td>\n",
       "      <td>470.98</td>\n",
       "    </tr>\n",
       "    <tr>\n",
       "      <th>3</th>\n",
       "      <td>2017-11-25</td>\n",
       "      <td>466.77</td>\n",
       "    </tr>\n",
       "    <tr>\n",
       "      <th>4</th>\n",
       "      <td>2017-11-26</td>\n",
       "      <td>473.99</td>\n",
       "    </tr>\n",
       "  </tbody>\n",
       "</table>\n",
       "</div>"
      ],
      "text/plain": [
       "        Date   Ether\n",
       "0 2017-11-22  381.73\n",
       "1 2017-11-23  406.61\n",
       "2 2017-11-24  470.98\n",
       "3 2017-11-25  466.77\n",
       "4 2017-11-26  473.99"
      ]
     },
     "execution_count": 37,
     "metadata": {},
     "output_type": "execute_result"
    }
   ],
   "source": [
    "deth.head()"
   ]
  },
  {
   "cell_type": "markdown",
   "id": "79b46f29",
   "metadata": {},
   "source": [
    "### Dollar"
   ]
  },
  {
   "cell_type": "code",
   "execution_count": 38,
   "id": "97f6128d",
   "metadata": {},
   "outputs": [
    {
     "name": "stdout",
     "output_type": "stream",
     "text": [
      "<class 'pandas.core.frame.DataFrame'>\n",
      "RangeIndex: 1305 entries, 0 to 1304\n",
      "Data columns (total 2 columns):\n",
      " #   Column    Non-Null Count  Dtype \n",
      "---  ------    --------------  ----- \n",
      " 0   DATE      1305 non-null   object\n",
      " 1   DTWEXBGS  1305 non-null   object\n",
      "dtypes: object(2)\n",
      "memory usage: 20.5+ KB\n"
     ]
    }
   ],
   "source": [
    "dollar.info()"
   ]
  },
  {
   "cell_type": "code",
   "execution_count": 39,
   "id": "4c9bedcd",
   "metadata": {},
   "outputs": [
    {
     "data": {
      "text/plain": [
       "DATE        0\n",
       "DTWEXBGS    0\n",
       "dtype: int64"
      ]
     },
     "execution_count": 39,
     "metadata": {},
     "output_type": "execute_result"
    }
   ],
   "source": [
    "dollar.isna().sum()"
   ]
  },
  {
   "cell_type": "code",
   "execution_count": 40,
   "id": "91884e27",
   "metadata": {},
   "outputs": [],
   "source": [
    "dollar = dollar.rename(columns={\"DATE\":\"Date\", \"DTWEXBGS\":\"USD\"})"
   ]
  },
  {
   "cell_type": "code",
   "execution_count": 41,
   "id": "ca781f62",
   "metadata": {},
   "outputs": [],
   "source": [
    "dollar['Date'] = pd.to_datetime(dollar['Date'],infer_datetime_format=True)"
   ]
  },
  {
   "cell_type": "code",
   "execution_count": 42,
   "id": "54999e3c",
   "metadata": {},
   "outputs": [],
   "source": [
    "# dollar=dollar[dollar['Date'] >= '2019-01-1']"
   ]
  },
  {
   "cell_type": "code",
   "execution_count": 43,
   "id": "0b66f04b",
   "metadata": {},
   "outputs": [
    {
     "data": {
      "text/html": [
       "<div>\n",
       "<style scoped>\n",
       "    .dataframe tbody tr th:only-of-type {\n",
       "        vertical-align: middle;\n",
       "    }\n",
       "\n",
       "    .dataframe tbody tr th {\n",
       "        vertical-align: top;\n",
       "    }\n",
       "\n",
       "    .dataframe thead th {\n",
       "        text-align: right;\n",
       "    }\n",
       "</style>\n",
       "<table border=\"1\" class=\"dataframe\">\n",
       "  <thead>\n",
       "    <tr style=\"text-align: right;\">\n",
       "      <th></th>\n",
       "      <th>Date</th>\n",
       "      <th>USD</th>\n",
       "    </tr>\n",
       "  </thead>\n",
       "  <tbody>\n",
       "    <tr>\n",
       "      <th>0</th>\n",
       "      <td>2017-11-20</td>\n",
       "      <td>111.261</td>\n",
       "    </tr>\n",
       "    <tr>\n",
       "      <th>1</th>\n",
       "      <td>2017-11-21</td>\n",
       "      <td>110.9836</td>\n",
       "    </tr>\n",
       "    <tr>\n",
       "      <th>2</th>\n",
       "      <td>2017-11-22</td>\n",
       "      <td>110.5642</td>\n",
       "    </tr>\n",
       "    <tr>\n",
       "      <th>3</th>\n",
       "      <td>2017-11-23</td>\n",
       "      <td>.</td>\n",
       "    </tr>\n",
       "    <tr>\n",
       "      <th>4</th>\n",
       "      <td>2017-11-24</td>\n",
       "      <td>110.0266</td>\n",
       "    </tr>\n",
       "  </tbody>\n",
       "</table>\n",
       "</div>"
      ],
      "text/plain": [
       "        Date       USD\n",
       "0 2017-11-20   111.261\n",
       "1 2017-11-21  110.9836\n",
       "2 2017-11-22  110.5642\n",
       "3 2017-11-23         .\n",
       "4 2017-11-24  110.0266"
      ]
     },
     "execution_count": 43,
     "metadata": {},
     "output_type": "execute_result"
    }
   ],
   "source": [
    "dollar.head()"
   ]
  },
  {
   "cell_type": "code",
   "execution_count": 44,
   "id": "50cdbdc2",
   "metadata": {},
   "outputs": [
    {
     "data": {
      "text/html": [
       "<div>\n",
       "<style scoped>\n",
       "    .dataframe tbody tr th:only-of-type {\n",
       "        vertical-align: middle;\n",
       "    }\n",
       "\n",
       "    .dataframe tbody tr th {\n",
       "        vertical-align: top;\n",
       "    }\n",
       "\n",
       "    .dataframe thead th {\n",
       "        text-align: right;\n",
       "    }\n",
       "</style>\n",
       "<table border=\"1\" class=\"dataframe\">\n",
       "  <thead>\n",
       "    <tr style=\"text-align: right;\">\n",
       "      <th></th>\n",
       "      <th>Date</th>\n",
       "      <th>USD</th>\n",
       "    </tr>\n",
       "  </thead>\n",
       "  <tbody>\n",
       "    <tr>\n",
       "      <th>1300</th>\n",
       "      <td>2022-11-14</td>\n",
       "      <td>123.5788</td>\n",
       "    </tr>\n",
       "    <tr>\n",
       "      <th>1301</th>\n",
       "      <td>2022-11-15</td>\n",
       "      <td>123.1759</td>\n",
       "    </tr>\n",
       "    <tr>\n",
       "      <th>1302</th>\n",
       "      <td>2022-11-16</td>\n",
       "      <td>123.4178</td>\n",
       "    </tr>\n",
       "    <tr>\n",
       "      <th>1303</th>\n",
       "      <td>2022-11-17</td>\n",
       "      <td>124.1229</td>\n",
       "    </tr>\n",
       "    <tr>\n",
       "      <th>1304</th>\n",
       "      <td>2022-11-18</td>\n",
       "      <td>123.9828</td>\n",
       "    </tr>\n",
       "  </tbody>\n",
       "</table>\n",
       "</div>"
      ],
      "text/plain": [
       "           Date       USD\n",
       "1300 2022-11-14  123.5788\n",
       "1301 2022-11-15  123.1759\n",
       "1302 2022-11-16  123.4178\n",
       "1303 2022-11-17  124.1229\n",
       "1304 2022-11-18  123.9828"
      ]
     },
     "execution_count": 44,
     "metadata": {},
     "output_type": "execute_result"
    }
   ],
   "source": [
    "dollar.tail()"
   ]
  },
  {
   "cell_type": "markdown",
   "id": "66651af6",
   "metadata": {},
   "source": [
    "### PPI "
   ]
  },
  {
   "cell_type": "code",
   "execution_count": 45,
   "id": "9e19b701",
   "metadata": {},
   "outputs": [
    {
     "name": "stdout",
     "output_type": "stream",
     "text": [
      "<class 'pandas.core.frame.DataFrame'>\n",
      "RangeIndex: 479 entries, 0 to 478\n",
      "Data columns (total 2 columns):\n",
      " #   Column       Non-Null Count  Dtype  \n",
      "---  ------       --------------  -----  \n",
      " 0   DATE         479 non-null    object \n",
      " 1   WPU02850113  479 non-null    float64\n",
      "dtypes: float64(1), object(1)\n",
      "memory usage: 7.6+ KB\n"
     ]
    }
   ],
   "source": [
    "ppi.info()"
   ]
  },
  {
   "cell_type": "code",
   "execution_count": 46,
   "id": "a22f792a",
   "metadata": {},
   "outputs": [
    {
     "data": {
      "text/plain": [
       "DATE           0\n",
       "WPU02850113    0\n",
       "dtype: int64"
      ]
     },
     "execution_count": 46,
     "metadata": {},
     "output_type": "execute_result"
    }
   ],
   "source": [
    "ppi.isna().sum()"
   ]
  },
  {
   "cell_type": "code",
   "execution_count": 47,
   "id": "2e2262cb",
   "metadata": {},
   "outputs": [],
   "source": [
    "ppi = ppi.rename(columns={\"DATE\":\"Date\", \"WPU02850113\":\"PPI\"})"
   ]
  },
  {
   "cell_type": "code",
   "execution_count": 48,
   "id": "2866d95d",
   "metadata": {},
   "outputs": [],
   "source": [
    "ppi['Date'] = pd.to_datetime(ppi['Date'],infer_datetime_format=True)"
   ]
  },
  {
   "cell_type": "code",
   "execution_count": 49,
   "id": "be3258bd",
   "metadata": {},
   "outputs": [],
   "source": [
    "# ppi=ppi[ppi['Date'] >= '2019-01-1']"
   ]
  },
  {
   "cell_type": "code",
   "execution_count": 50,
   "id": "436c9e38",
   "metadata": {},
   "outputs": [
    {
     "data": {
      "text/html": [
       "<div>\n",
       "<style scoped>\n",
       "    .dataframe tbody tr th:only-of-type {\n",
       "        vertical-align: middle;\n",
       "    }\n",
       "\n",
       "    .dataframe tbody tr th {\n",
       "        vertical-align: top;\n",
       "    }\n",
       "\n",
       "    .dataframe thead th {\n",
       "        text-align: right;\n",
       "    }\n",
       "</style>\n",
       "<table border=\"1\" class=\"dataframe\">\n",
       "  <thead>\n",
       "    <tr style=\"text-align: right;\">\n",
       "      <th></th>\n",
       "      <th>Date</th>\n",
       "      <th>PPI</th>\n",
       "    </tr>\n",
       "  </thead>\n",
       "  <tbody>\n",
       "    <tr>\n",
       "      <th>0</th>\n",
       "      <td>1982-12-01</td>\n",
       "      <td>100.0</td>\n",
       "    </tr>\n",
       "    <tr>\n",
       "      <th>1</th>\n",
       "      <td>1983-01-01</td>\n",
       "      <td>99.7</td>\n",
       "    </tr>\n",
       "    <tr>\n",
       "      <th>2</th>\n",
       "      <td>1983-02-01</td>\n",
       "      <td>100.4</td>\n",
       "    </tr>\n",
       "    <tr>\n",
       "      <th>3</th>\n",
       "      <td>1983-03-01</td>\n",
       "      <td>101.5</td>\n",
       "    </tr>\n",
       "    <tr>\n",
       "      <th>4</th>\n",
       "      <td>1983-04-01</td>\n",
       "      <td>102.2</td>\n",
       "    </tr>\n",
       "  </tbody>\n",
       "</table>\n",
       "</div>"
      ],
      "text/plain": [
       "        Date    PPI\n",
       "0 1982-12-01  100.0\n",
       "1 1983-01-01   99.7\n",
       "2 1983-02-01  100.4\n",
       "3 1983-03-01  101.5\n",
       "4 1983-04-01  102.2"
      ]
     },
     "execution_count": 50,
     "metadata": {},
     "output_type": "execute_result"
    }
   ],
   "source": [
    "ppi.head()"
   ]
  },
  {
   "cell_type": "markdown",
   "id": "33b92a82",
   "metadata": {},
   "source": [
    "### Merge datasets"
   ]
  },
  {
   "cell_type": "code",
   "execution_count": 51,
   "id": "5cdd19d8",
   "metadata": {},
   "outputs": [],
   "source": [
    "df4 = pd.merge(df2,df3, on='Date', how='outer')"
   ]
  },
  {
   "cell_type": "code",
   "execution_count": 52,
   "id": "e1dfb667",
   "metadata": {
    "scrolled": true
   },
   "outputs": [],
   "source": [
    "df4 = pd.merge(df4, dfg, on='Date')"
   ]
  },
  {
   "cell_type": "code",
   "execution_count": 53,
   "id": "71645309",
   "metadata": {},
   "outputs": [],
   "source": [
    "df4 = pd.merge(df4, deth, on='Date')"
   ]
  },
  {
   "cell_type": "code",
   "execution_count": 54,
   "id": "f49ad812",
   "metadata": {},
   "outputs": [],
   "source": [
    "df4 = pd.merge(df4, dollar, on='Date')"
   ]
  },
  {
   "cell_type": "code",
   "execution_count": 55,
   "id": "a9a9c30d",
   "metadata": {},
   "outputs": [],
   "source": [
    "df4 = pd.merge(df4, ppi, on='Date')"
   ]
  },
  {
   "cell_type": "code",
   "execution_count": 56,
   "id": "0df60467",
   "metadata": {},
   "outputs": [
    {
     "data": {
      "text/html": [
       "<div>\n",
       "<style scoped>\n",
       "    .dataframe tbody tr th:only-of-type {\n",
       "        vertical-align: middle;\n",
       "    }\n",
       "\n",
       "    .dataframe tbody tr th {\n",
       "        vertical-align: top;\n",
       "    }\n",
       "\n",
       "    .dataframe thead th {\n",
       "        text-align: right;\n",
       "    }\n",
       "</style>\n",
       "<table border=\"1\" class=\"dataframe\">\n",
       "  <thead>\n",
       "    <tr style=\"text-align: right;\">\n",
       "      <th></th>\n",
       "      <th>Date</th>\n",
       "      <th>S&amp;PClose</th>\n",
       "      <th>Symbol_y</th>\n",
       "      <th>Close</th>\n",
       "      <th>Gold</th>\n",
       "      <th>Ether</th>\n",
       "      <th>USD</th>\n",
       "      <th>PPI</th>\n",
       "    </tr>\n",
       "  </thead>\n",
       "  <tbody>\n",
       "    <tr>\n",
       "      <th>0</th>\n",
       "      <td>2017-12-01</td>\n",
       "      <td>2642.22</td>\n",
       "      <td>KO</td>\n",
       "      <td>45.970001</td>\n",
       "      <td>1275.5</td>\n",
       "      <td>463.82</td>\n",
       "      <td>110.1432</td>\n",
       "      <td>186.000</td>\n",
       "    </tr>\n",
       "    <tr>\n",
       "      <th>1</th>\n",
       "      <td>2017-12-01</td>\n",
       "      <td>2642.22</td>\n",
       "      <td>COST</td>\n",
       "      <td>185.130005</td>\n",
       "      <td>1275.5</td>\n",
       "      <td>463.82</td>\n",
       "      <td>110.1432</td>\n",
       "      <td>186.000</td>\n",
       "    </tr>\n",
       "    <tr>\n",
       "      <th>2</th>\n",
       "      <td>2017-12-01</td>\n",
       "      <td>2642.22</td>\n",
       "      <td>PEP</td>\n",
       "      <td>116.779999</td>\n",
       "      <td>1275.5</td>\n",
       "      <td>463.82</td>\n",
       "      <td>110.1432</td>\n",
       "      <td>186.000</td>\n",
       "    </tr>\n",
       "    <tr>\n",
       "      <th>3</th>\n",
       "      <td>2017-12-01</td>\n",
       "      <td>2642.22</td>\n",
       "      <td>PG</td>\n",
       "      <td>90.360001</td>\n",
       "      <td>1275.5</td>\n",
       "      <td>463.82</td>\n",
       "      <td>110.1432</td>\n",
       "      <td>186.000</td>\n",
       "    </tr>\n",
       "    <tr>\n",
       "      <th>4</th>\n",
       "      <td>2017-12-01</td>\n",
       "      <td>2642.22</td>\n",
       "      <td>WMT</td>\n",
       "      <td>97.349998</td>\n",
       "      <td>1275.5</td>\n",
       "      <td>463.82</td>\n",
       "      <td>110.1432</td>\n",
       "      <td>186.000</td>\n",
       "    </tr>\n",
       "    <tr>\n",
       "      <th>...</th>\n",
       "      <td>...</td>\n",
       "      <td>...</td>\n",
       "      <td>...</td>\n",
       "      <td>...</td>\n",
       "      <td>...</td>\n",
       "      <td>...</td>\n",
       "      <td>...</td>\n",
       "      <td>...</td>\n",
       "    </tr>\n",
       "    <tr>\n",
       "      <th>185</th>\n",
       "      <td>2022-08-01</td>\n",
       "      <td>4118.63</td>\n",
       "      <td>KO</td>\n",
       "      <td>64.519997</td>\n",
       "      <td>1772.4</td>\n",
       "      <td>1629.76</td>\n",
       "      <td>121.5001</td>\n",
       "      <td>269.651</td>\n",
       "    </tr>\n",
       "    <tr>\n",
       "      <th>186</th>\n",
       "      <td>2022-08-01</td>\n",
       "      <td>4118.63</td>\n",
       "      <td>COST</td>\n",
       "      <td>546.809998</td>\n",
       "      <td>1772.4</td>\n",
       "      <td>1629.76</td>\n",
       "      <td>121.5001</td>\n",
       "      <td>269.651</td>\n",
       "    </tr>\n",
       "    <tr>\n",
       "      <th>187</th>\n",
       "      <td>2022-08-01</td>\n",
       "      <td>4118.63</td>\n",
       "      <td>PEP</td>\n",
       "      <td>176.949997</td>\n",
       "      <td>1772.4</td>\n",
       "      <td>1629.76</td>\n",
       "      <td>121.5001</td>\n",
       "      <td>269.651</td>\n",
       "    </tr>\n",
       "    <tr>\n",
       "      <th>188</th>\n",
       "      <td>2022-08-01</td>\n",
       "      <td>4118.63</td>\n",
       "      <td>PG</td>\n",
       "      <td>142.899994</td>\n",
       "      <td>1772.4</td>\n",
       "      <td>1629.76</td>\n",
       "      <td>121.5001</td>\n",
       "      <td>269.651</td>\n",
       "    </tr>\n",
       "    <tr>\n",
       "      <th>189</th>\n",
       "      <td>2022-08-01</td>\n",
       "      <td>4118.63</td>\n",
       "      <td>WMT</td>\n",
       "      <td>132.539993</td>\n",
       "      <td>1772.4</td>\n",
       "      <td>1629.76</td>\n",
       "      <td>121.5001</td>\n",
       "      <td>269.651</td>\n",
       "    </tr>\n",
       "  </tbody>\n",
       "</table>\n",
       "<p>190 rows × 8 columns</p>\n",
       "</div>"
      ],
      "text/plain": [
       "          Date  S&PClose Symbol_y       Close    Gold    Ether       USD  \\\n",
       "0   2017-12-01   2642.22       KO   45.970001  1275.5   463.82  110.1432   \n",
       "1   2017-12-01   2642.22     COST  185.130005  1275.5   463.82  110.1432   \n",
       "2   2017-12-01   2642.22      PEP  116.779999  1275.5   463.82  110.1432   \n",
       "3   2017-12-01   2642.22       PG   90.360001  1275.5   463.82  110.1432   \n",
       "4   2017-12-01   2642.22      WMT   97.349998  1275.5   463.82  110.1432   \n",
       "..         ...       ...      ...         ...     ...      ...       ...   \n",
       "185 2022-08-01   4118.63       KO   64.519997  1772.4  1629.76  121.5001   \n",
       "186 2022-08-01   4118.63     COST  546.809998  1772.4  1629.76  121.5001   \n",
       "187 2022-08-01   4118.63      PEP  176.949997  1772.4  1629.76  121.5001   \n",
       "188 2022-08-01   4118.63       PG  142.899994  1772.4  1629.76  121.5001   \n",
       "189 2022-08-01   4118.63      WMT  132.539993  1772.4  1629.76  121.5001   \n",
       "\n",
       "         PPI  \n",
       "0    186.000  \n",
       "1    186.000  \n",
       "2    186.000  \n",
       "3    186.000  \n",
       "4    186.000  \n",
       "..       ...  \n",
       "185  269.651  \n",
       "186  269.651  \n",
       "187  269.651  \n",
       "188  269.651  \n",
       "189  269.651  \n",
       "\n",
       "[190 rows x 8 columns]"
      ]
     },
     "execution_count": 56,
     "metadata": {},
     "output_type": "execute_result"
    }
   ],
   "source": [
    "df4.drop('Symbol_x', axis=1)"
   ]
  },
  {
   "cell_type": "code",
   "execution_count": 57,
   "id": "f97af627",
   "metadata": {},
   "outputs": [],
   "source": [
    "df4 = df4.rename(columns={'Symbol_y': 'Symbol'})"
   ]
  },
  {
   "cell_type": "code",
   "execution_count": 58,
   "id": "c13ea833",
   "metadata": {},
   "outputs": [],
   "source": [
    "df4 = df4[['Date', 'Symbol', 'Close', 'S&PClose','Gold','Ether','USD','PPI']]"
   ]
  },
  {
   "cell_type": "code",
   "execution_count": 59,
   "id": "f7de3902",
   "metadata": {},
   "outputs": [
    {
     "data": {
      "text/html": [
       "<div>\n",
       "<style scoped>\n",
       "    .dataframe tbody tr th:only-of-type {\n",
       "        vertical-align: middle;\n",
       "    }\n",
       "\n",
       "    .dataframe tbody tr th {\n",
       "        vertical-align: top;\n",
       "    }\n",
       "\n",
       "    .dataframe thead th {\n",
       "        text-align: right;\n",
       "    }\n",
       "</style>\n",
       "<table border=\"1\" class=\"dataframe\">\n",
       "  <thead>\n",
       "    <tr style=\"text-align: right;\">\n",
       "      <th></th>\n",
       "      <th>Date</th>\n",
       "      <th>Symbol</th>\n",
       "      <th>Close</th>\n",
       "      <th>S&amp;PClose</th>\n",
       "      <th>Gold</th>\n",
       "      <th>Ether</th>\n",
       "      <th>USD</th>\n",
       "      <th>PPI</th>\n",
       "    </tr>\n",
       "  </thead>\n",
       "  <tbody>\n",
       "    <tr>\n",
       "      <th>0</th>\n",
       "      <td>2017-12-01</td>\n",
       "      <td>KO</td>\n",
       "      <td>45.970001</td>\n",
       "      <td>2642.22</td>\n",
       "      <td>1275.5</td>\n",
       "      <td>463.82</td>\n",
       "      <td>110.1432</td>\n",
       "      <td>186.0</td>\n",
       "    </tr>\n",
       "    <tr>\n",
       "      <th>1</th>\n",
       "      <td>2017-12-01</td>\n",
       "      <td>COST</td>\n",
       "      <td>185.130005</td>\n",
       "      <td>2642.22</td>\n",
       "      <td>1275.5</td>\n",
       "      <td>463.82</td>\n",
       "      <td>110.1432</td>\n",
       "      <td>186.0</td>\n",
       "    </tr>\n",
       "    <tr>\n",
       "      <th>2</th>\n",
       "      <td>2017-12-01</td>\n",
       "      <td>PEP</td>\n",
       "      <td>116.779999</td>\n",
       "      <td>2642.22</td>\n",
       "      <td>1275.5</td>\n",
       "      <td>463.82</td>\n",
       "      <td>110.1432</td>\n",
       "      <td>186.0</td>\n",
       "    </tr>\n",
       "    <tr>\n",
       "      <th>3</th>\n",
       "      <td>2017-12-01</td>\n",
       "      <td>PG</td>\n",
       "      <td>90.360001</td>\n",
       "      <td>2642.22</td>\n",
       "      <td>1275.5</td>\n",
       "      <td>463.82</td>\n",
       "      <td>110.1432</td>\n",
       "      <td>186.0</td>\n",
       "    </tr>\n",
       "    <tr>\n",
       "      <th>4</th>\n",
       "      <td>2017-12-01</td>\n",
       "      <td>WMT</td>\n",
       "      <td>97.349998</td>\n",
       "      <td>2642.22</td>\n",
       "      <td>1275.5</td>\n",
       "      <td>463.82</td>\n",
       "      <td>110.1432</td>\n",
       "      <td>186.0</td>\n",
       "    </tr>\n",
       "  </tbody>\n",
       "</table>\n",
       "</div>"
      ],
      "text/plain": [
       "        Date Symbol       Close  S&PClose    Gold   Ether       USD    PPI\n",
       "0 2017-12-01     KO   45.970001   2642.22  1275.5  463.82  110.1432  186.0\n",
       "1 2017-12-01   COST  185.130005   2642.22  1275.5  463.82  110.1432  186.0\n",
       "2 2017-12-01    PEP  116.779999   2642.22  1275.5  463.82  110.1432  186.0\n",
       "3 2017-12-01     PG   90.360001   2642.22  1275.5  463.82  110.1432  186.0\n",
       "4 2017-12-01    WMT   97.349998   2642.22  1275.5  463.82  110.1432  186.0"
      ]
     },
     "execution_count": 59,
     "metadata": {},
     "output_type": "execute_result"
    }
   ],
   "source": [
    "df4.head()"
   ]
  },
  {
   "cell_type": "code",
   "execution_count": 60,
   "id": "b1b24d1b",
   "metadata": {},
   "outputs": [],
   "source": [
    "df4['USD']=df4['USD'].astype(float)"
   ]
  },
  {
   "cell_type": "code",
   "execution_count": 61,
   "id": "e139456f",
   "metadata": {},
   "outputs": [],
   "source": [
    "df4['Ether']=df4['Ether'].astype(float)"
   ]
  },
  {
   "cell_type": "code",
   "execution_count": 62,
   "id": "42207b9b",
   "metadata": {},
   "outputs": [
    {
     "name": "stdout",
     "output_type": "stream",
     "text": [
      "<class 'pandas.core.frame.DataFrame'>\n",
      "Int64Index: 190 entries, 0 to 189\n",
      "Data columns (total 8 columns):\n",
      " #   Column    Non-Null Count  Dtype         \n",
      "---  ------    --------------  -----         \n",
      " 0   Date      190 non-null    datetime64[ns]\n",
      " 1   Symbol    190 non-null    object        \n",
      " 2   Close     190 non-null    float64       \n",
      " 3   S&PClose  190 non-null    float64       \n",
      " 4   Gold      190 non-null    float64       \n",
      " 5   Ether     190 non-null    float64       \n",
      " 6   USD       190 non-null    float64       \n",
      " 7   PPI       190 non-null    float64       \n",
      "dtypes: datetime64[ns](1), float64(6), object(1)\n",
      "memory usage: 13.4+ KB\n"
     ]
    }
   ],
   "source": [
    "df4.info()"
   ]
  },
  {
   "cell_type": "markdown",
   "id": "63ed054c",
   "metadata": {},
   "source": [
    "### EDA"
   ]
  },
  {
   "cell_type": "code",
   "execution_count": 63,
   "id": "5494d365",
   "metadata": {},
   "outputs": [],
   "source": [
    "symbol_groups = df4.groupby(by='Symbol')"
   ]
  },
  {
   "cell_type": "code",
   "execution_count": 64,
   "id": "182dcb92",
   "metadata": {},
   "outputs": [],
   "source": [
    "# corr = symbol_groups.corr()\n",
    "# corr\n",
    "\n",
    "# why is Ether USD and PPI not showing up?"
   ]
  },
  {
   "cell_type": "code",
   "execution_count": 65,
   "id": "ce7e7c9f",
   "metadata": {},
   "outputs": [],
   "source": [
    "# # Build heatmap\n",
    "\n",
    "# # Set up figure and axis\n",
    "# fig, ax = plt.subplots(figsize=(25, 20))\n",
    "\n",
    "# sns.heatmap(symbol_groups.corr(), \n",
    "#             # Mask to show only half the values instead of showing duplicates\n",
    "#             mask=np.triu(np.ones_like(corr, dtype=bool)),\n",
    "#             # Specifies that we want values not just colors\n",
    "#             annot = True,\n",
    "#             linewidths = 10,\n",
    "#             center=0);\n",
    "\n",
    "# ax.hlines([6, 12, 18, 24],*ax.get_xlim())"
   ]
  },
  {
   "cell_type": "code",
   "execution_count": 66,
   "id": "186598fa",
   "metadata": {},
   "outputs": [],
   "source": [
    "COST = symbol_groups.get_group('COST')\n",
    "WMT = symbol_groups.get_group('WMT')\n",
    "KO = symbol_groups.get_group('KO')\n",
    "PG = symbol_groups.get_group('PG')\n",
    "PEP = symbol_groups.get_group('PEP')"
   ]
  },
  {
   "cell_type": "markdown",
   "id": "6edd5c71",
   "metadata": {},
   "source": [
    "### COST EDA "
   ]
  },
  {
   "cell_type": "code",
   "execution_count": 67,
   "id": "05bd3872",
   "metadata": {},
   "outputs": [
    {
     "data": {
      "text/html": [
       "<div>\n",
       "<style scoped>\n",
       "    .dataframe tbody tr th:only-of-type {\n",
       "        vertical-align: middle;\n",
       "    }\n",
       "\n",
       "    .dataframe tbody tr th {\n",
       "        vertical-align: top;\n",
       "    }\n",
       "\n",
       "    .dataframe thead th {\n",
       "        text-align: right;\n",
       "    }\n",
       "</style>\n",
       "<table border=\"1\" class=\"dataframe\">\n",
       "  <thead>\n",
       "    <tr style=\"text-align: right;\">\n",
       "      <th></th>\n",
       "      <th>Close</th>\n",
       "      <th>S&amp;PClose</th>\n",
       "      <th>Gold</th>\n",
       "      <th>Ether</th>\n",
       "      <th>USD</th>\n",
       "      <th>PPI</th>\n",
       "    </tr>\n",
       "  </thead>\n",
       "  <tbody>\n",
       "    <tr>\n",
       "      <th>Close</th>\n",
       "      <td>1.000000</td>\n",
       "      <td>0.918061</td>\n",
       "      <td>0.832925</td>\n",
       "      <td>0.784933</td>\n",
       "      <td>0.350115</td>\n",
       "      <td>0.798461</td>\n",
       "    </tr>\n",
       "    <tr>\n",
       "      <th>S&amp;PClose</th>\n",
       "      <td>0.918061</td>\n",
       "      <td>1.000000</td>\n",
       "      <td>0.798416</td>\n",
       "      <td>0.891822</td>\n",
       "      <td>0.036834</td>\n",
       "      <td>0.657400</td>\n",
       "    </tr>\n",
       "    <tr>\n",
       "      <th>Gold</th>\n",
       "      <td>0.832925</td>\n",
       "      <td>0.798416</td>\n",
       "      <td>1.000000</td>\n",
       "      <td>0.588299</td>\n",
       "      <td>0.327380</td>\n",
       "      <td>0.568375</td>\n",
       "    </tr>\n",
       "    <tr>\n",
       "      <th>Ether</th>\n",
       "      <td>0.784933</td>\n",
       "      <td>0.891822</td>\n",
       "      <td>0.588299</td>\n",
       "      <td>1.000000</td>\n",
       "      <td>-0.136091</td>\n",
       "      <td>0.498839</td>\n",
       "    </tr>\n",
       "    <tr>\n",
       "      <th>USD</th>\n",
       "      <td>0.350115</td>\n",
       "      <td>0.036834</td>\n",
       "      <td>0.327380</td>\n",
       "      <td>-0.136091</td>\n",
       "      <td>1.000000</td>\n",
       "      <td>0.334263</td>\n",
       "    </tr>\n",
       "    <tr>\n",
       "      <th>PPI</th>\n",
       "      <td>0.798461</td>\n",
       "      <td>0.657400</td>\n",
       "      <td>0.568375</td>\n",
       "      <td>0.498839</td>\n",
       "      <td>0.334263</td>\n",
       "      <td>1.000000</td>\n",
       "    </tr>\n",
       "  </tbody>\n",
       "</table>\n",
       "</div>"
      ],
      "text/plain": [
       "             Close  S&PClose      Gold     Ether       USD       PPI\n",
       "Close     1.000000  0.918061  0.832925  0.784933  0.350115  0.798461\n",
       "S&PClose  0.918061  1.000000  0.798416  0.891822  0.036834  0.657400\n",
       "Gold      0.832925  0.798416  1.000000  0.588299  0.327380  0.568375\n",
       "Ether     0.784933  0.891822  0.588299  1.000000 -0.136091  0.498839\n",
       "USD       0.350115  0.036834  0.327380 -0.136091  1.000000  0.334263\n",
       "PPI       0.798461  0.657400  0.568375  0.498839  0.334263  1.000000"
      ]
     },
     "execution_count": 67,
     "metadata": {},
     "output_type": "execute_result"
    }
   ],
   "source": [
    "cost_corr = COST.corr()\n",
    "cost_corr"
   ]
  },
  {
   "cell_type": "code",
   "execution_count": 68,
   "id": "23ed4f58",
   "metadata": {},
   "outputs": [
    {
     "data": {
      "image/png": "[encoded data removed]",
      "text/plain": [
       "<Figure size 1800x1440 with 2 Axes>"
      ]
     },
     "metadata": {
      "needs_background": "light"
     },
     "output_type": "display_data"
    }
   ],
   "source": [
    "# Build heatmap\n",
    "\n",
    "# Set up figure and axis\n",
    "fig, ax = plt.subplots(figsize=(25, 20))\n",
    "\n",
    "sns.heatmap(COST.corr(), \n",
    "            # Mask to show only half the values instead of showing duplicates\n",
    "            mask=np.triu(np.ones_like(cost_corr, dtype=bool)),\n",
    "            # Specifies that we want values not just colors\n",
    "            annot = True,\n",
    "            linewidths = 10,\n",
    "            center=0);\n",
    "\n",
    "# ax.hlines([6, 12, 18, 24],*ax.get_xlim())"
   ]
  },
  {
   "cell_type": "code",
   "execution_count": 69,
   "id": "cbe3ae61",
   "metadata": {},
   "outputs": [
    {
     "data": {
      "text/plain": [
       "<AxesSubplot:xlabel='Date'>"
      ]
     },
     "execution_count": 69,
     "metadata": {},
     "output_type": "execute_result"
    },
    {
     "data": {
      "image/png": "[encoded data removed]",
      "text/plain": [
       "<Figure size 432x288 with 1 Axes>"
      ]
     },
     "metadata": {
      "needs_background": "light"
     },
     "output_type": "display_data"
    }
   ],
   "source": [
    "COST.plot(x='Date',y='Close')"
   ]
  },
  {
   "cell_type": "markdown",
   "id": "d0e70938",
   "metadata": {},
   "source": [
    "### WMT EDA"
   ]
  },
  {
   "cell_type": "code",
   "execution_count": 70,
   "id": "7141b392",
   "metadata": {},
   "outputs": [
    {
     "data": {
      "text/html": [
       "<div>\n",
       "<style scoped>\n",
       "    .dataframe tbody tr th:only-of-type {\n",
       "        vertical-align: middle;\n",
       "    }\n",
       "\n",
       "    .dataframe tbody tr th {\n",
       "        vertical-align: top;\n",
       "    }\n",
       "\n",
       "    .dataframe thead th {\n",
       "        text-align: right;\n",
       "    }\n",
       "</style>\n",
       "<table border=\"1\" class=\"dataframe\">\n",
       "  <thead>\n",
       "    <tr style=\"text-align: right;\">\n",
       "      <th></th>\n",
       "      <th>Close</th>\n",
       "      <th>S&amp;PClose</th>\n",
       "      <th>Gold</th>\n",
       "      <th>Ether</th>\n",
       "      <th>USD</th>\n",
       "      <th>PPI</th>\n",
       "    </tr>\n",
       "  </thead>\n",
       "  <tbody>\n",
       "    <tr>\n",
       "      <th>Close</th>\n",
       "      <td>1.000000</td>\n",
       "      <td>0.837826</td>\n",
       "      <td>0.932504</td>\n",
       "      <td>0.640993</td>\n",
       "      <td>0.218195</td>\n",
       "      <td>0.469566</td>\n",
       "    </tr>\n",
       "    <tr>\n",
       "      <th>S&amp;PClose</th>\n",
       "      <td>0.837826</td>\n",
       "      <td>1.000000</td>\n",
       "      <td>0.798416</td>\n",
       "      <td>0.891822</td>\n",
       "      <td>0.036834</td>\n",
       "      <td>0.657400</td>\n",
       "    </tr>\n",
       "    <tr>\n",
       "      <th>Gold</th>\n",
       "      <td>0.932504</td>\n",
       "      <td>0.798416</td>\n",
       "      <td>1.000000</td>\n",
       "      <td>0.588299</td>\n",
       "      <td>0.327380</td>\n",
       "      <td>0.568375</td>\n",
       "    </tr>\n",
       "    <tr>\n",
       "      <th>Ether</th>\n",
       "      <td>0.640993</td>\n",
       "      <td>0.891822</td>\n",
       "      <td>0.588299</td>\n",
       "      <td>1.000000</td>\n",
       "      <td>-0.136091</td>\n",
       "      <td>0.498839</td>\n",
       "    </tr>\n",
       "    <tr>\n",
       "      <th>USD</th>\n",
       "      <td>0.218195</td>\n",
       "      <td>0.036834</td>\n",
       "      <td>0.327380</td>\n",
       "      <td>-0.136091</td>\n",
       "      <td>1.000000</td>\n",
       "      <td>0.334263</td>\n",
       "    </tr>\n",
       "    <tr>\n",
       "      <th>PPI</th>\n",
       "      <td>0.469566</td>\n",
       "      <td>0.657400</td>\n",
       "      <td>0.568375</td>\n",
       "      <td>0.498839</td>\n",
       "      <td>0.334263</td>\n",
       "      <td>1.000000</td>\n",
       "    </tr>\n",
       "  </tbody>\n",
       "</table>\n",
       "</div>"
      ],
      "text/plain": [
       "             Close  S&PClose      Gold     Ether       USD       PPI\n",
       "Close     1.000000  0.837826  0.932504  0.640993  0.218195  0.469566\n",
       "S&PClose  0.837826  1.000000  0.798416  0.891822  0.036834  0.657400\n",
       "Gold      0.932504  0.798416  1.000000  0.588299  0.327380  0.568375\n",
       "Ether     0.640993  0.891822  0.588299  1.000000 -0.136091  0.498839\n",
       "USD       0.218195  0.036834  0.327380 -0.136091  1.000000  0.334263\n",
       "PPI       0.469566  0.657400  0.568375  0.498839  0.334263  1.000000"
      ]
     },
     "execution_count": 70,
     "metadata": {},
     "output_type": "execute_result"
    }
   ],
   "source": [
    "wmt_corr = WMT.corr()\n",
    "wmt_corr"
   ]
  },
  {
   "cell_type": "code",
   "execution_count": 71,
   "id": "ee02830c",
   "metadata": {},
   "outputs": [
    {
     "data": {
      "image/png": "[encoded data removed]",
      "text/plain": [
       "<Figure size 1800x1440 with 2 Axes>"
      ]
     },
     "metadata": {
      "needs_background": "light"
     },
     "output_type": "display_data"
    }
   ],
   "source": [
    "# Build heatmap\n",
    "\n",
    "# Set up figure and axis\n",
    "fig, ax = plt.subplots(figsize=(25, 20))\n",
    "\n",
    "sns.heatmap(WMT.corr(), \n",
    "            # Mask to show only half the values instead of showing duplicates\n",
    "            mask=np.triu(np.ones_like(wmt_corr, dtype=bool)),\n",
    "            # Specifies that we want values not just colors\n",
    "            annot = True,\n",
    "            linewidths = 10,\n",
    "            center=0);"
   ]
  },
  {
   "cell_type": "code",
   "execution_count": 72,
   "id": "e6b51b54",
   "metadata": {},
   "outputs": [
    {
     "data": {
      "text/plain": [
       "<AxesSubplot:xlabel='Date'>"
      ]
     },
     "execution_count": 72,
     "metadata": {},
     "output_type": "execute_result"
    },
    {
     "data": {
      "image/png": "[encoded data removed]",
      "text/plain": [
       "<Figure size 432x288 with 1 Axes>"
      ]
     },
     "metadata": {
      "needs_background": "light"
     },
     "output_type": "display_data"
    }
   ],
   "source": [
    "WMT.plot(x='Date',y='Close')"
   ]
  },
  {
   "cell_type": "markdown",
   "id": "91de0579",
   "metadata": {},
   "source": [
    "### KO EDA "
   ]
  },
  {
   "cell_type": "code",
   "execution_count": 73,
   "id": "848b828e",
   "metadata": {},
   "outputs": [
    {
     "data": {
      "text/html": [
       "<div>\n",
       "<style scoped>\n",
       "    .dataframe tbody tr th:only-of-type {\n",
       "        vertical-align: middle;\n",
       "    }\n",
       "\n",
       "    .dataframe tbody tr th {\n",
       "        vertical-align: top;\n",
       "    }\n",
       "\n",
       "    .dataframe thead th {\n",
       "        text-align: right;\n",
       "    }\n",
       "</style>\n",
       "<table border=\"1\" class=\"dataframe\">\n",
       "  <thead>\n",
       "    <tr style=\"text-align: right;\">\n",
       "      <th></th>\n",
       "      <th>Close</th>\n",
       "      <th>S&amp;PClose</th>\n",
       "      <th>Gold</th>\n",
       "      <th>Ether</th>\n",
       "      <th>USD</th>\n",
       "      <th>PPI</th>\n",
       "    </tr>\n",
       "  </thead>\n",
       "  <tbody>\n",
       "    <tr>\n",
       "      <th>Close</th>\n",
       "      <td>1.000000</td>\n",
       "      <td>0.771784</td>\n",
       "      <td>0.601263</td>\n",
       "      <td>0.585042</td>\n",
       "      <td>0.256273</td>\n",
       "      <td>0.857674</td>\n",
       "    </tr>\n",
       "    <tr>\n",
       "      <th>S&amp;PClose</th>\n",
       "      <td>0.771784</td>\n",
       "      <td>1.000000</td>\n",
       "      <td>0.798416</td>\n",
       "      <td>0.891822</td>\n",
       "      <td>0.036834</td>\n",
       "      <td>0.657400</td>\n",
       "    </tr>\n",
       "    <tr>\n",
       "      <th>Gold</th>\n",
       "      <td>0.601263</td>\n",
       "      <td>0.798416</td>\n",
       "      <td>1.000000</td>\n",
       "      <td>0.588299</td>\n",
       "      <td>0.327380</td>\n",
       "      <td>0.568375</td>\n",
       "    </tr>\n",
       "    <tr>\n",
       "      <th>Ether</th>\n",
       "      <td>0.585042</td>\n",
       "      <td>0.891822</td>\n",
       "      <td>0.588299</td>\n",
       "      <td>1.000000</td>\n",
       "      <td>-0.136091</td>\n",
       "      <td>0.498839</td>\n",
       "    </tr>\n",
       "    <tr>\n",
       "      <th>USD</th>\n",
       "      <td>0.256273</td>\n",
       "      <td>0.036834</td>\n",
       "      <td>0.327380</td>\n",
       "      <td>-0.136091</td>\n",
       "      <td>1.000000</td>\n",
       "      <td>0.334263</td>\n",
       "    </tr>\n",
       "    <tr>\n",
       "      <th>PPI</th>\n",
       "      <td>0.857674</td>\n",
       "      <td>0.657400</td>\n",
       "      <td>0.568375</td>\n",
       "      <td>0.498839</td>\n",
       "      <td>0.334263</td>\n",
       "      <td>1.000000</td>\n",
       "    </tr>\n",
       "  </tbody>\n",
       "</table>\n",
       "</div>"
      ],
      "text/plain": [
       "             Close  S&PClose      Gold     Ether       USD       PPI\n",
       "Close     1.000000  0.771784  0.601263  0.585042  0.256273  0.857674\n",
       "S&PClose  0.771784  1.000000  0.798416  0.891822  0.036834  0.657400\n",
       "Gold      0.601263  0.798416  1.000000  0.588299  0.327380  0.568375\n",
       "Ether     0.585042  0.891822  0.588299  1.000000 -0.136091  0.498839\n",
       "USD       0.256273  0.036834  0.327380 -0.136091  1.000000  0.334263\n",
       "PPI       0.857674  0.657400  0.568375  0.498839  0.334263  1.000000"
      ]
     },
     "execution_count": 73,
     "metadata": {},
     "output_type": "execute_result"
    }
   ],
   "source": [
    "ko_corr = KO.corr()\n",
    "ko_corr"
   ]
  },
  {
   "cell_type": "code",
   "execution_count": 74,
   "id": "8cb34730",
   "metadata": {},
   "outputs": [
    {
     "data": {
      "image/png": "[encoded data removed]",
      "text/plain": [
       "<Figure size 1800x1440 with 2 Axes>"
      ]
     },
     "metadata": {
      "needs_background": "light"
     },
     "output_type": "display_data"
    }
   ],
   "source": [
    "# Build heatmap\n",
    "\n",
    "# Set up figure and axis\n",
    "fig, ax = plt.subplots(figsize=(25, 20))\n",
    "\n",
    "sns.heatmap(KO.corr(), \n",
    "            # Mask to show only half the values instead of showing duplicates\n",
    "            mask=np.triu(np.ones_like(ko_corr, dtype=bool)),\n",
    "            # Specifies that we want values not just colors\n",
    "            annot = True,\n",
    "            linewidths = 10,\n",
    "            center=0);"
   ]
  },
  {
   "cell_type": "code",
   "execution_count": 75,
   "id": "7e145e51",
   "metadata": {},
   "outputs": [
    {
     "data": {
      "text/plain": [
       "<AxesSubplot:xlabel='Date'>"
      ]
     },
     "execution_count": 75,
     "metadata": {},
     "output_type": "execute_result"
    },
    {
     "data": {
      "image/png": "[encoded data removed]",
      "text/plain": [
       "<Figure size 432x288 with 1 Axes>"
      ]
     },
     "metadata": {
      "needs_background": "light"
     },
     "output_type": "display_data"
    }
   ],
   "source": [
    "KO.plot(x='Date',y='Close')"
   ]
  },
  {
   "cell_type": "markdown",
   "id": "d636aa26",
   "metadata": {},
   "source": [
    "### PG EDA "
   ]
  },
  {
   "cell_type": "code",
   "execution_count": 76,
   "id": "9791bd46",
   "metadata": {},
   "outputs": [
    {
     "data": {
      "text/html": [
       "<div>\n",
       "<style scoped>\n",
       "    .dataframe tbody tr th:only-of-type {\n",
       "        vertical-align: middle;\n",
       "    }\n",
       "\n",
       "    .dataframe tbody tr th {\n",
       "        vertical-align: top;\n",
       "    }\n",
       "\n",
       "    .dataframe thead th {\n",
       "        text-align: right;\n",
       "    }\n",
       "</style>\n",
       "<table border=\"1\" class=\"dataframe\">\n",
       "  <thead>\n",
       "    <tr style=\"text-align: right;\">\n",
       "      <th></th>\n",
       "      <th>Close</th>\n",
       "      <th>S&amp;PClose</th>\n",
       "      <th>Gold</th>\n",
       "      <th>Ether</th>\n",
       "      <th>USD</th>\n",
       "      <th>PPI</th>\n",
       "    </tr>\n",
       "  </thead>\n",
       "  <tbody>\n",
       "    <tr>\n",
       "      <th>Close</th>\n",
       "      <td>1.000000</td>\n",
       "      <td>0.859708</td>\n",
       "      <td>0.900333</td>\n",
       "      <td>0.635895</td>\n",
       "      <td>0.394046</td>\n",
       "      <td>0.679719</td>\n",
       "    </tr>\n",
       "    <tr>\n",
       "      <th>S&amp;PClose</th>\n",
       "      <td>0.859708</td>\n",
       "      <td>1.000000</td>\n",
       "      <td>0.798416</td>\n",
       "      <td>0.891822</td>\n",
       "      <td>0.036834</td>\n",
       "      <td>0.657400</td>\n",
       "    </tr>\n",
       "    <tr>\n",
       "      <th>Gold</th>\n",
       "      <td>0.900333</td>\n",
       "      <td>0.798416</td>\n",
       "      <td>1.000000</td>\n",
       "      <td>0.588299</td>\n",
       "      <td>0.327380</td>\n",
       "      <td>0.568375</td>\n",
       "    </tr>\n",
       "    <tr>\n",
       "      <th>Ether</th>\n",
       "      <td>0.635895</td>\n",
       "      <td>0.891822</td>\n",
       "      <td>0.588299</td>\n",
       "      <td>1.000000</td>\n",
       "      <td>-0.136091</td>\n",
       "      <td>0.498839</td>\n",
       "    </tr>\n",
       "    <tr>\n",
       "      <th>USD</th>\n",
       "      <td>0.394046</td>\n",
       "      <td>0.036834</td>\n",
       "      <td>0.327380</td>\n",
       "      <td>-0.136091</td>\n",
       "      <td>1.000000</td>\n",
       "      <td>0.334263</td>\n",
       "    </tr>\n",
       "    <tr>\n",
       "      <th>PPI</th>\n",
       "      <td>0.679719</td>\n",
       "      <td>0.657400</td>\n",
       "      <td>0.568375</td>\n",
       "      <td>0.498839</td>\n",
       "      <td>0.334263</td>\n",
       "      <td>1.000000</td>\n",
       "    </tr>\n",
       "  </tbody>\n",
       "</table>\n",
       "</div>"
      ],
      "text/plain": [
       "             Close  S&PClose      Gold     Ether       USD       PPI\n",
       "Close     1.000000  0.859708  0.900333  0.635895  0.394046  0.679719\n",
       "S&PClose  0.859708  1.000000  0.798416  0.891822  0.036834  0.657400\n",
       "Gold      0.900333  0.798416  1.000000  0.588299  0.327380  0.568375\n",
       "Ether     0.635895  0.891822  0.588299  1.000000 -0.136091  0.498839\n",
       "USD       0.394046  0.036834  0.327380 -0.136091  1.000000  0.334263\n",
       "PPI       0.679719  0.657400  0.568375  0.498839  0.334263  1.000000"
      ]
     },
     "execution_count": 76,
     "metadata": {},
     "output_type": "execute_result"
    }
   ],
   "source": [
    "pg_corr = PG.corr()\n",
    "pg_corr"
   ]
  },
  {
   "cell_type": "code",
   "execution_count": 77,
   "id": "882d465e",
   "metadata": {},
   "outputs": [
    {
     "data": {
      "image/png": "[encoded data removed]",
      "text/plain": [
       "<Figure size 1800x1440 with 2 Axes>"
      ]
     },
     "metadata": {
      "needs_background": "light"
     },
     "output_type": "display_data"
    }
   ],
   "source": [
    "# Set up figure and axis\n",
    "fig, ax = plt.subplots(figsize=(25, 20))\n",
    "\n",
    "sns.heatmap(PG.corr(), \n",
    "            # Mask to show only half the values instead of showing duplicates\n",
    "            mask=np.triu(np.ones_like(pg_corr, dtype=bool)),\n",
    "            # Specifies that we want values not just colors\n",
    "            annot = True,\n",
    "            linewidths = 10,\n",
    "            center=0);"
   ]
  },
  {
   "cell_type": "code",
   "execution_count": 78,
   "id": "2b851761",
   "metadata": {},
   "outputs": [
    {
     "data": {
      "text/plain": [
       "<AxesSubplot:xlabel='Date'>"
      ]
     },
     "execution_count": 78,
     "metadata": {},
     "output_type": "execute_result"
    },
    {
     "data": {
      "image/png": "[encoded data removed]",
      "text/plain": [
       "<Figure size 432x288 with 1 Axes>"
      ]
     },
     "metadata": {
      "needs_background": "light"
     },
     "output_type": "display_data"
    }
   ],
   "source": [
    "PG.plot(x='Date',y='Close')"
   ]
  },
  {
   "cell_type": "markdown",
   "id": "d8542d1c",
   "metadata": {},
   "source": [
    "### PEP EDA "
   ]
  },
  {
   "cell_type": "code",
   "execution_count": 79,
   "id": "60f69213",
   "metadata": {},
   "outputs": [
    {
     "data": {
      "text/html": [
       "<div>\n",
       "<style scoped>\n",
       "    .dataframe tbody tr th:only-of-type {\n",
       "        vertical-align: middle;\n",
       "    }\n",
       "\n",
       "    .dataframe tbody tr th {\n",
       "        vertical-align: top;\n",
       "    }\n",
       "\n",
       "    .dataframe thead th {\n",
       "        text-align: right;\n",
       "    }\n",
       "</style>\n",
       "<table border=\"1\" class=\"dataframe\">\n",
       "  <thead>\n",
       "    <tr style=\"text-align: right;\">\n",
       "      <th></th>\n",
       "      <th>Close</th>\n",
       "      <th>S&amp;PClose</th>\n",
       "      <th>Gold</th>\n",
       "      <th>Ether</th>\n",
       "      <th>USD</th>\n",
       "      <th>PPI</th>\n",
       "    </tr>\n",
       "  </thead>\n",
       "  <tbody>\n",
       "    <tr>\n",
       "      <th>Close</th>\n",
       "      <td>1.000000</td>\n",
       "      <td>0.880688</td>\n",
       "      <td>0.812963</td>\n",
       "      <td>0.693506</td>\n",
       "      <td>0.359967</td>\n",
       "      <td>0.801754</td>\n",
       "    </tr>\n",
       "    <tr>\n",
       "      <th>S&amp;PClose</th>\n",
       "      <td>0.880688</td>\n",
       "      <td>1.000000</td>\n",
       "      <td>0.798416</td>\n",
       "      <td>0.891822</td>\n",
       "      <td>0.036834</td>\n",
       "      <td>0.657400</td>\n",
       "    </tr>\n",
       "    <tr>\n",
       "      <th>Gold</th>\n",
       "      <td>0.812963</td>\n",
       "      <td>0.798416</td>\n",
       "      <td>1.000000</td>\n",
       "      <td>0.588299</td>\n",
       "      <td>0.327380</td>\n",
       "      <td>0.568375</td>\n",
       "    </tr>\n",
       "    <tr>\n",
       "      <th>Ether</th>\n",
       "      <td>0.693506</td>\n",
       "      <td>0.891822</td>\n",
       "      <td>0.588299</td>\n",
       "      <td>1.000000</td>\n",
       "      <td>-0.136091</td>\n",
       "      <td>0.498839</td>\n",
       "    </tr>\n",
       "    <tr>\n",
       "      <th>USD</th>\n",
       "      <td>0.359967</td>\n",
       "      <td>0.036834</td>\n",
       "      <td>0.327380</td>\n",
       "      <td>-0.136091</td>\n",
       "      <td>1.000000</td>\n",
       "      <td>0.334263</td>\n",
       "    </tr>\n",
       "    <tr>\n",
       "      <th>PPI</th>\n",
       "      <td>0.801754</td>\n",
       "      <td>0.657400</td>\n",
       "      <td>0.568375</td>\n",
       "      <td>0.498839</td>\n",
       "      <td>0.334263</td>\n",
       "      <td>1.000000</td>\n",
       "    </tr>\n",
       "  </tbody>\n",
       "</table>\n",
       "</div>"
      ],
      "text/plain": [
       "             Close  S&PClose      Gold     Ether       USD       PPI\n",
       "Close     1.000000  0.880688  0.812963  0.693506  0.359967  0.801754\n",
       "S&PClose  0.880688  1.000000  0.798416  0.891822  0.036834  0.657400\n",
       "Gold      0.812963  0.798416  1.000000  0.588299  0.327380  0.568375\n",
       "Ether     0.693506  0.891822  0.588299  1.000000 -0.136091  0.498839\n",
       "USD       0.359967  0.036834  0.327380 -0.136091  1.000000  0.334263\n",
       "PPI       0.801754  0.657400  0.568375  0.498839  0.334263  1.000000"
      ]
     },
     "execution_count": 79,
     "metadata": {},
     "output_type": "execute_result"
    }
   ],
   "source": [
    "pep_corr = PEP.corr()\n",
    "pep_corr"
   ]
  },
  {
   "cell_type": "code",
   "execution_count": 80,
   "id": "ceda8fe4",
   "metadata": {},
   "outputs": [
    {
     "data": {
      "image/png": "[encoded data removed]",
      "text/plain": [
       "<Figure size 1800x1440 with 2 Axes>"
      ]
     },
     "metadata": {
      "needs_background": "light"
     },
     "output_type": "display_data"
    }
   ],
   "source": [
    "# Set up figure and axis\n",
    "fig, ax = plt.subplots(figsize=(25, 20))\n",
    "\n",
    "sns.heatmap(PEP.corr(), \n",
    "            # Mask to show only half the values instead of showing duplicates\n",
    "            mask=np.triu(np.ones_like(pep_corr, dtype=bool)),\n",
    "            # Specifies that we want values not just colors\n",
    "            annot = True,\n",
    "            linewidths = 10,\n",
    "            center=0);"
   ]
  },
  {
   "cell_type": "code",
   "execution_count": 81,
   "id": "d122caf9",
   "metadata": {
    "scrolled": true
   },
   "outputs": [
    {
     "data": {
      "text/plain": [
       "<AxesSubplot:xlabel='Date'>"
      ]
     },
     "execution_count": 81,
     "metadata": {},
     "output_type": "execute_result"
    },
    {
     "data": {
      "image/png": "[encoded data removed]",
      "text/plain": [
       "<Figure size 432x288 with 1 Axes>"
      ]
     },
     "metadata": {
      "needs_background": "light"
     },
     "output_type": "display_data"
    }
   ],
   "source": [
    "PEP.plot(x='Date',y='Close')"
   ]
  },
  {
   "cell_type": "markdown",
   "id": "ad278347",
   "metadata": {},
   "source": [
    "### Preprocessing"
   ]
  },
  {
   "cell_type": "code",
   "execution_count": 82,
   "id": "d55568cd",
   "metadata": {},
   "outputs": [],
   "source": [
    "COST = COST.drop(['S&PClose','Gold','PPI','Ether','USD','Symbol'],axis=1)"
   ]
  },
  {
   "cell_type": "code",
   "execution_count": 83,
   "id": "f4e3641e",
   "metadata": {},
   "outputs": [],
   "source": [
    "cost_new = COST.set_index('Date').resample('1D').pad()"
   ]
  },
  {
   "cell_type": "code",
   "execution_count": 84,
   "id": "202d4351",
   "metadata": {},
   "outputs": [],
   "source": [
    "monthly_mean = cost_new['Close'].resample('M').mean()"
   ]
  },
  {
   "cell_type": "code",
   "execution_count": 85,
   "id": "82bfcb09",
   "metadata": {},
   "outputs": [
    {
     "data": {
      "text/plain": [
       "Date\n",
       "2017-12-31    185.130005\n",
       "2018-01-31    185.130005\n",
       "2018-02-28    193.470001\n",
       "2018-03-31    189.029999\n",
       "2018-04-30    189.029999\n",
       "2018-05-31    196.550003\n",
       "2018-06-30    197.130005\n",
       "2018-07-31    197.130005\n",
       "2018-08-31    217.130005\n",
       "2018-09-30    217.130005\n",
       "2018-10-31    234.649994\n",
       "2018-11-30    229.600006\n",
       "2018-12-31    229.600006\n",
       "2019-01-31    229.600006\n",
       "2019-02-28    210.270004\n",
       "2019-03-31    219.440002\n",
       "2019-04-30    244.190002\n",
       "2019-05-31    241.589996\n",
       "2019-06-30    241.589996\n",
       "2019-07-31    263.549988\n",
       "2019-08-31    274.570007\n",
       "2019-09-30    274.570007\n",
       "2019-10-31    283.929993\n",
       "2019-11-30    296.089996\n",
       "2019-12-31    296.089996\n",
       "2020-01-31    296.089996\n",
       "2020-02-29    296.089996\n",
       "2020-03-31    296.089996\n",
       "2020-04-30    286.779999\n",
       "2020-05-31    301.920013\n",
       "2020-06-30    308.290009\n",
       "2020-07-31    304.750000\n",
       "2020-08-31    304.750000\n",
       "2020-09-30    351.380005\n",
       "2020-10-31    358.459991\n",
       "2020-11-30    358.459991\n",
       "2020-12-31    387.559998\n",
       "2021-01-31    387.559998\n",
       "2021-02-28    350.519989\n",
       "2021-03-31    331.769989\n",
       "2021-04-30    354.940002\n",
       "2021-05-31    354.940002\n",
       "2021-06-30    378.230011\n",
       "2021-07-31    394.529999\n",
       "2021-08-31    394.529999\n",
       "2021-09-30    456.519989\n",
       "2021-10-31    448.329987\n",
       "2021-11-30    491.869995\n",
       "2021-12-31    529.840027\n",
       "2022-01-31    529.840027\n",
       "2022-02-28    508.410004\n",
       "2022-03-31    522.929993\n",
       "2022-04-30    575.570007\n",
       "2022-05-31    575.570007\n",
       "2022-06-30    456.989990\n",
       "2022-07-31    485.760010\n",
       "2022-08-31    546.809998\n",
       "Freq: M, Name: Close, dtype: float64"
      ]
     },
     "execution_count": 85,
     "metadata": {},
     "output_type": "execute_result"
    }
   ],
   "source": [
    "monthly_mean['2017':]"
   ]
  },
  {
   "cell_type": "code",
   "execution_count": 87,
   "id": "0aed7af7",
   "metadata": {},
   "outputs": [
    {
     "data": {
      "image/png": "[encoded data removed]",
      "text/plain": [
       "<Figure size 1296x576 with 4 Axes>"
      ]
     },
     "metadata": {
      "needs_background": "light"
     },
     "output_type": "display_data"
    }
   ],
   "source": [
    "rcParams['figure.figsize'] = 18, 8\n",
    "\n",
    "decomposition = sm.tsa.seasonal_decompose(monthly_mean, model='additive')\n",
    "fig = decomposition.plot()\n",
    "plt.show()"
   ]
  },
  {
   "cell_type": "code",
   "execution_count": 88,
   "id": "aecc7039",
   "metadata": {},
   "outputs": [
    {
     "name": "stderr",
     "output_type": "stream",
     "text": [
      "/opt/anaconda3/lib/python3.8/site-packages/seaborn/distributions.py:2557: FutureWarning: `distplot` is a deprecated function and will be removed in a future version. Please adapt your code to use either `displot` (a figure-level function with similar flexibility) or `histplot` (an axes-level function for histograms).\n",
      "  warnings.warn(msg, FutureWarning)\n"
     ]
    },
    {
     "data": {
      "text/plain": [
       "(array([0.    , 0.0005, 0.001 , 0.0015, 0.002 , 0.0025, 0.003 , 0.0035,\n",
       "        0.004 , 0.0045]),\n",
       " [Text(0, 0, ''),\n",
       "  Text(0, 0, ''),\n",
       "  Text(0, 0, ''),\n",
       "  Text(0, 0, ''),\n",
       "  Text(0, 0, ''),\n",
       "  Text(0, 0, ''),\n",
       "  Text(0, 0, ''),\n",
       "  Text(0, 0, ''),\n",
       "  Text(0, 0, ''),\n",
       "  Text(0, 0, '')])"
      ]
     },
     "execution_count": 88,
     "metadata": {},
     "output_type": "execute_result"
    },
    {
     "data": {
      "image/png": "[encoded data removed]",
      "text/plain": [
       "<Figure size 720x576 with 1 Axes>"
      ]
     },
     "metadata": {
      "needs_background": "light"
     },
     "output_type": "display_data"
    }
   ],
   "source": [
    "##Checking Distribution of Our Data \n",
    "fig = plt.figure(figsize=(10,8))\n",
    "sns.distplot(monthly_mean).set_title(\"Distribution Plot Adj Close -COST\")\n",
    "ax.tick_params(labelsize=12)\n",
    "sns.set(font_scale=1)\n",
    "plt.xticks(fontsize=16)\n",
    "plt.yticks(fontsize=16)"
   ]
  },
  {
   "cell_type": "code",
   "execution_count": 89,
   "id": "a0eb0c24",
   "metadata": {},
   "outputs": [
    {
     "data": {
      "image/png": "[encoded data removed]",
      "text/plain": [
       "<Figure size 576x216 with 1 Axes>"
      ]
     },
     "metadata": {},
     "output_type": "display_data"
    }
   ],
   "source": [
    "#Plot the ACF\n",
    "fig, ax = plt.subplots(figsize=(8,3))\n",
    "plot_acf(monthly_mean,ax=ax, lags=8);"
   ]
  },
  {
   "cell_type": "code",
   "execution_count": 90,
   "id": "6f1fbfb2",
   "metadata": {},
   "outputs": [
    {
     "name": "stderr",
     "output_type": "stream",
     "text": [
      "/opt/anaconda3/lib/python3.8/site-packages/statsmodels/graphics/tsaplots.py:348: FutureWarning: The default method 'yw' can produce PACF values outside of the [-1,1] interval. After 0.13, the default will change tounadjusted Yule-Walker ('ywm'). You can use this method now by setting method='ywm'.\n",
      "  warnings.warn(\n"
     ]
    },
    {
     "data": {
      "image/png": "[encoded data removed]",
      "text/plain": [
       "<Figure size 576x216 with 1 Axes>"
      ]
     },
     "metadata": {},
     "output_type": "display_data"
    }
   ],
   "source": [
    "#Plot the PACF\n",
    "fig, ax = plt.subplots(figsize=(8,3))\n",
    "plot_pacf(monthly_mean,ax=ax, lags=8);"
   ]
  },
  {
   "cell_type": "code",
   "execution_count": 91,
   "id": "12512dea",
   "metadata": {},
   "outputs": [
    {
     "name": "stdout",
     "output_type": "stream",
     "text": [
      "                               SARIMAX Results                                \n",
      "==============================================================================\n",
      "Dep. Variable:                  Close   No. Observations:                   57\n",
      "Model:                 ARIMA(1, 0, 0)   Log Likelihood                -268.817\n",
      "Date:                Tue, 29 Nov 2022   AIC                            543.633\n",
      "Time:                        13:30:07   BIC                            549.762\n",
      "Sample:                    12-31-2017   HQIC                           546.015\n",
      "                         - 08-31-2022                                         \n",
      "Covariance Type:                  opg                                         \n",
      "==============================================================================\n",
      "                 coef    std err          z      P>|z|      [0.025      0.975]\n",
      "------------------------------------------------------------------------------\n",
      "const        354.6338    125.677      2.822      0.005     108.312     600.955\n",
      "ar.L1          0.9856      0.027     35.879      0.000       0.932       1.039\n",
      "sigma2       686.7209     79.831      8.602      0.000     530.256     843.186\n",
      "===================================================================================\n",
      "Ljung-Box (L1) (Q):                   0.02   Jarque-Bera (JB):               142.10\n",
      "Prob(Q):                              0.89   Prob(JB):                         0.00\n",
      "Heteroskedasticity (H):              12.50   Skew:                            -1.26\n",
      "Prob(H) (two-sided):                  0.00   Kurtosis:                        10.31\n",
      "===================================================================================\n",
      "\n",
      "Warnings:\n",
      "[1] Covariance matrix calculated using the outer product of gradients (complex-step).\n"
     ]
    }
   ],
   "source": [
    "# Fit an ARMA(1,0) model\n",
    "mod_arma = ARIMA(monthly_mean, order=(1,0,0))\n",
    "res_arma = mod_arma.fit()\n",
    "\n",
    "# Print out summary information on the fit\n",
    "print(res_arma.summary())"
   ]
  },
  {
   "cell_type": "code",
   "execution_count": 92,
   "id": "8e294860",
   "metadata": {},
   "outputs": [
    {
     "name": "stdout",
     "output_type": "stream",
     "text": [
      "                               SARIMAX Results                                \n",
      "==============================================================================\n",
      "Dep. Variable:                  Close   No. Observations:                   57\n",
      "Model:                 ARIMA(2, 0, 1)   Log Likelihood                -267.215\n",
      "Date:                Tue, 29 Nov 2022   AIC                            544.430\n",
      "Time:                        13:30:07   BIC                            554.645\n",
      "Sample:                    12-31-2017   HQIC                           548.400\n",
      "                         - 08-31-2022                                         \n",
      "Covariance Type:                  opg                                         \n",
      "==============================================================================\n",
      "                 coef    std err          z      P>|z|      [0.025      0.975]\n",
      "------------------------------------------------------------------------------\n",
      "const        352.0505    123.345      2.854      0.004     110.299     593.803\n",
      "ar.L1          0.4684      0.703      0.667      0.505      -0.908       1.845\n",
      "ar.L2          0.5029      0.637      0.789      0.430      -0.746       1.751\n",
      "ma.L1          0.7217      0.578      1.248      0.212      -0.412       1.855\n",
      "sigma2       648.0572     79.152      8.188      0.000     492.922     803.192\n",
      "===================================================================================\n",
      "Ljung-Box (L1) (Q):                   1.22   Jarque-Bera (JB):               115.85\n",
      "Prob(Q):                              0.27   Prob(JB):                         0.00\n",
      "Heteroskedasticity (H):              11.51   Skew:                            -1.15\n",
      "Prob(H) (two-sided):                  0.00   Kurtosis:                         9.60\n",
      "===================================================================================\n",
      "\n",
      "Warnings:\n",
      "[1] Covariance matrix calculated using the outer product of gradients (complex-step).\n"
     ]
    },
    {
     "name": "stderr",
     "output_type": "stream",
     "text": [
      "/opt/anaconda3/lib/python3.8/site-packages/statsmodels/tsa/statespace/sarimax.py:966: UserWarning: Non-stationary starting autoregressive parameters found. Using zeros as starting parameters.\n",
      "  warn('Non-stationary starting autoregressive parameters'\n",
      "/opt/anaconda3/lib/python3.8/site-packages/statsmodels/tsa/statespace/sarimax.py:978: UserWarning: Non-invertible starting MA parameters found. Using zeros as starting parameters.\n",
      "  warn('Non-invertible starting MA parameters found.'\n"
     ]
    }
   ],
   "source": [
    "# Fit an ARMA(2,1) model\n",
    "mod_arma = ARIMA(monthly_mean, order=(2,0,1))\n",
    "res_arma = mod_arma.fit()\n",
    "\n",
    "# Print out summary information on the fit\n",
    "print(res_arma.summary())"
   ]
  },
  {
   "cell_type": "code",
   "execution_count": 93,
   "id": "f1c2ff54",
   "metadata": {},
   "outputs": [
    {
     "name": "stderr",
     "output_type": "stream",
     "text": [
      "/opt/anaconda3/lib/python3.8/site-packages/statsmodels/tsa/statespace/sarimax.py:966: UserWarning: Non-stationary starting autoregressive parameters found. Using zeros as starting parameters.\n",
      "  warn('Non-stationary starting autoregressive parameters'\n"
     ]
    },
    {
     "name": "stdout",
     "output_type": "stream",
     "text": [
      "                               SARIMAX Results                                \n",
      "==============================================================================\n",
      "Dep. Variable:                  Close   No. Observations:                   57\n",
      "Model:                 ARIMA(2, 0, 2)   Log Likelihood                -265.514\n",
      "Date:                Tue, 29 Nov 2022   AIC                            543.028\n",
      "Time:                        13:30:08   BIC                            555.286\n",
      "Sample:                    12-31-2017   HQIC                           547.792\n",
      "                         - 08-31-2022                                         \n",
      "Covariance Type:                  opg                                         \n",
      "==============================================================================\n",
      "                 coef    std err          z      P>|z|      [0.025      0.975]\n",
      "------------------------------------------------------------------------------\n",
      "const        327.4324    177.048      1.849      0.064     -19.576     674.440\n",
      "ar.L1          0.7986      0.688      1.160      0.246      -0.551       2.148\n",
      "ar.L2          0.1906      0.647      0.295      0.768      -1.077       1.459\n",
      "ma.L1          0.2747      0.624      0.440      0.660      -0.948       1.497\n",
      "ma.L2         -0.2686      0.134     -1.998      0.046      -0.532      -0.005\n",
      "sigma2       607.9270     74.081      8.206      0.000     462.732     753.122\n",
      "===================================================================================\n",
      "Ljung-Box (L1) (Q):                   0.47   Jarque-Bera (JB):               141.59\n",
      "Prob(Q):                              0.49   Prob(JB):                         0.00\n",
      "Heteroskedasticity (H):              12.14   Skew:                            -1.23\n",
      "Prob(H) (two-sided):                  0.00   Kurtosis:                        10.32\n",
      "===================================================================================\n",
      "\n",
      "Warnings:\n",
      "[1] Covariance matrix calculated using the outer product of gradients (complex-step).\n"
     ]
    }
   ],
   "source": [
    "# Fit an ARMA(2,2) model\n",
    "mod_arma = ARIMA(monthly_mean, order=(2,0,2))\n",
    "res_arma = mod_arma.fit()\n",
    "\n",
    "# Print out summary information on the fit\n",
    "print(res_arma.summary())"
   ]
  },
  {
   "cell_type": "code",
   "execution_count": null,
   "id": "d0b2a90d",
   "metadata": {},
   "outputs": [],
   "source": []
  }
 ],
 "metadata": {
  "kernelspec": {
   "display_name": "Python 3",
   "language": "python",
   "name": "python3"
  },
  "language_info": {
   "codemirror_mode": {
    "name": "ipython",
    "version": 3
   },
   "file_extension": ".py",
   "mimetype": "text/x-python",
   "name": "python",
   "nbconvert_exporter": "python",
   "pygments_lexer": "ipython3",
   "version": "3.8.8"
  }
 },
 "nbformat": 4,
 "nbformat_minor": 5
}
