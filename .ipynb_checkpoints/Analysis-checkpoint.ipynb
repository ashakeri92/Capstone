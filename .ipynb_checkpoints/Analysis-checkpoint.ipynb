{
 "cells": [
  {
   "cell_type": "markdown",
   "id": "2077f0e3",
   "metadata": {},
   "source": [
    "# Defensive Stock Analysis"
   ]
  },
  {
   "cell_type": "markdown",
   "id": "9a8a8862",
   "metadata": {},
   "source": [
    "Which performs better Linear regression or time series? "
   ]
  },
  {
   "cell_type": "code",
   "execution_count": 1,
   "id": "9a27ba23",
   "metadata": {},
   "outputs": [],
   "source": [
    "import pandas as pd\n",
    "import numpy as np\n",
    "import matplotlib.pyplot as plt\n",
    "import seaborn as sns\n",
    "import itertools\n",
    "import zipfile\n",
    "import time\n",
    "import warnings\n",
    "import scipy.stats as stats\n",
    "from datetime import datetime\n",
    "from sklearn.model_selection import GroupShuffleSplit \n",
    "from statsmodels.formula.api import ols\n",
    "from sklearn.metrics import mean_squared_error\n",
    "from statsmodels.tsa.stattools import adfuller\n",
    "from statsmodels.graphics.tsaplots import plot_acf, plot_pacf\n",
    "from statsmodels.tsa.arima.model import ARIMA\n",
    "from statsmodels.tsa.statespace.sarimax import SARIMAX\n",
    "from sklearn.preprocessing import StandardScaler\n",
    "from pmdarima import auto_arima\n",
    "from sklearn.model_selection import train_test_split\n",
    "from sklearn.linear_model import LogisticRegression\n",
    "from sklearn.metrics import precision_score, recall_score, accuracy_score, f1_score, classification_report\n",
    "from sklearn import preprocessing\n",
    "from sklearn import utils\n",
    "from statsmodels.stats.diagnostic import het_white\n",
    "import statsmodels.api as sm\n",
    "from pylab import rcParams\n",
    "from statsmodels.tools.sm_exceptions import ConvergenceWarning\n",
    "warnings.simplefilter('ignore', ConvergenceWarning)\n",
    "%matplotlib inline\n",
    "plt.style.use('ggplot')"
   ]
  },
  {
   "cell_type": "code",
   "execution_count": 2,
   "id": "5569d3ec",
   "metadata": {},
   "outputs": [],
   "source": [
    "# with zipfile.ZipFile(\"Data/archive.zip\") as zip_ref:\n",
    "#     zip_ref.extractall(\"Data\")"
   ]
  },
  {
   "cell_type": "code",
   "execution_count": 3,
   "id": "e3de261e",
   "metadata": {},
   "outputs": [],
   "source": [
    "df1 = pd.read_csv('Data/sp500_companies.csv')\n",
    "df2 = pd.read_csv('Data/sp500_index.csv')\n",
    "df3 = pd.read_csv('Data/sp500_stocks.csv')\n",
    "dfg = pd.read_csv('Data/daily_gold_rate.csv')\n",
    "deth = pd.read_csv('Data/CBETHUSD.csv')\n",
    "dollar = pd.read_csv('Data/DTWEXBGS.csv')\n",
    "ppi = pd.read_csv('Data/WPU02850113.csv')"
   ]
  },
  {
   "cell_type": "markdown",
   "id": "6361f125",
   "metadata": {},
   "source": [
    "### Datasets "
   ]
  },
  {
   "cell_type": "markdown",
   "id": "0e7a2653",
   "metadata": {},
   "source": [
    "### Dataset #1"
   ]
  },
  {
   "cell_type": "code",
   "execution_count": 4,
   "id": "7e14fb9b",
   "metadata": {},
   "outputs": [
    {
     "data": {
      "text/html": [
       "<div>\n",
       "<style scoped>\n",
       "    .dataframe tbody tr th:only-of-type {\n",
       "        vertical-align: middle;\n",
       "    }\n",
       "\n",
       "    .dataframe tbody tr th {\n",
       "        vertical-align: top;\n",
       "    }\n",
       "\n",
       "    .dataframe thead th {\n",
       "        text-align: right;\n",
       "    }\n",
       "</style>\n",
       "<table border=\"1\" class=\"dataframe\">\n",
       "  <thead>\n",
       "    <tr style=\"text-align: right;\">\n",
       "      <th></th>\n",
       "      <th>Exchange</th>\n",
       "      <th>Symbol</th>\n",
       "      <th>Shortname</th>\n",
       "      <th>Longname</th>\n",
       "      <th>Sector</th>\n",
       "      <th>Industry</th>\n",
       "      <th>Currentprice</th>\n",
       "      <th>Marketcap</th>\n",
       "      <th>Ebitda</th>\n",
       "      <th>Revenuegrowth</th>\n",
       "      <th>City</th>\n",
       "      <th>State</th>\n",
       "      <th>Country</th>\n",
       "      <th>Fulltimeemployees</th>\n",
       "      <th>Longbusinesssummary</th>\n",
       "      <th>Weight</th>\n",
       "    </tr>\n",
       "  </thead>\n",
       "  <tbody>\n",
       "    <tr>\n",
       "      <th>0</th>\n",
       "      <td>NMS</td>\n",
       "      <td>AAPL</td>\n",
       "      <td>Apple Inc.</td>\n",
       "      <td>Apple Inc.</td>\n",
       "      <td>Technology</td>\n",
       "      <td>Consumer Electronics</td>\n",
       "      <td>149.70</td>\n",
       "      <td>2381442449408</td>\n",
       "      <td>1.305410e+11</td>\n",
       "      <td>0.081</td>\n",
       "      <td>Cupertino</td>\n",
       "      <td>CA</td>\n",
       "      <td>United States</td>\n",
       "      <td>164000.0</td>\n",
       "      <td>Apple Inc. designs, manufactures, and markets ...</td>\n",
       "      <td>0.067072</td>\n",
       "    </tr>\n",
       "    <tr>\n",
       "      <th>1</th>\n",
       "      <td>NMS</td>\n",
       "      <td>MSFT</td>\n",
       "      <td>Microsoft Corporation</td>\n",
       "      <td>Microsoft Corporation</td>\n",
       "      <td>Technology</td>\n",
       "      <td>Software—Infrastructure</td>\n",
       "      <td>247.11</td>\n",
       "      <td>1855296897024</td>\n",
       "      <td>9.798300e+10</td>\n",
       "      <td>0.124</td>\n",
       "      <td>Redmond</td>\n",
       "      <td>WA</td>\n",
       "      <td>United States</td>\n",
       "      <td>221000.0</td>\n",
       "      <td>Microsoft Corporation develops, licenses, and ...</td>\n",
       "      <td>0.052254</td>\n",
       "    </tr>\n",
       "    <tr>\n",
       "      <th>2</th>\n",
       "      <td>NMS</td>\n",
       "      <td>GOOGL</td>\n",
       "      <td>Alphabet Inc.</td>\n",
       "      <td>Alphabet Inc.</td>\n",
       "      <td>Communication Services</td>\n",
       "      <td>Internet Content &amp; Information</td>\n",
       "      <td>96.41</td>\n",
       "      <td>1249782136832</td>\n",
       "      <td>9.373300e+10</td>\n",
       "      <td>0.061</td>\n",
       "      <td>Mountain View</td>\n",
       "      <td>CA</td>\n",
       "      <td>United States</td>\n",
       "      <td>186779.0</td>\n",
       "      <td>Alphabet Inc. provides various products and pl...</td>\n",
       "      <td>0.035200</td>\n",
       "    </tr>\n",
       "    <tr>\n",
       "      <th>3</th>\n",
       "      <td>NMS</td>\n",
       "      <td>GOOG</td>\n",
       "      <td>Alphabet Inc.</td>\n",
       "      <td>Alphabet Inc.</td>\n",
       "      <td>Communication Services</td>\n",
       "      <td>Internet Content &amp; Information</td>\n",
       "      <td>96.73</td>\n",
       "      <td>1249780563968</td>\n",
       "      <td>9.373300e+10</td>\n",
       "      <td>0.061</td>\n",
       "      <td>Mountain View</td>\n",
       "      <td>CA</td>\n",
       "      <td>United States</td>\n",
       "      <td>186779.0</td>\n",
       "      <td>Alphabet Inc. provides various products and pl...</td>\n",
       "      <td>0.035200</td>\n",
       "    </tr>\n",
       "    <tr>\n",
       "      <th>4</th>\n",
       "      <td>NMS</td>\n",
       "      <td>AMZN</td>\n",
       "      <td>Amazon.com, Inc.</td>\n",
       "      <td>Amazon.com, Inc.</td>\n",
       "      <td>Consumer Cyclical</td>\n",
       "      <td>Internet Retail</td>\n",
       "      <td>100.79</td>\n",
       "      <td>1028229365760</td>\n",
       "      <td>5.154900e+10</td>\n",
       "      <td>0.147</td>\n",
       "      <td>Seattle</td>\n",
       "      <td>WA</td>\n",
       "      <td>United States</td>\n",
       "      <td>1544000.0</td>\n",
       "      <td>Amazon.com, Inc. engages in the retail sale of...</td>\n",
       "      <td>0.028960</td>\n",
       "    </tr>\n",
       "  </tbody>\n",
       "</table>\n",
       "</div>"
      ],
      "text/plain": [
       "  Exchange Symbol              Shortname               Longname  \\\n",
       "0      NMS   AAPL             Apple Inc.             Apple Inc.   \n",
       "1      NMS   MSFT  Microsoft Corporation  Microsoft Corporation   \n",
       "2      NMS  GOOGL          Alphabet Inc.          Alphabet Inc.   \n",
       "3      NMS   GOOG          Alphabet Inc.          Alphabet Inc.   \n",
       "4      NMS   AMZN       Amazon.com, Inc.       Amazon.com, Inc.   \n",
       "\n",
       "                   Sector                        Industry  Currentprice  \\\n",
       "0              Technology            Consumer Electronics        149.70   \n",
       "1              Technology         Software—Infrastructure        247.11   \n",
       "2  Communication Services  Internet Content & Information         96.41   \n",
       "3  Communication Services  Internet Content & Information         96.73   \n",
       "4       Consumer Cyclical                 Internet Retail        100.79   \n",
       "\n",
       "       Marketcap        Ebitda  Revenuegrowth           City State  \\\n",
       "0  2381442449408  1.305410e+11          0.081      Cupertino    CA   \n",
       "1  1855296897024  9.798300e+10          0.124        Redmond    WA   \n",
       "2  1249782136832  9.373300e+10          0.061  Mountain View    CA   \n",
       "3  1249780563968  9.373300e+10          0.061  Mountain View    CA   \n",
       "4  1028229365760  5.154900e+10          0.147        Seattle    WA   \n",
       "\n",
       "         Country  Fulltimeemployees  \\\n",
       "0  United States           164000.0   \n",
       "1  United States           221000.0   \n",
       "2  United States           186779.0   \n",
       "3  United States           186779.0   \n",
       "4  United States          1544000.0   \n",
       "\n",
       "                                 Longbusinesssummary    Weight  \n",
       "0  Apple Inc. designs, manufactures, and markets ...  0.067072  \n",
       "1  Microsoft Corporation develops, licenses, and ...  0.052254  \n",
       "2  Alphabet Inc. provides various products and pl...  0.035200  \n",
       "3  Alphabet Inc. provides various products and pl...  0.035200  \n",
       "4  Amazon.com, Inc. engages in the retail sale of...  0.028960  "
      ]
     },
     "execution_count": 4,
     "metadata": {},
     "output_type": "execute_result"
    }
   ],
   "source": [
    "df1.head()"
   ]
  },
  {
   "cell_type": "code",
   "execution_count": 5,
   "id": "a294d236",
   "metadata": {},
   "outputs": [
    {
     "data": {
      "text/html": [
       "<div>\n",
       "<style scoped>\n",
       "    .dataframe tbody tr th:only-of-type {\n",
       "        vertical-align: middle;\n",
       "    }\n",
       "\n",
       "    .dataframe tbody tr th {\n",
       "        vertical-align: top;\n",
       "    }\n",
       "\n",
       "    .dataframe thead th {\n",
       "        text-align: right;\n",
       "    }\n",
       "</style>\n",
       "<table border=\"1\" class=\"dataframe\">\n",
       "  <thead>\n",
       "    <tr style=\"text-align: right;\">\n",
       "      <th></th>\n",
       "      <th>Exchange</th>\n",
       "      <th>Symbol</th>\n",
       "      <th>Shortname</th>\n",
       "      <th>Longname</th>\n",
       "      <th>Sector</th>\n",
       "      <th>Industry</th>\n",
       "      <th>Currentprice</th>\n",
       "      <th>Marketcap</th>\n",
       "      <th>Ebitda</th>\n",
       "      <th>Revenuegrowth</th>\n",
       "      <th>City</th>\n",
       "      <th>State</th>\n",
       "      <th>Country</th>\n",
       "      <th>Fulltimeemployees</th>\n",
       "      <th>Longbusinesssummary</th>\n",
       "      <th>Weight</th>\n",
       "    </tr>\n",
       "  </thead>\n",
       "  <tbody>\n",
       "    <tr>\n",
       "      <th>11</th>\n",
       "      <td>NYQ</td>\n",
       "      <td>WMT</td>\n",
       "      <td>Walmart Inc.</td>\n",
       "      <td>Walmart Inc.</td>\n",
       "      <td>Consumer Defensive</td>\n",
       "      <td>Discount Stores</td>\n",
       "      <td>142.58</td>\n",
       "      <td>395499831296</td>\n",
       "      <td>3.458600e+10</td>\n",
       "      <td>0.084</td>\n",
       "      <td>Bentonville</td>\n",
       "      <td>AR</td>\n",
       "      <td>United States</td>\n",
       "      <td>2300000.0</td>\n",
       "      <td>Walmart Inc. engages in the operation of retai...</td>\n",
       "      <td>0.011139</td>\n",
       "    </tr>\n",
       "    <tr>\n",
       "      <th>13</th>\n",
       "      <td>NYQ</td>\n",
       "      <td>PG</td>\n",
       "      <td>Procter &amp; Gamble Company (The)</td>\n",
       "      <td>The Procter &amp; Gamble Company</td>\n",
       "      <td>Consumer Defensive</td>\n",
       "      <td>Household &amp; Personal Products</td>\n",
       "      <td>140.97</td>\n",
       "      <td>341140373504</td>\n",
       "      <td>2.136400e+10</td>\n",
       "      <td>0.013</td>\n",
       "      <td>Cincinnati</td>\n",
       "      <td>OH</td>\n",
       "      <td>United States</td>\n",
       "      <td>106000.0</td>\n",
       "      <td>The Procter &amp; Gamble Company provides branded ...</td>\n",
       "      <td>0.009608</td>\n",
       "    </tr>\n",
       "    <tr>\n",
       "      <th>20</th>\n",
       "      <td>NYQ</td>\n",
       "      <td>KO</td>\n",
       "      <td>Coca-Cola Company (The)</td>\n",
       "      <td>The Coca-Cola Company</td>\n",
       "      <td>Consumer Defensive</td>\n",
       "      <td>Beverages—Non-Alcoholic</td>\n",
       "      <td>61.32</td>\n",
       "      <td>264866824192</td>\n",
       "      <td>1.341400e+10</td>\n",
       "      <td>0.102</td>\n",
       "      <td>Atlanta</td>\n",
       "      <td>GA</td>\n",
       "      <td>United States</td>\n",
       "      <td>79000.0</td>\n",
       "      <td>The Coca-Cola Company, a beverage company, man...</td>\n",
       "      <td>0.007460</td>\n",
       "    </tr>\n",
       "    <tr>\n",
       "      <th>22</th>\n",
       "      <td>NMS</td>\n",
       "      <td>PEP</td>\n",
       "      <td>Pepsico, Inc.</td>\n",
       "      <td>PepsiCo, Inc.</td>\n",
       "      <td>Consumer Defensive</td>\n",
       "      <td>Beverages—Non-Alcoholic</td>\n",
       "      <td>178.05</td>\n",
       "      <td>246180839424</td>\n",
       "      <td>1.515600e+10</td>\n",
       "      <td>0.088</td>\n",
       "      <td>Purchase</td>\n",
       "      <td>NY</td>\n",
       "      <td>United States</td>\n",
       "      <td>309000.0</td>\n",
       "      <td>PepsiCo, Inc. manufactures, markets, distribut...</td>\n",
       "      <td>0.006934</td>\n",
       "    </tr>\n",
       "    <tr>\n",
       "      <th>23</th>\n",
       "      <td>NMS</td>\n",
       "      <td>COST</td>\n",
       "      <td>Costco Wholesale Corporation</td>\n",
       "      <td>Costco Wholesale Corporation</td>\n",
       "      <td>Consumer Defensive</td>\n",
       "      <td>Discount Stores</td>\n",
       "      <td>515.47</td>\n",
       "      <td>228575887360</td>\n",
       "      <td>9.693000e+09</td>\n",
       "      <td>0.150</td>\n",
       "      <td>Issaquah</td>\n",
       "      <td>WA</td>\n",
       "      <td>United States</td>\n",
       "      <td>304000.0</td>\n",
       "      <td>Costco Wholesale Corporation, together with it...</td>\n",
       "      <td>0.006438</td>\n",
       "    </tr>\n",
       "  </tbody>\n",
       "</table>\n",
       "</div>"
      ],
      "text/plain": [
       "   Exchange Symbol                       Shortname  \\\n",
       "11      NYQ    WMT                    Walmart Inc.   \n",
       "13      NYQ     PG  Procter & Gamble Company (The)   \n",
       "20      NYQ     KO         Coca-Cola Company (The)   \n",
       "22      NMS    PEP                   Pepsico, Inc.   \n",
       "23      NMS   COST    Costco Wholesale Corporation   \n",
       "\n",
       "                        Longname              Sector  \\\n",
       "11                  Walmart Inc.  Consumer Defensive   \n",
       "13  The Procter & Gamble Company  Consumer Defensive   \n",
       "20         The Coca-Cola Company  Consumer Defensive   \n",
       "22                 PepsiCo, Inc.  Consumer Defensive   \n",
       "23  Costco Wholesale Corporation  Consumer Defensive   \n",
       "\n",
       "                         Industry  Currentprice     Marketcap        Ebitda  \\\n",
       "11                Discount Stores        142.58  395499831296  3.458600e+10   \n",
       "13  Household & Personal Products        140.97  341140373504  2.136400e+10   \n",
       "20        Beverages—Non-Alcoholic         61.32  264866824192  1.341400e+10   \n",
       "22        Beverages—Non-Alcoholic        178.05  246180839424  1.515600e+10   \n",
       "23                Discount Stores        515.47  228575887360  9.693000e+09   \n",
       "\n",
       "    Revenuegrowth         City State        Country  Fulltimeemployees  \\\n",
       "11          0.084  Bentonville    AR  United States          2300000.0   \n",
       "13          0.013   Cincinnati    OH  United States           106000.0   \n",
       "20          0.102      Atlanta    GA  United States            79000.0   \n",
       "22          0.088     Purchase    NY  United States           309000.0   \n",
       "23          0.150     Issaquah    WA  United States           304000.0   \n",
       "\n",
       "                                  Longbusinesssummary    Weight  \n",
       "11  Walmart Inc. engages in the operation of retai...  0.011139  \n",
       "13  The Procter & Gamble Company provides branded ...  0.009608  \n",
       "20  The Coca-Cola Company, a beverage company, man...  0.007460  \n",
       "22  PepsiCo, Inc. manufactures, markets, distribut...  0.006934  \n",
       "23  Costco Wholesale Corporation, together with it...  0.006438  "
      ]
     },
     "execution_count": 5,
     "metadata": {},
     "output_type": "execute_result"
    }
   ],
   "source": [
    "df1 = df1[df1['Sector'] == 'Consumer Defensive']\n",
    "df1.head()"
   ]
  },
  {
   "cell_type": "markdown",
   "id": "f44ac9f3",
   "metadata": {},
   "source": [
    "### Dataset #2"
   ]
  },
  {
   "cell_type": "code",
   "execution_count": 6,
   "id": "a70666f8",
   "metadata": {},
   "outputs": [
    {
     "name": "stdout",
     "output_type": "stream",
     "text": [
      "<class 'pandas.core.frame.DataFrame'>\n",
      "RangeIndex: 2519 entries, 0 to 2518\n",
      "Data columns (total 2 columns):\n",
      " #   Column  Non-Null Count  Dtype  \n",
      "---  ------  --------------  -----  \n",
      " 0   Date    2519 non-null   object \n",
      " 1   S&P500  2519 non-null   float64\n",
      "dtypes: float64(1), object(1)\n",
      "memory usage: 39.5+ KB\n"
     ]
    }
   ],
   "source": [
    "df2.info()"
   ]
  },
  {
   "cell_type": "code",
   "execution_count": 7,
   "id": "f0dae194",
   "metadata": {},
   "outputs": [
    {
     "data": {
      "text/html": [
       "<div>\n",
       "<style scoped>\n",
       "    .dataframe tbody tr th:only-of-type {\n",
       "        vertical-align: middle;\n",
       "    }\n",
       "\n",
       "    .dataframe tbody tr th {\n",
       "        vertical-align: top;\n",
       "    }\n",
       "\n",
       "    .dataframe thead th {\n",
       "        text-align: right;\n",
       "    }\n",
       "</style>\n",
       "<table border=\"1\" class=\"dataframe\">\n",
       "  <thead>\n",
       "    <tr style=\"text-align: right;\">\n",
       "      <th></th>\n",
       "      <th>Date</th>\n",
       "      <th>S&amp;P500</th>\n",
       "    </tr>\n",
       "  </thead>\n",
       "  <tbody>\n",
       "    <tr>\n",
       "      <th>0</th>\n",
       "      <td>2012-11-12</td>\n",
       "      <td>1380.03</td>\n",
       "    </tr>\n",
       "    <tr>\n",
       "      <th>1</th>\n",
       "      <td>2012-11-13</td>\n",
       "      <td>1374.53</td>\n",
       "    </tr>\n",
       "    <tr>\n",
       "      <th>2</th>\n",
       "      <td>2012-11-14</td>\n",
       "      <td>1355.49</td>\n",
       "    </tr>\n",
       "    <tr>\n",
       "      <th>3</th>\n",
       "      <td>2012-11-15</td>\n",
       "      <td>1353.33</td>\n",
       "    </tr>\n",
       "    <tr>\n",
       "      <th>4</th>\n",
       "      <td>2012-11-16</td>\n",
       "      <td>1359.88</td>\n",
       "    </tr>\n",
       "  </tbody>\n",
       "</table>\n",
       "</div>"
      ],
      "text/plain": [
       "         Date   S&P500\n",
       "0  2012-11-12  1380.03\n",
       "1  2012-11-13  1374.53\n",
       "2  2012-11-14  1355.49\n",
       "3  2012-11-15  1353.33\n",
       "4  2012-11-16  1359.88"
      ]
     },
     "execution_count": 7,
     "metadata": {},
     "output_type": "execute_result"
    }
   ],
   "source": [
    "df2.head()"
   ]
  },
  {
   "cell_type": "code",
   "execution_count": 8,
   "id": "872956a9",
   "metadata": {},
   "outputs": [
    {
     "data": {
      "text/plain": [
       "(2519, 2)"
      ]
     },
     "execution_count": 8,
     "metadata": {},
     "output_type": "execute_result"
    }
   ],
   "source": [
    "df2.shape"
   ]
  },
  {
   "cell_type": "code",
   "execution_count": 9,
   "id": "de404587",
   "metadata": {},
   "outputs": [],
   "source": [
    "df2['Date'] = pd.to_datetime(df2['Date'],infer_datetime_format=True)"
   ]
  },
  {
   "cell_type": "code",
   "execution_count": 10,
   "id": "cd14277e",
   "metadata": {},
   "outputs": [],
   "source": [
    "# df2=df2[df2['Date'] >= '2019-01-1']"
   ]
  },
  {
   "cell_type": "code",
   "execution_count": 11,
   "id": "36d35574",
   "metadata": {},
   "outputs": [],
   "source": [
    "df2 = df2.rename(columns={\"S&P500\":\"SPClose\"})"
   ]
  },
  {
   "cell_type": "code",
   "execution_count": 12,
   "id": "b6b9e5d9",
   "metadata": {},
   "outputs": [],
   "source": [
    "df2['Symbol'] = \"S&P500\""
   ]
  },
  {
   "cell_type": "code",
   "execution_count": 13,
   "id": "65c5d9a2",
   "metadata": {},
   "outputs": [
    {
     "data": {
      "text/html": [
       "<div>\n",
       "<style scoped>\n",
       "    .dataframe tbody tr th:only-of-type {\n",
       "        vertical-align: middle;\n",
       "    }\n",
       "\n",
       "    .dataframe tbody tr th {\n",
       "        vertical-align: top;\n",
       "    }\n",
       "\n",
       "    .dataframe thead th {\n",
       "        text-align: right;\n",
       "    }\n",
       "</style>\n",
       "<table border=\"1\" class=\"dataframe\">\n",
       "  <thead>\n",
       "    <tr style=\"text-align: right;\">\n",
       "      <th></th>\n",
       "      <th>Date</th>\n",
       "      <th>SPClose</th>\n",
       "      <th>Symbol</th>\n",
       "    </tr>\n",
       "  </thead>\n",
       "  <tbody>\n",
       "    <tr>\n",
       "      <th>0</th>\n",
       "      <td>2012-11-12</td>\n",
       "      <td>1380.03</td>\n",
       "      <td>S&amp;P500</td>\n",
       "    </tr>\n",
       "    <tr>\n",
       "      <th>1</th>\n",
       "      <td>2012-11-13</td>\n",
       "      <td>1374.53</td>\n",
       "      <td>S&amp;P500</td>\n",
       "    </tr>\n",
       "    <tr>\n",
       "      <th>2</th>\n",
       "      <td>2012-11-14</td>\n",
       "      <td>1355.49</td>\n",
       "      <td>S&amp;P500</td>\n",
       "    </tr>\n",
       "    <tr>\n",
       "      <th>3</th>\n",
       "      <td>2012-11-15</td>\n",
       "      <td>1353.33</td>\n",
       "      <td>S&amp;P500</td>\n",
       "    </tr>\n",
       "    <tr>\n",
       "      <th>4</th>\n",
       "      <td>2012-11-16</td>\n",
       "      <td>1359.88</td>\n",
       "      <td>S&amp;P500</td>\n",
       "    </tr>\n",
       "  </tbody>\n",
       "</table>\n",
       "</div>"
      ],
      "text/plain": [
       "        Date  SPClose  Symbol\n",
       "0 2012-11-12  1380.03  S&P500\n",
       "1 2012-11-13  1374.53  S&P500\n",
       "2 2012-11-14  1355.49  S&P500\n",
       "3 2012-11-15  1353.33  S&P500\n",
       "4 2012-11-16  1359.88  S&P500"
      ]
     },
     "execution_count": 13,
     "metadata": {},
     "output_type": "execute_result"
    }
   ],
   "source": [
    "df2.head()"
   ]
  },
  {
   "cell_type": "code",
   "execution_count": 14,
   "id": "c359903c",
   "metadata": {},
   "outputs": [
    {
     "data": {
      "text/plain": [
       "Date       0\n",
       "SPClose    0\n",
       "Symbol     0\n",
       "dtype: int64"
      ]
     },
     "execution_count": 14,
     "metadata": {},
     "output_type": "execute_result"
    }
   ],
   "source": [
    "df2.isna().sum()"
   ]
  },
  {
   "cell_type": "markdown",
   "id": "3d4cbc41",
   "metadata": {},
   "source": [
    "### Dataset #3"
   ]
  },
  {
   "cell_type": "code",
   "execution_count": 15,
   "id": "0213c0fd",
   "metadata": {},
   "outputs": [
    {
     "name": "stdout",
     "output_type": "stream",
     "text": [
      "<class 'pandas.core.frame.DataFrame'>\n",
      "RangeIndex: 1629217 entries, 0 to 1629216\n",
      "Data columns (total 8 columns):\n",
      " #   Column     Non-Null Count    Dtype  \n",
      "---  ------     --------------    -----  \n",
      " 0   Date       1629217 non-null  object \n",
      " 1   Symbol     1629217 non-null  object \n",
      " 2   Adj Close  1560290 non-null  float64\n",
      " 3   Close      1560290 non-null  float64\n",
      " 4   High       1560290 non-null  float64\n",
      " 5   Low        1560290 non-null  float64\n",
      " 6   Open       1560290 non-null  float64\n",
      " 7   Volume     1560290 non-null  float64\n",
      "dtypes: float64(6), object(2)\n",
      "memory usage: 99.4+ MB\n"
     ]
    }
   ],
   "source": [
    "df3.info()"
   ]
  },
  {
   "cell_type": "code",
   "execution_count": 16,
   "id": "c79fe1d7",
   "metadata": {},
   "outputs": [],
   "source": [
    "df3['Date'] = pd.to_datetime(df3['Date'])"
   ]
  },
  {
   "cell_type": "code",
   "execution_count": 17,
   "id": "621d6383",
   "metadata": {},
   "outputs": [],
   "source": [
    "df3 = df3.drop(['Adj Close', 'High', 'Low', 'Open', 'Volume'], axis=1)"
   ]
  },
  {
   "cell_type": "code",
   "execution_count": 18,
   "id": "63eaea20",
   "metadata": {},
   "outputs": [
    {
     "data": {
      "text/html": [
       "<div>\n",
       "<style scoped>\n",
       "    .dataframe tbody tr th:only-of-type {\n",
       "        vertical-align: middle;\n",
       "    }\n",
       "\n",
       "    .dataframe tbody tr th {\n",
       "        vertical-align: top;\n",
       "    }\n",
       "\n",
       "    .dataframe thead th {\n",
       "        text-align: right;\n",
       "    }\n",
       "</style>\n",
       "<table border=\"1\" class=\"dataframe\">\n",
       "  <thead>\n",
       "    <tr style=\"text-align: right;\">\n",
       "      <th></th>\n",
       "      <th>Date</th>\n",
       "      <th>Symbol</th>\n",
       "      <th>Close</th>\n",
       "    </tr>\n",
       "  </thead>\n",
       "  <tbody>\n",
       "    <tr>\n",
       "      <th>0</th>\n",
       "      <td>2010-01-04</td>\n",
       "      <td>MMM</td>\n",
       "      <td>83.019997</td>\n",
       "    </tr>\n",
       "    <tr>\n",
       "      <th>1</th>\n",
       "      <td>2010-01-05</td>\n",
       "      <td>MMM</td>\n",
       "      <td>82.500000</td>\n",
       "    </tr>\n",
       "    <tr>\n",
       "      <th>2</th>\n",
       "      <td>2010-01-06</td>\n",
       "      <td>MMM</td>\n",
       "      <td>83.669998</td>\n",
       "    </tr>\n",
       "    <tr>\n",
       "      <th>3</th>\n",
       "      <td>2010-01-07</td>\n",
       "      <td>MMM</td>\n",
       "      <td>83.730003</td>\n",
       "    </tr>\n",
       "    <tr>\n",
       "      <th>4</th>\n",
       "      <td>2010-01-08</td>\n",
       "      <td>MMM</td>\n",
       "      <td>84.320000</td>\n",
       "    </tr>\n",
       "  </tbody>\n",
       "</table>\n",
       "</div>"
      ],
      "text/plain": [
       "        Date Symbol      Close\n",
       "0 2010-01-04    MMM  83.019997\n",
       "1 2010-01-05    MMM  82.500000\n",
       "2 2010-01-06    MMM  83.669998\n",
       "3 2010-01-07    MMM  83.730003\n",
       "4 2010-01-08    MMM  84.320000"
      ]
     },
     "execution_count": 18,
     "metadata": {},
     "output_type": "execute_result"
    }
   ],
   "source": [
    "df3.head()"
   ]
  },
  {
   "cell_type": "code",
   "execution_count": 19,
   "id": "11590625",
   "metadata": {},
   "outputs": [],
   "source": [
    "df3 = df3.loc[df3['Symbol'].isin(['PEP', 'KO', 'PG', 'WMT', 'COST'])]"
   ]
  },
  {
   "cell_type": "code",
   "execution_count": 20,
   "id": "3186b161",
   "metadata": {},
   "outputs": [
    {
     "data": {
      "text/plain": [
       "Date      0\n",
       "Symbol    0\n",
       "Close     0\n",
       "dtype: int64"
      ]
     },
     "execution_count": 20,
     "metadata": {},
     "output_type": "execute_result"
    }
   ],
   "source": [
    "df3.isna().sum()"
   ]
  },
  {
   "cell_type": "code",
   "execution_count": 21,
   "id": "38b340ad",
   "metadata": {},
   "outputs": [],
   "source": [
    "df3['Date'] = pd.to_datetime(df3['Date'],infer_datetime_format=True)"
   ]
  },
  {
   "cell_type": "code",
   "execution_count": 22,
   "id": "87cb5a13",
   "metadata": {},
   "outputs": [],
   "source": [
    "# df3=df3[df3['Date'] >= '2019-01-1']"
   ]
  },
  {
   "cell_type": "code",
   "execution_count": 23,
   "id": "2e7db4a8",
   "metadata": {},
   "outputs": [
    {
     "data": {
      "text/html": [
       "<div>\n",
       "<style scoped>\n",
       "    .dataframe tbody tr th:only-of-type {\n",
       "        vertical-align: middle;\n",
       "    }\n",
       "\n",
       "    .dataframe tbody tr th {\n",
       "        vertical-align: top;\n",
       "    }\n",
       "\n",
       "    .dataframe thead th {\n",
       "        text-align: right;\n",
       "    }\n",
       "</style>\n",
       "<table border=\"1\" class=\"dataframe\">\n",
       "  <thead>\n",
       "    <tr style=\"text-align: right;\">\n",
       "      <th></th>\n",
       "      <th>Date</th>\n",
       "      <th>Symbol</th>\n",
       "      <th>Close</th>\n",
       "    </tr>\n",
       "  </thead>\n",
       "  <tbody>\n",
       "    <tr>\n",
       "      <th>382202</th>\n",
       "      <td>2010-01-04</td>\n",
       "      <td>KO</td>\n",
       "      <td>28.520000</td>\n",
       "    </tr>\n",
       "    <tr>\n",
       "      <th>382203</th>\n",
       "      <td>2010-01-05</td>\n",
       "      <td>KO</td>\n",
       "      <td>28.174999</td>\n",
       "    </tr>\n",
       "    <tr>\n",
       "      <th>382204</th>\n",
       "      <td>2010-01-06</td>\n",
       "      <td>KO</td>\n",
       "      <td>28.165001</td>\n",
       "    </tr>\n",
       "    <tr>\n",
       "      <th>382205</th>\n",
       "      <td>2010-01-07</td>\n",
       "      <td>KO</td>\n",
       "      <td>28.094999</td>\n",
       "    </tr>\n",
       "    <tr>\n",
       "      <th>382206</th>\n",
       "      <td>2010-01-08</td>\n",
       "      <td>KO</td>\n",
       "      <td>27.575001</td>\n",
       "    </tr>\n",
       "  </tbody>\n",
       "</table>\n",
       "</div>"
      ],
      "text/plain": [
       "             Date Symbol      Close\n",
       "382202 2010-01-04     KO  28.520000\n",
       "382203 2010-01-05     KO  28.174999\n",
       "382204 2010-01-06     KO  28.165001\n",
       "382205 2010-01-07     KO  28.094999\n",
       "382206 2010-01-08     KO  27.575001"
      ]
     },
     "execution_count": 23,
     "metadata": {},
     "output_type": "execute_result"
    }
   ],
   "source": [
    "df3.head()"
   ]
  },
  {
   "cell_type": "markdown",
   "id": "d199e331",
   "metadata": {},
   "source": [
    "### Dfg "
   ]
  },
  {
   "cell_type": "code",
   "execution_count": 24,
   "id": "85ce6718",
   "metadata": {},
   "outputs": [
    {
     "name": "stdout",
     "output_type": "stream",
     "text": [
      "<class 'pandas.core.frame.DataFrame'>\n",
      "RangeIndex: 9824 entries, 0 to 9823\n",
      "Data columns (total 7 columns):\n",
      " #   Column  Non-Null Count  Dtype  \n",
      "---  ------  --------------  -----  \n",
      " 0   Date    9824 non-null   object \n",
      " 1   USD     9824 non-null   float64\n",
      " 2   EUR     9824 non-null   float64\n",
      " 3   GBP     9824 non-null   float64\n",
      " 4   INR     9824 non-null   float64\n",
      " 5   AED     9824 non-null   float64\n",
      " 6   CNY     9820 non-null   float64\n",
      "dtypes: float64(6), object(1)\n",
      "memory usage: 537.4+ KB\n"
     ]
    }
   ],
   "source": [
    "dfg.info()"
   ]
  },
  {
   "cell_type": "code",
   "execution_count": 25,
   "id": "2be34764",
   "metadata": {},
   "outputs": [],
   "source": [
    "dfg = dfg.drop(['EUR','GBP','INR','AED','CNY'],axis=1)"
   ]
  },
  {
   "cell_type": "code",
   "execution_count": 26,
   "id": "e455a768",
   "metadata": {},
   "outputs": [],
   "source": [
    "dfg = dfg.rename(columns={\"USD\":\"Gold\"})"
   ]
  },
  {
   "cell_type": "code",
   "execution_count": 27,
   "id": "f67ea2f5",
   "metadata": {},
   "outputs": [
    {
     "data": {
      "text/plain": [
       "Date    0\n",
       "Gold    0\n",
       "dtype: int64"
      ]
     },
     "execution_count": 27,
     "metadata": {},
     "output_type": "execute_result"
    }
   ],
   "source": [
    "dfg.isna().sum()"
   ]
  },
  {
   "cell_type": "code",
   "execution_count": 28,
   "id": "a7a3f4ab",
   "metadata": {},
   "outputs": [],
   "source": [
    "dfg['Date'] = pd.to_datetime(dfg['Date'],infer_datetime_format=True)"
   ]
  },
  {
   "cell_type": "code",
   "execution_count": 29,
   "id": "9dec0d5c",
   "metadata": {},
   "outputs": [],
   "source": [
    "# dfg=dfg[dfg['Date'] >= '2019-01-1']"
   ]
  },
  {
   "cell_type": "code",
   "execution_count": 30,
   "id": "ffa549f3",
   "metadata": {},
   "outputs": [
    {
     "data": {
      "text/html": [
       "<div>\n",
       "<style scoped>\n",
       "    .dataframe tbody tr th:only-of-type {\n",
       "        vertical-align: middle;\n",
       "    }\n",
       "\n",
       "    .dataframe tbody tr th {\n",
       "        vertical-align: top;\n",
       "    }\n",
       "\n",
       "    .dataframe thead th {\n",
       "        text-align: right;\n",
       "    }\n",
       "</style>\n",
       "<table border=\"1\" class=\"dataframe\">\n",
       "  <thead>\n",
       "    <tr style=\"text-align: right;\">\n",
       "      <th></th>\n",
       "      <th>Date</th>\n",
       "      <th>Gold</th>\n",
       "    </tr>\n",
       "  </thead>\n",
       "  <tbody>\n",
       "    <tr>\n",
       "      <th>0</th>\n",
       "      <td>1985-01-01</td>\n",
       "      <td>308.30</td>\n",
       "    </tr>\n",
       "    <tr>\n",
       "      <th>1</th>\n",
       "      <td>1985-01-02</td>\n",
       "      <td>305.50</td>\n",
       "    </tr>\n",
       "    <tr>\n",
       "      <th>2</th>\n",
       "      <td>1985-01-03</td>\n",
       "      <td>302.30</td>\n",
       "    </tr>\n",
       "    <tr>\n",
       "      <th>3</th>\n",
       "      <td>1985-01-04</td>\n",
       "      <td>303.15</td>\n",
       "    </tr>\n",
       "    <tr>\n",
       "      <th>4</th>\n",
       "      <td>1985-01-07</td>\n",
       "      <td>298.25</td>\n",
       "    </tr>\n",
       "  </tbody>\n",
       "</table>\n",
       "</div>"
      ],
      "text/plain": [
       "        Date    Gold\n",
       "0 1985-01-01  308.30\n",
       "1 1985-01-02  305.50\n",
       "2 1985-01-03  302.30\n",
       "3 1985-01-04  303.15\n",
       "4 1985-01-07  298.25"
      ]
     },
     "execution_count": 30,
     "metadata": {},
     "output_type": "execute_result"
    }
   ],
   "source": [
    "dfg.head()"
   ]
  },
  {
   "cell_type": "code",
   "execution_count": 31,
   "id": "842ae2e1",
   "metadata": {},
   "outputs": [
    {
     "name": "stdout",
     "output_type": "stream",
     "text": [
      "<class 'pandas.core.frame.DataFrame'>\n",
      "RangeIndex: 9824 entries, 0 to 9823\n",
      "Data columns (total 2 columns):\n",
      " #   Column  Non-Null Count  Dtype         \n",
      "---  ------  --------------  -----         \n",
      " 0   Date    9824 non-null   datetime64[ns]\n",
      " 1   Gold    9824 non-null   float64       \n",
      "dtypes: datetime64[ns](1), float64(1)\n",
      "memory usage: 153.6 KB\n"
     ]
    }
   ],
   "source": [
    "dfg.info()"
   ]
  },
  {
   "cell_type": "markdown",
   "id": "15ace464",
   "metadata": {},
   "source": [
    "### Deth"
   ]
  },
  {
   "cell_type": "code",
   "execution_count": 32,
   "id": "77f6afa0",
   "metadata": {},
   "outputs": [
    {
     "name": "stdout",
     "output_type": "stream",
     "text": [
      "<class 'pandas.core.frame.DataFrame'>\n",
      "RangeIndex: 1827 entries, 0 to 1826\n",
      "Data columns (total 2 columns):\n",
      " #   Column    Non-Null Count  Dtype \n",
      "---  ------    --------------  ----- \n",
      " 0   DATE      1827 non-null   object\n",
      " 1   CBETHUSD  1827 non-null   object\n",
      "dtypes: object(2)\n",
      "memory usage: 28.7+ KB\n"
     ]
    }
   ],
   "source": [
    "deth.info()"
   ]
  },
  {
   "cell_type": "code",
   "execution_count": 33,
   "id": "14392767",
   "metadata": {},
   "outputs": [
    {
     "data": {
      "text/plain": [
       "DATE        0\n",
       "CBETHUSD    0\n",
       "dtype: int64"
      ]
     },
     "execution_count": 33,
     "metadata": {},
     "output_type": "execute_result"
    }
   ],
   "source": [
    "deth.isna().sum()"
   ]
  },
  {
   "cell_type": "code",
   "execution_count": 34,
   "id": "d4bbafde",
   "metadata": {},
   "outputs": [],
   "source": [
    "deth = deth.rename(columns={\"DATE\":\"Date\",\"CBETHUSD\":\"Ether\"})"
   ]
  },
  {
   "cell_type": "code",
   "execution_count": 35,
   "id": "81a299ac",
   "metadata": {},
   "outputs": [],
   "source": [
    "deth['Date'] = pd.to_datetime(deth['Date'],infer_datetime_format=True)"
   ]
  },
  {
   "cell_type": "code",
   "execution_count": 36,
   "id": "ba736d33",
   "metadata": {},
   "outputs": [],
   "source": [
    "# deth=deth[deth['Date'] >= '2019-01-1']"
   ]
  },
  {
   "cell_type": "code",
   "execution_count": 37,
   "id": "f020bce4",
   "metadata": {},
   "outputs": [
    {
     "data": {
      "text/html": [
       "<div>\n",
       "<style scoped>\n",
       "    .dataframe tbody tr th:only-of-type {\n",
       "        vertical-align: middle;\n",
       "    }\n",
       "\n",
       "    .dataframe tbody tr th {\n",
       "        vertical-align: top;\n",
       "    }\n",
       "\n",
       "    .dataframe thead th {\n",
       "        text-align: right;\n",
       "    }\n",
       "</style>\n",
       "<table border=\"1\" class=\"dataframe\">\n",
       "  <thead>\n",
       "    <tr style=\"text-align: right;\">\n",
       "      <th></th>\n",
       "      <th>Date</th>\n",
       "      <th>Ether</th>\n",
       "    </tr>\n",
       "  </thead>\n",
       "  <tbody>\n",
       "    <tr>\n",
       "      <th>0</th>\n",
       "      <td>2017-11-22</td>\n",
       "      <td>381.73</td>\n",
       "    </tr>\n",
       "    <tr>\n",
       "      <th>1</th>\n",
       "      <td>2017-11-23</td>\n",
       "      <td>406.61</td>\n",
       "    </tr>\n",
       "    <tr>\n",
       "      <th>2</th>\n",
       "      <td>2017-11-24</td>\n",
       "      <td>470.98</td>\n",
       "    </tr>\n",
       "    <tr>\n",
       "      <th>3</th>\n",
       "      <td>2017-11-25</td>\n",
       "      <td>466.77</td>\n",
       "    </tr>\n",
       "    <tr>\n",
       "      <th>4</th>\n",
       "      <td>2017-11-26</td>\n",
       "      <td>473.99</td>\n",
       "    </tr>\n",
       "  </tbody>\n",
       "</table>\n",
       "</div>"
      ],
      "text/plain": [
       "        Date   Ether\n",
       "0 2017-11-22  381.73\n",
       "1 2017-11-23  406.61\n",
       "2 2017-11-24  470.98\n",
       "3 2017-11-25  466.77\n",
       "4 2017-11-26  473.99"
      ]
     },
     "execution_count": 37,
     "metadata": {},
     "output_type": "execute_result"
    }
   ],
   "source": [
    "deth.head()"
   ]
  },
  {
   "cell_type": "markdown",
   "id": "79b46f29",
   "metadata": {},
   "source": [
    "### Dollar"
   ]
  },
  {
   "cell_type": "code",
   "execution_count": 38,
   "id": "97f6128d",
   "metadata": {},
   "outputs": [
    {
     "name": "stdout",
     "output_type": "stream",
     "text": [
      "<class 'pandas.core.frame.DataFrame'>\n",
      "RangeIndex: 1305 entries, 0 to 1304\n",
      "Data columns (total 2 columns):\n",
      " #   Column    Non-Null Count  Dtype \n",
      "---  ------    --------------  ----- \n",
      " 0   DATE      1305 non-null   object\n",
      " 1   DTWEXBGS  1305 non-null   object\n",
      "dtypes: object(2)\n",
      "memory usage: 20.5+ KB\n"
     ]
    }
   ],
   "source": [
    "dollar.info()"
   ]
  },
  {
   "cell_type": "code",
   "execution_count": 39,
   "id": "4c9bedcd",
   "metadata": {},
   "outputs": [
    {
     "data": {
      "text/plain": [
       "DATE        0\n",
       "DTWEXBGS    0\n",
       "dtype: int64"
      ]
     },
     "execution_count": 39,
     "metadata": {},
     "output_type": "execute_result"
    }
   ],
   "source": [
    "dollar.isna().sum()"
   ]
  },
  {
   "cell_type": "code",
   "execution_count": 40,
   "id": "91884e27",
   "metadata": {},
   "outputs": [],
   "source": [
    "dollar = dollar.rename(columns={\"DATE\":\"Date\", \"DTWEXBGS\":\"USD\"})"
   ]
  },
  {
   "cell_type": "code",
   "execution_count": 41,
   "id": "ca781f62",
   "metadata": {},
   "outputs": [],
   "source": [
    "dollar['Date'] = pd.to_datetime(dollar['Date'],infer_datetime_format=True)"
   ]
  },
  {
   "cell_type": "code",
   "execution_count": 42,
   "id": "54999e3c",
   "metadata": {},
   "outputs": [],
   "source": [
    "# dollar=dollar[dollar['Date'] >= '2019-01-1']"
   ]
  },
  {
   "cell_type": "code",
   "execution_count": 43,
   "id": "0b66f04b",
   "metadata": {},
   "outputs": [
    {
     "data": {
      "text/html": [
       "<div>\n",
       "<style scoped>\n",
       "    .dataframe tbody tr th:only-of-type {\n",
       "        vertical-align: middle;\n",
       "    }\n",
       "\n",
       "    .dataframe tbody tr th {\n",
       "        vertical-align: top;\n",
       "    }\n",
       "\n",
       "    .dataframe thead th {\n",
       "        text-align: right;\n",
       "    }\n",
       "</style>\n",
       "<table border=\"1\" class=\"dataframe\">\n",
       "  <thead>\n",
       "    <tr style=\"text-align: right;\">\n",
       "      <th></th>\n",
       "      <th>Date</th>\n",
       "      <th>USD</th>\n",
       "    </tr>\n",
       "  </thead>\n",
       "  <tbody>\n",
       "    <tr>\n",
       "      <th>0</th>\n",
       "      <td>2017-11-20</td>\n",
       "      <td>111.261</td>\n",
       "    </tr>\n",
       "    <tr>\n",
       "      <th>1</th>\n",
       "      <td>2017-11-21</td>\n",
       "      <td>110.9836</td>\n",
       "    </tr>\n",
       "    <tr>\n",
       "      <th>2</th>\n",
       "      <td>2017-11-22</td>\n",
       "      <td>110.5642</td>\n",
       "    </tr>\n",
       "    <tr>\n",
       "      <th>3</th>\n",
       "      <td>2017-11-23</td>\n",
       "      <td>.</td>\n",
       "    </tr>\n",
       "    <tr>\n",
       "      <th>4</th>\n",
       "      <td>2017-11-24</td>\n",
       "      <td>110.0266</td>\n",
       "    </tr>\n",
       "  </tbody>\n",
       "</table>\n",
       "</div>"
      ],
      "text/plain": [
       "        Date       USD\n",
       "0 2017-11-20   111.261\n",
       "1 2017-11-21  110.9836\n",
       "2 2017-11-22  110.5642\n",
       "3 2017-11-23         .\n",
       "4 2017-11-24  110.0266"
      ]
     },
     "execution_count": 43,
     "metadata": {},
     "output_type": "execute_result"
    }
   ],
   "source": [
    "dollar.head()"
   ]
  },
  {
   "cell_type": "code",
   "execution_count": 44,
   "id": "50cdbdc2",
   "metadata": {},
   "outputs": [
    {
     "data": {
      "text/html": [
       "<div>\n",
       "<style scoped>\n",
       "    .dataframe tbody tr th:only-of-type {\n",
       "        vertical-align: middle;\n",
       "    }\n",
       "\n",
       "    .dataframe tbody tr th {\n",
       "        vertical-align: top;\n",
       "    }\n",
       "\n",
       "    .dataframe thead th {\n",
       "        text-align: right;\n",
       "    }\n",
       "</style>\n",
       "<table border=\"1\" class=\"dataframe\">\n",
       "  <thead>\n",
       "    <tr style=\"text-align: right;\">\n",
       "      <th></th>\n",
       "      <th>Date</th>\n",
       "      <th>USD</th>\n",
       "    </tr>\n",
       "  </thead>\n",
       "  <tbody>\n",
       "    <tr>\n",
       "      <th>1300</th>\n",
       "      <td>2022-11-14</td>\n",
       "      <td>123.5788</td>\n",
       "    </tr>\n",
       "    <tr>\n",
       "      <th>1301</th>\n",
       "      <td>2022-11-15</td>\n",
       "      <td>123.1759</td>\n",
       "    </tr>\n",
       "    <tr>\n",
       "      <th>1302</th>\n",
       "      <td>2022-11-16</td>\n",
       "      <td>123.4178</td>\n",
       "    </tr>\n",
       "    <tr>\n",
       "      <th>1303</th>\n",
       "      <td>2022-11-17</td>\n",
       "      <td>124.1229</td>\n",
       "    </tr>\n",
       "    <tr>\n",
       "      <th>1304</th>\n",
       "      <td>2022-11-18</td>\n",
       "      <td>123.9828</td>\n",
       "    </tr>\n",
       "  </tbody>\n",
       "</table>\n",
       "</div>"
      ],
      "text/plain": [
       "           Date       USD\n",
       "1300 2022-11-14  123.5788\n",
       "1301 2022-11-15  123.1759\n",
       "1302 2022-11-16  123.4178\n",
       "1303 2022-11-17  124.1229\n",
       "1304 2022-11-18  123.9828"
      ]
     },
     "execution_count": 44,
     "metadata": {},
     "output_type": "execute_result"
    }
   ],
   "source": [
    "dollar.tail()"
   ]
  },
  {
   "cell_type": "markdown",
   "id": "66651af6",
   "metadata": {},
   "source": [
    "### PPI "
   ]
  },
  {
   "cell_type": "code",
   "execution_count": 45,
   "id": "9e19b701",
   "metadata": {},
   "outputs": [
    {
     "name": "stdout",
     "output_type": "stream",
     "text": [
      "<class 'pandas.core.frame.DataFrame'>\n",
      "RangeIndex: 479 entries, 0 to 478\n",
      "Data columns (total 2 columns):\n",
      " #   Column       Non-Null Count  Dtype  \n",
      "---  ------       --------------  -----  \n",
      " 0   DATE         479 non-null    object \n",
      " 1   WPU02850113  479 non-null    float64\n",
      "dtypes: float64(1), object(1)\n",
      "memory usage: 7.6+ KB\n"
     ]
    }
   ],
   "source": [
    "ppi.info()"
   ]
  },
  {
   "cell_type": "code",
   "execution_count": 46,
   "id": "a22f792a",
   "metadata": {},
   "outputs": [
    {
     "data": {
      "text/plain": [
       "DATE           0\n",
       "WPU02850113    0\n",
       "dtype: int64"
      ]
     },
     "execution_count": 46,
     "metadata": {},
     "output_type": "execute_result"
    }
   ],
   "source": [
    "ppi.isna().sum()"
   ]
  },
  {
   "cell_type": "code",
   "execution_count": 47,
   "id": "2e2262cb",
   "metadata": {},
   "outputs": [],
   "source": [
    "ppi = ppi.rename(columns={\"DATE\":\"Date\", \"WPU02850113\":\"PPI\"})"
   ]
  },
  {
   "cell_type": "code",
   "execution_count": 48,
   "id": "2866d95d",
   "metadata": {},
   "outputs": [],
   "source": [
    "ppi['Date'] = pd.to_datetime(ppi['Date'],infer_datetime_format=True)"
   ]
  },
  {
   "cell_type": "code",
   "execution_count": 49,
   "id": "be3258bd",
   "metadata": {},
   "outputs": [],
   "source": [
    "# ppi=ppi[ppi['Date'] >= '2019-01-1']"
   ]
  },
  {
   "cell_type": "code",
   "execution_count": 50,
   "id": "436c9e38",
   "metadata": {},
   "outputs": [
    {
     "data": {
      "text/html": [
       "<div>\n",
       "<style scoped>\n",
       "    .dataframe tbody tr th:only-of-type {\n",
       "        vertical-align: middle;\n",
       "    }\n",
       "\n",
       "    .dataframe tbody tr th {\n",
       "        vertical-align: top;\n",
       "    }\n",
       "\n",
       "    .dataframe thead th {\n",
       "        text-align: right;\n",
       "    }\n",
       "</style>\n",
       "<table border=\"1\" class=\"dataframe\">\n",
       "  <thead>\n",
       "    <tr style=\"text-align: right;\">\n",
       "      <th></th>\n",
       "      <th>Date</th>\n",
       "      <th>PPI</th>\n",
       "    </tr>\n",
       "  </thead>\n",
       "  <tbody>\n",
       "    <tr>\n",
       "      <th>0</th>\n",
       "      <td>1982-12-01</td>\n",
       "      <td>100.0</td>\n",
       "    </tr>\n",
       "    <tr>\n",
       "      <th>1</th>\n",
       "      <td>1983-01-01</td>\n",
       "      <td>99.7</td>\n",
       "    </tr>\n",
       "    <tr>\n",
       "      <th>2</th>\n",
       "      <td>1983-02-01</td>\n",
       "      <td>100.4</td>\n",
       "    </tr>\n",
       "    <tr>\n",
       "      <th>3</th>\n",
       "      <td>1983-03-01</td>\n",
       "      <td>101.5</td>\n",
       "    </tr>\n",
       "    <tr>\n",
       "      <th>4</th>\n",
       "      <td>1983-04-01</td>\n",
       "      <td>102.2</td>\n",
       "    </tr>\n",
       "  </tbody>\n",
       "</table>\n",
       "</div>"
      ],
      "text/plain": [
       "        Date    PPI\n",
       "0 1982-12-01  100.0\n",
       "1 1983-01-01   99.7\n",
       "2 1983-02-01  100.4\n",
       "3 1983-03-01  101.5\n",
       "4 1983-04-01  102.2"
      ]
     },
     "execution_count": 50,
     "metadata": {},
     "output_type": "execute_result"
    }
   ],
   "source": [
    "ppi.head()"
   ]
  },
  {
   "cell_type": "markdown",
   "id": "33b92a82",
   "metadata": {},
   "source": [
    "### Merge datasets"
   ]
  },
  {
   "cell_type": "code",
   "execution_count": 51,
   "id": "5cdd19d8",
   "metadata": {},
   "outputs": [],
   "source": [
    "df4 = pd.merge(df2,df3, on='Date', how='outer')"
   ]
  },
  {
   "cell_type": "code",
   "execution_count": 52,
   "id": "e1dfb667",
   "metadata": {
    "scrolled": true
   },
   "outputs": [],
   "source": [
    "df4 = pd.merge(df4, dfg, on='Date')"
   ]
  },
  {
   "cell_type": "code",
   "execution_count": 53,
   "id": "71645309",
   "metadata": {},
   "outputs": [],
   "source": [
    "df4 = pd.merge(df4, deth, on='Date')"
   ]
  },
  {
   "cell_type": "code",
   "execution_count": 54,
   "id": "f49ad812",
   "metadata": {},
   "outputs": [],
   "source": [
    "df4 = pd.merge(df4, dollar, on='Date')"
   ]
  },
  {
   "cell_type": "code",
   "execution_count": 55,
   "id": "a9a9c30d",
   "metadata": {},
   "outputs": [],
   "source": [
    "df4 = pd.merge(df4, ppi, on='Date')"
   ]
  },
  {
   "cell_type": "code",
   "execution_count": 56,
   "id": "0df60467",
   "metadata": {},
   "outputs": [
    {
     "data": {
      "text/html": [
       "<div>\n",
       "<style scoped>\n",
       "    .dataframe tbody tr th:only-of-type {\n",
       "        vertical-align: middle;\n",
       "    }\n",
       "\n",
       "    .dataframe tbody tr th {\n",
       "        vertical-align: top;\n",
       "    }\n",
       "\n",
       "    .dataframe thead th {\n",
       "        text-align: right;\n",
       "    }\n",
       "</style>\n",
       "<table border=\"1\" class=\"dataframe\">\n",
       "  <thead>\n",
       "    <tr style=\"text-align: right;\">\n",
       "      <th></th>\n",
       "      <th>Date</th>\n",
       "      <th>SPClose</th>\n",
       "      <th>Symbol_y</th>\n",
       "      <th>Close</th>\n",
       "      <th>Gold</th>\n",
       "      <th>Ether</th>\n",
       "      <th>USD</th>\n",
       "      <th>PPI</th>\n",
       "    </tr>\n",
       "  </thead>\n",
       "  <tbody>\n",
       "    <tr>\n",
       "      <th>0</th>\n",
       "      <td>2017-12-01</td>\n",
       "      <td>2642.22</td>\n",
       "      <td>KO</td>\n",
       "      <td>45.970001</td>\n",
       "      <td>1275.5</td>\n",
       "      <td>463.82</td>\n",
       "      <td>110.1432</td>\n",
       "      <td>186.000</td>\n",
       "    </tr>\n",
       "    <tr>\n",
       "      <th>1</th>\n",
       "      <td>2017-12-01</td>\n",
       "      <td>2642.22</td>\n",
       "      <td>COST</td>\n",
       "      <td>185.130005</td>\n",
       "      <td>1275.5</td>\n",
       "      <td>463.82</td>\n",
       "      <td>110.1432</td>\n",
       "      <td>186.000</td>\n",
       "    </tr>\n",
       "    <tr>\n",
       "      <th>2</th>\n",
       "      <td>2017-12-01</td>\n",
       "      <td>2642.22</td>\n",
       "      <td>PEP</td>\n",
       "      <td>116.779999</td>\n",
       "      <td>1275.5</td>\n",
       "      <td>463.82</td>\n",
       "      <td>110.1432</td>\n",
       "      <td>186.000</td>\n",
       "    </tr>\n",
       "    <tr>\n",
       "      <th>3</th>\n",
       "      <td>2017-12-01</td>\n",
       "      <td>2642.22</td>\n",
       "      <td>PG</td>\n",
       "      <td>90.360001</td>\n",
       "      <td>1275.5</td>\n",
       "      <td>463.82</td>\n",
       "      <td>110.1432</td>\n",
       "      <td>186.000</td>\n",
       "    </tr>\n",
       "    <tr>\n",
       "      <th>4</th>\n",
       "      <td>2017-12-01</td>\n",
       "      <td>2642.22</td>\n",
       "      <td>WMT</td>\n",
       "      <td>97.349998</td>\n",
       "      <td>1275.5</td>\n",
       "      <td>463.82</td>\n",
       "      <td>110.1432</td>\n",
       "      <td>186.000</td>\n",
       "    </tr>\n",
       "    <tr>\n",
       "      <th>...</th>\n",
       "      <td>...</td>\n",
       "      <td>...</td>\n",
       "      <td>...</td>\n",
       "      <td>...</td>\n",
       "      <td>...</td>\n",
       "      <td>...</td>\n",
       "      <td>...</td>\n",
       "      <td>...</td>\n",
       "    </tr>\n",
       "    <tr>\n",
       "      <th>185</th>\n",
       "      <td>2022-08-01</td>\n",
       "      <td>4118.63</td>\n",
       "      <td>KO</td>\n",
       "      <td>64.519997</td>\n",
       "      <td>1772.4</td>\n",
       "      <td>1629.76</td>\n",
       "      <td>121.5001</td>\n",
       "      <td>269.651</td>\n",
       "    </tr>\n",
       "    <tr>\n",
       "      <th>186</th>\n",
       "      <td>2022-08-01</td>\n",
       "      <td>4118.63</td>\n",
       "      <td>COST</td>\n",
       "      <td>546.809998</td>\n",
       "      <td>1772.4</td>\n",
       "      <td>1629.76</td>\n",
       "      <td>121.5001</td>\n",
       "      <td>269.651</td>\n",
       "    </tr>\n",
       "    <tr>\n",
       "      <th>187</th>\n",
       "      <td>2022-08-01</td>\n",
       "      <td>4118.63</td>\n",
       "      <td>PEP</td>\n",
       "      <td>176.949997</td>\n",
       "      <td>1772.4</td>\n",
       "      <td>1629.76</td>\n",
       "      <td>121.5001</td>\n",
       "      <td>269.651</td>\n",
       "    </tr>\n",
       "    <tr>\n",
       "      <th>188</th>\n",
       "      <td>2022-08-01</td>\n",
       "      <td>4118.63</td>\n",
       "      <td>PG</td>\n",
       "      <td>142.899994</td>\n",
       "      <td>1772.4</td>\n",
       "      <td>1629.76</td>\n",
       "      <td>121.5001</td>\n",
       "      <td>269.651</td>\n",
       "    </tr>\n",
       "    <tr>\n",
       "      <th>189</th>\n",
       "      <td>2022-08-01</td>\n",
       "      <td>4118.63</td>\n",
       "      <td>WMT</td>\n",
       "      <td>132.539993</td>\n",
       "      <td>1772.4</td>\n",
       "      <td>1629.76</td>\n",
       "      <td>121.5001</td>\n",
       "      <td>269.651</td>\n",
       "    </tr>\n",
       "  </tbody>\n",
       "</table>\n",
       "<p>190 rows × 8 columns</p>\n",
       "</div>"
      ],
      "text/plain": [
       "          Date  SPClose Symbol_y       Close    Gold    Ether       USD  \\\n",
       "0   2017-12-01  2642.22       KO   45.970001  1275.5   463.82  110.1432   \n",
       "1   2017-12-01  2642.22     COST  185.130005  1275.5   463.82  110.1432   \n",
       "2   2017-12-01  2642.22      PEP  116.779999  1275.5   463.82  110.1432   \n",
       "3   2017-12-01  2642.22       PG   90.360001  1275.5   463.82  110.1432   \n",
       "4   2017-12-01  2642.22      WMT   97.349998  1275.5   463.82  110.1432   \n",
       "..         ...      ...      ...         ...     ...      ...       ...   \n",
       "185 2022-08-01  4118.63       KO   64.519997  1772.4  1629.76  121.5001   \n",
       "186 2022-08-01  4118.63     COST  546.809998  1772.4  1629.76  121.5001   \n",
       "187 2022-08-01  4118.63      PEP  176.949997  1772.4  1629.76  121.5001   \n",
       "188 2022-08-01  4118.63       PG  142.899994  1772.4  1629.76  121.5001   \n",
       "189 2022-08-01  4118.63      WMT  132.539993  1772.4  1629.76  121.5001   \n",
       "\n",
       "         PPI  \n",
       "0    186.000  \n",
       "1    186.000  \n",
       "2    186.000  \n",
       "3    186.000  \n",
       "4    186.000  \n",
       "..       ...  \n",
       "185  269.651  \n",
       "186  269.651  \n",
       "187  269.651  \n",
       "188  269.651  \n",
       "189  269.651  \n",
       "\n",
       "[190 rows x 8 columns]"
      ]
     },
     "execution_count": 56,
     "metadata": {},
     "output_type": "execute_result"
    }
   ],
   "source": [
    "df4.drop('Symbol_x', axis=1)"
   ]
  },
  {
   "cell_type": "code",
   "execution_count": 57,
   "id": "f97af627",
   "metadata": {},
   "outputs": [],
   "source": [
    "df4 = df4.rename(columns={'Symbol_y': 'Symbol'})"
   ]
  },
  {
   "cell_type": "code",
   "execution_count": 58,
   "id": "c13ea833",
   "metadata": {},
   "outputs": [],
   "source": [
    "df4 = df4[['Date', 'Symbol', 'Close', 'SPClose','Gold','Ether','USD','PPI']]"
   ]
  },
  {
   "cell_type": "code",
   "execution_count": 59,
   "id": "f7de3902",
   "metadata": {},
   "outputs": [
    {
     "data": {
      "text/html": [
       "<div>\n",
       "<style scoped>\n",
       "    .dataframe tbody tr th:only-of-type {\n",
       "        vertical-align: middle;\n",
       "    }\n",
       "\n",
       "    .dataframe tbody tr th {\n",
       "        vertical-align: top;\n",
       "    }\n",
       "\n",
       "    .dataframe thead th {\n",
       "        text-align: right;\n",
       "    }\n",
       "</style>\n",
       "<table border=\"1\" class=\"dataframe\">\n",
       "  <thead>\n",
       "    <tr style=\"text-align: right;\">\n",
       "      <th></th>\n",
       "      <th>Date</th>\n",
       "      <th>Symbol</th>\n",
       "      <th>Close</th>\n",
       "      <th>SPClose</th>\n",
       "      <th>Gold</th>\n",
       "      <th>Ether</th>\n",
       "      <th>USD</th>\n",
       "      <th>PPI</th>\n",
       "    </tr>\n",
       "  </thead>\n",
       "  <tbody>\n",
       "    <tr>\n",
       "      <th>0</th>\n",
       "      <td>2017-12-01</td>\n",
       "      <td>KO</td>\n",
       "      <td>45.970001</td>\n",
       "      <td>2642.22</td>\n",
       "      <td>1275.5</td>\n",
       "      <td>463.82</td>\n",
       "      <td>110.1432</td>\n",
       "      <td>186.0</td>\n",
       "    </tr>\n",
       "    <tr>\n",
       "      <th>1</th>\n",
       "      <td>2017-12-01</td>\n",
       "      <td>COST</td>\n",
       "      <td>185.130005</td>\n",
       "      <td>2642.22</td>\n",
       "      <td>1275.5</td>\n",
       "      <td>463.82</td>\n",
       "      <td>110.1432</td>\n",
       "      <td>186.0</td>\n",
       "    </tr>\n",
       "    <tr>\n",
       "      <th>2</th>\n",
       "      <td>2017-12-01</td>\n",
       "      <td>PEP</td>\n",
       "      <td>116.779999</td>\n",
       "      <td>2642.22</td>\n",
       "      <td>1275.5</td>\n",
       "      <td>463.82</td>\n",
       "      <td>110.1432</td>\n",
       "      <td>186.0</td>\n",
       "    </tr>\n",
       "    <tr>\n",
       "      <th>3</th>\n",
       "      <td>2017-12-01</td>\n",
       "      <td>PG</td>\n",
       "      <td>90.360001</td>\n",
       "      <td>2642.22</td>\n",
       "      <td>1275.5</td>\n",
       "      <td>463.82</td>\n",
       "      <td>110.1432</td>\n",
       "      <td>186.0</td>\n",
       "    </tr>\n",
       "    <tr>\n",
       "      <th>4</th>\n",
       "      <td>2017-12-01</td>\n",
       "      <td>WMT</td>\n",
       "      <td>97.349998</td>\n",
       "      <td>2642.22</td>\n",
       "      <td>1275.5</td>\n",
       "      <td>463.82</td>\n",
       "      <td>110.1432</td>\n",
       "      <td>186.0</td>\n",
       "    </tr>\n",
       "  </tbody>\n",
       "</table>\n",
       "</div>"
      ],
      "text/plain": [
       "        Date Symbol       Close  SPClose    Gold   Ether       USD    PPI\n",
       "0 2017-12-01     KO   45.970001  2642.22  1275.5  463.82  110.1432  186.0\n",
       "1 2017-12-01   COST  185.130005  2642.22  1275.5  463.82  110.1432  186.0\n",
       "2 2017-12-01    PEP  116.779999  2642.22  1275.5  463.82  110.1432  186.0\n",
       "3 2017-12-01     PG   90.360001  2642.22  1275.5  463.82  110.1432  186.0\n",
       "4 2017-12-01    WMT   97.349998  2642.22  1275.5  463.82  110.1432  186.0"
      ]
     },
     "execution_count": 59,
     "metadata": {},
     "output_type": "execute_result"
    }
   ],
   "source": [
    "df4.head()"
   ]
  },
  {
   "cell_type": "code",
   "execution_count": 60,
   "id": "b1b24d1b",
   "metadata": {},
   "outputs": [],
   "source": [
    "df4['USD']=df4['USD'].astype(float)"
   ]
  },
  {
   "cell_type": "code",
   "execution_count": 61,
   "id": "e139456f",
   "metadata": {},
   "outputs": [],
   "source": [
    "df4['Ether']=df4['Ether'].astype(float)"
   ]
  },
  {
   "cell_type": "code",
   "execution_count": 62,
   "id": "42207b9b",
   "metadata": {},
   "outputs": [
    {
     "name": "stdout",
     "output_type": "stream",
     "text": [
      "<class 'pandas.core.frame.DataFrame'>\n",
      "Int64Index: 190 entries, 0 to 189\n",
      "Data columns (total 8 columns):\n",
      " #   Column   Non-Null Count  Dtype         \n",
      "---  ------   --------------  -----         \n",
      " 0   Date     190 non-null    datetime64[ns]\n",
      " 1   Symbol   190 non-null    object        \n",
      " 2   Close    190 non-null    float64       \n",
      " 3   SPClose  190 non-null    float64       \n",
      " 4   Gold     190 non-null    float64       \n",
      " 5   Ether    190 non-null    float64       \n",
      " 6   USD      190 non-null    float64       \n",
      " 7   PPI      190 non-null    float64       \n",
      "dtypes: datetime64[ns](1), float64(6), object(1)\n",
      "memory usage: 13.4+ KB\n"
     ]
    }
   ],
   "source": [
    "df4.info()"
   ]
  },
  {
   "cell_type": "markdown",
   "id": "63ed054c",
   "metadata": {},
   "source": [
    "### EDA"
   ]
  },
  {
   "cell_type": "code",
   "execution_count": 63,
   "id": "5494d365",
   "metadata": {},
   "outputs": [],
   "source": [
    "symbol_groups = df4.groupby(by='Symbol')"
   ]
  },
  {
   "cell_type": "code",
   "execution_count": 64,
   "id": "186598fa",
   "metadata": {},
   "outputs": [],
   "source": [
    "COST = symbol_groups.get_group('COST')\n",
    "WMT = symbol_groups.get_group('WMT')\n",
    "KO = symbol_groups.get_group('KO')\n",
    "PG = symbol_groups.get_group('PG')\n",
    "PEP = symbol_groups.get_group('PEP')"
   ]
  },
  {
   "cell_type": "markdown",
   "id": "d0e70938",
   "metadata": {},
   "source": [
    "### WMT EDA"
   ]
  },
  {
   "cell_type": "code",
   "execution_count": 65,
   "id": "7141b392",
   "metadata": {},
   "outputs": [
    {
     "data": {
      "text/html": [
       "<div>\n",
       "<style scoped>\n",
       "    .dataframe tbody tr th:only-of-type {\n",
       "        vertical-align: middle;\n",
       "    }\n",
       "\n",
       "    .dataframe tbody tr th {\n",
       "        vertical-align: top;\n",
       "    }\n",
       "\n",
       "    .dataframe thead th {\n",
       "        text-align: right;\n",
       "    }\n",
       "</style>\n",
       "<table border=\"1\" class=\"dataframe\">\n",
       "  <thead>\n",
       "    <tr style=\"text-align: right;\">\n",
       "      <th></th>\n",
       "      <th>Close</th>\n",
       "      <th>SPClose</th>\n",
       "      <th>Gold</th>\n",
       "      <th>Ether</th>\n",
       "      <th>USD</th>\n",
       "      <th>PPI</th>\n",
       "    </tr>\n",
       "  </thead>\n",
       "  <tbody>\n",
       "    <tr>\n",
       "      <th>Close</th>\n",
       "      <td>1.000000</td>\n",
       "      <td>0.837826</td>\n",
       "      <td>0.932504</td>\n",
       "      <td>0.640993</td>\n",
       "      <td>0.218195</td>\n",
       "      <td>0.469566</td>\n",
       "    </tr>\n",
       "    <tr>\n",
       "      <th>SPClose</th>\n",
       "      <td>0.837826</td>\n",
       "      <td>1.000000</td>\n",
       "      <td>0.798416</td>\n",
       "      <td>0.891822</td>\n",
       "      <td>0.036834</td>\n",
       "      <td>0.657400</td>\n",
       "    </tr>\n",
       "    <tr>\n",
       "      <th>Gold</th>\n",
       "      <td>0.932504</td>\n",
       "      <td>0.798416</td>\n",
       "      <td>1.000000</td>\n",
       "      <td>0.588299</td>\n",
       "      <td>0.327380</td>\n",
       "      <td>0.568375</td>\n",
       "    </tr>\n",
       "    <tr>\n",
       "      <th>Ether</th>\n",
       "      <td>0.640993</td>\n",
       "      <td>0.891822</td>\n",
       "      <td>0.588299</td>\n",
       "      <td>1.000000</td>\n",
       "      <td>-0.136091</td>\n",
       "      <td>0.498839</td>\n",
       "    </tr>\n",
       "    <tr>\n",
       "      <th>USD</th>\n",
       "      <td>0.218195</td>\n",
       "      <td>0.036834</td>\n",
       "      <td>0.327380</td>\n",
       "      <td>-0.136091</td>\n",
       "      <td>1.000000</td>\n",
       "      <td>0.334263</td>\n",
       "    </tr>\n",
       "    <tr>\n",
       "      <th>PPI</th>\n",
       "      <td>0.469566</td>\n",
       "      <td>0.657400</td>\n",
       "      <td>0.568375</td>\n",
       "      <td>0.498839</td>\n",
       "      <td>0.334263</td>\n",
       "      <td>1.000000</td>\n",
       "    </tr>\n",
       "  </tbody>\n",
       "</table>\n",
       "</div>"
      ],
      "text/plain": [
       "            Close   SPClose      Gold     Ether       USD       PPI\n",
       "Close    1.000000  0.837826  0.932504  0.640993  0.218195  0.469566\n",
       "SPClose  0.837826  1.000000  0.798416  0.891822  0.036834  0.657400\n",
       "Gold     0.932504  0.798416  1.000000  0.588299  0.327380  0.568375\n",
       "Ether    0.640993  0.891822  0.588299  1.000000 -0.136091  0.498839\n",
       "USD      0.218195  0.036834  0.327380 -0.136091  1.000000  0.334263\n",
       "PPI      0.469566  0.657400  0.568375  0.498839  0.334263  1.000000"
      ]
     },
     "execution_count": 65,
     "metadata": {},
     "output_type": "execute_result"
    }
   ],
   "source": [
    "wmt_corr = WMT.corr()\n",
    "wmt_corr"
   ]
  },
  {
   "cell_type": "code",
   "execution_count": 66,
   "id": "ee02830c",
   "metadata": {},
   "outputs": [
    {
     "data": {
      "image/png": "[encoded data removed]",
      "text/plain": [
       "<Figure size 1800x1440 with 2 Axes>"
      ]
     },
     "metadata": {},
     "output_type": "display_data"
    }
   ],
   "source": [
    "# Build heatmap\n",
    "\n",
    "# Set up figure and axis\n",
    "fig, ax = plt.subplots(figsize=(25, 20))\n",
    "\n",
    "sns.heatmap(WMT.corr(), \n",
    "            # Mask to show only half the values instead of showing duplicates\n",
    "            mask=np.triu(np.ones_like(wmt_corr, dtype=bool)),\n",
    "            # Specifies that we want values not just colors\n",
    "            annot = True,\n",
    "            linewidths = 10,\n",
    "            center=0);"
   ]
  },
  {
   "cell_type": "code",
   "execution_count": 67,
   "id": "e6b51b54",
   "metadata": {},
   "outputs": [
    {
     "data": {
      "text/plain": [
       "<AxesSubplot:xlabel='Date'>"
      ]
     },
     "execution_count": 67,
     "metadata": {},
     "output_type": "execute_result"
    },
    {
     "data": {
      "image/png": "[encoded data removed]",
      "text/plain": [
       "<Figure size 432x288 with 1 Axes>"
      ]
     },
     "metadata": {},
     "output_type": "display_data"
    }
   ],
   "source": [
    "WMT.plot(x='Date',y='Close')"
   ]
  },
  {
   "cell_type": "markdown",
   "id": "91de0579",
   "metadata": {},
   "source": [
    "### KO EDA "
   ]
  },
  {
   "cell_type": "code",
   "execution_count": 68,
   "id": "848b828e",
   "metadata": {},
   "outputs": [
    {
     "data": {
      "text/html": [
       "<div>\n",
       "<style scoped>\n",
       "    .dataframe tbody tr th:only-of-type {\n",
       "        vertical-align: middle;\n",
       "    }\n",
       "\n",
       "    .dataframe tbody tr th {\n",
       "        vertical-align: top;\n",
       "    }\n",
       "\n",
       "    .dataframe thead th {\n",
       "        text-align: right;\n",
       "    }\n",
       "</style>\n",
       "<table border=\"1\" class=\"dataframe\">\n",
       "  <thead>\n",
       "    <tr style=\"text-align: right;\">\n",
       "      <th></th>\n",
       "      <th>Close</th>\n",
       "      <th>SPClose</th>\n",
       "      <th>Gold</th>\n",
       "      <th>Ether</th>\n",
       "      <th>USD</th>\n",
       "      <th>PPI</th>\n",
       "    </tr>\n",
       "  </thead>\n",
       "  <tbody>\n",
       "    <tr>\n",
       "      <th>Close</th>\n",
       "      <td>1.000000</td>\n",
       "      <td>0.771784</td>\n",
       "      <td>0.601263</td>\n",
       "      <td>0.585042</td>\n",
       "      <td>0.256273</td>\n",
       "      <td>0.857674</td>\n",
       "    </tr>\n",
       "    <tr>\n",
       "      <th>SPClose</th>\n",
       "      <td>0.771784</td>\n",
       "      <td>1.000000</td>\n",
       "      <td>0.798416</td>\n",
       "      <td>0.891822</td>\n",
       "      <td>0.036834</td>\n",
       "      <td>0.657400</td>\n",
       "    </tr>\n",
       "    <tr>\n",
       "      <th>Gold</th>\n",
       "      <td>0.601263</td>\n",
       "      <td>0.798416</td>\n",
       "      <td>1.000000</td>\n",
       "      <td>0.588299</td>\n",
       "      <td>0.327380</td>\n",
       "      <td>0.568375</td>\n",
       "    </tr>\n",
       "    <tr>\n",
       "      <th>Ether</th>\n",
       "      <td>0.585042</td>\n",
       "      <td>0.891822</td>\n",
       "      <td>0.588299</td>\n",
       "      <td>1.000000</td>\n",
       "      <td>-0.136091</td>\n",
       "      <td>0.498839</td>\n",
       "    </tr>\n",
       "    <tr>\n",
       "      <th>USD</th>\n",
       "      <td>0.256273</td>\n",
       "      <td>0.036834</td>\n",
       "      <td>0.327380</td>\n",
       "      <td>-0.136091</td>\n",
       "      <td>1.000000</td>\n",
       "      <td>0.334263</td>\n",
       "    </tr>\n",
       "    <tr>\n",
       "      <th>PPI</th>\n",
       "      <td>0.857674</td>\n",
       "      <td>0.657400</td>\n",
       "      <td>0.568375</td>\n",
       "      <td>0.498839</td>\n",
       "      <td>0.334263</td>\n",
       "      <td>1.000000</td>\n",
       "    </tr>\n",
       "  </tbody>\n",
       "</table>\n",
       "</div>"
      ],
      "text/plain": [
       "            Close   SPClose      Gold     Ether       USD       PPI\n",
       "Close    1.000000  0.771784  0.601263  0.585042  0.256273  0.857674\n",
       "SPClose  0.771784  1.000000  0.798416  0.891822  0.036834  0.657400\n",
       "Gold     0.601263  0.798416  1.000000  0.588299  0.327380  0.568375\n",
       "Ether    0.585042  0.891822  0.588299  1.000000 -0.136091  0.498839\n",
       "USD      0.256273  0.036834  0.327380 -0.136091  1.000000  0.334263\n",
       "PPI      0.857674  0.657400  0.568375  0.498839  0.334263  1.000000"
      ]
     },
     "execution_count": 68,
     "metadata": {},
     "output_type": "execute_result"
    }
   ],
   "source": [
    "ko_corr = KO.corr()\n",
    "ko_corr"
   ]
  },
  {
   "cell_type": "code",
   "execution_count": 69,
   "id": "8cb34730",
   "metadata": {},
   "outputs": [
    {
     "data": {
      "image/png": "[encoded data removed]",
      "text/plain": [
       "<Figure size 1800x1440 with 2 Axes>"
      ]
     },
     "metadata": {},
     "output_type": "display_data"
    }
   ],
   "source": [
    "# Build heatmap\n",
    "\n",
    "# Set up figure and axis\n",
    "fig, ax = plt.subplots(figsize=(25, 20))\n",
    "\n",
    "sns.heatmap(KO.corr(), \n",
    "            # Mask to show only half the values instead of showing duplicates\n",
    "            mask=np.triu(np.ones_like(ko_corr, dtype=bool)),\n",
    "            # Specifies that we want values not just colors\n",
    "            annot = True,\n",
    "            linewidths = 10,\n",
    "            center=0);"
   ]
  },
  {
   "cell_type": "code",
   "execution_count": 70,
   "id": "7e145e51",
   "metadata": {},
   "outputs": [
    {
     "data": {
      "text/plain": [
       "<AxesSubplot:xlabel='Date'>"
      ]
     },
     "execution_count": 70,
     "metadata": {},
     "output_type": "execute_result"
    },
    {
     "data": {
      "image/png": "[encoded data removed]",
      "text/plain": [
       "<Figure size 432x288 with 1 Axes>"
      ]
     },
     "metadata": {},
     "output_type": "display_data"
    }
   ],
   "source": [
    "KO.plot(x='Date',y='Close')"
   ]
  },
  {
   "cell_type": "markdown",
   "id": "d636aa26",
   "metadata": {},
   "source": [
    "### PG EDA "
   ]
  },
  {
   "cell_type": "code",
   "execution_count": 71,
   "id": "9791bd46",
   "metadata": {},
   "outputs": [
    {
     "data": {
      "text/html": [
       "<div>\n",
       "<style scoped>\n",
       "    .dataframe tbody tr th:only-of-type {\n",
       "        vertical-align: middle;\n",
       "    }\n",
       "\n",
       "    .dataframe tbody tr th {\n",
       "        vertical-align: top;\n",
       "    }\n",
       "\n",
       "    .dataframe thead th {\n",
       "        text-align: right;\n",
       "    }\n",
       "</style>\n",
       "<table border=\"1\" class=\"dataframe\">\n",
       "  <thead>\n",
       "    <tr style=\"text-align: right;\">\n",
       "      <th></th>\n",
       "      <th>Close</th>\n",
       "      <th>SPClose</th>\n",
       "      <th>Gold</th>\n",
       "      <th>Ether</th>\n",
       "      <th>USD</th>\n",
       "      <th>PPI</th>\n",
       "    </tr>\n",
       "  </thead>\n",
       "  <tbody>\n",
       "    <tr>\n",
       "      <th>Close</th>\n",
       "      <td>1.000000</td>\n",
       "      <td>0.859708</td>\n",
       "      <td>0.900333</td>\n",
       "      <td>0.635895</td>\n",
       "      <td>0.394046</td>\n",
       "      <td>0.679719</td>\n",
       "    </tr>\n",
       "    <tr>\n",
       "      <th>SPClose</th>\n",
       "      <td>0.859708</td>\n",
       "      <td>1.000000</td>\n",
       "      <td>0.798416</td>\n",
       "      <td>0.891822</td>\n",
       "      <td>0.036834</td>\n",
       "      <td>0.657400</td>\n",
       "    </tr>\n",
       "    <tr>\n",
       "      <th>Gold</th>\n",
       "      <td>0.900333</td>\n",
       "      <td>0.798416</td>\n",
       "      <td>1.000000</td>\n",
       "      <td>0.588299</td>\n",
       "      <td>0.327380</td>\n",
       "      <td>0.568375</td>\n",
       "    </tr>\n",
       "    <tr>\n",
       "      <th>Ether</th>\n",
       "      <td>0.635895</td>\n",
       "      <td>0.891822</td>\n",
       "      <td>0.588299</td>\n",
       "      <td>1.000000</td>\n",
       "      <td>-0.136091</td>\n",
       "      <td>0.498839</td>\n",
       "    </tr>\n",
       "    <tr>\n",
       "      <th>USD</th>\n",
       "      <td>0.394046</td>\n",
       "      <td>0.036834</td>\n",
       "      <td>0.327380</td>\n",
       "      <td>-0.136091</td>\n",
       "      <td>1.000000</td>\n",
       "      <td>0.334263</td>\n",
       "    </tr>\n",
       "    <tr>\n",
       "      <th>PPI</th>\n",
       "      <td>0.679719</td>\n",
       "      <td>0.657400</td>\n",
       "      <td>0.568375</td>\n",
       "      <td>0.498839</td>\n",
       "      <td>0.334263</td>\n",
       "      <td>1.000000</td>\n",
       "    </tr>\n",
       "  </tbody>\n",
       "</table>\n",
       "</div>"
      ],
      "text/plain": [
       "            Close   SPClose      Gold     Ether       USD       PPI\n",
       "Close    1.000000  0.859708  0.900333  0.635895  0.394046  0.679719\n",
       "SPClose  0.859708  1.000000  0.798416  0.891822  0.036834  0.657400\n",
       "Gold     0.900333  0.798416  1.000000  0.588299  0.327380  0.568375\n",
       "Ether    0.635895  0.891822  0.588299  1.000000 -0.136091  0.498839\n",
       "USD      0.394046  0.036834  0.327380 -0.136091  1.000000  0.334263\n",
       "PPI      0.679719  0.657400  0.568375  0.498839  0.334263  1.000000"
      ]
     },
     "execution_count": 71,
     "metadata": {},
     "output_type": "execute_result"
    }
   ],
   "source": [
    "pg_corr = PG.corr()\n",
    "pg_corr"
   ]
  },
  {
   "cell_type": "code",
   "execution_count": 72,
   "id": "882d465e",
   "metadata": {},
   "outputs": [
    {
     "data": {
      "image/png": "[encoded data removed]",
      "text/plain": [
       "<Figure size 1800x1440 with 2 Axes>"
      ]
     },
     "metadata": {},
     "output_type": "display_data"
    }
   ],
   "source": [
    "# Set up figure and axis\n",
    "fig, ax = plt.subplots(figsize=(25, 20))\n",
    "\n",
    "sns.heatmap(PG.corr(), \n",
    "            # Mask to show only half the values instead of showing duplicates\n",
    "            mask=np.triu(np.ones_like(pg_corr, dtype=bool)),\n",
    "            # Specifies that we want values not just colors\n",
    "            annot = True,\n",
    "            linewidths = 10,\n",
    "            center=0);"
   ]
  },
  {
   "cell_type": "code",
   "execution_count": 73,
   "id": "2b851761",
   "metadata": {},
   "outputs": [
    {
     "data": {
      "text/plain": [
       "<AxesSubplot:xlabel='Date'>"
      ]
     },
     "execution_count": 73,
     "metadata": {},
     "output_type": "execute_result"
    },
    {
     "data": {
      "image/png": "[encoded data removed]",
      "text/plain": [
       "<Figure size 432x288 with 1 Axes>"
      ]
     },
     "metadata": {},
     "output_type": "display_data"
    }
   ],
   "source": [
    "PG.plot(x='Date',y='Close')"
   ]
  },
  {
   "cell_type": "markdown",
   "id": "ad278347",
   "metadata": {},
   "source": [
    "### Preprocessing"
   ]
  },
  {
   "cell_type": "code",
   "execution_count": 74,
   "id": "d55568cd",
   "metadata": {},
   "outputs": [],
   "source": [
    "# WMT_new = WMT.drop(['S&PClose','Gold','PPI','Ether','USD','Symbol'],axis=1)"
   ]
  },
  {
   "cell_type": "code",
   "execution_count": 75,
   "id": "69a3e94f",
   "metadata": {},
   "outputs": [],
   "source": [
    "# WMT_new.info()"
   ]
  },
  {
   "cell_type": "code",
   "execution_count": 76,
   "id": "e8b75a4c",
   "metadata": {},
   "outputs": [],
   "source": [
    "# # Make sure that index is DatetimeIndex named \"date\"\n",
    "# if isinstance(WMT.index, pd.DatetimeIndex):\n",
    "#     WMT.index.name = 'Date'\n",
    "# else:\n",
    "#     WMT.rename(columns={'index':'Date'}, inplace=True)\n",
    "#     WMT.set_index('Date', inplace=True)\n",
    "    \n",
    "# WMT"
   ]
  },
  {
   "cell_type": "code",
   "execution_count": 77,
   "id": "6f75e68e",
   "metadata": {},
   "outputs": [],
   "source": [
    "# wmt_new = WMT.asfreq('D')\n",
    "\n",
    "# # The 'MS' string groups the data in buckets by start of the month\n",
    "# wmt_new = wmt_new['Close'].resample('MS').mean()\n",
    "\n",
    "# wmt_new"
   ]
  },
  {
   "cell_type": "code",
   "execution_count": 78,
   "id": "55457138",
   "metadata": {},
   "outputs": [],
   "source": [
    "# # The term bfill means that we use the value before filling in missing values\n",
    "# wmt_new = wmt_new.fillna(wmt_new.bfill())\n",
    "\n",
    "# wmt_new"
   ]
  },
  {
   "cell_type": "code",
   "execution_count": 79,
   "id": "202d4351",
   "metadata": {},
   "outputs": [],
   "source": [
    "# monthly_mean_wmt = wmt_new.resample('M').mean()"
   ]
  },
  {
   "cell_type": "code",
   "execution_count": 80,
   "id": "82bfcb09",
   "metadata": {},
   "outputs": [],
   "source": [
    "# monthly_mean_wmt"
   ]
  },
  {
   "cell_type": "markdown",
   "id": "617384b4",
   "metadata": {},
   "source": [
    "### SARIMA model WMT"
   ]
  },
  {
   "cell_type": "code",
   "execution_count": 81,
   "id": "c4b19345",
   "metadata": {},
   "outputs": [],
   "source": [
    "# # Define the p, d and q parameters to take any value between 0 and 2\n",
    "# p = d = q = range(0, 2)\n",
    "\n",
    "# # Generate all different combinations of p, q and q triplets\n",
    "# pdq = list(itertools.product(p, d, q))\n",
    "\n",
    "# # Generate all different combinations of seasonal p, q and q triplets\n",
    "# pdqs = [(x[0], x[1], x[2], 12) for x in list(itertools.product(p, d, q))]"
   ]
  },
  {
   "cell_type": "code",
   "execution_count": 82,
   "id": "b22b2dad",
   "metadata": {},
   "outputs": [],
   "source": [
    "# # Run a grid with pdq and seasonal pdq parameters calculated above and get the best AIC value\n",
    "# ans = []\n",
    "# for comb in pdq:\n",
    "#     for combs in pdqs:\n",
    "#         try:\n",
    "#             mod = sm.tsa.statespace.SARIMAX(monthly_mean_wmt,\n",
    "#                                             order=comb,\n",
    "#                                             seasonal_order=combs,\n",
    "#                                             enforce_stationarity=False,\n",
    "#                                             enforce_invertibility=False)\n",
    "\n",
    "#             output = mod.fit()\n",
    "#             ans.append([comb, combs, output.aic])\n",
    "#             print('ARIMA {} x {}: AIC Calculated={}'.format(comb, combs, output.aic))\n",
    "#         except:\n",
    "#             continue"
   ]
  },
  {
   "cell_type": "code",
   "execution_count": 83,
   "id": "2b715a96",
   "metadata": {},
   "outputs": [],
   "source": [
    "# # Plug the optimal parameter values into a new SARIMAX model\n",
    "# ARIMA_MODEL = sm.tsa.statespace.SARIMAX(monthly_mean_wmt, \n",
    "#                                         order=(5, 5, 5), \n",
    "#                                         seasonal_order=(1, 1, 1, 12), \n",
    "# #                                         enforce_stationarity=False, \n",
    "#                                          enforce_invertibility=False)\n",
    "\n",
    "# # Fit the model and print results\n",
    "# output = ARIMA_MODEL.fit()\n",
    "\n",
    "# print(output.summary().tables[1])"
   ]
  },
  {
   "cell_type": "code",
   "execution_count": 84,
   "id": "2d6cdb9b",
   "metadata": {},
   "outputs": [],
   "source": [
    "# # Call plot_diagnostics() on the results calculated above \n",
    "# output.plot_diagnostics(figsize=(10, 13))\n",
    "# plt.show()"
   ]
  },
  {
   "cell_type": "code",
   "execution_count": 85,
   "id": "a6c71fa2",
   "metadata": {},
   "outputs": [],
   "source": [
    "# ##Checking Distribution of Our Data \n",
    "# fig = plt.figure(figsize=(10,8))\n",
    "# sns.distplot(monthly_mean_wmt).set_title(\"Distribution Plot Adj Close -WMT\")\n",
    "# ax.tick_params(labelsize=12)\n",
    "# sns.set(font_scale=1)\n",
    "# plt.xticks(fontsize=16)\n",
    "# plt.yticks(fontsize=16)"
   ]
  },
  {
   "cell_type": "code",
   "execution_count": 86,
   "id": "61416d43",
   "metadata": {},
   "outputs": [],
   "source": [
    "# # Get predictions starting from 01-01-1998 and calculate confidence intervals\n",
    "# pred = output.get_prediction(start=pd.to_datetime('2017-12-31'), dynamic=False)\n",
    "# pred_conf = pred.conf_int()"
   ]
  },
  {
   "cell_type": "code",
   "execution_count": 87,
   "id": "db3e2718",
   "metadata": {},
   "outputs": [],
   "source": [
    "# # Plot real vs predicted values along with confidence interval\n",
    "\n",
    "# rcParams['figure.figsize'] = 15, 6\n",
    "\n",
    "# # Plot observed values\n",
    "# ax = monthly_mean_wmt['2017':].plot(label='observed')\n",
    "\n",
    "# # Plot predicted values\n",
    "# pred.predicted_mean.plot(ax=ax, label='One-step ahead Forecast', alpha=0.9)\n",
    "\n",
    "# # Plot the range for confidence intervals\n",
    "# ax.fill_between(pred_conf.index,\n",
    "#                 pred_conf.iloc[:, 0],\n",
    "#                 pred_conf.iloc[:, 1], color='g', alpha=0.9)\n",
    "\n",
    "# # Set axes labels\n",
    "# ax.set_xlabel('Date')\n",
    "# ax.set_ylabel('')\n",
    "# plt.legend()\n",
    "\n",
    "# plt.show()"
   ]
  },
  {
   "cell_type": "code",
   "execution_count": 88,
   "id": "3bed8eac",
   "metadata": {},
   "outputs": [],
   "source": [
    "# # Get the real and predicted values\n",
    "# WMT_forecasted = pred.predicted_mean\n",
    "# WMT_truth = monthly_mean_wmt['2017-12-31':]\n",
    "\n",
    "# # Compute the mean square error\n",
    "# mse = ((WMT_forecasted - WMT_truth) ** 2).mean()\n",
    "# print('The Mean Squared Error of our forecasts is {}'.format(round(mse, 2)))"
   ]
  },
  {
   "cell_type": "code",
   "execution_count": 89,
   "id": "0aed7af7",
   "metadata": {},
   "outputs": [],
   "source": [
    "# rcParams['figure.figsize'] = 18, 8\n",
    "\n",
    "# decomposition = sm.tsa.seasonal_decompose(monthly_mean_wmt, model='additive')\n",
    "# fig = decomposition.plot()\n",
    "# plt.show()"
   ]
  },
  {
   "cell_type": "code",
   "execution_count": 90,
   "id": "a0eb0c24",
   "metadata": {},
   "outputs": [],
   "source": [
    "# #Plot the ACF\n",
    "# fig, ax = plt.subplots(figsize=(8,3))\n",
    "# plot_acf(monthly_mean_wmt,ax=ax, lags=8);"
   ]
  },
  {
   "cell_type": "code",
   "execution_count": 91,
   "id": "12512dea",
   "metadata": {},
   "outputs": [],
   "source": [
    "# # Fit an ARMA(1,0) model\n",
    "# mod_arma = ARIMA(monthly_mean_wmt, order=(1,0,0))\n",
    "# res_arma = mod_arma.fit()\n",
    "\n",
    "# # Print out summary information on the fit\n",
    "# print(res_arma.summary())"
   ]
  },
  {
   "cell_type": "code",
   "execution_count": 92,
   "id": "8e294860",
   "metadata": {},
   "outputs": [],
   "source": [
    "# # Fit an ARMA(2,1) model\n",
    "# mod_arma = ARIMA(monthly_mean_wmt, order=(2,0,1))\n",
    "# res_arma = mod_arma.fit()\n",
    "\n",
    "# # Print out summary information on the fit\n",
    "# print(res_arma.summary())"
   ]
  },
  {
   "cell_type": "code",
   "execution_count": 93,
   "id": "f1c2ff54",
   "metadata": {},
   "outputs": [],
   "source": [
    "# # Fit an ARMA(2,2) model\n",
    "# mod_arma = ARIMA(monthly_mean_wmt, order=(2,0,2))\n",
    "# res_arma = mod_arma.fit()\n",
    "\n",
    "# # Print out summary information on the fit\n",
    "# print(res_arma.summary())"
   ]
  },
  {
   "cell_type": "markdown",
   "id": "2205d9c8",
   "metadata": {},
   "source": [
    "### Linear Regression WMT "
   ]
  },
  {
   "cell_type": "code",
   "execution_count": 94,
   "id": "6a859372",
   "metadata": {},
   "outputs": [
    {
     "data": {
      "text/html": [
       "<div>\n",
       "<style scoped>\n",
       "    .dataframe tbody tr th:only-of-type {\n",
       "        vertical-align: middle;\n",
       "    }\n",
       "\n",
       "    .dataframe tbody tr th {\n",
       "        vertical-align: top;\n",
       "    }\n",
       "\n",
       "    .dataframe thead th {\n",
       "        text-align: right;\n",
       "    }\n",
       "</style>\n",
       "<table border=\"1\" class=\"dataframe\">\n",
       "  <thead>\n",
       "    <tr style=\"text-align: right;\">\n",
       "      <th></th>\n",
       "      <th>Close</th>\n",
       "      <th>SPClose</th>\n",
       "      <th>Gold</th>\n",
       "      <th>Ether</th>\n",
       "      <th>USD</th>\n",
       "      <th>PPI</th>\n",
       "    </tr>\n",
       "  </thead>\n",
       "  <tbody>\n",
       "    <tr>\n",
       "      <th>count</th>\n",
       "      <td>38.000000</td>\n",
       "      <td>38.000000</td>\n",
       "      <td>38.000000</td>\n",
       "      <td>38.000000</td>\n",
       "      <td>38.000000</td>\n",
       "      <td>38.000000</td>\n",
       "    </tr>\n",
       "    <tr>\n",
       "      <th>mean</th>\n",
       "      <td>120.620000</td>\n",
       "      <td>3445.992632</td>\n",
       "      <td>1600.640789</td>\n",
       "      <td>1251.088684</td>\n",
       "      <td>115.077411</td>\n",
       "      <td>204.935105</td>\n",
       "    </tr>\n",
       "    <tr>\n",
       "      <th>std</th>\n",
       "      <td>21.088610</td>\n",
       "      <td>710.518549</td>\n",
       "      <td>256.066975</td>\n",
       "      <td>1329.276648</td>\n",
       "      <td>3.847706</td>\n",
       "      <td>29.596297</td>\n",
       "    </tr>\n",
       "    <tr>\n",
       "      <th>min</th>\n",
       "      <td>82.989998</td>\n",
       "      <td>2470.500000</td>\n",
       "      <td>1189.350000</td>\n",
       "      <td>105.880000</td>\n",
       "      <td>106.490300</td>\n",
       "      <td>184.000000</td>\n",
       "    </tr>\n",
       "    <tr>\n",
       "      <th>25%</th>\n",
       "      <td>100.775002</td>\n",
       "      <td>2824.162500</td>\n",
       "      <td>1313.637500</td>\n",
       "      <td>220.845000</td>\n",
       "      <td>112.835125</td>\n",
       "      <td>186.625000</td>\n",
       "    </tr>\n",
       "    <tr>\n",
       "      <th>50%</th>\n",
       "      <td>122.774998</td>\n",
       "      <td>3091.385000</td>\n",
       "      <td>1728.325000</td>\n",
       "      <td>581.980000</td>\n",
       "      <td>114.828700</td>\n",
       "      <td>193.324500</td>\n",
       "    </tr>\n",
       "    <tr>\n",
       "      <th>75%</th>\n",
       "      <td>138.737503</td>\n",
       "      <td>4114.280000</td>\n",
       "      <td>1799.250000</td>\n",
       "      <td>1929.845000</td>\n",
       "      <td>116.010950</td>\n",
       "      <td>204.292500</td>\n",
       "    </tr>\n",
       "    <tr>\n",
       "      <th>max</th>\n",
       "      <td>152.639999</td>\n",
       "      <td>4613.670000</td>\n",
       "      <td>1972.350000</td>\n",
       "      <td>4589.230000</td>\n",
       "      <td>123.815400</td>\n",
       "      <td>283.069000</td>\n",
       "    </tr>\n",
       "  </tbody>\n",
       "</table>\n",
       "</div>"
      ],
      "text/plain": [
       "            Close      SPClose         Gold        Ether         USD  \\\n",
       "count   38.000000    38.000000    38.000000    38.000000   38.000000   \n",
       "mean   120.620000  3445.992632  1600.640789  1251.088684  115.077411   \n",
       "std     21.088610   710.518549   256.066975  1329.276648    3.847706   \n",
       "min     82.989998  2470.500000  1189.350000   105.880000  106.490300   \n",
       "25%    100.775002  2824.162500  1313.637500   220.845000  112.835125   \n",
       "50%    122.774998  3091.385000  1728.325000   581.980000  114.828700   \n",
       "75%    138.737503  4114.280000  1799.250000  1929.845000  116.010950   \n",
       "max    152.639999  4613.670000  1972.350000  4589.230000  123.815400   \n",
       "\n",
       "              PPI  \n",
       "count   38.000000  \n",
       "mean   204.935105  \n",
       "std     29.596297  \n",
       "min    184.000000  \n",
       "25%    186.625000  \n",
       "50%    193.324500  \n",
       "75%    204.292500  \n",
       "max    283.069000  "
      ]
     },
     "execution_count": 94,
     "metadata": {},
     "output_type": "execute_result"
    }
   ],
   "source": [
    "WMT.describe()"
   ]
  },
  {
   "cell_type": "code",
   "execution_count": 95,
   "id": "7d3335f1",
   "metadata": {},
   "outputs": [],
   "source": [
    "WMT_lr = WMT"
   ]
  },
  {
   "cell_type": "code",
   "execution_count": 96,
   "id": "db75d135",
   "metadata": {},
   "outputs": [
    {
     "data": {
      "text/html": [
       "<table class=\"simpletable\">\n",
       "<caption>OLS Regression Results</caption>\n",
       "<tr>\n",
       "  <th>Dep. Variable:</th>          <td>Close</td>      <th>  R-squared:         </th> <td>   0.923</td>\n",
       "</tr>\n",
       "<tr>\n",
       "  <th>Model:</th>                   <td>OLS</td>       <th>  Adj. R-squared:    </th> <td>   0.911</td>\n",
       "</tr>\n",
       "<tr>\n",
       "  <th>Method:</th>             <td>Least Squares</td>  <th>  F-statistic:       </th> <td>   76.73</td>\n",
       "</tr>\n",
       "<tr>\n",
       "  <th>Date:</th>             <td>Wed, 30 Nov 2022</td> <th>  Prob (F-statistic):</th> <td>7.33e-17</td>\n",
       "</tr>\n",
       "<tr>\n",
       "  <th>Time:</th>                 <td>10:37:55</td>     <th>  Log-Likelihood:    </th> <td> -120.55</td>\n",
       "</tr>\n",
       "<tr>\n",
       "  <th>No. Observations:</th>      <td>    38</td>      <th>  AIC:               </th> <td>   253.1</td>\n",
       "</tr>\n",
       "<tr>\n",
       "  <th>Df Residuals:</th>          <td>    32</td>      <th>  BIC:               </th> <td>   262.9</td>\n",
       "</tr>\n",
       "<tr>\n",
       "  <th>Df Model:</th>              <td>     5</td>      <th>                     </th>     <td> </td>   \n",
       "</tr>\n",
       "<tr>\n",
       "  <th>Covariance Type:</th>      <td>nonrobust</td>    <th>                     </th>     <td> </td>   \n",
       "</tr>\n",
       "</table>\n",
       "<table class=\"simpletable\">\n",
       "<tr>\n",
       "      <td></td>         <th>coef</th>     <th>std err</th>      <th>t</th>      <th>P>|t|</th>  <th>[0.025</th>    <th>0.975]</th>  \n",
       "</tr>\n",
       "<tr>\n",
       "  <th>Intercept</th> <td>  -13.0015</td> <td>   35.281</td> <td>   -0.369</td> <td> 0.715</td> <td>  -84.867</td> <td>   58.864</td>\n",
       "</tr>\n",
       "<tr>\n",
       "  <th>Gold</th>      <td>    0.0547</td> <td>    0.008</td> <td>    6.550</td> <td> 0.000</td> <td>    0.038</td> <td>    0.072</td>\n",
       "</tr>\n",
       "<tr>\n",
       "  <th>Ether</th>     <td>   -0.0031</td> <td>    0.002</td> <td>   -1.544</td> <td> 0.132</td> <td>   -0.007</td> <td>    0.001</td>\n",
       "</tr>\n",
       "<tr>\n",
       "  <th>USD</th>       <td>    0.1726</td> <td>    0.343</td> <td>    0.503</td> <td> 0.619</td> <td>   -0.527</td> <td>    0.872</td>\n",
       "</tr>\n",
       "<tr>\n",
       "  <th>PPI</th>       <td>   -0.1718</td> <td>    0.052</td> <td>   -3.289</td> <td> 0.002</td> <td>   -0.278</td> <td>   -0.065</td>\n",
       "</tr>\n",
       "<tr>\n",
       "  <th>SPClose</th>   <td>    0.0190</td> <td>    0.005</td> <td>    3.485</td> <td> 0.001</td> <td>    0.008</td> <td>    0.030</td>\n",
       "</tr>\n",
       "</table>\n",
       "<table class=\"simpletable\">\n",
       "<tr>\n",
       "  <th>Omnibus:</th>       <td> 0.341</td> <th>  Durbin-Watson:     </th> <td>   1.778</td>\n",
       "</tr>\n",
       "<tr>\n",
       "  <th>Prob(Omnibus):</th> <td> 0.843</td> <th>  Jarque-Bera (JB):  </th> <td>   0.515</td>\n",
       "</tr>\n",
       "<tr>\n",
       "  <th>Skew:</th>          <td> 0.119</td> <th>  Prob(JB):          </th> <td>   0.773</td>\n",
       "</tr>\n",
       "<tr>\n",
       "  <th>Kurtosis:</th>      <td> 2.481</td> <th>  Cond. No.          </th> <td>1.44e+05</td>\n",
       "</tr>\n",
       "</table><br/><br/>Notes:<br/>[1] Standard Errors assume that the covariance matrix of the errors is correctly specified.<br/>[2] The condition number is large, 1.44e+05. This might indicate that there are<br/>strong multicollinearity or other numerical problems."
      ],
      "text/plain": [
       "<class 'statsmodels.iolib.summary.Summary'>\n",
       "\"\"\"\n",
       "                            OLS Regression Results                            \n",
       "==============================================================================\n",
       "Dep. Variable:                  Close   R-squared:                       0.923\n",
       "Model:                            OLS   Adj. R-squared:                  0.911\n",
       "Method:                 Least Squares   F-statistic:                     76.73\n",
       "Date:                Wed, 30 Nov 2022   Prob (F-statistic):           7.33e-17\n",
       "Time:                        10:37:55   Log-Likelihood:                -120.55\n",
       "No. Observations:                  38   AIC:                             253.1\n",
       "Df Residuals:                      32   BIC:                             262.9\n",
       "Df Model:                           5                                         \n",
       "Covariance Type:            nonrobust                                         \n",
       "==============================================================================\n",
       "                 coef    std err          t      P>|t|      [0.025      0.975]\n",
       "------------------------------------------------------------------------------\n",
       "Intercept    -13.0015     35.281     -0.369      0.715     -84.867      58.864\n",
       "Gold           0.0547      0.008      6.550      0.000       0.038       0.072\n",
       "Ether         -0.0031      0.002     -1.544      0.132      -0.007       0.001\n",
       "USD            0.1726      0.343      0.503      0.619      -0.527       0.872\n",
       "PPI           -0.1718      0.052     -3.289      0.002      -0.278      -0.065\n",
       "SPClose        0.0190      0.005      3.485      0.001       0.008       0.030\n",
       "==============================================================================\n",
       "Omnibus:                        0.341   Durbin-Watson:                   1.778\n",
       "Prob(Omnibus):                  0.843   Jarque-Bera (JB):                0.515\n",
       "Skew:                           0.119   Prob(JB):                        0.773\n",
       "Kurtosis:                       2.481   Cond. No.                     1.44e+05\n",
       "==============================================================================\n",
       "\n",
       "Notes:\n",
       "[1] Standard Errors assume that the covariance matrix of the errors is correctly specified.\n",
       "[2] The condition number is large, 1.44e+05. This might indicate that there are\n",
       "strong multicollinearity or other numerical problems.\n",
       "\"\"\""
      ]
     },
     "execution_count": 96,
     "metadata": {},
     "output_type": "execute_result"
    }
   ],
   "source": [
    "# Model displays a very high R-squared which is promising\n",
    "b_wmt = 'Close~Gold+Ether+USD+PPI+SPClose'\n",
    "\n",
    "model_wmt = ols(formula=b_wmt, data=WMT_lr).fit()\n",
    "model_wmt.summary()"
   ]
  },
  {
   "cell_type": "code",
   "execution_count": 97,
   "id": "5b8444b2",
   "metadata": {},
   "outputs": [
    {
     "name": "stdout",
     "output_type": "stream",
     "text": [
      "eval_env: 1\n"
     ]
    },
    {
     "data": {
      "image/png": "[encoded data removed]",
      "text/plain": [
       "<Figure size 1080x576 with 4 Axes>"
      ]
     },
     "metadata": {},
     "output_type": "display_data"
    }
   ],
   "source": [
    "# Visualize terms, specifically Gold\n",
    "\n",
    "fig = plt.figure(figsize=(15,8))\n",
    "fig = sm.graphics.plot_regress_exog(model_wmt, \"Gold\", fig=fig)\n",
    "plt.show()\n",
    "\n",
    "# the positive correlation in Y and Fitted vs. X graph shows that sqft_living and price are correlated. \n",
    "# this is heteroscedastic "
   ]
  },
  {
   "cell_type": "code",
   "execution_count": 98,
   "id": "63788f92",
   "metadata": {},
   "outputs": [
    {
     "data": {
      "text/plain": [
       "<AxesSubplot:>"
      ]
     },
     "execution_count": 98,
     "metadata": {},
     "output_type": "execute_result"
    },
    {
     "data": {
      "image/png": "[encoded data removed]",
      "text/plain": [
       "<Figure size 432x288 with 1 Axes>"
      ]
     },
     "metadata": {},
     "output_type": "display_data"
    }
   ],
   "source": [
    "# Gold\n",
    "\n",
    "WMT_lr['Gold'].hist()"
   ]
  },
  {
   "cell_type": "code",
   "execution_count": 99,
   "id": "5ce950bd",
   "metadata": {},
   "outputs": [
    {
     "name": "stderr",
     "output_type": "stream",
     "text": [
      "<ipython-input-99-5764b2ab2362>:3: SettingWithCopyWarning: \n",
      "A value is trying to be set on a copy of a slice from a DataFrame.\n",
      "Try using .loc[row_indexer,col_indexer] = value instead\n",
      "\n",
      "See the caveats in the documentation: https://pandas.pydata.org/pandas-docs/stable/user_guide/indexing.html#returning-a-view-versus-a-copy\n",
      "  WMT_lr['log_Gold'] = np.log(WMT_lr['Gold'])\n"
     ]
    },
    {
     "data": {
      "text/plain": [
       "<AxesSubplot:>"
      ]
     },
     "execution_count": 99,
     "metadata": {},
     "output_type": "execute_result"
    },
    {
     "data": {
      "image/png": "[encoded data removed]",
      "text/plain": [
       "<Figure size 432x288 with 1 Axes>"
      ]
     },
     "metadata": {},
     "output_type": "display_data"
    }
   ],
   "source": [
    "# in order to scale this distribution we will need to perform a log transform \n",
    "\n",
    "WMT_lr['log_Gold'] = np.log(WMT_lr['Gold'])\n",
    "WMT_lr['log_Gold'].hist()"
   ]
  },
  {
   "cell_type": "code",
   "execution_count": 100,
   "id": "c52f2b7e",
   "metadata": {},
   "outputs": [
    {
     "name": "stderr",
     "output_type": "stream",
     "text": [
      "<ipython-input-100-bc3558750060>:1: SettingWithCopyWarning: \n",
      "A value is trying to be set on a copy of a slice from a DataFrame.\n",
      "Try using .loc[row_indexer,col_indexer] = value instead\n",
      "\n",
      "See the caveats in the documentation: https://pandas.pydata.org/pandas-docs/stable/user_guide/indexing.html#returning-a-view-versus-a-copy\n",
      "  WMT_lr['log_Close'] = np.log(WMT_lr['Close'])\n"
     ]
    },
    {
     "data": {
      "text/plain": [
       "<AxesSubplot:>"
      ]
     },
     "execution_count": 100,
     "metadata": {},
     "output_type": "execute_result"
    },
    {
     "data": {
      "image/png": "[encoded data removed]",
      "text/plain": [
       "<Figure size 432x288 with 1 Axes>"
      ]
     },
     "metadata": {},
     "output_type": "display_data"
    }
   ],
   "source": [
    "WMT_lr['log_Close'] = np.log(WMT_lr['Close'])\n",
    "WMT_lr['log_Close'].hist()"
   ]
  },
  {
   "cell_type": "code",
   "execution_count": 101,
   "id": "52110cc9",
   "metadata": {},
   "outputs": [
    {
     "data": {
      "text/html": [
       "<table class=\"simpletable\">\n",
       "<caption>OLS Regression Results</caption>\n",
       "<tr>\n",
       "  <th>Dep. Variable:</th>        <td>log_Close</td>    <th>  R-squared:         </th> <td>   0.920</td>\n",
       "</tr>\n",
       "<tr>\n",
       "  <th>Model:</th>                   <td>OLS</td>       <th>  Adj. R-squared:    </th> <td>   0.908</td>\n",
       "</tr>\n",
       "<tr>\n",
       "  <th>Method:</th>             <td>Least Squares</td>  <th>  F-statistic:       </th> <td>   73.94</td>\n",
       "</tr>\n",
       "<tr>\n",
       "  <th>Date:</th>             <td>Wed, 30 Nov 2022</td> <th>  Prob (F-statistic):</th> <td>1.26e-16</td>\n",
       "</tr>\n",
       "<tr>\n",
       "  <th>Time:</th>                 <td>10:37:56</td>     <th>  Log-Likelihood:    </th> <td>  59.517</td>\n",
       "</tr>\n",
       "<tr>\n",
       "  <th>No. Observations:</th>      <td>    38</td>      <th>  AIC:               </th> <td>  -107.0</td>\n",
       "</tr>\n",
       "<tr>\n",
       "  <th>Df Residuals:</th>          <td>    32</td>      <th>  BIC:               </th> <td>  -97.21</td>\n",
       "</tr>\n",
       "<tr>\n",
       "  <th>Df Model:</th>              <td>     5</td>      <th>                     </th>     <td> </td>   \n",
       "</tr>\n",
       "<tr>\n",
       "  <th>Covariance Type:</th>      <td>nonrobust</td>    <th>                     </th>     <td> </td>   \n",
       "</tr>\n",
       "</table>\n",
       "<table class=\"simpletable\">\n",
       "<tr>\n",
       "      <td></td>         <th>coef</th>     <th>std err</th>      <th>t</th>      <th>P>|t|</th>  <th>[0.025</th>    <th>0.975]</th>  \n",
       "</tr>\n",
       "<tr>\n",
       "  <th>Intercept</th> <td>   -1.0670</td> <td>    0.650</td> <td>   -1.642</td> <td> 0.110</td> <td>   -2.391</td> <td>    0.257</td>\n",
       "</tr>\n",
       "<tr>\n",
       "  <th>log_Gold</th>  <td>    0.7166</td> <td>    0.113</td> <td>    6.331</td> <td> 0.000</td> <td>    0.486</td> <td>    0.947</td>\n",
       "</tr>\n",
       "<tr>\n",
       "  <th>Ether</th>     <td>-3.057e-05</td> <td> 1.74e-05</td> <td>   -1.754</td> <td> 0.089</td> <td>-6.61e-05</td> <td> 4.94e-06</td>\n",
       "</tr>\n",
       "<tr>\n",
       "  <th>USD</th>       <td>    0.0028</td> <td>    0.003</td> <td>    0.912</td> <td> 0.368</td> <td>   -0.003</td> <td>    0.009</td>\n",
       "</tr>\n",
       "<tr>\n",
       "  <th>PPI</th>       <td>   -0.0015</td> <td>    0.000</td> <td>   -3.168</td> <td> 0.003</td> <td>   -0.002</td> <td>   -0.001</td>\n",
       "</tr>\n",
       "<tr>\n",
       "  <th>SPClose</th>   <td>    0.0002</td> <td> 4.75e-05</td> <td>    3.553</td> <td> 0.001</td> <td> 7.21e-05</td> <td>    0.000</td>\n",
       "</tr>\n",
       "</table>\n",
       "<table class=\"simpletable\">\n",
       "<tr>\n",
       "  <th>Omnibus:</th>       <td> 0.350</td> <th>  Durbin-Watson:     </th> <td>   1.528</td>\n",
       "</tr>\n",
       "<tr>\n",
       "  <th>Prob(Omnibus):</th> <td> 0.839</td> <th>  Jarque-Bera (JB):  </th> <td>   0.335</td>\n",
       "</tr>\n",
       "<tr>\n",
       "  <th>Skew:</th>          <td>-0.203</td> <th>  Prob(JB):          </th> <td>   0.846</td>\n",
       "</tr>\n",
       "<tr>\n",
       "  <th>Kurtosis:</th>      <td> 2.783</td> <th>  Cond. No.          </th> <td>2.83e+05</td>\n",
       "</tr>\n",
       "</table><br/><br/>Notes:<br/>[1] Standard Errors assume that the covariance matrix of the errors is correctly specified.<br/>[2] The condition number is large, 2.83e+05. This might indicate that there are<br/>strong multicollinearity or other numerical problems."
      ],
      "text/plain": [
       "<class 'statsmodels.iolib.summary.Summary'>\n",
       "\"\"\"\n",
       "                            OLS Regression Results                            \n",
       "==============================================================================\n",
       "Dep. Variable:              log_Close   R-squared:                       0.920\n",
       "Model:                            OLS   Adj. R-squared:                  0.908\n",
       "Method:                 Least Squares   F-statistic:                     73.94\n",
       "Date:                Wed, 30 Nov 2022   Prob (F-statistic):           1.26e-16\n",
       "Time:                        10:37:56   Log-Likelihood:                 59.517\n",
       "No. Observations:                  38   AIC:                            -107.0\n",
       "Df Residuals:                      32   BIC:                            -97.21\n",
       "Df Model:                           5                                         \n",
       "Covariance Type:            nonrobust                                         \n",
       "==============================================================================\n",
       "                 coef    std err          t      P>|t|      [0.025      0.975]\n",
       "------------------------------------------------------------------------------\n",
       "Intercept     -1.0670      0.650     -1.642      0.110      -2.391       0.257\n",
       "log_Gold       0.7166      0.113      6.331      0.000       0.486       0.947\n",
       "Ether      -3.057e-05   1.74e-05     -1.754      0.089   -6.61e-05    4.94e-06\n",
       "USD            0.0028      0.003      0.912      0.368      -0.003       0.009\n",
       "PPI           -0.0015      0.000     -3.168      0.003      -0.002      -0.001\n",
       "SPClose        0.0002   4.75e-05      3.553      0.001    7.21e-05       0.000\n",
       "==============================================================================\n",
       "Omnibus:                        0.350   Durbin-Watson:                   1.528\n",
       "Prob(Omnibus):                  0.839   Jarque-Bera (JB):                0.335\n",
       "Skew:                          -0.203   Prob(JB):                        0.846\n",
       "Kurtosis:                       2.783   Cond. No.                     2.83e+05\n",
       "==============================================================================\n",
       "\n",
       "Notes:\n",
       "[1] Standard Errors assume that the covariance matrix of the errors is correctly specified.\n",
       "[2] The condition number is large, 2.83e+05. This might indicate that there are\n",
       "strong multicollinearity or other numerical problems.\n",
       "\"\"\""
      ]
     },
     "execution_count": 101,
     "metadata": {},
     "output_type": "execute_result"
    }
   ],
   "source": [
    "# final model\n",
    "\n",
    "b2_wmt = 'log_Close~log_Gold+Ether+USD+PPI+SPClose'\n",
    "\n",
    "model2_wmt = ols(formula=b2_wmt, data=WMT_lr).fit()\n",
    "model2_wmt.summary()"
   ]
  },
  {
   "cell_type": "code",
   "execution_count": 102,
   "id": "7c72e078",
   "metadata": {},
   "outputs": [
    {
     "name": "stderr",
     "output_type": "stream",
     "text": [
      "<ipython-input-102-06ae57e86191>:3: UserWarning: Matplotlib is currently using module://ipykernel.pylab.backend_inline, which is a non-GUI backend, so cannot show the figure.\n",
      "  fig.show()\n"
     ]
    },
    {
     "data": {
      "image/png": "[encoded data removed]",
      "text/plain": [
       "<Figure size 432x288 with 1 Axes>"
      ]
     },
     "metadata": {},
     "output_type": "display_data"
    }
   ],
   "source": [
    "residuals_wmt = model2_wmt.resid\n",
    "fig = sm.graphics.qqplot(residuals_wmt, dist=stats.norm, line='45', fit=True)\n",
    "fig.show()\n",
    "\n",
    "# Q-Q plot shows normality of distribution "
   ]
  },
  {
   "cell_type": "code",
   "execution_count": 103,
   "id": "9ef49ba6",
   "metadata": {},
   "outputs": [
    {
     "data": {
      "text/plain": [
       "<AxesSubplot:>"
      ]
     },
     "execution_count": 103,
     "metadata": {},
     "output_type": "execute_result"
    },
    {
     "data": {
      "image/png": "[encoded data removed]",
      "text/plain": [
       "<Figure size 432x288 with 1 Axes>"
      ]
     },
     "metadata": {},
     "output_type": "display_data"
    }
   ],
   "source": [
    "# This histogram shows the normal distribution\n",
    "\n",
    "residuals_wmt.hist()"
   ]
  },
  {
   "cell_type": "code",
   "execution_count": 104,
   "id": "b6477bb4",
   "metadata": {},
   "outputs": [
    {
     "name": "stdout",
     "output_type": "stream",
     "text": [
      "{'Test Statistic': 22.726814845470095, 'Test Statistic p-value': 0.3024067573169622, 'F-Statistic': 1.2648175493976828, 'F-Test p-value': 0.314911926543559}\n"
     ]
    }
   ],
   "source": [
    "# Perform White's test \n",
    "\n",
    "white_test_wmt = het_white(model_wmt.resid, model_wmt.model.exog)\n",
    "\n",
    "# define labels to use for output of White's test\n",
    "labels = ['Test Statistic', 'Test Statistic p-value', 'F-Statistic', 'F-Test p-value']\n",
    "\n",
    "# print results of White's test\n",
    "print(dict(zip(labels, white_test_wmt)))\n",
    "\n",
    "# p-value is small which shows that the residuals are homoscedastic and therefore evenly distributed"
   ]
  },
  {
   "cell_type": "code",
   "execution_count": 105,
   "id": "226eec09",
   "metadata": {},
   "outputs": [],
   "source": [
    "residuals_wmt = model2_wmt.resid"
   ]
  },
  {
   "cell_type": "code",
   "execution_count": 107,
   "id": "6a030e09",
   "metadata": {},
   "outputs": [
    {
     "ename": "AttributeError",
     "evalue": "'OLSResults' object has no attribute 'drop'",
     "output_type": "error",
     "traceback": [
      "\u001b[0;31m---------------------------------------------------------------------------\u001b[0m",
      "\u001b[0;31mAttributeError\u001b[0m                            Traceback (most recent call last)",
      "\u001b[0;32m<ipython-input-107-b987e8355dea>\u001b[0m in \u001b[0;36m<module>\u001b[0;34m\u001b[0m\n\u001b[0;32m----> 1\u001b[0;31m \u001b[0mX\u001b[0m \u001b[0;34m=\u001b[0m \u001b[0mmodel2_wmt\u001b[0m\u001b[0;34m.\u001b[0m\u001b[0mdrop\u001b[0m\u001b[0;34m(\u001b[0m\u001b[0;34m[\u001b[0m\u001b[0;34m'Close'\u001b[0m\u001b[0;34m,\u001b[0m \u001b[0;34m'log_Close'\u001b[0m\u001b[0;34m]\u001b[0m\u001b[0;34m,\u001b[0m \u001b[0maxis\u001b[0m\u001b[0;34m=\u001b[0m\u001b[0;36m1\u001b[0m\u001b[0;34m)\u001b[0m\u001b[0;34m\u001b[0m\u001b[0;34m\u001b[0m\u001b[0m\n\u001b[0m\u001b[1;32m      2\u001b[0m \u001b[0;34m\u001b[0m\u001b[0m\n\u001b[1;32m      3\u001b[0m \u001b[0my_pred\u001b[0m \u001b[0;34m=\u001b[0m \u001b[0mmodel2_wmt\u001b[0m\u001b[0;34m.\u001b[0m\u001b[0mpredict\u001b[0m\u001b[0;34m(\u001b[0m\u001b[0mX\u001b[0m\u001b[0;34m)\u001b[0m\u001b[0;34m\u001b[0m\u001b[0;34m\u001b[0m\u001b[0m\n",
      "\u001b[0;32m/opt/anaconda3/lib/python3.8/site-packages/statsmodels/base/wrapper.py\u001b[0m in \u001b[0;36m__getattribute__\u001b[0;34m(self, attr)\u001b[0m\n\u001b[1;32m     32\u001b[0m             \u001b[0;32mpass\u001b[0m\u001b[0;34m\u001b[0m\u001b[0;34m\u001b[0m\u001b[0m\n\u001b[1;32m     33\u001b[0m \u001b[0;34m\u001b[0m\u001b[0m\n\u001b[0;32m---> 34\u001b[0;31m         \u001b[0mobj\u001b[0m \u001b[0;34m=\u001b[0m \u001b[0mgetattr\u001b[0m\u001b[0;34m(\u001b[0m\u001b[0mresults\u001b[0m\u001b[0;34m,\u001b[0m \u001b[0mattr\u001b[0m\u001b[0;34m)\u001b[0m\u001b[0;34m\u001b[0m\u001b[0;34m\u001b[0m\u001b[0m\n\u001b[0m\u001b[1;32m     35\u001b[0m         \u001b[0mdata\u001b[0m \u001b[0;34m=\u001b[0m \u001b[0mresults\u001b[0m\u001b[0;34m.\u001b[0m\u001b[0mmodel\u001b[0m\u001b[0;34m.\u001b[0m\u001b[0mdata\u001b[0m\u001b[0;34m\u001b[0m\u001b[0;34m\u001b[0m\u001b[0m\n\u001b[1;32m     36\u001b[0m         \u001b[0mhow\u001b[0m \u001b[0;34m=\u001b[0m \u001b[0mself\u001b[0m\u001b[0;34m.\u001b[0m\u001b[0m_wrap_attrs\u001b[0m\u001b[0;34m.\u001b[0m\u001b[0mget\u001b[0m\u001b[0;34m(\u001b[0m\u001b[0mattr\u001b[0m\u001b[0;34m)\u001b[0m\u001b[0;34m\u001b[0m\u001b[0;34m\u001b[0m\u001b[0m\n",
      "\u001b[0;31mAttributeError\u001b[0m: 'OLSResults' object has no attribute 'drop'"
     ]
    }
   ],
   "source": [
    "X = model2_wmt.drop(['Close', 'log_Close'], axis=1)\n",
    "\n",
    "y_pred = model2_wmt.predict(X)"
   ]
  },
  {
   "cell_type": "code",
   "execution_count": 110,
   "id": "0efd6b63",
   "metadata": {},
   "outputs": [
    {
     "ename": "NameError",
     "evalue": "name 'y_pred' is not defined",
     "output_type": "error",
     "traceback": [
      "\u001b[0;31m---------------------------------------------------------------------------\u001b[0m",
      "\u001b[0;31mNameError\u001b[0m                                 Traceback (most recent call last)",
      "\u001b[0;32m<ipython-input-110-8e324d05ab14>\u001b[0m in \u001b[0;36m<module>\u001b[0;34m\u001b[0m\n\u001b[0;32m----> 1\u001b[0;31m \u001b[0msns\u001b[0m\u001b[0;34m.\u001b[0m\u001b[0mscatterplot\u001b[0m\u001b[0;34m(\u001b[0m\u001b[0my_pred\u001b[0m\u001b[0;34m,\u001b[0m\u001b[0mresiduals\u001b[0m\u001b[0;34m)\u001b[0m\u001b[0;34m\u001b[0m\u001b[0;34m\u001b[0m\u001b[0m\n\u001b[0m",
      "\u001b[0;31mNameError\u001b[0m: name 'y_pred' is not defined"
     ]
    }
   ],
   "source": [
    "sns.scatterplot(y_pred,residuals)"
   ]
  },
  {
   "cell_type": "code",
   "execution_count": null,
   "id": "a9f2e17f",
   "metadata": {},
   "outputs": [],
   "source": []
  }
 ],
 "metadata": {
  "kernelspec": {
   "display_name": "Python 3",
   "language": "python",
   "name": "python3"
  },
  "language_info": {
   "codemirror_mode": {
    "name": "ipython",
    "version": 3
   },
   "file_extension": ".py",
   "mimetype": "text/x-python",
   "name": "python",
   "nbconvert_exporter": "python",
   "pygments_lexer": "ipython3",
   "version": "3.8.8"
  }
 },
 "nbformat": 4,
 "nbformat_minor": 5
}
