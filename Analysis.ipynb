{
 "cells": [
  {
   "cell_type": "markdown",
   "id": "2077f0e3",
   "metadata": {},
   "source": [
    "# Defensive Stock Analysis"
   ]
  },
  {
   "cell_type": "code",
   "execution_count": 1,
   "id": "9a27ba23",
   "metadata": {},
   "outputs": [],
   "source": [
    "import pandas as pd\n",
    "import numpy as np\n",
    "import matplotlib.pyplot as plt\n",
    "import seaborn as sns\n",
    "import itertools\n",
    "import zipfile\n",
    "import time\n",
    "from datetime import datetime\n",
    "\n",
    "%matplotlib inline"
   ]
  },
  {
   "cell_type": "code",
   "execution_count": 2,
   "id": "5569d3ec",
   "metadata": {},
   "outputs": [],
   "source": [
    "# with zipfile.ZipFile(\"Data/archive.zip\") as zip_ref:\n",
    "#     zip_ref.extractall(\"Data\")"
   ]
  },
  {
   "cell_type": "code",
   "execution_count": 3,
   "id": "e3de261e",
   "metadata": {},
   "outputs": [],
   "source": [
    "df1 = pd.read_csv('Data/sp500_companies.csv')\n",
    "df2 = pd.read_csv('Data/sp500_index.csv')\n",
    "df3 = pd.read_csv('Data/sp500_stocks.csv')"
   ]
  },
  {
   "cell_type": "markdown",
   "id": "0e7a2653",
   "metadata": {},
   "source": [
    "#### Dataset #1"
   ]
  },
  {
   "cell_type": "code",
   "execution_count": 4,
   "id": "7e14fb9b",
   "metadata": {},
   "outputs": [
    {
     "data": {
      "text/html": [
       "<div>\n",
       "<style scoped>\n",
       "    .dataframe tbody tr th:only-of-type {\n",
       "        vertical-align: middle;\n",
       "    }\n",
       "\n",
       "    .dataframe tbody tr th {\n",
       "        vertical-align: top;\n",
       "    }\n",
       "\n",
       "    .dataframe thead th {\n",
       "        text-align: right;\n",
       "    }\n",
       "</style>\n",
       "<table border=\"1\" class=\"dataframe\">\n",
       "  <thead>\n",
       "    <tr style=\"text-align: right;\">\n",
       "      <th></th>\n",
       "      <th>Exchange</th>\n",
       "      <th>Symbol</th>\n",
       "      <th>Shortname</th>\n",
       "      <th>Longname</th>\n",
       "      <th>Sector</th>\n",
       "      <th>Industry</th>\n",
       "      <th>Currentprice</th>\n",
       "      <th>Marketcap</th>\n",
       "      <th>Ebitda</th>\n",
       "      <th>Revenuegrowth</th>\n",
       "      <th>City</th>\n",
       "      <th>State</th>\n",
       "      <th>Country</th>\n",
       "      <th>Fulltimeemployees</th>\n",
       "      <th>Longbusinesssummary</th>\n",
       "      <th>Weight</th>\n",
       "    </tr>\n",
       "  </thead>\n",
       "  <tbody>\n",
       "    <tr>\n",
       "      <th>0</th>\n",
       "      <td>NMS</td>\n",
       "      <td>AAPL</td>\n",
       "      <td>Apple Inc.</td>\n",
       "      <td>Apple Inc.</td>\n",
       "      <td>Technology</td>\n",
       "      <td>Consumer Electronics</td>\n",
       "      <td>149.70</td>\n",
       "      <td>2381442449408</td>\n",
       "      <td>1.305410e+11</td>\n",
       "      <td>0.081</td>\n",
       "      <td>Cupertino</td>\n",
       "      <td>CA</td>\n",
       "      <td>United States</td>\n",
       "      <td>164000.0</td>\n",
       "      <td>Apple Inc. designs, manufactures, and markets ...</td>\n",
       "      <td>0.067072</td>\n",
       "    </tr>\n",
       "    <tr>\n",
       "      <th>1</th>\n",
       "      <td>NMS</td>\n",
       "      <td>MSFT</td>\n",
       "      <td>Microsoft Corporation</td>\n",
       "      <td>Microsoft Corporation</td>\n",
       "      <td>Technology</td>\n",
       "      <td>Software—Infrastructure</td>\n",
       "      <td>247.11</td>\n",
       "      <td>1855296897024</td>\n",
       "      <td>9.798300e+10</td>\n",
       "      <td>0.124</td>\n",
       "      <td>Redmond</td>\n",
       "      <td>WA</td>\n",
       "      <td>United States</td>\n",
       "      <td>221000.0</td>\n",
       "      <td>Microsoft Corporation develops, licenses, and ...</td>\n",
       "      <td>0.052254</td>\n",
       "    </tr>\n",
       "    <tr>\n",
       "      <th>2</th>\n",
       "      <td>NMS</td>\n",
       "      <td>GOOGL</td>\n",
       "      <td>Alphabet Inc.</td>\n",
       "      <td>Alphabet Inc.</td>\n",
       "      <td>Communication Services</td>\n",
       "      <td>Internet Content &amp; Information</td>\n",
       "      <td>96.41</td>\n",
       "      <td>1249782136832</td>\n",
       "      <td>9.373300e+10</td>\n",
       "      <td>0.061</td>\n",
       "      <td>Mountain View</td>\n",
       "      <td>CA</td>\n",
       "      <td>United States</td>\n",
       "      <td>186779.0</td>\n",
       "      <td>Alphabet Inc. provides various products and pl...</td>\n",
       "      <td>0.035200</td>\n",
       "    </tr>\n",
       "    <tr>\n",
       "      <th>3</th>\n",
       "      <td>NMS</td>\n",
       "      <td>GOOG</td>\n",
       "      <td>Alphabet Inc.</td>\n",
       "      <td>Alphabet Inc.</td>\n",
       "      <td>Communication Services</td>\n",
       "      <td>Internet Content &amp; Information</td>\n",
       "      <td>96.73</td>\n",
       "      <td>1249780563968</td>\n",
       "      <td>9.373300e+10</td>\n",
       "      <td>0.061</td>\n",
       "      <td>Mountain View</td>\n",
       "      <td>CA</td>\n",
       "      <td>United States</td>\n",
       "      <td>186779.0</td>\n",
       "      <td>Alphabet Inc. provides various products and pl...</td>\n",
       "      <td>0.035200</td>\n",
       "    </tr>\n",
       "    <tr>\n",
       "      <th>4</th>\n",
       "      <td>NMS</td>\n",
       "      <td>AMZN</td>\n",
       "      <td>Amazon.com, Inc.</td>\n",
       "      <td>Amazon.com, Inc.</td>\n",
       "      <td>Consumer Cyclical</td>\n",
       "      <td>Internet Retail</td>\n",
       "      <td>100.79</td>\n",
       "      <td>1028229365760</td>\n",
       "      <td>5.154900e+10</td>\n",
       "      <td>0.147</td>\n",
       "      <td>Seattle</td>\n",
       "      <td>WA</td>\n",
       "      <td>United States</td>\n",
       "      <td>1544000.0</td>\n",
       "      <td>Amazon.com, Inc. engages in the retail sale of...</td>\n",
       "      <td>0.028960</td>\n",
       "    </tr>\n",
       "  </tbody>\n",
       "</table>\n",
       "</div>"
      ],
      "text/plain": [
       "  Exchange Symbol              Shortname               Longname  \\\n",
       "0      NMS   AAPL             Apple Inc.             Apple Inc.   \n",
       "1      NMS   MSFT  Microsoft Corporation  Microsoft Corporation   \n",
       "2      NMS  GOOGL          Alphabet Inc.          Alphabet Inc.   \n",
       "3      NMS   GOOG          Alphabet Inc.          Alphabet Inc.   \n",
       "4      NMS   AMZN       Amazon.com, Inc.       Amazon.com, Inc.   \n",
       "\n",
       "                   Sector                        Industry  Currentprice  \\\n",
       "0              Technology            Consumer Electronics        149.70   \n",
       "1              Technology         Software—Infrastructure        247.11   \n",
       "2  Communication Services  Internet Content & Information         96.41   \n",
       "3  Communication Services  Internet Content & Information         96.73   \n",
       "4       Consumer Cyclical                 Internet Retail        100.79   \n",
       "\n",
       "       Marketcap        Ebitda  Revenuegrowth           City State  \\\n",
       "0  2381442449408  1.305410e+11          0.081      Cupertino    CA   \n",
       "1  1855296897024  9.798300e+10          0.124        Redmond    WA   \n",
       "2  1249782136832  9.373300e+10          0.061  Mountain View    CA   \n",
       "3  1249780563968  9.373300e+10          0.061  Mountain View    CA   \n",
       "4  1028229365760  5.154900e+10          0.147        Seattle    WA   \n",
       "\n",
       "         Country  Fulltimeemployees  \\\n",
       "0  United States           164000.0   \n",
       "1  United States           221000.0   \n",
       "2  United States           186779.0   \n",
       "3  United States           186779.0   \n",
       "4  United States          1544000.0   \n",
       "\n",
       "                                 Longbusinesssummary    Weight  \n",
       "0  Apple Inc. designs, manufactures, and markets ...  0.067072  \n",
       "1  Microsoft Corporation develops, licenses, and ...  0.052254  \n",
       "2  Alphabet Inc. provides various products and pl...  0.035200  \n",
       "3  Alphabet Inc. provides various products and pl...  0.035200  \n",
       "4  Amazon.com, Inc. engages in the retail sale of...  0.028960  "
      ]
     },
     "execution_count": 4,
     "metadata": {},
     "output_type": "execute_result"
    }
   ],
   "source": [
    "df1.head()"
   ]
  },
  {
   "cell_type": "code",
   "execution_count": 5,
   "id": "a294d236",
   "metadata": {},
   "outputs": [
    {
     "data": {
      "text/html": [
       "<div>\n",
       "<style scoped>\n",
       "    .dataframe tbody tr th:only-of-type {\n",
       "        vertical-align: middle;\n",
       "    }\n",
       "\n",
       "    .dataframe tbody tr th {\n",
       "        vertical-align: top;\n",
       "    }\n",
       "\n",
       "    .dataframe thead th {\n",
       "        text-align: right;\n",
       "    }\n",
       "</style>\n",
       "<table border=\"1\" class=\"dataframe\">\n",
       "  <thead>\n",
       "    <tr style=\"text-align: right;\">\n",
       "      <th></th>\n",
       "      <th>Exchange</th>\n",
       "      <th>Symbol</th>\n",
       "      <th>Shortname</th>\n",
       "      <th>Longname</th>\n",
       "      <th>Sector</th>\n",
       "      <th>Industry</th>\n",
       "      <th>Currentprice</th>\n",
       "      <th>Marketcap</th>\n",
       "      <th>Ebitda</th>\n",
       "      <th>Revenuegrowth</th>\n",
       "      <th>City</th>\n",
       "      <th>State</th>\n",
       "      <th>Country</th>\n",
       "      <th>Fulltimeemployees</th>\n",
       "      <th>Longbusinesssummary</th>\n",
       "      <th>Weight</th>\n",
       "    </tr>\n",
       "  </thead>\n",
       "  <tbody>\n",
       "    <tr>\n",
       "      <th>11</th>\n",
       "      <td>NYQ</td>\n",
       "      <td>WMT</td>\n",
       "      <td>Walmart Inc.</td>\n",
       "      <td>Walmart Inc.</td>\n",
       "      <td>Consumer Defensive</td>\n",
       "      <td>Discount Stores</td>\n",
       "      <td>142.58</td>\n",
       "      <td>395499831296</td>\n",
       "      <td>3.458600e+10</td>\n",
       "      <td>0.084</td>\n",
       "      <td>Bentonville</td>\n",
       "      <td>AR</td>\n",
       "      <td>United States</td>\n",
       "      <td>2300000.0</td>\n",
       "      <td>Walmart Inc. engages in the operation of retai...</td>\n",
       "      <td>0.011139</td>\n",
       "    </tr>\n",
       "    <tr>\n",
       "      <th>13</th>\n",
       "      <td>NYQ</td>\n",
       "      <td>PG</td>\n",
       "      <td>Procter &amp; Gamble Company (The)</td>\n",
       "      <td>The Procter &amp; Gamble Company</td>\n",
       "      <td>Consumer Defensive</td>\n",
       "      <td>Household &amp; Personal Products</td>\n",
       "      <td>140.97</td>\n",
       "      <td>341140373504</td>\n",
       "      <td>2.136400e+10</td>\n",
       "      <td>0.013</td>\n",
       "      <td>Cincinnati</td>\n",
       "      <td>OH</td>\n",
       "      <td>United States</td>\n",
       "      <td>106000.0</td>\n",
       "      <td>The Procter &amp; Gamble Company provides branded ...</td>\n",
       "      <td>0.009608</td>\n",
       "    </tr>\n",
       "    <tr>\n",
       "      <th>20</th>\n",
       "      <td>NYQ</td>\n",
       "      <td>KO</td>\n",
       "      <td>Coca-Cola Company (The)</td>\n",
       "      <td>The Coca-Cola Company</td>\n",
       "      <td>Consumer Defensive</td>\n",
       "      <td>Beverages—Non-Alcoholic</td>\n",
       "      <td>61.32</td>\n",
       "      <td>264866824192</td>\n",
       "      <td>1.341400e+10</td>\n",
       "      <td>0.102</td>\n",
       "      <td>Atlanta</td>\n",
       "      <td>GA</td>\n",
       "      <td>United States</td>\n",
       "      <td>79000.0</td>\n",
       "      <td>The Coca-Cola Company, a beverage company, man...</td>\n",
       "      <td>0.007460</td>\n",
       "    </tr>\n",
       "    <tr>\n",
       "      <th>22</th>\n",
       "      <td>NMS</td>\n",
       "      <td>PEP</td>\n",
       "      <td>Pepsico, Inc.</td>\n",
       "      <td>PepsiCo, Inc.</td>\n",
       "      <td>Consumer Defensive</td>\n",
       "      <td>Beverages—Non-Alcoholic</td>\n",
       "      <td>178.05</td>\n",
       "      <td>246180839424</td>\n",
       "      <td>1.515600e+10</td>\n",
       "      <td>0.088</td>\n",
       "      <td>Purchase</td>\n",
       "      <td>NY</td>\n",
       "      <td>United States</td>\n",
       "      <td>309000.0</td>\n",
       "      <td>PepsiCo, Inc. manufactures, markets, distribut...</td>\n",
       "      <td>0.006934</td>\n",
       "    </tr>\n",
       "    <tr>\n",
       "      <th>23</th>\n",
       "      <td>NMS</td>\n",
       "      <td>COST</td>\n",
       "      <td>Costco Wholesale Corporation</td>\n",
       "      <td>Costco Wholesale Corporation</td>\n",
       "      <td>Consumer Defensive</td>\n",
       "      <td>Discount Stores</td>\n",
       "      <td>515.47</td>\n",
       "      <td>228575887360</td>\n",
       "      <td>9.693000e+09</td>\n",
       "      <td>0.150</td>\n",
       "      <td>Issaquah</td>\n",
       "      <td>WA</td>\n",
       "      <td>United States</td>\n",
       "      <td>304000.0</td>\n",
       "      <td>Costco Wholesale Corporation, together with it...</td>\n",
       "      <td>0.006438</td>\n",
       "    </tr>\n",
       "  </tbody>\n",
       "</table>\n",
       "</div>"
      ],
      "text/plain": [
       "   Exchange Symbol                       Shortname  \\\n",
       "11      NYQ    WMT                    Walmart Inc.   \n",
       "13      NYQ     PG  Procter & Gamble Company (The)   \n",
       "20      NYQ     KO         Coca-Cola Company (The)   \n",
       "22      NMS    PEP                   Pepsico, Inc.   \n",
       "23      NMS   COST    Costco Wholesale Corporation   \n",
       "\n",
       "                        Longname              Sector  \\\n",
       "11                  Walmart Inc.  Consumer Defensive   \n",
       "13  The Procter & Gamble Company  Consumer Defensive   \n",
       "20         The Coca-Cola Company  Consumer Defensive   \n",
       "22                 PepsiCo, Inc.  Consumer Defensive   \n",
       "23  Costco Wholesale Corporation  Consumer Defensive   \n",
       "\n",
       "                         Industry  Currentprice     Marketcap        Ebitda  \\\n",
       "11                Discount Stores        142.58  395499831296  3.458600e+10   \n",
       "13  Household & Personal Products        140.97  341140373504  2.136400e+10   \n",
       "20        Beverages—Non-Alcoholic         61.32  264866824192  1.341400e+10   \n",
       "22        Beverages—Non-Alcoholic        178.05  246180839424  1.515600e+10   \n",
       "23                Discount Stores        515.47  228575887360  9.693000e+09   \n",
       "\n",
       "    Revenuegrowth         City State        Country  Fulltimeemployees  \\\n",
       "11          0.084  Bentonville    AR  United States          2300000.0   \n",
       "13          0.013   Cincinnati    OH  United States           106000.0   \n",
       "20          0.102      Atlanta    GA  United States            79000.0   \n",
       "22          0.088     Purchase    NY  United States           309000.0   \n",
       "23          0.150     Issaquah    WA  United States           304000.0   \n",
       "\n",
       "                                  Longbusinesssummary    Weight  \n",
       "11  Walmart Inc. engages in the operation of retai...  0.011139  \n",
       "13  The Procter & Gamble Company provides branded ...  0.009608  \n",
       "20  The Coca-Cola Company, a beverage company, man...  0.007460  \n",
       "22  PepsiCo, Inc. manufactures, markets, distribut...  0.006934  \n",
       "23  Costco Wholesale Corporation, together with it...  0.006438  "
      ]
     },
     "execution_count": 5,
     "metadata": {},
     "output_type": "execute_result"
    }
   ],
   "source": [
    "df1 = df1[df1['Sector'] == 'Consumer Defensive']\n",
    "df1.head()"
   ]
  },
  {
   "cell_type": "markdown",
   "id": "f44ac9f3",
   "metadata": {},
   "source": [
    "#### Dataset #2"
   ]
  },
  {
   "cell_type": "code",
   "execution_count": 6,
   "id": "a70666f8",
   "metadata": {},
   "outputs": [
    {
     "name": "stdout",
     "output_type": "stream",
     "text": [
      "<class 'pandas.core.frame.DataFrame'>\n",
      "RangeIndex: 2519 entries, 0 to 2518\n",
      "Data columns (total 2 columns):\n",
      " #   Column  Non-Null Count  Dtype  \n",
      "---  ------  --------------  -----  \n",
      " 0   Date    2519 non-null   object \n",
      " 1   S&P500  2519 non-null   float64\n",
      "dtypes: float64(1), object(1)\n",
      "memory usage: 39.5+ KB\n"
     ]
    }
   ],
   "source": [
    "df2.info()"
   ]
  },
  {
   "cell_type": "code",
   "execution_count": 7,
   "id": "f0dae194",
   "metadata": {},
   "outputs": [
    {
     "data": {
      "text/html": [
       "<div>\n",
       "<style scoped>\n",
       "    .dataframe tbody tr th:only-of-type {\n",
       "        vertical-align: middle;\n",
       "    }\n",
       "\n",
       "    .dataframe tbody tr th {\n",
       "        vertical-align: top;\n",
       "    }\n",
       "\n",
       "    .dataframe thead th {\n",
       "        text-align: right;\n",
       "    }\n",
       "</style>\n",
       "<table border=\"1\" class=\"dataframe\">\n",
       "  <thead>\n",
       "    <tr style=\"text-align: right;\">\n",
       "      <th></th>\n",
       "      <th>Date</th>\n",
       "      <th>S&amp;P500</th>\n",
       "    </tr>\n",
       "  </thead>\n",
       "  <tbody>\n",
       "    <tr>\n",
       "      <th>0</th>\n",
       "      <td>2012-11-12</td>\n",
       "      <td>1380.03</td>\n",
       "    </tr>\n",
       "    <tr>\n",
       "      <th>1</th>\n",
       "      <td>2012-11-13</td>\n",
       "      <td>1374.53</td>\n",
       "    </tr>\n",
       "    <tr>\n",
       "      <th>2</th>\n",
       "      <td>2012-11-14</td>\n",
       "      <td>1355.49</td>\n",
       "    </tr>\n",
       "    <tr>\n",
       "      <th>3</th>\n",
       "      <td>2012-11-15</td>\n",
       "      <td>1353.33</td>\n",
       "    </tr>\n",
       "    <tr>\n",
       "      <th>4</th>\n",
       "      <td>2012-11-16</td>\n",
       "      <td>1359.88</td>\n",
       "    </tr>\n",
       "  </tbody>\n",
       "</table>\n",
       "</div>"
      ],
      "text/plain": [
       "         Date   S&P500\n",
       "0  2012-11-12  1380.03\n",
       "1  2012-11-13  1374.53\n",
       "2  2012-11-14  1355.49\n",
       "3  2012-11-15  1353.33\n",
       "4  2012-11-16  1359.88"
      ]
     },
     "execution_count": 7,
     "metadata": {},
     "output_type": "execute_result"
    }
   ],
   "source": [
    "df2.head()"
   ]
  },
  {
   "cell_type": "code",
   "execution_count": 8,
   "id": "872956a9",
   "metadata": {},
   "outputs": [
    {
     "data": {
      "text/plain": [
       "(2519, 2)"
      ]
     },
     "execution_count": 8,
     "metadata": {},
     "output_type": "execute_result"
    }
   ],
   "source": [
    "df2.shape"
   ]
  },
  {
   "cell_type": "code",
   "execution_count": 9,
   "id": "de404587",
   "metadata": {},
   "outputs": [],
   "source": [
    "df2['Date'] = pd.to_datetime(df2['Date'],infer_datetime_format=True)"
   ]
  },
  {
   "cell_type": "code",
   "execution_count": 10,
   "id": "cd14277e",
   "metadata": {},
   "outputs": [],
   "source": [
    "df2=df2[df2['Date'] > '2020-11-1']"
   ]
  },
  {
   "cell_type": "code",
   "execution_count": 11,
   "id": "36d35574",
   "metadata": {},
   "outputs": [],
   "source": [
    "df2 = df2.rename(columns={\"S&P500\":\"Close\"})"
   ]
  },
  {
   "cell_type": "code",
   "execution_count": 12,
   "id": "b6b9e5d9",
   "metadata": {},
   "outputs": [],
   "source": [
    "df2['Symbol'] = \"S&P500\""
   ]
  },
  {
   "cell_type": "code",
   "execution_count": 13,
   "id": "65c5d9a2",
   "metadata": {},
   "outputs": [
    {
     "data": {
      "text/html": [
       "<div>\n",
       "<style scoped>\n",
       "    .dataframe tbody tr th:only-of-type {\n",
       "        vertical-align: middle;\n",
       "    }\n",
       "\n",
       "    .dataframe tbody tr th {\n",
       "        vertical-align: top;\n",
       "    }\n",
       "\n",
       "    .dataframe thead th {\n",
       "        text-align: right;\n",
       "    }\n",
       "</style>\n",
       "<table border=\"1\" class=\"dataframe\">\n",
       "  <thead>\n",
       "    <tr style=\"text-align: right;\">\n",
       "      <th></th>\n",
       "      <th>Date</th>\n",
       "      <th>Close</th>\n",
       "      <th>Symbol</th>\n",
       "    </tr>\n",
       "  </thead>\n",
       "  <tbody>\n",
       "    <tr>\n",
       "      <th>2007</th>\n",
       "      <td>2020-11-02</td>\n",
       "      <td>3310.24</td>\n",
       "      <td>S&amp;P500</td>\n",
       "    </tr>\n",
       "    <tr>\n",
       "      <th>2008</th>\n",
       "      <td>2020-11-03</td>\n",
       "      <td>3369.16</td>\n",
       "      <td>S&amp;P500</td>\n",
       "    </tr>\n",
       "    <tr>\n",
       "      <th>2009</th>\n",
       "      <td>2020-11-04</td>\n",
       "      <td>3443.44</td>\n",
       "      <td>S&amp;P500</td>\n",
       "    </tr>\n",
       "    <tr>\n",
       "      <th>2010</th>\n",
       "      <td>2020-11-05</td>\n",
       "      <td>3510.45</td>\n",
       "      <td>S&amp;P500</td>\n",
       "    </tr>\n",
       "    <tr>\n",
       "      <th>2011</th>\n",
       "      <td>2020-11-06</td>\n",
       "      <td>3509.44</td>\n",
       "      <td>S&amp;P500</td>\n",
       "    </tr>\n",
       "  </tbody>\n",
       "</table>\n",
       "</div>"
      ],
      "text/plain": [
       "           Date    Close  Symbol\n",
       "2007 2020-11-02  3310.24  S&P500\n",
       "2008 2020-11-03  3369.16  S&P500\n",
       "2009 2020-11-04  3443.44  S&P500\n",
       "2010 2020-11-05  3510.45  S&P500\n",
       "2011 2020-11-06  3509.44  S&P500"
      ]
     },
     "execution_count": 13,
     "metadata": {},
     "output_type": "execute_result"
    }
   ],
   "source": [
    "df2.head()"
   ]
  },
  {
   "cell_type": "code",
   "execution_count": 14,
   "id": "c359903c",
   "metadata": {},
   "outputs": [
    {
     "data": {
      "text/plain": [
       "Date      512\n",
       "Close     512\n",
       "Symbol    512\n",
       "dtype: int64"
      ]
     },
     "execution_count": 14,
     "metadata": {},
     "output_type": "execute_result"
    }
   ],
   "source": [
    "df2.isna().count()"
   ]
  },
  {
   "cell_type": "code",
   "execution_count": 15,
   "id": "6b09c243",
   "metadata": {},
   "outputs": [],
   "source": [
    "#### the dataset has no n/a values within the dataset, why is it showing n/a values? "
   ]
  },
  {
   "cell_type": "markdown",
   "id": "3d4cbc41",
   "metadata": {},
   "source": [
    "#### Dataset #3"
   ]
  },
  {
   "cell_type": "code",
   "execution_count": 16,
   "id": "0213c0fd",
   "metadata": {},
   "outputs": [
    {
     "name": "stdout",
     "output_type": "stream",
     "text": [
      "<class 'pandas.core.frame.DataFrame'>\n",
      "RangeIndex: 1629217 entries, 0 to 1629216\n",
      "Data columns (total 8 columns):\n",
      " #   Column     Non-Null Count    Dtype  \n",
      "---  ------     --------------    -----  \n",
      " 0   Date       1629217 non-null  object \n",
      " 1   Symbol     1629217 non-null  object \n",
      " 2   Adj Close  1560290 non-null  float64\n",
      " 3   Close      1560290 non-null  float64\n",
      " 4   High       1560290 non-null  float64\n",
      " 5   Low        1560290 non-null  float64\n",
      " 6   Open       1560290 non-null  float64\n",
      " 7   Volume     1560290 non-null  float64\n",
      "dtypes: float64(6), object(2)\n",
      "memory usage: 99.4+ MB\n"
     ]
    }
   ],
   "source": [
    "df3.info()"
   ]
  },
  {
   "cell_type": "code",
   "execution_count": 17,
   "id": "c79fe1d7",
   "metadata": {},
   "outputs": [],
   "source": [
    "df3['Date'] = pd.to_datetime(df3['Date'])"
   ]
  },
  {
   "cell_type": "code",
   "execution_count": 18,
   "id": "621d6383",
   "metadata": {},
   "outputs": [],
   "source": [
    "df3 = df3.drop(['Adj Close', 'High', 'Low', 'Open', 'Volume'], axis=1)"
   ]
  },
  {
   "cell_type": "code",
   "execution_count": 19,
   "id": "63eaea20",
   "metadata": {},
   "outputs": [
    {
     "data": {
      "text/html": [
       "<div>\n",
       "<style scoped>\n",
       "    .dataframe tbody tr th:only-of-type {\n",
       "        vertical-align: middle;\n",
       "    }\n",
       "\n",
       "    .dataframe tbody tr th {\n",
       "        vertical-align: top;\n",
       "    }\n",
       "\n",
       "    .dataframe thead th {\n",
       "        text-align: right;\n",
       "    }\n",
       "</style>\n",
       "<table border=\"1\" class=\"dataframe\">\n",
       "  <thead>\n",
       "    <tr style=\"text-align: right;\">\n",
       "      <th></th>\n",
       "      <th>Date</th>\n",
       "      <th>Symbol</th>\n",
       "      <th>Close</th>\n",
       "    </tr>\n",
       "  </thead>\n",
       "  <tbody>\n",
       "    <tr>\n",
       "      <th>0</th>\n",
       "      <td>2010-01-04</td>\n",
       "      <td>MMM</td>\n",
       "      <td>83.019997</td>\n",
       "    </tr>\n",
       "    <tr>\n",
       "      <th>1</th>\n",
       "      <td>2010-01-05</td>\n",
       "      <td>MMM</td>\n",
       "      <td>82.500000</td>\n",
       "    </tr>\n",
       "    <tr>\n",
       "      <th>2</th>\n",
       "      <td>2010-01-06</td>\n",
       "      <td>MMM</td>\n",
       "      <td>83.669998</td>\n",
       "    </tr>\n",
       "    <tr>\n",
       "      <th>3</th>\n",
       "      <td>2010-01-07</td>\n",
       "      <td>MMM</td>\n",
       "      <td>83.730003</td>\n",
       "    </tr>\n",
       "    <tr>\n",
       "      <th>4</th>\n",
       "      <td>2010-01-08</td>\n",
       "      <td>MMM</td>\n",
       "      <td>84.320000</td>\n",
       "    </tr>\n",
       "  </tbody>\n",
       "</table>\n",
       "</div>"
      ],
      "text/plain": [
       "        Date Symbol      Close\n",
       "0 2010-01-04    MMM  83.019997\n",
       "1 2010-01-05    MMM  82.500000\n",
       "2 2010-01-06    MMM  83.669998\n",
       "3 2010-01-07    MMM  83.730003\n",
       "4 2010-01-08    MMM  84.320000"
      ]
     },
     "execution_count": 19,
     "metadata": {},
     "output_type": "execute_result"
    }
   ],
   "source": [
    "df3.head()"
   ]
  },
  {
   "cell_type": "code",
   "execution_count": 20,
   "id": "11590625",
   "metadata": {},
   "outputs": [],
   "source": [
    "df3 = df3.loc[df3['Symbol'].isin(['PEP', 'KO', 'PG', 'WMT', 'COST'])]"
   ]
  },
  {
   "cell_type": "code",
   "execution_count": 21,
   "id": "3186b161",
   "metadata": {},
   "outputs": [
    {
     "data": {
      "text/plain": [
       "Date      0\n",
       "Symbol    0\n",
       "Close     0\n",
       "dtype: int64"
      ]
     },
     "execution_count": 21,
     "metadata": {},
     "output_type": "execute_result"
    }
   ],
   "source": [
    "df3.isna().sum()"
   ]
  },
  {
   "cell_type": "code",
   "execution_count": 22,
   "id": "38b340ad",
   "metadata": {},
   "outputs": [],
   "source": [
    "df3['Date'] = pd.to_datetime(df3['Date'],infer_datetime_format=True)"
   ]
  },
  {
   "cell_type": "code",
   "execution_count": 23,
   "id": "87cb5a13",
   "metadata": {},
   "outputs": [],
   "source": [
    "df3=df3[df3['Date'] > '2020-11-1']"
   ]
  },
  {
   "cell_type": "code",
   "execution_count": 24,
   "id": "2e7db4a8",
   "metadata": {},
   "outputs": [
    {
     "data": {
      "text/html": [
       "<div>\n",
       "<style scoped>\n",
       "    .dataframe tbody tr th:only-of-type {\n",
       "        vertical-align: middle;\n",
       "    }\n",
       "\n",
       "    .dataframe tbody tr th {\n",
       "        vertical-align: top;\n",
       "    }\n",
       "\n",
       "    .dataframe thead th {\n",
       "        text-align: right;\n",
       "    }\n",
       "</style>\n",
       "<table border=\"1\" class=\"dataframe\">\n",
       "  <thead>\n",
       "    <tr style=\"text-align: right;\">\n",
       "      <th></th>\n",
       "      <th>Date</th>\n",
       "      <th>Symbol</th>\n",
       "      <th>Close</th>\n",
       "    </tr>\n",
       "  </thead>\n",
       "  <tbody>\n",
       "    <tr>\n",
       "      <th>384929</th>\n",
       "      <td>2020-11-02</td>\n",
       "      <td>KO</td>\n",
       "      <td>48.619999</td>\n",
       "    </tr>\n",
       "    <tr>\n",
       "      <th>384930</th>\n",
       "      <td>2020-11-03</td>\n",
       "      <td>KO</td>\n",
       "      <td>49.349998</td>\n",
       "    </tr>\n",
       "    <tr>\n",
       "      <th>384931</th>\n",
       "      <td>2020-11-04</td>\n",
       "      <td>KO</td>\n",
       "      <td>49.169998</td>\n",
       "    </tr>\n",
       "    <tr>\n",
       "      <th>384932</th>\n",
       "      <td>2020-11-05</td>\n",
       "      <td>KO</td>\n",
       "      <td>49.439999</td>\n",
       "    </tr>\n",
       "    <tr>\n",
       "      <th>384933</th>\n",
       "      <td>2020-11-06</td>\n",
       "      <td>KO</td>\n",
       "      <td>49.450001</td>\n",
       "    </tr>\n",
       "  </tbody>\n",
       "</table>\n",
       "</div>"
      ],
      "text/plain": [
       "             Date Symbol      Close\n",
       "384929 2020-11-02     KO  48.619999\n",
       "384930 2020-11-03     KO  49.349998\n",
       "384931 2020-11-04     KO  49.169998\n",
       "384932 2020-11-05     KO  49.439999\n",
       "384933 2020-11-06     KO  49.450001"
      ]
     },
     "execution_count": 24,
     "metadata": {},
     "output_type": "execute_result"
    }
   ],
   "source": [
    "df3.head()"
   ]
  },
  {
   "cell_type": "markdown",
   "id": "33b92a82",
   "metadata": {},
   "source": [
    "#### Merge df2 and df3"
   ]
  },
  {
   "cell_type": "code",
   "execution_count": 25,
   "id": "28eb7002",
   "metadata": {},
   "outputs": [],
   "source": [
    "# how would I plot df2 and df3\n",
    "# the different values in Symbol?"
   ]
  },
  {
   "cell_type": "code",
   "execution_count": 26,
   "id": "5cdd19d8",
   "metadata": {},
   "outputs": [],
   "source": [
    "df4 = pd.merge(df2,df3, on=['Date','Close', 'Symbol'], how='outer')"
   ]
  },
  {
   "cell_type": "code",
   "execution_count": 27,
   "id": "e1dfb667",
   "metadata": {},
   "outputs": [
    {
     "data": {
      "text/html": [
       "<div>\n",
       "<style scoped>\n",
       "    .dataframe tbody tr th:only-of-type {\n",
       "        vertical-align: middle;\n",
       "    }\n",
       "\n",
       "    .dataframe tbody tr th {\n",
       "        vertical-align: top;\n",
       "    }\n",
       "\n",
       "    .dataframe thead th {\n",
       "        text-align: right;\n",
       "    }\n",
       "</style>\n",
       "<table border=\"1\" class=\"dataframe\">\n",
       "  <thead>\n",
       "    <tr style=\"text-align: right;\">\n",
       "      <th></th>\n",
       "      <th>Date</th>\n",
       "      <th>Close</th>\n",
       "      <th>Symbol</th>\n",
       "    </tr>\n",
       "  </thead>\n",
       "  <tbody>\n",
       "    <tr>\n",
       "      <th>0</th>\n",
       "      <td>2020-11-02</td>\n",
       "      <td>3310.24</td>\n",
       "      <td>S&amp;P500</td>\n",
       "    </tr>\n",
       "    <tr>\n",
       "      <th>1</th>\n",
       "      <td>2020-11-03</td>\n",
       "      <td>3369.16</td>\n",
       "      <td>S&amp;P500</td>\n",
       "    </tr>\n",
       "    <tr>\n",
       "      <th>2</th>\n",
       "      <td>2020-11-04</td>\n",
       "      <td>3443.44</td>\n",
       "      <td>S&amp;P500</td>\n",
       "    </tr>\n",
       "    <tr>\n",
       "      <th>3</th>\n",
       "      <td>2020-11-05</td>\n",
       "      <td>3510.45</td>\n",
       "      <td>S&amp;P500</td>\n",
       "    </tr>\n",
       "    <tr>\n",
       "      <th>4</th>\n",
       "      <td>2020-11-06</td>\n",
       "      <td>3509.44</td>\n",
       "      <td>S&amp;P500</td>\n",
       "    </tr>\n",
       "  </tbody>\n",
       "</table>\n",
       "</div>"
      ],
      "text/plain": [
       "        Date    Close  Symbol\n",
       "0 2020-11-02  3310.24  S&P500\n",
       "1 2020-11-03  3369.16  S&P500\n",
       "2 2020-11-04  3443.44  S&P500\n",
       "3 2020-11-05  3510.45  S&P500\n",
       "4 2020-11-06  3509.44  S&P500"
      ]
     },
     "execution_count": 27,
     "metadata": {},
     "output_type": "execute_result"
    }
   ],
   "source": [
    "df4.head()"
   ]
  },
  {
   "cell_type": "code",
   "execution_count": 37,
   "id": "b6aab6ee",
   "metadata": {},
   "outputs": [],
   "source": [
    "symbol_groups = df4.groupby(by='Symbol')"
   ]
  },
  {
   "cell_type": "code",
   "execution_count": 51,
   "id": "b0a4e4bb",
   "metadata": {},
   "outputs": [
    {
     "data": {
      "text/plain": [
       "<AxesSubplot:xlabel='Date'>"
      ]
     },
     "execution_count": 51,
     "metadata": {},
     "output_type": "execute_result"
    },
    {
     "data": {
      "image/png": "[encoded data removed]",
      "text/plain": [
       "<Figure size 432x288 with 1 Axes>"
      ]
     },
     "metadata": {
      "needs_background": "light"
     },
     "output_type": "display_data"
    }
   ],
   "source": [
    "symbol_groups.get_group('S&P500').plot('Date','Close')"
   ]
  },
  {
   "cell_type": "code",
   "execution_count": 50,
   "id": "7c994392",
   "metadata": {},
   "outputs": [
    {
     "data": {
      "text/plain": [
       "<AxesSubplot:xlabel='Date'>"
      ]
     },
     "execution_count": 50,
     "metadata": {},
     "output_type": "execute_result"
    },
    {
     "data": {
      "image/png": "[encoded data removed]",
      "text/plain": [
       "<Figure size 432x288 with 1 Axes>"
      ]
     },
     "metadata": {
      "needs_background": "light"
     },
     "output_type": "display_data"
    }
   ],
   "source": [
    "symbol_groups.get_group('COST').plot('Date','Close')"
   ]
  },
  {
   "cell_type": "code",
   "execution_count": 52,
   "id": "f33b3cfc",
   "metadata": {},
   "outputs": [
    {
     "data": {
      "text/plain": [
       "<AxesSubplot:xlabel='Date'>"
      ]
     },
     "execution_count": 52,
     "metadata": {},
     "output_type": "execute_result"
    },
    {
     "data": {
      "image/png": "[encoded data removed]",
      "text/plain": [
       "<Figure size 432x288 with 1 Axes>"
      ]
     },
     "metadata": {
      "needs_background": "light"
     },
     "output_type": "display_data"
    }
   ],
   "source": [
    "symbol_groups.get_group('WMT').plot('Date','Close')"
   ]
  },
  {
   "cell_type": "code",
   "execution_count": 53,
   "id": "7e145e51",
   "metadata": {},
   "outputs": [
    {
     "data": {
      "text/plain": [
       "<AxesSubplot:xlabel='Date'>"
      ]
     },
     "execution_count": 53,
     "metadata": {},
     "output_type": "execute_result"
    },
    {
     "data": {
      "image/png": "[encoded data removed]",
      "text/plain": [
       "<Figure size 432x288 with 1 Axes>"
      ]
     },
     "metadata": {
      "needs_background": "light"
     },
     "output_type": "display_data"
    }
   ],
   "source": [
    "symbol_groups.get_group('KO').plot('Date','Close')"
   ]
  },
  {
   "cell_type": "code",
   "execution_count": 54,
   "id": "2b851761",
   "metadata": {},
   "outputs": [
    {
     "data": {
      "text/plain": [
       "<AxesSubplot:xlabel='Date'>"
      ]
     },
     "execution_count": 54,
     "metadata": {},
     "output_type": "execute_result"
    },
    {
     "data": {
      "image/png": "[encoded data removed]",
      "text/plain": [
       "<Figure size 432x288 with 1 Axes>"
      ]
     },
     "metadata": {
      "needs_background": "light"
     },
     "output_type": "display_data"
    }
   ],
   "source": [
    "symbol_groups.get_group('PG').plot('Date','Close')"
   ]
  },
  {
   "cell_type": "code",
   "execution_count": 55,
   "id": "d122caf9",
   "metadata": {},
   "outputs": [
    {
     "data": {
      "text/plain": [
       "<AxesSubplot:xlabel='Date'>"
      ]
     },
     "execution_count": 55,
     "metadata": {},
     "output_type": "execute_result"
    },
    {
     "data": {
      "image/png": "[encoded data removed]",
      "text/plain": [
       "<Figure size 432x288 with 1 Axes>"
      ]
     },
     "metadata": {
      "needs_background": "light"
     },
     "output_type": "display_data"
    }
   ],
   "source": [
    "symbol_groups.get_group('PEP').plot('Date','Close')"
   ]
  },
  {
   "cell_type": "code",
   "execution_count": null,
   "id": "93dd88b2",
   "metadata": {},
   "outputs": [],
   "source": [
    "# for close, symbol in year_groups:\n",
    "#     df4[]\n",
    "\n",
    "\n",
    "\n",
    "# temp_annual = pd.DataFrame()\n",
    "\n",
    "# for yr, group in year_groups:\n",
    "#     temp_annual[yr.year] = group.values.ravel()\n",
    "\n",
    "# # Plot the yearly groups as subplots\n",
    "# temp_annual.plot(figsize = (22,15), subplots=True, legend=True)\n",
    "# plt.show()"
   ]
  }
 ],
 "metadata": {
  "kernelspec": {
   "display_name": "Python 3",
   "language": "python",
   "name": "python3"
  },
  "language_info": {
   "codemirror_mode": {
    "name": "ipython",
    "version": 3
   },
   "file_extension": ".py",
   "mimetype": "text/x-python",
   "name": "python",
   "nbconvert_exporter": "python",
   "pygments_lexer": "ipython3",
   "version": "3.8.8"
  }
 },
 "nbformat": 4,
 "nbformat_minor": 5
}
