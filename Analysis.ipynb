{
 "cells": [
  {
   "cell_type": "markdown",
   "id": "2077f0e3",
   "metadata": {},
   "source": [
    "# Defensive Stock Analysis"
   ]
  },
  {
   "cell_type": "markdown",
   "id": "b85e3812",
   "metadata": {},
   "source": [
    "### Overview"
   ]
  },
  {
   "cell_type": "markdown",
   "id": "251e7762",
   "metadata": {},
   "source": [
    "Which type of analysis performs better linear regression or time series when analyzing defensive stocks? "
   ]
  },
  {
   "cell_type": "markdown",
   "id": "0aec938b",
   "metadata": {},
   "source": [
    "### Business Problem"
   ]
  },
  {
   "cell_type": "markdown",
   "id": "b4d2bdcd",
   "metadata": {},
   "source": [
    "During times of uncertainty investors want to protect their assets from loss. For this porject we will analyze 3 consumer defensive stocks by performing time series analysis (SARIMA models) and linear regression. By doing so we will try to forecast stock prices in the near future, 1 month, 2 month and 3 month spans. We will choose the 3 stocks based on highest market caps."
   ]
  },
  {
   "cell_type": "markdown",
   "id": "bb6b0ce6",
   "metadata": {},
   "source": [
    "### Data "
   ]
  },
  {
   "cell_type": "markdown",
   "id": "85c842bd",
   "metadata": {},
   "source": [
    "### Import Data"
   ]
  },
  {
   "cell_type": "code",
   "execution_count": 1,
   "id": "9a27ba23",
   "metadata": {},
   "outputs": [],
   "source": [
    "import pandas as pd\n",
    "import numpy as np\n",
    "import matplotlib.pyplot as plt\n",
    "import seaborn as sns\n",
    "import itertools\n",
    "import zipfile\n",
    "import time\n",
    "import warnings\n",
    "import scipy.stats as stats\n",
    "from datetime import datetime\n",
    "from sklearn.model_selection import GroupShuffleSplit \n",
    "from statsmodels.formula.api import ols\n",
    "from sklearn.metrics import mean_squared_error\n",
    "from statsmodels.tsa.stattools import adfuller\n",
    "from statsmodels.graphics.tsaplots import plot_acf, plot_pacf\n",
    "from statsmodels.tsa.arima.model import ARIMA\n",
    "from statsmodels.tsa.statespace.sarimax import SARIMAX\n",
    "from sklearn.preprocessing import StandardScaler\n",
    "from pmdarima import auto_arima\n",
    "from sklearn.model_selection import train_test_split\n",
    "from sklearn.linear_model import LogisticRegression\n",
    "from sklearn.metrics import precision_score, recall_score, accuracy_score, f1_score, classification_report\n",
    "from sklearn import preprocessing\n",
    "from sklearn import utils\n",
    "from statsmodels.stats.diagnostic import het_white\n",
    "import statsmodels.api as sm\n",
    "from pylab import rcParams\n",
    "from statsmodels.tools.sm_exceptions import ConvergenceWarning\n",
    "warnings.simplefilter('ignore', ConvergenceWarning)\n",
    "%matplotlib inline\n",
    "plt.style.use('ggplot')"
   ]
  },
  {
   "cell_type": "code",
   "execution_count": 2,
   "id": "5569d3ec",
   "metadata": {},
   "outputs": [],
   "source": [
    "# with zipfile.ZipFile(\"Data/archive.zip\") as zip_ref:\n",
    "#     zip_ref.extractall(\"Data\")"
   ]
  },
  {
   "cell_type": "code",
   "execution_count": 3,
   "id": "e3de261e",
   "metadata": {},
   "outputs": [],
   "source": [
    "df1 = pd.read_csv('Data/sp500_companies.csv')\n",
    "df2 = pd.read_csv('Data/sp500_index.csv')\n",
    "df3 = pd.read_csv('Data/sp500_stocks.csv')\n",
    "dfg = pd.read_csv('Data/daily_gold_rate.csv')\n",
    "deth = pd.read_csv('Data/CBETHUSD.csv')\n",
    "dollar = pd.read_csv('Data/DTWEXBGS.csv')\n",
    "ppi = pd.read_csv('Data/WPU02850113.csv')"
   ]
  },
  {
   "cell_type": "markdown",
   "id": "6361f125",
   "metadata": {},
   "source": [
    "## Datasets "
   ]
  },
  {
   "cell_type": "markdown",
   "id": "0e7a2653",
   "metadata": {},
   "source": [
    "### Dataset #1"
   ]
  },
  {
   "cell_type": "code",
   "execution_count": 4,
   "id": "7e14fb9b",
   "metadata": {},
   "outputs": [
    {
     "data": {
      "text/html": [
       "<div>\n",
       "<style scoped>\n",
       "    .dataframe tbody tr th:only-of-type {\n",
       "        vertical-align: middle;\n",
       "    }\n",
       "\n",
       "    .dataframe tbody tr th {\n",
       "        vertical-align: top;\n",
       "    }\n",
       "\n",
       "    .dataframe thead th {\n",
       "        text-align: right;\n",
       "    }\n",
       "</style>\n",
       "<table border=\"1\" class=\"dataframe\">\n",
       "  <thead>\n",
       "    <tr style=\"text-align: right;\">\n",
       "      <th></th>\n",
       "      <th>Exchange</th>\n",
       "      <th>Symbol</th>\n",
       "      <th>Shortname</th>\n",
       "      <th>Longname</th>\n",
       "      <th>Sector</th>\n",
       "      <th>Industry</th>\n",
       "      <th>Currentprice</th>\n",
       "      <th>Marketcap</th>\n",
       "      <th>Ebitda</th>\n",
       "      <th>Revenuegrowth</th>\n",
       "      <th>City</th>\n",
       "      <th>State</th>\n",
       "      <th>Country</th>\n",
       "      <th>Fulltimeemployees</th>\n",
       "      <th>Longbusinesssummary</th>\n",
       "      <th>Weight</th>\n",
       "    </tr>\n",
       "  </thead>\n",
       "  <tbody>\n",
       "    <tr>\n",
       "      <th>0</th>\n",
       "      <td>NMS</td>\n",
       "      <td>AAPL</td>\n",
       "      <td>Apple Inc.</td>\n",
       "      <td>Apple Inc.</td>\n",
       "      <td>Technology</td>\n",
       "      <td>Consumer Electronics</td>\n",
       "      <td>149.70</td>\n",
       "      <td>2381442449408</td>\n",
       "      <td>1.305410e+11</td>\n",
       "      <td>0.081</td>\n",
       "      <td>Cupertino</td>\n",
       "      <td>CA</td>\n",
       "      <td>United States</td>\n",
       "      <td>164000.0</td>\n",
       "      <td>Apple Inc. designs, manufactures, and markets ...</td>\n",
       "      <td>0.067072</td>\n",
       "    </tr>\n",
       "    <tr>\n",
       "      <th>1</th>\n",
       "      <td>NMS</td>\n",
       "      <td>MSFT</td>\n",
       "      <td>Microsoft Corporation</td>\n",
       "      <td>Microsoft Corporation</td>\n",
       "      <td>Technology</td>\n",
       "      <td>Software—Infrastructure</td>\n",
       "      <td>247.11</td>\n",
       "      <td>1855296897024</td>\n",
       "      <td>9.798300e+10</td>\n",
       "      <td>0.124</td>\n",
       "      <td>Redmond</td>\n",
       "      <td>WA</td>\n",
       "      <td>United States</td>\n",
       "      <td>221000.0</td>\n",
       "      <td>Microsoft Corporation develops, licenses, and ...</td>\n",
       "      <td>0.052254</td>\n",
       "    </tr>\n",
       "    <tr>\n",
       "      <th>2</th>\n",
       "      <td>NMS</td>\n",
       "      <td>GOOGL</td>\n",
       "      <td>Alphabet Inc.</td>\n",
       "      <td>Alphabet Inc.</td>\n",
       "      <td>Communication Services</td>\n",
       "      <td>Internet Content &amp; Information</td>\n",
       "      <td>96.41</td>\n",
       "      <td>1249782136832</td>\n",
       "      <td>9.373300e+10</td>\n",
       "      <td>0.061</td>\n",
       "      <td>Mountain View</td>\n",
       "      <td>CA</td>\n",
       "      <td>United States</td>\n",
       "      <td>186779.0</td>\n",
       "      <td>Alphabet Inc. provides various products and pl...</td>\n",
       "      <td>0.035200</td>\n",
       "    </tr>\n",
       "    <tr>\n",
       "      <th>3</th>\n",
       "      <td>NMS</td>\n",
       "      <td>GOOG</td>\n",
       "      <td>Alphabet Inc.</td>\n",
       "      <td>Alphabet Inc.</td>\n",
       "      <td>Communication Services</td>\n",
       "      <td>Internet Content &amp; Information</td>\n",
       "      <td>96.73</td>\n",
       "      <td>1249780563968</td>\n",
       "      <td>9.373300e+10</td>\n",
       "      <td>0.061</td>\n",
       "      <td>Mountain View</td>\n",
       "      <td>CA</td>\n",
       "      <td>United States</td>\n",
       "      <td>186779.0</td>\n",
       "      <td>Alphabet Inc. provides various products and pl...</td>\n",
       "      <td>0.035200</td>\n",
       "    </tr>\n",
       "    <tr>\n",
       "      <th>4</th>\n",
       "      <td>NMS</td>\n",
       "      <td>AMZN</td>\n",
       "      <td>Amazon.com, Inc.</td>\n",
       "      <td>Amazon.com, Inc.</td>\n",
       "      <td>Consumer Cyclical</td>\n",
       "      <td>Internet Retail</td>\n",
       "      <td>100.79</td>\n",
       "      <td>1028229365760</td>\n",
       "      <td>5.154900e+10</td>\n",
       "      <td>0.147</td>\n",
       "      <td>Seattle</td>\n",
       "      <td>WA</td>\n",
       "      <td>United States</td>\n",
       "      <td>1544000.0</td>\n",
       "      <td>Amazon.com, Inc. engages in the retail sale of...</td>\n",
       "      <td>0.028960</td>\n",
       "    </tr>\n",
       "  </tbody>\n",
       "</table>\n",
       "</div>"
      ],
      "text/plain": [
       "  Exchange Symbol              Shortname               Longname  \\\n",
       "0      NMS   AAPL             Apple Inc.             Apple Inc.   \n",
       "1      NMS   MSFT  Microsoft Corporation  Microsoft Corporation   \n",
       "2      NMS  GOOGL          Alphabet Inc.          Alphabet Inc.   \n",
       "3      NMS   GOOG          Alphabet Inc.          Alphabet Inc.   \n",
       "4      NMS   AMZN       Amazon.com, Inc.       Amazon.com, Inc.   \n",
       "\n",
       "                   Sector                        Industry  Currentprice  \\\n",
       "0              Technology            Consumer Electronics        149.70   \n",
       "1              Technology         Software—Infrastructure        247.11   \n",
       "2  Communication Services  Internet Content & Information         96.41   \n",
       "3  Communication Services  Internet Content & Information         96.73   \n",
       "4       Consumer Cyclical                 Internet Retail        100.79   \n",
       "\n",
       "       Marketcap        Ebitda  Revenuegrowth           City State  \\\n",
       "0  2381442449408  1.305410e+11          0.081      Cupertino    CA   \n",
       "1  1855296897024  9.798300e+10          0.124        Redmond    WA   \n",
       "2  1249782136832  9.373300e+10          0.061  Mountain View    CA   \n",
       "3  1249780563968  9.373300e+10          0.061  Mountain View    CA   \n",
       "4  1028229365760  5.154900e+10          0.147        Seattle    WA   \n",
       "\n",
       "         Country  Fulltimeemployees  \\\n",
       "0  United States           164000.0   \n",
       "1  United States           221000.0   \n",
       "2  United States           186779.0   \n",
       "3  United States           186779.0   \n",
       "4  United States          1544000.0   \n",
       "\n",
       "                                 Longbusinesssummary    Weight  \n",
       "0  Apple Inc. designs, manufactures, and markets ...  0.067072  \n",
       "1  Microsoft Corporation develops, licenses, and ...  0.052254  \n",
       "2  Alphabet Inc. provides various products and pl...  0.035200  \n",
       "3  Alphabet Inc. provides various products and pl...  0.035200  \n",
       "4  Amazon.com, Inc. engages in the retail sale of...  0.028960  "
      ]
     },
     "execution_count": 4,
     "metadata": {},
     "output_type": "execute_result"
    }
   ],
   "source": [
    "df1.head()"
   ]
  },
  {
   "cell_type": "code",
   "execution_count": 5,
   "id": "a294d236",
   "metadata": {},
   "outputs": [
    {
     "data": {
      "text/html": [
       "<div>\n",
       "<style scoped>\n",
       "    .dataframe tbody tr th:only-of-type {\n",
       "        vertical-align: middle;\n",
       "    }\n",
       "\n",
       "    .dataframe tbody tr th {\n",
       "        vertical-align: top;\n",
       "    }\n",
       "\n",
       "    .dataframe thead th {\n",
       "        text-align: right;\n",
       "    }\n",
       "</style>\n",
       "<table border=\"1\" class=\"dataframe\">\n",
       "  <thead>\n",
       "    <tr style=\"text-align: right;\">\n",
       "      <th></th>\n",
       "      <th>Exchange</th>\n",
       "      <th>Symbol</th>\n",
       "      <th>Shortname</th>\n",
       "      <th>Longname</th>\n",
       "      <th>Sector</th>\n",
       "      <th>Industry</th>\n",
       "      <th>Currentprice</th>\n",
       "      <th>Marketcap</th>\n",
       "      <th>Ebitda</th>\n",
       "      <th>Revenuegrowth</th>\n",
       "      <th>City</th>\n",
       "      <th>State</th>\n",
       "      <th>Country</th>\n",
       "      <th>Fulltimeemployees</th>\n",
       "      <th>Longbusinesssummary</th>\n",
       "      <th>Weight</th>\n",
       "    </tr>\n",
       "  </thead>\n",
       "  <tbody>\n",
       "    <tr>\n",
       "      <th>11</th>\n",
       "      <td>NYQ</td>\n",
       "      <td>WMT</td>\n",
       "      <td>Walmart Inc.</td>\n",
       "      <td>Walmart Inc.</td>\n",
       "      <td>Consumer Defensive</td>\n",
       "      <td>Discount Stores</td>\n",
       "      <td>142.58</td>\n",
       "      <td>395499831296</td>\n",
       "      <td>3.458600e+10</td>\n",
       "      <td>0.084</td>\n",
       "      <td>Bentonville</td>\n",
       "      <td>AR</td>\n",
       "      <td>United States</td>\n",
       "      <td>2300000.0</td>\n",
       "      <td>Walmart Inc. engages in the operation of retai...</td>\n",
       "      <td>0.011139</td>\n",
       "    </tr>\n",
       "    <tr>\n",
       "      <th>13</th>\n",
       "      <td>NYQ</td>\n",
       "      <td>PG</td>\n",
       "      <td>Procter &amp; Gamble Company (The)</td>\n",
       "      <td>The Procter &amp; Gamble Company</td>\n",
       "      <td>Consumer Defensive</td>\n",
       "      <td>Household &amp; Personal Products</td>\n",
       "      <td>140.97</td>\n",
       "      <td>341140373504</td>\n",
       "      <td>2.136400e+10</td>\n",
       "      <td>0.013</td>\n",
       "      <td>Cincinnati</td>\n",
       "      <td>OH</td>\n",
       "      <td>United States</td>\n",
       "      <td>106000.0</td>\n",
       "      <td>The Procter &amp; Gamble Company provides branded ...</td>\n",
       "      <td>0.009608</td>\n",
       "    </tr>\n",
       "    <tr>\n",
       "      <th>20</th>\n",
       "      <td>NYQ</td>\n",
       "      <td>KO</td>\n",
       "      <td>Coca-Cola Company (The)</td>\n",
       "      <td>The Coca-Cola Company</td>\n",
       "      <td>Consumer Defensive</td>\n",
       "      <td>Beverages—Non-Alcoholic</td>\n",
       "      <td>61.32</td>\n",
       "      <td>264866824192</td>\n",
       "      <td>1.341400e+10</td>\n",
       "      <td>0.102</td>\n",
       "      <td>Atlanta</td>\n",
       "      <td>GA</td>\n",
       "      <td>United States</td>\n",
       "      <td>79000.0</td>\n",
       "      <td>The Coca-Cola Company, a beverage company, man...</td>\n",
       "      <td>0.007460</td>\n",
       "    </tr>\n",
       "    <tr>\n",
       "      <th>22</th>\n",
       "      <td>NMS</td>\n",
       "      <td>PEP</td>\n",
       "      <td>Pepsico, Inc.</td>\n",
       "      <td>PepsiCo, Inc.</td>\n",
       "      <td>Consumer Defensive</td>\n",
       "      <td>Beverages—Non-Alcoholic</td>\n",
       "      <td>178.05</td>\n",
       "      <td>246180839424</td>\n",
       "      <td>1.515600e+10</td>\n",
       "      <td>0.088</td>\n",
       "      <td>Purchase</td>\n",
       "      <td>NY</td>\n",
       "      <td>United States</td>\n",
       "      <td>309000.0</td>\n",
       "      <td>PepsiCo, Inc. manufactures, markets, distribut...</td>\n",
       "      <td>0.006934</td>\n",
       "    </tr>\n",
       "    <tr>\n",
       "      <th>23</th>\n",
       "      <td>NMS</td>\n",
       "      <td>COST</td>\n",
       "      <td>Costco Wholesale Corporation</td>\n",
       "      <td>Costco Wholesale Corporation</td>\n",
       "      <td>Consumer Defensive</td>\n",
       "      <td>Discount Stores</td>\n",
       "      <td>515.47</td>\n",
       "      <td>228575887360</td>\n",
       "      <td>9.693000e+09</td>\n",
       "      <td>0.150</td>\n",
       "      <td>Issaquah</td>\n",
       "      <td>WA</td>\n",
       "      <td>United States</td>\n",
       "      <td>304000.0</td>\n",
       "      <td>Costco Wholesale Corporation, together with it...</td>\n",
       "      <td>0.006438</td>\n",
       "    </tr>\n",
       "  </tbody>\n",
       "</table>\n",
       "</div>"
      ],
      "text/plain": [
       "   Exchange Symbol                       Shortname  \\\n",
       "11      NYQ    WMT                    Walmart Inc.   \n",
       "13      NYQ     PG  Procter & Gamble Company (The)   \n",
       "20      NYQ     KO         Coca-Cola Company (The)   \n",
       "22      NMS    PEP                   Pepsico, Inc.   \n",
       "23      NMS   COST    Costco Wholesale Corporation   \n",
       "\n",
       "                        Longname              Sector  \\\n",
       "11                  Walmart Inc.  Consumer Defensive   \n",
       "13  The Procter & Gamble Company  Consumer Defensive   \n",
       "20         The Coca-Cola Company  Consumer Defensive   \n",
       "22                 PepsiCo, Inc.  Consumer Defensive   \n",
       "23  Costco Wholesale Corporation  Consumer Defensive   \n",
       "\n",
       "                         Industry  Currentprice     Marketcap        Ebitda  \\\n",
       "11                Discount Stores        142.58  395499831296  3.458600e+10   \n",
       "13  Household & Personal Products        140.97  341140373504  2.136400e+10   \n",
       "20        Beverages—Non-Alcoholic         61.32  264866824192  1.341400e+10   \n",
       "22        Beverages—Non-Alcoholic        178.05  246180839424  1.515600e+10   \n",
       "23                Discount Stores        515.47  228575887360  9.693000e+09   \n",
       "\n",
       "    Revenuegrowth         City State        Country  Fulltimeemployees  \\\n",
       "11          0.084  Bentonville    AR  United States          2300000.0   \n",
       "13          0.013   Cincinnati    OH  United States           106000.0   \n",
       "20          0.102      Atlanta    GA  United States            79000.0   \n",
       "22          0.088     Purchase    NY  United States           309000.0   \n",
       "23          0.150     Issaquah    WA  United States           304000.0   \n",
       "\n",
       "                                  Longbusinesssummary    Weight  \n",
       "11  Walmart Inc. engages in the operation of retai...  0.011139  \n",
       "13  The Procter & Gamble Company provides branded ...  0.009608  \n",
       "20  The Coca-Cola Company, a beverage company, man...  0.007460  \n",
       "22  PepsiCo, Inc. manufactures, markets, distribut...  0.006934  \n",
       "23  Costco Wholesale Corporation, together with it...  0.006438  "
      ]
     },
     "execution_count": 5,
     "metadata": {},
     "output_type": "execute_result"
    }
   ],
   "source": [
    "df1 = df1[df1['Sector'] == 'Consumer Defensive']\n",
    "df1.head()"
   ]
  },
  {
   "cell_type": "markdown",
   "id": "f44ac9f3",
   "metadata": {},
   "source": [
    "### Dataset #2"
   ]
  },
  {
   "cell_type": "code",
   "execution_count": 6,
   "id": "a70666f8",
   "metadata": {},
   "outputs": [
    {
     "name": "stdout",
     "output_type": "stream",
     "text": [
      "<class 'pandas.core.frame.DataFrame'>\n",
      "RangeIndex: 2519 entries, 0 to 2518\n",
      "Data columns (total 2 columns):\n",
      " #   Column  Non-Null Count  Dtype  \n",
      "---  ------  --------------  -----  \n",
      " 0   Date    2519 non-null   object \n",
      " 1   S&P500  2519 non-null   float64\n",
      "dtypes: float64(1), object(1)\n",
      "memory usage: 39.5+ KB\n"
     ]
    }
   ],
   "source": [
    "df2.info()"
   ]
  },
  {
   "cell_type": "code",
   "execution_count": 7,
   "id": "f0dae194",
   "metadata": {},
   "outputs": [
    {
     "data": {
      "text/html": [
       "<div>\n",
       "<style scoped>\n",
       "    .dataframe tbody tr th:only-of-type {\n",
       "        vertical-align: middle;\n",
       "    }\n",
       "\n",
       "    .dataframe tbody tr th {\n",
       "        vertical-align: top;\n",
       "    }\n",
       "\n",
       "    .dataframe thead th {\n",
       "        text-align: right;\n",
       "    }\n",
       "</style>\n",
       "<table border=\"1\" class=\"dataframe\">\n",
       "  <thead>\n",
       "    <tr style=\"text-align: right;\">\n",
       "      <th></th>\n",
       "      <th>Date</th>\n",
       "      <th>S&amp;P500</th>\n",
       "    </tr>\n",
       "  </thead>\n",
       "  <tbody>\n",
       "    <tr>\n",
       "      <th>0</th>\n",
       "      <td>2012-11-12</td>\n",
       "      <td>1380.03</td>\n",
       "    </tr>\n",
       "    <tr>\n",
       "      <th>1</th>\n",
       "      <td>2012-11-13</td>\n",
       "      <td>1374.53</td>\n",
       "    </tr>\n",
       "    <tr>\n",
       "      <th>2</th>\n",
       "      <td>2012-11-14</td>\n",
       "      <td>1355.49</td>\n",
       "    </tr>\n",
       "    <tr>\n",
       "      <th>3</th>\n",
       "      <td>2012-11-15</td>\n",
       "      <td>1353.33</td>\n",
       "    </tr>\n",
       "    <tr>\n",
       "      <th>4</th>\n",
       "      <td>2012-11-16</td>\n",
       "      <td>1359.88</td>\n",
       "    </tr>\n",
       "  </tbody>\n",
       "</table>\n",
       "</div>"
      ],
      "text/plain": [
       "         Date   S&P500\n",
       "0  2012-11-12  1380.03\n",
       "1  2012-11-13  1374.53\n",
       "2  2012-11-14  1355.49\n",
       "3  2012-11-15  1353.33\n",
       "4  2012-11-16  1359.88"
      ]
     },
     "execution_count": 7,
     "metadata": {},
     "output_type": "execute_result"
    }
   ],
   "source": [
    "df2.head()"
   ]
  },
  {
   "cell_type": "code",
   "execution_count": 8,
   "id": "872956a9",
   "metadata": {},
   "outputs": [
    {
     "data": {
      "text/plain": [
       "(2519, 2)"
      ]
     },
     "execution_count": 8,
     "metadata": {},
     "output_type": "execute_result"
    }
   ],
   "source": [
    "df2.shape"
   ]
  },
  {
   "cell_type": "code",
   "execution_count": 9,
   "id": "de404587",
   "metadata": {},
   "outputs": [],
   "source": [
    "df2['Date'] = pd.to_datetime(df2['Date'],infer_datetime_format=True)"
   ]
  },
  {
   "cell_type": "code",
   "execution_count": 10,
   "id": "cd14277e",
   "metadata": {},
   "outputs": [],
   "source": [
    "# df2=df2[df2['Date'] >= '2019-01-1']"
   ]
  },
  {
   "cell_type": "code",
   "execution_count": 11,
   "id": "36d35574",
   "metadata": {},
   "outputs": [],
   "source": [
    "df2 = df2.rename(columns={\"S&P500\":\"SPClose\"})"
   ]
  },
  {
   "cell_type": "code",
   "execution_count": 12,
   "id": "b6b9e5d9",
   "metadata": {},
   "outputs": [],
   "source": [
    "df2['Symbol'] = \"S&P500\""
   ]
  },
  {
   "cell_type": "code",
   "execution_count": 13,
   "id": "65c5d9a2",
   "metadata": {},
   "outputs": [
    {
     "data": {
      "text/html": [
       "<div>\n",
       "<style scoped>\n",
       "    .dataframe tbody tr th:only-of-type {\n",
       "        vertical-align: middle;\n",
       "    }\n",
       "\n",
       "    .dataframe tbody tr th {\n",
       "        vertical-align: top;\n",
       "    }\n",
       "\n",
       "    .dataframe thead th {\n",
       "        text-align: right;\n",
       "    }\n",
       "</style>\n",
       "<table border=\"1\" class=\"dataframe\">\n",
       "  <thead>\n",
       "    <tr style=\"text-align: right;\">\n",
       "      <th></th>\n",
       "      <th>Date</th>\n",
       "      <th>SPClose</th>\n",
       "      <th>Symbol</th>\n",
       "    </tr>\n",
       "  </thead>\n",
       "  <tbody>\n",
       "    <tr>\n",
       "      <th>0</th>\n",
       "      <td>2012-11-12</td>\n",
       "      <td>1380.03</td>\n",
       "      <td>S&amp;P500</td>\n",
       "    </tr>\n",
       "    <tr>\n",
       "      <th>1</th>\n",
       "      <td>2012-11-13</td>\n",
       "      <td>1374.53</td>\n",
       "      <td>S&amp;P500</td>\n",
       "    </tr>\n",
       "    <tr>\n",
       "      <th>2</th>\n",
       "      <td>2012-11-14</td>\n",
       "      <td>1355.49</td>\n",
       "      <td>S&amp;P500</td>\n",
       "    </tr>\n",
       "    <tr>\n",
       "      <th>3</th>\n",
       "      <td>2012-11-15</td>\n",
       "      <td>1353.33</td>\n",
       "      <td>S&amp;P500</td>\n",
       "    </tr>\n",
       "    <tr>\n",
       "      <th>4</th>\n",
       "      <td>2012-11-16</td>\n",
       "      <td>1359.88</td>\n",
       "      <td>S&amp;P500</td>\n",
       "    </tr>\n",
       "  </tbody>\n",
       "</table>\n",
       "</div>"
      ],
      "text/plain": [
       "        Date  SPClose  Symbol\n",
       "0 2012-11-12  1380.03  S&P500\n",
       "1 2012-11-13  1374.53  S&P500\n",
       "2 2012-11-14  1355.49  S&P500\n",
       "3 2012-11-15  1353.33  S&P500\n",
       "4 2012-11-16  1359.88  S&P500"
      ]
     },
     "execution_count": 13,
     "metadata": {},
     "output_type": "execute_result"
    }
   ],
   "source": [
    "df2.head()"
   ]
  },
  {
   "cell_type": "code",
   "execution_count": 14,
   "id": "c359903c",
   "metadata": {},
   "outputs": [
    {
     "data": {
      "text/plain": [
       "Date       0\n",
       "SPClose    0\n",
       "Symbol     0\n",
       "dtype: int64"
      ]
     },
     "execution_count": 14,
     "metadata": {},
     "output_type": "execute_result"
    }
   ],
   "source": [
    "df2.isna().sum()"
   ]
  },
  {
   "cell_type": "markdown",
   "id": "3d4cbc41",
   "metadata": {},
   "source": [
    "### Dataset #3"
   ]
  },
  {
   "cell_type": "code",
   "execution_count": 15,
   "id": "0213c0fd",
   "metadata": {},
   "outputs": [
    {
     "name": "stdout",
     "output_type": "stream",
     "text": [
      "<class 'pandas.core.frame.DataFrame'>\n",
      "RangeIndex: 1629217 entries, 0 to 1629216\n",
      "Data columns (total 8 columns):\n",
      " #   Column     Non-Null Count    Dtype  \n",
      "---  ------     --------------    -----  \n",
      " 0   Date       1629217 non-null  object \n",
      " 1   Symbol     1629217 non-null  object \n",
      " 2   Adj Close  1560290 non-null  float64\n",
      " 3   Close      1560290 non-null  float64\n",
      " 4   High       1560290 non-null  float64\n",
      " 5   Low        1560290 non-null  float64\n",
      " 6   Open       1560290 non-null  float64\n",
      " 7   Volume     1560290 non-null  float64\n",
      "dtypes: float64(6), object(2)\n",
      "memory usage: 99.4+ MB\n"
     ]
    }
   ],
   "source": [
    "df3.info()"
   ]
  },
  {
   "cell_type": "code",
   "execution_count": 16,
   "id": "c79fe1d7",
   "metadata": {},
   "outputs": [],
   "source": [
    "df3['Date'] = pd.to_datetime(df3['Date'])"
   ]
  },
  {
   "cell_type": "code",
   "execution_count": 17,
   "id": "621d6383",
   "metadata": {},
   "outputs": [],
   "source": [
    "df3 = df3.drop(['Adj Close', 'High', 'Low', 'Open', 'Volume'], axis=1)"
   ]
  },
  {
   "cell_type": "code",
   "execution_count": 18,
   "id": "63eaea20",
   "metadata": {},
   "outputs": [
    {
     "data": {
      "text/html": [
       "<div>\n",
       "<style scoped>\n",
       "    .dataframe tbody tr th:only-of-type {\n",
       "        vertical-align: middle;\n",
       "    }\n",
       "\n",
       "    .dataframe tbody tr th {\n",
       "        vertical-align: top;\n",
       "    }\n",
       "\n",
       "    .dataframe thead th {\n",
       "        text-align: right;\n",
       "    }\n",
       "</style>\n",
       "<table border=\"1\" class=\"dataframe\">\n",
       "  <thead>\n",
       "    <tr style=\"text-align: right;\">\n",
       "      <th></th>\n",
       "      <th>Date</th>\n",
       "      <th>Symbol</th>\n",
       "      <th>Close</th>\n",
       "    </tr>\n",
       "  </thead>\n",
       "  <tbody>\n",
       "    <tr>\n",
       "      <th>0</th>\n",
       "      <td>2010-01-04</td>\n",
       "      <td>MMM</td>\n",
       "      <td>83.019997</td>\n",
       "    </tr>\n",
       "    <tr>\n",
       "      <th>1</th>\n",
       "      <td>2010-01-05</td>\n",
       "      <td>MMM</td>\n",
       "      <td>82.500000</td>\n",
       "    </tr>\n",
       "    <tr>\n",
       "      <th>2</th>\n",
       "      <td>2010-01-06</td>\n",
       "      <td>MMM</td>\n",
       "      <td>83.669998</td>\n",
       "    </tr>\n",
       "    <tr>\n",
       "      <th>3</th>\n",
       "      <td>2010-01-07</td>\n",
       "      <td>MMM</td>\n",
       "      <td>83.730003</td>\n",
       "    </tr>\n",
       "    <tr>\n",
       "      <th>4</th>\n",
       "      <td>2010-01-08</td>\n",
       "      <td>MMM</td>\n",
       "      <td>84.320000</td>\n",
       "    </tr>\n",
       "  </tbody>\n",
       "</table>\n",
       "</div>"
      ],
      "text/plain": [
       "        Date Symbol      Close\n",
       "0 2010-01-04    MMM  83.019997\n",
       "1 2010-01-05    MMM  82.500000\n",
       "2 2010-01-06    MMM  83.669998\n",
       "3 2010-01-07    MMM  83.730003\n",
       "4 2010-01-08    MMM  84.320000"
      ]
     },
     "execution_count": 18,
     "metadata": {},
     "output_type": "execute_result"
    }
   ],
   "source": [
    "df3.head()"
   ]
  },
  {
   "cell_type": "code",
   "execution_count": 19,
   "id": "11590625",
   "metadata": {},
   "outputs": [],
   "source": [
    "df3 = df3.loc[df3['Symbol'].isin(['PEP', 'KO', 'PG', 'WMT', 'COST'])]"
   ]
  },
  {
   "cell_type": "code",
   "execution_count": 20,
   "id": "3186b161",
   "metadata": {},
   "outputs": [
    {
     "data": {
      "text/plain": [
       "Date      0\n",
       "Symbol    0\n",
       "Close     0\n",
       "dtype: int64"
      ]
     },
     "execution_count": 20,
     "metadata": {},
     "output_type": "execute_result"
    }
   ],
   "source": [
    "df3.isna().sum()"
   ]
  },
  {
   "cell_type": "code",
   "execution_count": 21,
   "id": "38b340ad",
   "metadata": {},
   "outputs": [],
   "source": [
    "df3['Date'] = pd.to_datetime(df3['Date'],infer_datetime_format=True)"
   ]
  },
  {
   "cell_type": "code",
   "execution_count": 22,
   "id": "87cb5a13",
   "metadata": {},
   "outputs": [],
   "source": [
    "# df3=df3[df3['Date'] >= '2019-01-1']"
   ]
  },
  {
   "cell_type": "code",
   "execution_count": 23,
   "id": "2e7db4a8",
   "metadata": {},
   "outputs": [
    {
     "data": {
      "text/html": [
       "<div>\n",
       "<style scoped>\n",
       "    .dataframe tbody tr th:only-of-type {\n",
       "        vertical-align: middle;\n",
       "    }\n",
       "\n",
       "    .dataframe tbody tr th {\n",
       "        vertical-align: top;\n",
       "    }\n",
       "\n",
       "    .dataframe thead th {\n",
       "        text-align: right;\n",
       "    }\n",
       "</style>\n",
       "<table border=\"1\" class=\"dataframe\">\n",
       "  <thead>\n",
       "    <tr style=\"text-align: right;\">\n",
       "      <th></th>\n",
       "      <th>Date</th>\n",
       "      <th>Symbol</th>\n",
       "      <th>Close</th>\n",
       "    </tr>\n",
       "  </thead>\n",
       "  <tbody>\n",
       "    <tr>\n",
       "      <th>382202</th>\n",
       "      <td>2010-01-04</td>\n",
       "      <td>KO</td>\n",
       "      <td>28.520000</td>\n",
       "    </tr>\n",
       "    <tr>\n",
       "      <th>382203</th>\n",
       "      <td>2010-01-05</td>\n",
       "      <td>KO</td>\n",
       "      <td>28.174999</td>\n",
       "    </tr>\n",
       "    <tr>\n",
       "      <th>382204</th>\n",
       "      <td>2010-01-06</td>\n",
       "      <td>KO</td>\n",
       "      <td>28.165001</td>\n",
       "    </tr>\n",
       "    <tr>\n",
       "      <th>382205</th>\n",
       "      <td>2010-01-07</td>\n",
       "      <td>KO</td>\n",
       "      <td>28.094999</td>\n",
       "    </tr>\n",
       "    <tr>\n",
       "      <th>382206</th>\n",
       "      <td>2010-01-08</td>\n",
       "      <td>KO</td>\n",
       "      <td>27.575001</td>\n",
       "    </tr>\n",
       "  </tbody>\n",
       "</table>\n",
       "</div>"
      ],
      "text/plain": [
       "             Date Symbol      Close\n",
       "382202 2010-01-04     KO  28.520000\n",
       "382203 2010-01-05     KO  28.174999\n",
       "382204 2010-01-06     KO  28.165001\n",
       "382205 2010-01-07     KO  28.094999\n",
       "382206 2010-01-08     KO  27.575001"
      ]
     },
     "execution_count": 23,
     "metadata": {},
     "output_type": "execute_result"
    }
   ],
   "source": [
    "df3.head()"
   ]
  },
  {
   "cell_type": "markdown",
   "id": "d199e331",
   "metadata": {},
   "source": [
    "### Dfg "
   ]
  },
  {
   "cell_type": "code",
   "execution_count": 24,
   "id": "85ce6718",
   "metadata": {},
   "outputs": [
    {
     "name": "stdout",
     "output_type": "stream",
     "text": [
      "<class 'pandas.core.frame.DataFrame'>\n",
      "RangeIndex: 9824 entries, 0 to 9823\n",
      "Data columns (total 7 columns):\n",
      " #   Column  Non-Null Count  Dtype  \n",
      "---  ------  --------------  -----  \n",
      " 0   Date    9824 non-null   object \n",
      " 1   USD     9824 non-null   float64\n",
      " 2   EUR     9824 non-null   float64\n",
      " 3   GBP     9824 non-null   float64\n",
      " 4   INR     9824 non-null   float64\n",
      " 5   AED     9824 non-null   float64\n",
      " 6   CNY     9820 non-null   float64\n",
      "dtypes: float64(6), object(1)\n",
      "memory usage: 537.4+ KB\n"
     ]
    }
   ],
   "source": [
    "dfg.info()"
   ]
  },
  {
   "cell_type": "code",
   "execution_count": 25,
   "id": "2be34764",
   "metadata": {},
   "outputs": [],
   "source": [
    "dfg = dfg.drop(['EUR','GBP','INR','AED','CNY'],axis=1)"
   ]
  },
  {
   "cell_type": "code",
   "execution_count": 26,
   "id": "e455a768",
   "metadata": {},
   "outputs": [],
   "source": [
    "dfg = dfg.rename(columns={\"USD\":\"Gold\"})"
   ]
  },
  {
   "cell_type": "code",
   "execution_count": 27,
   "id": "f67ea2f5",
   "metadata": {},
   "outputs": [
    {
     "data": {
      "text/plain": [
       "Date    0\n",
       "Gold    0\n",
       "dtype: int64"
      ]
     },
     "execution_count": 27,
     "metadata": {},
     "output_type": "execute_result"
    }
   ],
   "source": [
    "dfg.isna().sum()"
   ]
  },
  {
   "cell_type": "code",
   "execution_count": 28,
   "id": "a7a3f4ab",
   "metadata": {},
   "outputs": [],
   "source": [
    "dfg['Date'] = pd.to_datetime(dfg['Date'],infer_datetime_format=True)"
   ]
  },
  {
   "cell_type": "code",
   "execution_count": 29,
   "id": "9dec0d5c",
   "metadata": {},
   "outputs": [],
   "source": [
    "# dfg=dfg[dfg['Date'] >= '2019-01-1']"
   ]
  },
  {
   "cell_type": "code",
   "execution_count": 30,
   "id": "ffa549f3",
   "metadata": {},
   "outputs": [
    {
     "data": {
      "text/html": [
       "<div>\n",
       "<style scoped>\n",
       "    .dataframe tbody tr th:only-of-type {\n",
       "        vertical-align: middle;\n",
       "    }\n",
       "\n",
       "    .dataframe tbody tr th {\n",
       "        vertical-align: top;\n",
       "    }\n",
       "\n",
       "    .dataframe thead th {\n",
       "        text-align: right;\n",
       "    }\n",
       "</style>\n",
       "<table border=\"1\" class=\"dataframe\">\n",
       "  <thead>\n",
       "    <tr style=\"text-align: right;\">\n",
       "      <th></th>\n",
       "      <th>Date</th>\n",
       "      <th>Gold</th>\n",
       "    </tr>\n",
       "  </thead>\n",
       "  <tbody>\n",
       "    <tr>\n",
       "      <th>0</th>\n",
       "      <td>1985-01-01</td>\n",
       "      <td>308.30</td>\n",
       "    </tr>\n",
       "    <tr>\n",
       "      <th>1</th>\n",
       "      <td>1985-01-02</td>\n",
       "      <td>305.50</td>\n",
       "    </tr>\n",
       "    <tr>\n",
       "      <th>2</th>\n",
       "      <td>1985-01-03</td>\n",
       "      <td>302.30</td>\n",
       "    </tr>\n",
       "    <tr>\n",
       "      <th>3</th>\n",
       "      <td>1985-01-04</td>\n",
       "      <td>303.15</td>\n",
       "    </tr>\n",
       "    <tr>\n",
       "      <th>4</th>\n",
       "      <td>1985-01-07</td>\n",
       "      <td>298.25</td>\n",
       "    </tr>\n",
       "  </tbody>\n",
       "</table>\n",
       "</div>"
      ],
      "text/plain": [
       "        Date    Gold\n",
       "0 1985-01-01  308.30\n",
       "1 1985-01-02  305.50\n",
       "2 1985-01-03  302.30\n",
       "3 1985-01-04  303.15\n",
       "4 1985-01-07  298.25"
      ]
     },
     "execution_count": 30,
     "metadata": {},
     "output_type": "execute_result"
    }
   ],
   "source": [
    "dfg.head()"
   ]
  },
  {
   "cell_type": "code",
   "execution_count": 31,
   "id": "842ae2e1",
   "metadata": {},
   "outputs": [
    {
     "name": "stdout",
     "output_type": "stream",
     "text": [
      "<class 'pandas.core.frame.DataFrame'>\n",
      "RangeIndex: 9824 entries, 0 to 9823\n",
      "Data columns (total 2 columns):\n",
      " #   Column  Non-Null Count  Dtype         \n",
      "---  ------  --------------  -----         \n",
      " 0   Date    9824 non-null   datetime64[ns]\n",
      " 1   Gold    9824 non-null   float64       \n",
      "dtypes: datetime64[ns](1), float64(1)\n",
      "memory usage: 153.6 KB\n"
     ]
    }
   ],
   "source": [
    "dfg.info()"
   ]
  },
  {
   "cell_type": "markdown",
   "id": "15ace464",
   "metadata": {},
   "source": [
    "### Deth"
   ]
  },
  {
   "cell_type": "code",
   "execution_count": 32,
   "id": "77f6afa0",
   "metadata": {},
   "outputs": [
    {
     "name": "stdout",
     "output_type": "stream",
     "text": [
      "<class 'pandas.core.frame.DataFrame'>\n",
      "RangeIndex: 1827 entries, 0 to 1826\n",
      "Data columns (total 2 columns):\n",
      " #   Column    Non-Null Count  Dtype \n",
      "---  ------    --------------  ----- \n",
      " 0   DATE      1827 non-null   object\n",
      " 1   CBETHUSD  1827 non-null   object\n",
      "dtypes: object(2)\n",
      "memory usage: 28.7+ KB\n"
     ]
    }
   ],
   "source": [
    "deth.info()"
   ]
  },
  {
   "cell_type": "code",
   "execution_count": 33,
   "id": "14392767",
   "metadata": {},
   "outputs": [
    {
     "data": {
      "text/plain": [
       "DATE        0\n",
       "CBETHUSD    0\n",
       "dtype: int64"
      ]
     },
     "execution_count": 33,
     "metadata": {},
     "output_type": "execute_result"
    }
   ],
   "source": [
    "deth.isna().sum()"
   ]
  },
  {
   "cell_type": "code",
   "execution_count": 34,
   "id": "d4bbafde",
   "metadata": {},
   "outputs": [],
   "source": [
    "deth = deth.rename(columns={\"DATE\":\"Date\",\"CBETHUSD\":\"Ether\"})"
   ]
  },
  {
   "cell_type": "code",
   "execution_count": 35,
   "id": "81a299ac",
   "metadata": {},
   "outputs": [],
   "source": [
    "deth['Date'] = pd.to_datetime(deth['Date'],infer_datetime_format=True)"
   ]
  },
  {
   "cell_type": "code",
   "execution_count": 36,
   "id": "ba736d33",
   "metadata": {},
   "outputs": [],
   "source": [
    "# deth=deth[deth['Date'] >= '2019-01-1']"
   ]
  },
  {
   "cell_type": "code",
   "execution_count": 37,
   "id": "f020bce4",
   "metadata": {},
   "outputs": [
    {
     "data": {
      "text/html": [
       "<div>\n",
       "<style scoped>\n",
       "    .dataframe tbody tr th:only-of-type {\n",
       "        vertical-align: middle;\n",
       "    }\n",
       "\n",
       "    .dataframe tbody tr th {\n",
       "        vertical-align: top;\n",
       "    }\n",
       "\n",
       "    .dataframe thead th {\n",
       "        text-align: right;\n",
       "    }\n",
       "</style>\n",
       "<table border=\"1\" class=\"dataframe\">\n",
       "  <thead>\n",
       "    <tr style=\"text-align: right;\">\n",
       "      <th></th>\n",
       "      <th>Date</th>\n",
       "      <th>Ether</th>\n",
       "    </tr>\n",
       "  </thead>\n",
       "  <tbody>\n",
       "    <tr>\n",
       "      <th>0</th>\n",
       "      <td>2017-11-22</td>\n",
       "      <td>381.73</td>\n",
       "    </tr>\n",
       "    <tr>\n",
       "      <th>1</th>\n",
       "      <td>2017-11-23</td>\n",
       "      <td>406.61</td>\n",
       "    </tr>\n",
       "    <tr>\n",
       "      <th>2</th>\n",
       "      <td>2017-11-24</td>\n",
       "      <td>470.98</td>\n",
       "    </tr>\n",
       "    <tr>\n",
       "      <th>3</th>\n",
       "      <td>2017-11-25</td>\n",
       "      <td>466.77</td>\n",
       "    </tr>\n",
       "    <tr>\n",
       "      <th>4</th>\n",
       "      <td>2017-11-26</td>\n",
       "      <td>473.99</td>\n",
       "    </tr>\n",
       "  </tbody>\n",
       "</table>\n",
       "</div>"
      ],
      "text/plain": [
       "        Date   Ether\n",
       "0 2017-11-22  381.73\n",
       "1 2017-11-23  406.61\n",
       "2 2017-11-24  470.98\n",
       "3 2017-11-25  466.77\n",
       "4 2017-11-26  473.99"
      ]
     },
     "execution_count": 37,
     "metadata": {},
     "output_type": "execute_result"
    }
   ],
   "source": [
    "deth.head()"
   ]
  },
  {
   "cell_type": "markdown",
   "id": "79b46f29",
   "metadata": {},
   "source": [
    "### Dollar"
   ]
  },
  {
   "cell_type": "code",
   "execution_count": 38,
   "id": "97f6128d",
   "metadata": {},
   "outputs": [
    {
     "name": "stdout",
     "output_type": "stream",
     "text": [
      "<class 'pandas.core.frame.DataFrame'>\n",
      "RangeIndex: 1305 entries, 0 to 1304\n",
      "Data columns (total 2 columns):\n",
      " #   Column    Non-Null Count  Dtype \n",
      "---  ------    --------------  ----- \n",
      " 0   DATE      1305 non-null   object\n",
      " 1   DTWEXBGS  1305 non-null   object\n",
      "dtypes: object(2)\n",
      "memory usage: 20.5+ KB\n"
     ]
    }
   ],
   "source": [
    "dollar.info()"
   ]
  },
  {
   "cell_type": "code",
   "execution_count": 39,
   "id": "4c9bedcd",
   "metadata": {},
   "outputs": [
    {
     "data": {
      "text/plain": [
       "DATE        0\n",
       "DTWEXBGS    0\n",
       "dtype: int64"
      ]
     },
     "execution_count": 39,
     "metadata": {},
     "output_type": "execute_result"
    }
   ],
   "source": [
    "dollar.isna().sum()"
   ]
  },
  {
   "cell_type": "code",
   "execution_count": 40,
   "id": "91884e27",
   "metadata": {},
   "outputs": [],
   "source": [
    "dollar = dollar.rename(columns={\"DATE\":\"Date\", \"DTWEXBGS\":\"USD\"})"
   ]
  },
  {
   "cell_type": "code",
   "execution_count": 41,
   "id": "ca781f62",
   "metadata": {},
   "outputs": [],
   "source": [
    "dollar['Date'] = pd.to_datetime(dollar['Date'],infer_datetime_format=True)"
   ]
  },
  {
   "cell_type": "code",
   "execution_count": 42,
   "id": "54999e3c",
   "metadata": {},
   "outputs": [],
   "source": [
    "# dollar=dollar[dollar['Date'] >= '2019-01-1']"
   ]
  },
  {
   "cell_type": "code",
   "execution_count": 43,
   "id": "0b66f04b",
   "metadata": {},
   "outputs": [
    {
     "data": {
      "text/html": [
       "<div>\n",
       "<style scoped>\n",
       "    .dataframe tbody tr th:only-of-type {\n",
       "        vertical-align: middle;\n",
       "    }\n",
       "\n",
       "    .dataframe tbody tr th {\n",
       "        vertical-align: top;\n",
       "    }\n",
       "\n",
       "    .dataframe thead th {\n",
       "        text-align: right;\n",
       "    }\n",
       "</style>\n",
       "<table border=\"1\" class=\"dataframe\">\n",
       "  <thead>\n",
       "    <tr style=\"text-align: right;\">\n",
       "      <th></th>\n",
       "      <th>Date</th>\n",
       "      <th>USD</th>\n",
       "    </tr>\n",
       "  </thead>\n",
       "  <tbody>\n",
       "    <tr>\n",
       "      <th>0</th>\n",
       "      <td>2017-11-20</td>\n",
       "      <td>111.261</td>\n",
       "    </tr>\n",
       "    <tr>\n",
       "      <th>1</th>\n",
       "      <td>2017-11-21</td>\n",
       "      <td>110.9836</td>\n",
       "    </tr>\n",
       "    <tr>\n",
       "      <th>2</th>\n",
       "      <td>2017-11-22</td>\n",
       "      <td>110.5642</td>\n",
       "    </tr>\n",
       "    <tr>\n",
       "      <th>3</th>\n",
       "      <td>2017-11-23</td>\n",
       "      <td>.</td>\n",
       "    </tr>\n",
       "    <tr>\n",
       "      <th>4</th>\n",
       "      <td>2017-11-24</td>\n",
       "      <td>110.0266</td>\n",
       "    </tr>\n",
       "  </tbody>\n",
       "</table>\n",
       "</div>"
      ],
      "text/plain": [
       "        Date       USD\n",
       "0 2017-11-20   111.261\n",
       "1 2017-11-21  110.9836\n",
       "2 2017-11-22  110.5642\n",
       "3 2017-11-23         .\n",
       "4 2017-11-24  110.0266"
      ]
     },
     "execution_count": 43,
     "metadata": {},
     "output_type": "execute_result"
    }
   ],
   "source": [
    "dollar.head()"
   ]
  },
  {
   "cell_type": "code",
   "execution_count": 44,
   "id": "50cdbdc2",
   "metadata": {},
   "outputs": [
    {
     "data": {
      "text/html": [
       "<div>\n",
       "<style scoped>\n",
       "    .dataframe tbody tr th:only-of-type {\n",
       "        vertical-align: middle;\n",
       "    }\n",
       "\n",
       "    .dataframe tbody tr th {\n",
       "        vertical-align: top;\n",
       "    }\n",
       "\n",
       "    .dataframe thead th {\n",
       "        text-align: right;\n",
       "    }\n",
       "</style>\n",
       "<table border=\"1\" class=\"dataframe\">\n",
       "  <thead>\n",
       "    <tr style=\"text-align: right;\">\n",
       "      <th></th>\n",
       "      <th>Date</th>\n",
       "      <th>USD</th>\n",
       "    </tr>\n",
       "  </thead>\n",
       "  <tbody>\n",
       "    <tr>\n",
       "      <th>1300</th>\n",
       "      <td>2022-11-14</td>\n",
       "      <td>123.5788</td>\n",
       "    </tr>\n",
       "    <tr>\n",
       "      <th>1301</th>\n",
       "      <td>2022-11-15</td>\n",
       "      <td>123.1759</td>\n",
       "    </tr>\n",
       "    <tr>\n",
       "      <th>1302</th>\n",
       "      <td>2022-11-16</td>\n",
       "      <td>123.4178</td>\n",
       "    </tr>\n",
       "    <tr>\n",
       "      <th>1303</th>\n",
       "      <td>2022-11-17</td>\n",
       "      <td>124.1229</td>\n",
       "    </tr>\n",
       "    <tr>\n",
       "      <th>1304</th>\n",
       "      <td>2022-11-18</td>\n",
       "      <td>123.9828</td>\n",
       "    </tr>\n",
       "  </tbody>\n",
       "</table>\n",
       "</div>"
      ],
      "text/plain": [
       "           Date       USD\n",
       "1300 2022-11-14  123.5788\n",
       "1301 2022-11-15  123.1759\n",
       "1302 2022-11-16  123.4178\n",
       "1303 2022-11-17  124.1229\n",
       "1304 2022-11-18  123.9828"
      ]
     },
     "execution_count": 44,
     "metadata": {},
     "output_type": "execute_result"
    }
   ],
   "source": [
    "dollar.tail()"
   ]
  },
  {
   "cell_type": "markdown",
   "id": "66651af6",
   "metadata": {},
   "source": [
    "### PPI "
   ]
  },
  {
   "cell_type": "code",
   "execution_count": 45,
   "id": "9e19b701",
   "metadata": {},
   "outputs": [
    {
     "name": "stdout",
     "output_type": "stream",
     "text": [
      "<class 'pandas.core.frame.DataFrame'>\n",
      "RangeIndex: 479 entries, 0 to 478\n",
      "Data columns (total 2 columns):\n",
      " #   Column       Non-Null Count  Dtype  \n",
      "---  ------       --------------  -----  \n",
      " 0   DATE         479 non-null    object \n",
      " 1   WPU02850113  479 non-null    float64\n",
      "dtypes: float64(1), object(1)\n",
      "memory usage: 7.6+ KB\n"
     ]
    }
   ],
   "source": [
    "ppi.info()"
   ]
  },
  {
   "cell_type": "code",
   "execution_count": 46,
   "id": "a22f792a",
   "metadata": {},
   "outputs": [
    {
     "data": {
      "text/plain": [
       "DATE           0\n",
       "WPU02850113    0\n",
       "dtype: int64"
      ]
     },
     "execution_count": 46,
     "metadata": {},
     "output_type": "execute_result"
    }
   ],
   "source": [
    "ppi.isna().sum()"
   ]
  },
  {
   "cell_type": "code",
   "execution_count": 47,
   "id": "2e2262cb",
   "metadata": {},
   "outputs": [],
   "source": [
    "ppi = ppi.rename(columns={\"DATE\":\"Date\", \"WPU02850113\":\"PPI\"})"
   ]
  },
  {
   "cell_type": "code",
   "execution_count": 48,
   "id": "2866d95d",
   "metadata": {},
   "outputs": [],
   "source": [
    "ppi['Date'] = pd.to_datetime(ppi['Date'],infer_datetime_format=True)"
   ]
  },
  {
   "cell_type": "code",
   "execution_count": null,
   "id": "2c9c5fa5",
   "metadata": {},
   "outputs": [],
   "source": [
    "ppi"
   ]
  },
  {
   "cell_type": "code",
   "execution_count": 49,
   "id": "be3258bd",
   "metadata": {},
   "outputs": [],
   "source": [
    "# ppi=ppi[ppi['Date'] >= '2019-01-1']"
   ]
  },
  {
   "cell_type": "code",
   "execution_count": 50,
   "id": "436c9e38",
   "metadata": {},
   "outputs": [
    {
     "data": {
      "text/html": [
       "<div>\n",
       "<style scoped>\n",
       "    .dataframe tbody tr th:only-of-type {\n",
       "        vertical-align: middle;\n",
       "    }\n",
       "\n",
       "    .dataframe tbody tr th {\n",
       "        vertical-align: top;\n",
       "    }\n",
       "\n",
       "    .dataframe thead th {\n",
       "        text-align: right;\n",
       "    }\n",
       "</style>\n",
       "<table border=\"1\" class=\"dataframe\">\n",
       "  <thead>\n",
       "    <tr style=\"text-align: right;\">\n",
       "      <th></th>\n",
       "      <th>Date</th>\n",
       "      <th>PPI</th>\n",
       "    </tr>\n",
       "  </thead>\n",
       "  <tbody>\n",
       "    <tr>\n",
       "      <th>0</th>\n",
       "      <td>1982-12-01</td>\n",
       "      <td>100.0</td>\n",
       "    </tr>\n",
       "    <tr>\n",
       "      <th>1</th>\n",
       "      <td>1983-01-01</td>\n",
       "      <td>99.7</td>\n",
       "    </tr>\n",
       "    <tr>\n",
       "      <th>2</th>\n",
       "      <td>1983-02-01</td>\n",
       "      <td>100.4</td>\n",
       "    </tr>\n",
       "    <tr>\n",
       "      <th>3</th>\n",
       "      <td>1983-03-01</td>\n",
       "      <td>101.5</td>\n",
       "    </tr>\n",
       "    <tr>\n",
       "      <th>4</th>\n",
       "      <td>1983-04-01</td>\n",
       "      <td>102.2</td>\n",
       "    </tr>\n",
       "  </tbody>\n",
       "</table>\n",
       "</div>"
      ],
      "text/plain": [
       "        Date    PPI\n",
       "0 1982-12-01  100.0\n",
       "1 1983-01-01   99.7\n",
       "2 1983-02-01  100.4\n",
       "3 1983-03-01  101.5\n",
       "4 1983-04-01  102.2"
      ]
     },
     "execution_count": 50,
     "metadata": {},
     "output_type": "execute_result"
    }
   ],
   "source": [
    "ppi.head()"
   ]
  },
  {
   "cell_type": "markdown",
   "id": "33b92a82",
   "metadata": {},
   "source": [
    "## Merge datasets"
   ]
  },
  {
   "cell_type": "code",
   "execution_count": 51,
   "id": "5cdd19d8",
   "metadata": {},
   "outputs": [],
   "source": [
    "df4 = pd.merge(df2,df3, on='Date', how='outer')"
   ]
  },
  {
   "cell_type": "code",
   "execution_count": 52,
   "id": "e1dfb667",
   "metadata": {
    "scrolled": true
   },
   "outputs": [],
   "source": [
    "df4 = pd.merge(df4, dfg, on='Date')"
   ]
  },
  {
   "cell_type": "code",
   "execution_count": 53,
   "id": "71645309",
   "metadata": {},
   "outputs": [],
   "source": [
    "df4 = pd.merge(df4, deth, on='Date')"
   ]
  },
  {
   "cell_type": "code",
   "execution_count": 54,
   "id": "f49ad812",
   "metadata": {},
   "outputs": [],
   "source": [
    "df4 = pd.merge(df4, dollar, on='Date')"
   ]
  },
  {
   "cell_type": "code",
   "execution_count": 55,
   "id": "a9a9c30d",
   "metadata": {},
   "outputs": [],
   "source": [
    "df4 = pd.merge(df4, ppi, on='Date')"
   ]
  },
  {
   "cell_type": "code",
   "execution_count": 56,
   "id": "0df60467",
   "metadata": {},
   "outputs": [
    {
     "data": {
      "text/html": [
       "<div>\n",
       "<style scoped>\n",
       "    .dataframe tbody tr th:only-of-type {\n",
       "        vertical-align: middle;\n",
       "    }\n",
       "\n",
       "    .dataframe tbody tr th {\n",
       "        vertical-align: top;\n",
       "    }\n",
       "\n",
       "    .dataframe thead th {\n",
       "        text-align: right;\n",
       "    }\n",
       "</style>\n",
       "<table border=\"1\" class=\"dataframe\">\n",
       "  <thead>\n",
       "    <tr style=\"text-align: right;\">\n",
       "      <th></th>\n",
       "      <th>Date</th>\n",
       "      <th>SPClose</th>\n",
       "      <th>Symbol_y</th>\n",
       "      <th>Close</th>\n",
       "      <th>Gold</th>\n",
       "      <th>Ether</th>\n",
       "      <th>USD</th>\n",
       "      <th>PPI</th>\n",
       "    </tr>\n",
       "  </thead>\n",
       "  <tbody>\n",
       "    <tr>\n",
       "      <th>0</th>\n",
       "      <td>2017-12-01</td>\n",
       "      <td>2642.22</td>\n",
       "      <td>KO</td>\n",
       "      <td>45.970001</td>\n",
       "      <td>1275.5</td>\n",
       "      <td>463.82</td>\n",
       "      <td>110.1432</td>\n",
       "      <td>186.000</td>\n",
       "    </tr>\n",
       "    <tr>\n",
       "      <th>1</th>\n",
       "      <td>2017-12-01</td>\n",
       "      <td>2642.22</td>\n",
       "      <td>COST</td>\n",
       "      <td>185.130005</td>\n",
       "      <td>1275.5</td>\n",
       "      <td>463.82</td>\n",
       "      <td>110.1432</td>\n",
       "      <td>186.000</td>\n",
       "    </tr>\n",
       "    <tr>\n",
       "      <th>2</th>\n",
       "      <td>2017-12-01</td>\n",
       "      <td>2642.22</td>\n",
       "      <td>PEP</td>\n",
       "      <td>116.779999</td>\n",
       "      <td>1275.5</td>\n",
       "      <td>463.82</td>\n",
       "      <td>110.1432</td>\n",
       "      <td>186.000</td>\n",
       "    </tr>\n",
       "    <tr>\n",
       "      <th>3</th>\n",
       "      <td>2017-12-01</td>\n",
       "      <td>2642.22</td>\n",
       "      <td>PG</td>\n",
       "      <td>90.360001</td>\n",
       "      <td>1275.5</td>\n",
       "      <td>463.82</td>\n",
       "      <td>110.1432</td>\n",
       "      <td>186.000</td>\n",
       "    </tr>\n",
       "    <tr>\n",
       "      <th>4</th>\n",
       "      <td>2017-12-01</td>\n",
       "      <td>2642.22</td>\n",
       "      <td>WMT</td>\n",
       "      <td>97.349998</td>\n",
       "      <td>1275.5</td>\n",
       "      <td>463.82</td>\n",
       "      <td>110.1432</td>\n",
       "      <td>186.000</td>\n",
       "    </tr>\n",
       "    <tr>\n",
       "      <th>...</th>\n",
       "      <td>...</td>\n",
       "      <td>...</td>\n",
       "      <td>...</td>\n",
       "      <td>...</td>\n",
       "      <td>...</td>\n",
       "      <td>...</td>\n",
       "      <td>...</td>\n",
       "      <td>...</td>\n",
       "    </tr>\n",
       "    <tr>\n",
       "      <th>185</th>\n",
       "      <td>2022-08-01</td>\n",
       "      <td>4118.63</td>\n",
       "      <td>KO</td>\n",
       "      <td>64.519997</td>\n",
       "      <td>1772.4</td>\n",
       "      <td>1629.76</td>\n",
       "      <td>121.5001</td>\n",
       "      <td>269.651</td>\n",
       "    </tr>\n",
       "    <tr>\n",
       "      <th>186</th>\n",
       "      <td>2022-08-01</td>\n",
       "      <td>4118.63</td>\n",
       "      <td>COST</td>\n",
       "      <td>546.809998</td>\n",
       "      <td>1772.4</td>\n",
       "      <td>1629.76</td>\n",
       "      <td>121.5001</td>\n",
       "      <td>269.651</td>\n",
       "    </tr>\n",
       "    <tr>\n",
       "      <th>187</th>\n",
       "      <td>2022-08-01</td>\n",
       "      <td>4118.63</td>\n",
       "      <td>PEP</td>\n",
       "      <td>176.949997</td>\n",
       "      <td>1772.4</td>\n",
       "      <td>1629.76</td>\n",
       "      <td>121.5001</td>\n",
       "      <td>269.651</td>\n",
       "    </tr>\n",
       "    <tr>\n",
       "      <th>188</th>\n",
       "      <td>2022-08-01</td>\n",
       "      <td>4118.63</td>\n",
       "      <td>PG</td>\n",
       "      <td>142.899994</td>\n",
       "      <td>1772.4</td>\n",
       "      <td>1629.76</td>\n",
       "      <td>121.5001</td>\n",
       "      <td>269.651</td>\n",
       "    </tr>\n",
       "    <tr>\n",
       "      <th>189</th>\n",
       "      <td>2022-08-01</td>\n",
       "      <td>4118.63</td>\n",
       "      <td>WMT</td>\n",
       "      <td>132.539993</td>\n",
       "      <td>1772.4</td>\n",
       "      <td>1629.76</td>\n",
       "      <td>121.5001</td>\n",
       "      <td>269.651</td>\n",
       "    </tr>\n",
       "  </tbody>\n",
       "</table>\n",
       "<p>190 rows × 8 columns</p>\n",
       "</div>"
      ],
      "text/plain": [
       "          Date  SPClose Symbol_y       Close    Gold    Ether       USD  \\\n",
       "0   2017-12-01  2642.22       KO   45.970001  1275.5   463.82  110.1432   \n",
       "1   2017-12-01  2642.22     COST  185.130005  1275.5   463.82  110.1432   \n",
       "2   2017-12-01  2642.22      PEP  116.779999  1275.5   463.82  110.1432   \n",
       "3   2017-12-01  2642.22       PG   90.360001  1275.5   463.82  110.1432   \n",
       "4   2017-12-01  2642.22      WMT   97.349998  1275.5   463.82  110.1432   \n",
       "..         ...      ...      ...         ...     ...      ...       ...   \n",
       "185 2022-08-01  4118.63       KO   64.519997  1772.4  1629.76  121.5001   \n",
       "186 2022-08-01  4118.63     COST  546.809998  1772.4  1629.76  121.5001   \n",
       "187 2022-08-01  4118.63      PEP  176.949997  1772.4  1629.76  121.5001   \n",
       "188 2022-08-01  4118.63       PG  142.899994  1772.4  1629.76  121.5001   \n",
       "189 2022-08-01  4118.63      WMT  132.539993  1772.4  1629.76  121.5001   \n",
       "\n",
       "         PPI  \n",
       "0    186.000  \n",
       "1    186.000  \n",
       "2    186.000  \n",
       "3    186.000  \n",
       "4    186.000  \n",
       "..       ...  \n",
       "185  269.651  \n",
       "186  269.651  \n",
       "187  269.651  \n",
       "188  269.651  \n",
       "189  269.651  \n",
       "\n",
       "[190 rows x 8 columns]"
      ]
     },
     "execution_count": 56,
     "metadata": {},
     "output_type": "execute_result"
    }
   ],
   "source": [
    "df4.drop('Symbol_x', axis=1)"
   ]
  },
  {
   "cell_type": "code",
   "execution_count": 57,
   "id": "f97af627",
   "metadata": {},
   "outputs": [],
   "source": [
    "df4 = df4.rename(columns={'Symbol_y': 'Symbol'})"
   ]
  },
  {
   "cell_type": "code",
   "execution_count": 58,
   "id": "c13ea833",
   "metadata": {},
   "outputs": [],
   "source": [
    "df4 = df4[['Date', 'Symbol', 'Close', 'SPClose','Gold','Ether','USD','PPI']]"
   ]
  },
  {
   "cell_type": "code",
   "execution_count": 94,
   "id": "f7de3902",
   "metadata": {},
   "outputs": [
    {
     "data": {
      "text/html": [
       "<div>\n",
       "<style scoped>\n",
       "    .dataframe tbody tr th:only-of-type {\n",
       "        vertical-align: middle;\n",
       "    }\n",
       "\n",
       "    .dataframe tbody tr th {\n",
       "        vertical-align: top;\n",
       "    }\n",
       "\n",
       "    .dataframe thead th {\n",
       "        text-align: right;\n",
       "    }\n",
       "</style>\n",
       "<table border=\"1\" class=\"dataframe\">\n",
       "  <thead>\n",
       "    <tr style=\"text-align: right;\">\n",
       "      <th></th>\n",
       "      <th>Date</th>\n",
       "      <th>Symbol</th>\n",
       "      <th>Close</th>\n",
       "      <th>SPClose</th>\n",
       "      <th>Gold</th>\n",
       "      <th>Ether</th>\n",
       "      <th>USD</th>\n",
       "      <th>PPI</th>\n",
       "    </tr>\n",
       "  </thead>\n",
       "  <tbody>\n",
       "    <tr>\n",
       "      <th>0</th>\n",
       "      <td>2017-12-01</td>\n",
       "      <td>KO</td>\n",
       "      <td>45.970001</td>\n",
       "      <td>2642.22</td>\n",
       "      <td>1275.50</td>\n",
       "      <td>463.82</td>\n",
       "      <td>110.1432</td>\n",
       "      <td>186.0</td>\n",
       "    </tr>\n",
       "    <tr>\n",
       "      <th>1</th>\n",
       "      <td>2017-12-01</td>\n",
       "      <td>COST</td>\n",
       "      <td>185.130005</td>\n",
       "      <td>2642.22</td>\n",
       "      <td>1275.50</td>\n",
       "      <td>463.82</td>\n",
       "      <td>110.1432</td>\n",
       "      <td>186.0</td>\n",
       "    </tr>\n",
       "    <tr>\n",
       "      <th>2</th>\n",
       "      <td>2017-12-01</td>\n",
       "      <td>PEP</td>\n",
       "      <td>116.779999</td>\n",
       "      <td>2642.22</td>\n",
       "      <td>1275.50</td>\n",
       "      <td>463.82</td>\n",
       "      <td>110.1432</td>\n",
       "      <td>186.0</td>\n",
       "    </tr>\n",
       "    <tr>\n",
       "      <th>3</th>\n",
       "      <td>2017-12-01</td>\n",
       "      <td>PG</td>\n",
       "      <td>90.360001</td>\n",
       "      <td>2642.22</td>\n",
       "      <td>1275.50</td>\n",
       "      <td>463.82</td>\n",
       "      <td>110.1432</td>\n",
       "      <td>186.0</td>\n",
       "    </tr>\n",
       "    <tr>\n",
       "      <th>4</th>\n",
       "      <td>2017-12-01</td>\n",
       "      <td>WMT</td>\n",
       "      <td>97.349998</td>\n",
       "      <td>2642.22</td>\n",
       "      <td>1275.50</td>\n",
       "      <td>463.82</td>\n",
       "      <td>110.1432</td>\n",
       "      <td>186.0</td>\n",
       "    </tr>\n",
       "    <tr>\n",
       "      <th>5</th>\n",
       "      <td>2018-02-01</td>\n",
       "      <td>KO</td>\n",
       "      <td>47.450001</td>\n",
       "      <td>2821.98</td>\n",
       "      <td>1341.35</td>\n",
       "      <td>1017.48</td>\n",
       "      <td>106.4903</td>\n",
       "      <td>186.2</td>\n",
       "    </tr>\n",
       "    <tr>\n",
       "      <th>6</th>\n",
       "      <td>2018-02-01</td>\n",
       "      <td>COST</td>\n",
       "      <td>193.470001</td>\n",
       "      <td>2821.98</td>\n",
       "      <td>1341.35</td>\n",
       "      <td>1017.48</td>\n",
       "      <td>106.4903</td>\n",
       "      <td>186.2</td>\n",
       "    </tr>\n",
       "    <tr>\n",
       "      <th>7</th>\n",
       "      <td>2018-02-01</td>\n",
       "      <td>PEP</td>\n",
       "      <td>120.300003</td>\n",
       "      <td>2821.98</td>\n",
       "      <td>1341.35</td>\n",
       "      <td>1017.48</td>\n",
       "      <td>106.4903</td>\n",
       "      <td>186.2</td>\n",
       "    </tr>\n",
       "    <tr>\n",
       "      <th>8</th>\n",
       "      <td>2018-02-01</td>\n",
       "      <td>PG</td>\n",
       "      <td>85.849998</td>\n",
       "      <td>2821.98</td>\n",
       "      <td>1341.35</td>\n",
       "      <td>1017.48</td>\n",
       "      <td>106.4903</td>\n",
       "      <td>186.2</td>\n",
       "    </tr>\n",
       "    <tr>\n",
       "      <th>9</th>\n",
       "      <td>2018-02-01</td>\n",
       "      <td>WMT</td>\n",
       "      <td>105.519997</td>\n",
       "      <td>2821.98</td>\n",
       "      <td>1341.35</td>\n",
       "      <td>1017.48</td>\n",
       "      <td>106.4903</td>\n",
       "      <td>186.2</td>\n",
       "    </tr>\n",
       "    <tr>\n",
       "      <th>10</th>\n",
       "      <td>2018-03-01</td>\n",
       "      <td>KO</td>\n",
       "      <td>43.430000</td>\n",
       "      <td>2677.67</td>\n",
       "      <td>1307.75</td>\n",
       "      <td>868.74</td>\n",
       "      <td>108.5384</td>\n",
       "      <td>186.3</td>\n",
       "    </tr>\n",
       "    <tr>\n",
       "      <th>11</th>\n",
       "      <td>2018-03-01</td>\n",
       "      <td>COST</td>\n",
       "      <td>189.029999</td>\n",
       "      <td>2677.67</td>\n",
       "      <td>1307.75</td>\n",
       "      <td>868.74</td>\n",
       "      <td>108.5384</td>\n",
       "      <td>186.3</td>\n",
       "    </tr>\n",
       "    <tr>\n",
       "      <th>12</th>\n",
       "      <td>2018-03-01</td>\n",
       "      <td>PEP</td>\n",
       "      <td>108.120003</td>\n",
       "      <td>2677.67</td>\n",
       "      <td>1307.75</td>\n",
       "      <td>868.74</td>\n",
       "      <td>108.5384</td>\n",
       "      <td>186.3</td>\n",
       "    </tr>\n",
       "    <tr>\n",
       "      <th>13</th>\n",
       "      <td>2018-03-01</td>\n",
       "      <td>PG</td>\n",
       "      <td>78.699997</td>\n",
       "      <td>2677.67</td>\n",
       "      <td>1307.75</td>\n",
       "      <td>868.74</td>\n",
       "      <td>108.5384</td>\n",
       "      <td>186.3</td>\n",
       "    </tr>\n",
       "    <tr>\n",
       "      <th>14</th>\n",
       "      <td>2018-03-01</td>\n",
       "      <td>WMT</td>\n",
       "      <td>89.080002</td>\n",
       "      <td>2677.67</td>\n",
       "      <td>1307.75</td>\n",
       "      <td>868.74</td>\n",
       "      <td>108.5384</td>\n",
       "      <td>186.3</td>\n",
       "    </tr>\n",
       "    <tr>\n",
       "      <th>15</th>\n",
       "      <td>2018-05-01</td>\n",
       "      <td>KO</td>\n",
       "      <td>42.590000</td>\n",
       "      <td>2654.80</td>\n",
       "      <td>1307.10</td>\n",
       "      <td>670.75</td>\n",
       "      <td>109.7461</td>\n",
       "      <td>186.5</td>\n",
       "    </tr>\n",
       "    <tr>\n",
       "      <th>16</th>\n",
       "      <td>2018-05-01</td>\n",
       "      <td>COST</td>\n",
       "      <td>196.550003</td>\n",
       "      <td>2654.80</td>\n",
       "      <td>1307.10</td>\n",
       "      <td>670.75</td>\n",
       "      <td>109.7461</td>\n",
       "      <td>186.5</td>\n",
       "    </tr>\n",
       "    <tr>\n",
       "      <th>17</th>\n",
       "      <td>2018-05-01</td>\n",
       "      <td>PEP</td>\n",
       "      <td>99.129997</td>\n",
       "      <td>2654.80</td>\n",
       "      <td>1307.10</td>\n",
       "      <td>670.75</td>\n",
       "      <td>109.7461</td>\n",
       "      <td>186.5</td>\n",
       "    </tr>\n",
       "    <tr>\n",
       "      <th>18</th>\n",
       "      <td>2018-05-01</td>\n",
       "      <td>PG</td>\n",
       "      <td>71.959999</td>\n",
       "      <td>2654.80</td>\n",
       "      <td>1307.10</td>\n",
       "      <td>670.75</td>\n",
       "      <td>109.7461</td>\n",
       "      <td>186.5</td>\n",
       "    </tr>\n",
       "    <tr>\n",
       "      <th>19</th>\n",
       "      <td>2018-05-01</td>\n",
       "      <td>WMT</td>\n",
       "      <td>87.410004</td>\n",
       "      <td>2654.80</td>\n",
       "      <td>1307.10</td>\n",
       "      <td>670.75</td>\n",
       "      <td>109.7461</td>\n",
       "      <td>186.5</td>\n",
       "    </tr>\n",
       "  </tbody>\n",
       "</table>\n",
       "</div>"
      ],
      "text/plain": [
       "         Date Symbol       Close  SPClose     Gold    Ether       USD    PPI\n",
       "0  2017-12-01     KO   45.970001  2642.22  1275.50   463.82  110.1432  186.0\n",
       "1  2017-12-01   COST  185.130005  2642.22  1275.50   463.82  110.1432  186.0\n",
       "2  2017-12-01    PEP  116.779999  2642.22  1275.50   463.82  110.1432  186.0\n",
       "3  2017-12-01     PG   90.360001  2642.22  1275.50   463.82  110.1432  186.0\n",
       "4  2017-12-01    WMT   97.349998  2642.22  1275.50   463.82  110.1432  186.0\n",
       "5  2018-02-01     KO   47.450001  2821.98  1341.35  1017.48  106.4903  186.2\n",
       "6  2018-02-01   COST  193.470001  2821.98  1341.35  1017.48  106.4903  186.2\n",
       "7  2018-02-01    PEP  120.300003  2821.98  1341.35  1017.48  106.4903  186.2\n",
       "8  2018-02-01     PG   85.849998  2821.98  1341.35  1017.48  106.4903  186.2\n",
       "9  2018-02-01    WMT  105.519997  2821.98  1341.35  1017.48  106.4903  186.2\n",
       "10 2018-03-01     KO   43.430000  2677.67  1307.75   868.74  108.5384  186.3\n",
       "11 2018-03-01   COST  189.029999  2677.67  1307.75   868.74  108.5384  186.3\n",
       "12 2018-03-01    PEP  108.120003  2677.67  1307.75   868.74  108.5384  186.3\n",
       "13 2018-03-01     PG   78.699997  2677.67  1307.75   868.74  108.5384  186.3\n",
       "14 2018-03-01    WMT   89.080002  2677.67  1307.75   868.74  108.5384  186.3\n",
       "15 2018-05-01     KO   42.590000  2654.80  1307.10   670.75  109.7461  186.5\n",
       "16 2018-05-01   COST  196.550003  2654.80  1307.10   670.75  109.7461  186.5\n",
       "17 2018-05-01    PEP   99.129997  2654.80  1307.10   670.75  109.7461  186.5\n",
       "18 2018-05-01     PG   71.959999  2654.80  1307.10   670.75  109.7461  186.5\n",
       "19 2018-05-01    WMT   87.410004  2654.80  1307.10   670.75  109.7461  186.5"
      ]
     },
     "execution_count": 94,
     "metadata": {},
     "output_type": "execute_result"
    }
   ],
   "source": [
    "df4.head(20)"
   ]
  },
  {
   "cell_type": "code",
   "execution_count": 60,
   "id": "b1b24d1b",
   "metadata": {},
   "outputs": [],
   "source": [
    "df4['USD']=df4['USD'].astype(float)"
   ]
  },
  {
   "cell_type": "code",
   "execution_count": 61,
   "id": "e139456f",
   "metadata": {},
   "outputs": [],
   "source": [
    "df4['Ether']=df4['Ether'].astype(float)"
   ]
  },
  {
   "cell_type": "code",
   "execution_count": 62,
   "id": "42207b9b",
   "metadata": {},
   "outputs": [
    {
     "name": "stdout",
     "output_type": "stream",
     "text": [
      "<class 'pandas.core.frame.DataFrame'>\n",
      "Int64Index: 190 entries, 0 to 189\n",
      "Data columns (total 8 columns):\n",
      " #   Column   Non-Null Count  Dtype         \n",
      "---  ------   --------------  -----         \n",
      " 0   Date     190 non-null    datetime64[ns]\n",
      " 1   Symbol   190 non-null    object        \n",
      " 2   Close    190 non-null    float64       \n",
      " 3   SPClose  190 non-null    float64       \n",
      " 4   Gold     190 non-null    float64       \n",
      " 5   Ether    190 non-null    float64       \n",
      " 6   USD      190 non-null    float64       \n",
      " 7   PPI      190 non-null    float64       \n",
      "dtypes: datetime64[ns](1), float64(6), object(1)\n",
      "memory usage: 13.4+ KB\n"
     ]
    }
   ],
   "source": [
    "df4.info()"
   ]
  },
  {
   "cell_type": "markdown",
   "id": "63ed054c",
   "metadata": {},
   "source": [
    "## EDA"
   ]
  },
  {
   "cell_type": "code",
   "execution_count": 63,
   "id": "5494d365",
   "metadata": {},
   "outputs": [],
   "source": [
    "symbol_groups = df4.groupby(by='Symbol')"
   ]
  },
  {
   "cell_type": "code",
   "execution_count": 64,
   "id": "186598fa",
   "metadata": {},
   "outputs": [],
   "source": [
    "COST = symbol_groups.get_group('COST')\n",
    "WMT = symbol_groups.get_group('WMT')\n",
    "KO = symbol_groups.get_group('KO')\n",
    "PG = symbol_groups.get_group('PG')\n",
    "PEP = symbol_groups.get_group('PEP')"
   ]
  },
  {
   "cell_type": "markdown",
   "id": "d0e70938",
   "metadata": {},
   "source": [
    "### WMT EDA"
   ]
  },
  {
   "cell_type": "code",
   "execution_count": 65,
   "id": "7141b392",
   "metadata": {},
   "outputs": [
    {
     "data": {
      "text/html": [
       "<div>\n",
       "<style scoped>\n",
       "    .dataframe tbody tr th:only-of-type {\n",
       "        vertical-align: middle;\n",
       "    }\n",
       "\n",
       "    .dataframe tbody tr th {\n",
       "        vertical-align: top;\n",
       "    }\n",
       "\n",
       "    .dataframe thead th {\n",
       "        text-align: right;\n",
       "    }\n",
       "</style>\n",
       "<table border=\"1\" class=\"dataframe\">\n",
       "  <thead>\n",
       "    <tr style=\"text-align: right;\">\n",
       "      <th></th>\n",
       "      <th>Close</th>\n",
       "      <th>SPClose</th>\n",
       "      <th>Gold</th>\n",
       "      <th>Ether</th>\n",
       "      <th>USD</th>\n",
       "      <th>PPI</th>\n",
       "    </tr>\n",
       "  </thead>\n",
       "  <tbody>\n",
       "    <tr>\n",
       "      <th>Close</th>\n",
       "      <td>1.000000</td>\n",
       "      <td>0.837826</td>\n",
       "      <td>0.932504</td>\n",
       "      <td>0.640993</td>\n",
       "      <td>0.218195</td>\n",
       "      <td>0.469566</td>\n",
       "    </tr>\n",
       "    <tr>\n",
       "      <th>SPClose</th>\n",
       "      <td>0.837826</td>\n",
       "      <td>1.000000</td>\n",
       "      <td>0.798416</td>\n",
       "      <td>0.891822</td>\n",
       "      <td>0.036834</td>\n",
       "      <td>0.657400</td>\n",
       "    </tr>\n",
       "    <tr>\n",
       "      <th>Gold</th>\n",
       "      <td>0.932504</td>\n",
       "      <td>0.798416</td>\n",
       "      <td>1.000000</td>\n",
       "      <td>0.588299</td>\n",
       "      <td>0.327380</td>\n",
       "      <td>0.568375</td>\n",
       "    </tr>\n",
       "    <tr>\n",
       "      <th>Ether</th>\n",
       "      <td>0.640993</td>\n",
       "      <td>0.891822</td>\n",
       "      <td>0.588299</td>\n",
       "      <td>1.000000</td>\n",
       "      <td>-0.136091</td>\n",
       "      <td>0.498839</td>\n",
       "    </tr>\n",
       "    <tr>\n",
       "      <th>USD</th>\n",
       "      <td>0.218195</td>\n",
       "      <td>0.036834</td>\n",
       "      <td>0.327380</td>\n",
       "      <td>-0.136091</td>\n",
       "      <td>1.000000</td>\n",
       "      <td>0.334263</td>\n",
       "    </tr>\n",
       "    <tr>\n",
       "      <th>PPI</th>\n",
       "      <td>0.469566</td>\n",
       "      <td>0.657400</td>\n",
       "      <td>0.568375</td>\n",
       "      <td>0.498839</td>\n",
       "      <td>0.334263</td>\n",
       "      <td>1.000000</td>\n",
       "    </tr>\n",
       "  </tbody>\n",
       "</table>\n",
       "</div>"
      ],
      "text/plain": [
       "            Close   SPClose      Gold     Ether       USD       PPI\n",
       "Close    1.000000  0.837826  0.932504  0.640993  0.218195  0.469566\n",
       "SPClose  0.837826  1.000000  0.798416  0.891822  0.036834  0.657400\n",
       "Gold     0.932504  0.798416  1.000000  0.588299  0.327380  0.568375\n",
       "Ether    0.640993  0.891822  0.588299  1.000000 -0.136091  0.498839\n",
       "USD      0.218195  0.036834  0.327380 -0.136091  1.000000  0.334263\n",
       "PPI      0.469566  0.657400  0.568375  0.498839  0.334263  1.000000"
      ]
     },
     "execution_count": 65,
     "metadata": {},
     "output_type": "execute_result"
    }
   ],
   "source": [
    "wmt_corr = WMT.corr()\n",
    "wmt_corr"
   ]
  },
  {
   "cell_type": "code",
   "execution_count": 93,
   "id": "98ff805e",
   "metadata": {},
   "outputs": [
    {
     "data": {
      "text/html": [
       "<div>\n",
       "<style scoped>\n",
       "    .dataframe tbody tr th:only-of-type {\n",
       "        vertical-align: middle;\n",
       "    }\n",
       "\n",
       "    .dataframe tbody tr th {\n",
       "        vertical-align: top;\n",
       "    }\n",
       "\n",
       "    .dataframe thead th {\n",
       "        text-align: right;\n",
       "    }\n",
       "</style>\n",
       "<table border=\"1\" class=\"dataframe\">\n",
       "  <thead>\n",
       "    <tr style=\"text-align: right;\">\n",
       "      <th></th>\n",
       "      <th>Symbol</th>\n",
       "      <th>Close</th>\n",
       "      <th>SPClose</th>\n",
       "      <th>Gold</th>\n",
       "      <th>Ether</th>\n",
       "      <th>USD</th>\n",
       "      <th>PPI</th>\n",
       "    </tr>\n",
       "    <tr>\n",
       "      <th>Date</th>\n",
       "      <th></th>\n",
       "      <th></th>\n",
       "      <th></th>\n",
       "      <th></th>\n",
       "      <th></th>\n",
       "      <th></th>\n",
       "      <th></th>\n",
       "    </tr>\n",
       "  </thead>\n",
       "  <tbody>\n",
       "    <tr>\n",
       "      <th>2017-12-01</th>\n",
       "      <td>WMT</td>\n",
       "      <td>97.349998</td>\n",
       "      <td>2642.22</td>\n",
       "      <td>1275.50</td>\n",
       "      <td>463.82</td>\n",
       "      <td>110.1432</td>\n",
       "      <td>186.000</td>\n",
       "    </tr>\n",
       "    <tr>\n",
       "      <th>2018-02-01</th>\n",
       "      <td>WMT</td>\n",
       "      <td>105.519997</td>\n",
       "      <td>2821.98</td>\n",
       "      <td>1341.35</td>\n",
       "      <td>1017.48</td>\n",
       "      <td>106.4903</td>\n",
       "      <td>186.200</td>\n",
       "    </tr>\n",
       "    <tr>\n",
       "      <th>2018-03-01</th>\n",
       "      <td>WMT</td>\n",
       "      <td>89.080002</td>\n",
       "      <td>2677.67</td>\n",
       "      <td>1307.75</td>\n",
       "      <td>868.74</td>\n",
       "      <td>108.5384</td>\n",
       "      <td>186.300</td>\n",
       "    </tr>\n",
       "    <tr>\n",
       "      <th>2018-05-01</th>\n",
       "      <td>WMT</td>\n",
       "      <td>87.410004</td>\n",
       "      <td>2654.80</td>\n",
       "      <td>1307.10</td>\n",
       "      <td>670.75</td>\n",
       "      <td>109.7461</td>\n",
       "      <td>186.500</td>\n",
       "    </tr>\n",
       "    <tr>\n",
       "      <th>2018-06-01</th>\n",
       "      <td>WMT</td>\n",
       "      <td>82.989998</td>\n",
       "      <td>2734.62</td>\n",
       "      <td>1294.60</td>\n",
       "      <td>578.89</td>\n",
       "      <td>111.8279</td>\n",
       "      <td>186.500</td>\n",
       "    </tr>\n",
       "    <tr>\n",
       "      <th>2018-08-01</th>\n",
       "      <td>WMT</td>\n",
       "      <td>88.239998</td>\n",
       "      <td>2813.36</td>\n",
       "      <td>1219.00</td>\n",
       "      <td>419.60</td>\n",
       "      <td>112.8919</td>\n",
       "      <td>187.600</td>\n",
       "    </tr>\n",
       "    <tr>\n",
       "      <th>2018-10-01</th>\n",
       "      <td>WMT</td>\n",
       "      <td>94.400002</td>\n",
       "      <td>2924.59</td>\n",
       "      <td>1189.35</td>\n",
       "      <td>230.40</td>\n",
       "      <td>113.8247</td>\n",
       "      <td>188.300</td>\n",
       "    </tr>\n",
       "    <tr>\n",
       "      <th>2018-11-01</th>\n",
       "      <td>WMT</td>\n",
       "      <td>100.580002</td>\n",
       "      <td>2740.37</td>\n",
       "      <td>1231.15</td>\n",
       "      <td>197.96</td>\n",
       "      <td>115.8667</td>\n",
       "      <td>187.500</td>\n",
       "    </tr>\n",
       "    <tr>\n",
       "      <th>2019-02-01</th>\n",
       "      <td>WMT</td>\n",
       "      <td>93.860001</td>\n",
       "      <td>2706.53</td>\n",
       "      <td>1318.70</td>\n",
       "      <td>105.88</td>\n",
       "      <td>113.7529</td>\n",
       "      <td>185.200</td>\n",
       "    </tr>\n",
       "    <tr>\n",
       "      <th>2019-03-01</th>\n",
       "      <td>WMT</td>\n",
       "      <td>97.930000</td>\n",
       "      <td>2803.69</td>\n",
       "      <td>1311.95</td>\n",
       "      <td>134.72</td>\n",
       "      <td>114.5355</td>\n",
       "      <td>186.400</td>\n",
       "    </tr>\n",
       "    <tr>\n",
       "      <th>2019-04-01</th>\n",
       "      <td>WMT</td>\n",
       "      <td>97.820000</td>\n",
       "      <td>2867.19</td>\n",
       "      <td>1293.50</td>\n",
       "      <td>141.00</td>\n",
       "      <td>114.9333</td>\n",
       "      <td>187.000</td>\n",
       "    </tr>\n",
       "    <tr>\n",
       "      <th>2019-05-01</th>\n",
       "      <td>WMT</td>\n",
       "      <td>101.360001</td>\n",
       "      <td>2923.73</td>\n",
       "      <td>1283.80</td>\n",
       "      <td>158.30</td>\n",
       "      <td>115.0003</td>\n",
       "      <td>184.600</td>\n",
       "    </tr>\n",
       "    <tr>\n",
       "      <th>2019-07-01</th>\n",
       "      <td>WMT</td>\n",
       "      <td>110.620003</td>\n",
       "      <td>2964.33</td>\n",
       "      <td>1390.10</td>\n",
       "      <td>293.76</td>\n",
       "      <td>114.7241</td>\n",
       "      <td>186.400</td>\n",
       "    </tr>\n",
       "    <tr>\n",
       "      <th>2019-08-01</th>\n",
       "      <td>WMT</td>\n",
       "      <td>109.379997</td>\n",
       "      <td>2953.56</td>\n",
       "      <td>1406.80</td>\n",
       "      <td>217.66</td>\n",
       "      <td>116.0482</td>\n",
       "      <td>189.500</td>\n",
       "    </tr>\n",
       "    <tr>\n",
       "      <th>2019-10-01</th>\n",
       "      <td>WMT</td>\n",
       "      <td>117.849998</td>\n",
       "      <td>2940.25</td>\n",
       "      <td>1473.45</td>\n",
       "      <td>176.25</td>\n",
       "      <td>117.9619</td>\n",
       "      <td>190.000</td>\n",
       "    </tr>\n",
       "    <tr>\n",
       "      <th>2019-11-01</th>\n",
       "      <td>WMT</td>\n",
       "      <td>117.620003</td>\n",
       "      <td>3066.91</td>\n",
       "      <td>1508.80</td>\n",
       "      <td>183.55</td>\n",
       "      <td>115.7331</td>\n",
       "      <td>187.000</td>\n",
       "    </tr>\n",
       "    <tr>\n",
       "      <th>2020-04-01</th>\n",
       "      <td>WMT</td>\n",
       "      <td>114.139999</td>\n",
       "      <td>2470.50</td>\n",
       "      <td>1576.55</td>\n",
       "      <td>137.66</td>\n",
       "      <td>123.8154</td>\n",
       "      <td>188.500</td>\n",
       "    </tr>\n",
       "    <tr>\n",
       "      <th>2020-05-01</th>\n",
       "      <td>WMT</td>\n",
       "      <td>122.919998</td>\n",
       "      <td>2830.71</td>\n",
       "      <td>1686.25</td>\n",
       "      <td>211.39</td>\n",
       "      <td>123.1753</td>\n",
       "      <td>195.100</td>\n",
       "    </tr>\n",
       "    <tr>\n",
       "      <th>2020-06-01</th>\n",
       "      <td>WMT</td>\n",
       "      <td>123.959999</td>\n",
       "      <td>3055.73</td>\n",
       "      <td>1730.60</td>\n",
       "      <td>248.68</td>\n",
       "      <td>120.2854</td>\n",
       "      <td>184.000</td>\n",
       "    </tr>\n",
       "    <tr>\n",
       "      <th>2020-07-01</th>\n",
       "      <td>WMT</td>\n",
       "      <td>119.690002</td>\n",
       "      <td>3115.86</td>\n",
       "      <td>1771.05</td>\n",
       "      <td>231.13</td>\n",
       "      <td>120.1019</td>\n",
       "      <td>193.700</td>\n",
       "    </tr>\n",
       "    <tr>\n",
       "      <th>2020-09-01</th>\n",
       "      <td>WMT</td>\n",
       "      <td>147.589996</td>\n",
       "      <td>3526.65</td>\n",
       "      <td>1972.35</td>\n",
       "      <td>476.15</td>\n",
       "      <td>115.5944</td>\n",
       "      <td>197.700</td>\n",
       "    </tr>\n",
       "    <tr>\n",
       "      <th>2020-10-01</th>\n",
       "      <td>WMT</td>\n",
       "      <td>143.080002</td>\n",
       "      <td>3380.80</td>\n",
       "      <td>1902.00</td>\n",
       "      <td>351.72</td>\n",
       "      <td>116.7437</td>\n",
       "      <td>197.500</td>\n",
       "    </tr>\n",
       "    <tr>\n",
       "      <th>2020-12-01</th>\n",
       "      <td>WMT</td>\n",
       "      <td>152.639999</td>\n",
       "      <td>3662.45</td>\n",
       "      <td>1810.75</td>\n",
       "      <td>585.07</td>\n",
       "      <td>112.8162</td>\n",
       "      <td>199.600</td>\n",
       "    </tr>\n",
       "    <tr>\n",
       "      <th>2021-02-01</th>\n",
       "      <td>WMT</td>\n",
       "      <td>139.270004</td>\n",
       "      <td>3773.86</td>\n",
       "      <td>1862.95</td>\n",
       "      <td>1376.22</td>\n",
       "      <td>112.4154</td>\n",
       "      <td>199.300</td>\n",
       "    </tr>\n",
       "    <tr>\n",
       "      <th>2021-03-01</th>\n",
       "      <td>WMT</td>\n",
       "      <td>131.369995</td>\n",
       "      <td>3901.82</td>\n",
       "      <td>1734.15</td>\n",
       "      <td>1572.90</td>\n",
       "      <td>112.5266</td>\n",
       "      <td>199.100</td>\n",
       "    </tr>\n",
       "    <tr>\n",
       "      <th>2021-04-01</th>\n",
       "      <td>WMT</td>\n",
       "      <td>135.619995</td>\n",
       "      <td>4019.87</td>\n",
       "      <td>1726.05</td>\n",
       "      <td>1967.80</td>\n",
       "      <td>113.7803</td>\n",
       "      <td>200.700</td>\n",
       "    </tr>\n",
       "    <tr>\n",
       "      <th>2021-06-01</th>\n",
       "      <td>WMT</td>\n",
       "      <td>141.660004</td>\n",
       "      <td>4202.04</td>\n",
       "      <td>1899.35</td>\n",
       "      <td>2642.80</td>\n",
       "      <td>110.5378</td>\n",
       "      <td>204.400</td>\n",
       "    </tr>\n",
       "    <tr>\n",
       "      <th>2021-07-01</th>\n",
       "      <td>WMT</td>\n",
       "      <td>139.320007</td>\n",
       "      <td>4319.94</td>\n",
       "      <td>1781.50</td>\n",
       "      <td>2109.49</td>\n",
       "      <td>112.7911</td>\n",
       "      <td>192.949</td>\n",
       "    </tr>\n",
       "    <tr>\n",
       "      <th>2021-09-01</th>\n",
       "      <td>WMT</td>\n",
       "      <td>147.779999</td>\n",
       "      <td>4524.09</td>\n",
       "      <td>1811.80</td>\n",
       "      <td>3825.37</td>\n",
       "      <td>112.9137</td>\n",
       "      <td>207.750</td>\n",
       "    </tr>\n",
       "    <tr>\n",
       "      <th>2021-10-01</th>\n",
       "      <td>WMT</td>\n",
       "      <td>137.050003</td>\n",
       "      <td>4357.04</td>\n",
       "      <td>1757.05</td>\n",
       "      <td>3311.46</td>\n",
       "      <td>114.4094</td>\n",
       "      <td>204.159</td>\n",
       "    </tr>\n",
       "    <tr>\n",
       "      <th>2021-11-01</th>\n",
       "      <td>WMT</td>\n",
       "      <td>149.789993</td>\n",
       "      <td>4613.67</td>\n",
       "      <td>1793.80</td>\n",
       "      <td>4324.21</td>\n",
       "      <td>114.2349</td>\n",
       "      <td>205.602</td>\n",
       "    </tr>\n",
       "    <tr>\n",
       "      <th>2021-12-01</th>\n",
       "      <td>WMT</td>\n",
       "      <td>137.139999</td>\n",
       "      <td>4513.04</td>\n",
       "      <td>1789.25</td>\n",
       "      <td>4589.23</td>\n",
       "      <td>115.8992</td>\n",
       "      <td>204.337</td>\n",
       "    </tr>\n",
       "    <tr>\n",
       "      <th>2022-02-01</th>\n",
       "      <td>WMT</td>\n",
       "      <td>140.910004</td>\n",
       "      <td>4546.54</td>\n",
       "      <td>1799.85</td>\n",
       "      <td>2791.84</td>\n",
       "      <td>115.4098</td>\n",
       "      <td>283.069</td>\n",
       "    </tr>\n",
       "    <tr>\n",
       "      <th>2022-03-01</th>\n",
       "      <td>WMT</td>\n",
       "      <td>135.990005</td>\n",
       "      <td>4306.26</td>\n",
       "      <td>1922.00</td>\n",
       "      <td>2973.53</td>\n",
       "      <td>115.8932</td>\n",
       "      <td>264.710</td>\n",
       "    </tr>\n",
       "    <tr>\n",
       "      <th>2022-04-01</th>\n",
       "      <td>WMT</td>\n",
       "      <td>151.009995</td>\n",
       "      <td>4545.86</td>\n",
       "      <td>1929.40</td>\n",
       "      <td>3450.72</td>\n",
       "      <td>115.6251</td>\n",
       "      <td>266.250</td>\n",
       "    </tr>\n",
       "    <tr>\n",
       "      <th>2022-06-01</th>\n",
       "      <td>WMT</td>\n",
       "      <td>125.449997</td>\n",
       "      <td>4101.23</td>\n",
       "      <td>1844.90</td>\n",
       "      <td>1815.98</td>\n",
       "      <td>118.8763</td>\n",
       "      <td>269.192</td>\n",
       "    </tr>\n",
       "    <tr>\n",
       "      <th>2022-07-01</th>\n",
       "      <td>WMT</td>\n",
       "      <td>122.629997</td>\n",
       "      <td>3825.33</td>\n",
       "      <td>1797.45</td>\n",
       "      <td>1059.50</td>\n",
       "      <td>121.5779</td>\n",
       "      <td>269.265</td>\n",
       "    </tr>\n",
       "    <tr>\n",
       "      <th>2022-08-01</th>\n",
       "      <td>WMT</td>\n",
       "      <td>132.539993</td>\n",
       "      <td>4118.63</td>\n",
       "      <td>1772.40</td>\n",
       "      <td>1629.76</td>\n",
       "      <td>121.5001</td>\n",
       "      <td>269.651</td>\n",
       "    </tr>\n",
       "  </tbody>\n",
       "</table>\n",
       "</div>"
      ],
      "text/plain": [
       "           Symbol       Close  SPClose     Gold    Ether       USD      PPI\n",
       "Date                                                                       \n",
       "2017-12-01    WMT   97.349998  2642.22  1275.50   463.82  110.1432  186.000\n",
       "2018-02-01    WMT  105.519997  2821.98  1341.35  1017.48  106.4903  186.200\n",
       "2018-03-01    WMT   89.080002  2677.67  1307.75   868.74  108.5384  186.300\n",
       "2018-05-01    WMT   87.410004  2654.80  1307.10   670.75  109.7461  186.500\n",
       "2018-06-01    WMT   82.989998  2734.62  1294.60   578.89  111.8279  186.500\n",
       "2018-08-01    WMT   88.239998  2813.36  1219.00   419.60  112.8919  187.600\n",
       "2018-10-01    WMT   94.400002  2924.59  1189.35   230.40  113.8247  188.300\n",
       "2018-11-01    WMT  100.580002  2740.37  1231.15   197.96  115.8667  187.500\n",
       "2019-02-01    WMT   93.860001  2706.53  1318.70   105.88  113.7529  185.200\n",
       "2019-03-01    WMT   97.930000  2803.69  1311.95   134.72  114.5355  186.400\n",
       "2019-04-01    WMT   97.820000  2867.19  1293.50   141.00  114.9333  187.000\n",
       "2019-05-01    WMT  101.360001  2923.73  1283.80   158.30  115.0003  184.600\n",
       "2019-07-01    WMT  110.620003  2964.33  1390.10   293.76  114.7241  186.400\n",
       "2019-08-01    WMT  109.379997  2953.56  1406.80   217.66  116.0482  189.500\n",
       "2019-10-01    WMT  117.849998  2940.25  1473.45   176.25  117.9619  190.000\n",
       "2019-11-01    WMT  117.620003  3066.91  1508.80   183.55  115.7331  187.000\n",
       "2020-04-01    WMT  114.139999  2470.50  1576.55   137.66  123.8154  188.500\n",
       "2020-05-01    WMT  122.919998  2830.71  1686.25   211.39  123.1753  195.100\n",
       "2020-06-01    WMT  123.959999  3055.73  1730.60   248.68  120.2854  184.000\n",
       "2020-07-01    WMT  119.690002  3115.86  1771.05   231.13  120.1019  193.700\n",
       "2020-09-01    WMT  147.589996  3526.65  1972.35   476.15  115.5944  197.700\n",
       "2020-10-01    WMT  143.080002  3380.80  1902.00   351.72  116.7437  197.500\n",
       "2020-12-01    WMT  152.639999  3662.45  1810.75   585.07  112.8162  199.600\n",
       "2021-02-01    WMT  139.270004  3773.86  1862.95  1376.22  112.4154  199.300\n",
       "2021-03-01    WMT  131.369995  3901.82  1734.15  1572.90  112.5266  199.100\n",
       "2021-04-01    WMT  135.619995  4019.87  1726.05  1967.80  113.7803  200.700\n",
       "2021-06-01    WMT  141.660004  4202.04  1899.35  2642.80  110.5378  204.400\n",
       "2021-07-01    WMT  139.320007  4319.94  1781.50  2109.49  112.7911  192.949\n",
       "2021-09-01    WMT  147.779999  4524.09  1811.80  3825.37  112.9137  207.750\n",
       "2021-10-01    WMT  137.050003  4357.04  1757.05  3311.46  114.4094  204.159\n",
       "2021-11-01    WMT  149.789993  4613.67  1793.80  4324.21  114.2349  205.602\n",
       "2021-12-01    WMT  137.139999  4513.04  1789.25  4589.23  115.8992  204.337\n",
       "2022-02-01    WMT  140.910004  4546.54  1799.85  2791.84  115.4098  283.069\n",
       "2022-03-01    WMT  135.990005  4306.26  1922.00  2973.53  115.8932  264.710\n",
       "2022-04-01    WMT  151.009995  4545.86  1929.40  3450.72  115.6251  266.250\n",
       "2022-06-01    WMT  125.449997  4101.23  1844.90  1815.98  118.8763  269.192\n",
       "2022-07-01    WMT  122.629997  3825.33  1797.45  1059.50  121.5779  269.265\n",
       "2022-08-01    WMT  132.539993  4118.63  1772.40  1629.76  121.5001  269.651"
      ]
     },
     "execution_count": 93,
     "metadata": {},
     "output_type": "execute_result"
    }
   ],
   "source": [
    "WMT"
   ]
  },
  {
   "cell_type": "code",
   "execution_count": 66,
   "id": "ee02830c",
   "metadata": {},
   "outputs": [
    {
     "data": {
      "image/png": "[encoded data removed]",
      "text/plain": [
       "<Figure size 1800x1440 with 2 Axes>"
      ]
     },
     "metadata": {},
     "output_type": "display_data"
    }
   ],
   "source": [
    "# Build heatmap\n",
    "\n",
    "# Set up figure and axis\n",
    "fig, ax = plt.subplots(figsize=(25, 20))\n",
    "\n",
    "sns.heatmap(WMT.corr(), \n",
    "            # Mask to show only half the values instead of showing duplicates\n",
    "            mask=np.triu(np.ones_like(wmt_corr, dtype=bool)),\n",
    "            # Specifies that we want values not just colors\n",
    "            annot = True,\n",
    "            linewidths = 10,\n",
    "            center=0);"
   ]
  },
  {
   "cell_type": "code",
   "execution_count": 67,
   "id": "e6b51b54",
   "metadata": {},
   "outputs": [
    {
     "data": {
      "text/plain": [
       "<AxesSubplot:xlabel='Date'>"
      ]
     },
     "execution_count": 67,
     "metadata": {},
     "output_type": "execute_result"
    },
    {
     "data": {
      "image/png": "[encoded data removed]",
      "text/plain": [
       "<Figure size 432x288 with 1 Axes>"
      ]
     },
     "metadata": {},
     "output_type": "display_data"
    }
   ],
   "source": [
    "WMT.plot(x='Date',y='Close')"
   ]
  },
  {
   "cell_type": "markdown",
   "id": "91de0579",
   "metadata": {},
   "source": [
    "### KO EDA "
   ]
  },
  {
   "cell_type": "code",
   "execution_count": 68,
   "id": "848b828e",
   "metadata": {},
   "outputs": [
    {
     "data": {
      "text/html": [
       "<div>\n",
       "<style scoped>\n",
       "    .dataframe tbody tr th:only-of-type {\n",
       "        vertical-align: middle;\n",
       "    }\n",
       "\n",
       "    .dataframe tbody tr th {\n",
       "        vertical-align: top;\n",
       "    }\n",
       "\n",
       "    .dataframe thead th {\n",
       "        text-align: right;\n",
       "    }\n",
       "</style>\n",
       "<table border=\"1\" class=\"dataframe\">\n",
       "  <thead>\n",
       "    <tr style=\"text-align: right;\">\n",
       "      <th></th>\n",
       "      <th>Close</th>\n",
       "      <th>SPClose</th>\n",
       "      <th>Gold</th>\n",
       "      <th>Ether</th>\n",
       "      <th>USD</th>\n",
       "      <th>PPI</th>\n",
       "    </tr>\n",
       "  </thead>\n",
       "  <tbody>\n",
       "    <tr>\n",
       "      <th>Close</th>\n",
       "      <td>1.000000</td>\n",
       "      <td>0.771784</td>\n",
       "      <td>0.601263</td>\n",
       "      <td>0.585042</td>\n",
       "      <td>0.256273</td>\n",
       "      <td>0.857674</td>\n",
       "    </tr>\n",
       "    <tr>\n",
       "      <th>SPClose</th>\n",
       "      <td>0.771784</td>\n",
       "      <td>1.000000</td>\n",
       "      <td>0.798416</td>\n",
       "      <td>0.891822</td>\n",
       "      <td>0.036834</td>\n",
       "      <td>0.657400</td>\n",
       "    </tr>\n",
       "    <tr>\n",
       "      <th>Gold</th>\n",
       "      <td>0.601263</td>\n",
       "      <td>0.798416</td>\n",
       "      <td>1.000000</td>\n",
       "      <td>0.588299</td>\n",
       "      <td>0.327380</td>\n",
       "      <td>0.568375</td>\n",
       "    </tr>\n",
       "    <tr>\n",
       "      <th>Ether</th>\n",
       "      <td>0.585042</td>\n",
       "      <td>0.891822</td>\n",
       "      <td>0.588299</td>\n",
       "      <td>1.000000</td>\n",
       "      <td>-0.136091</td>\n",
       "      <td>0.498839</td>\n",
       "    </tr>\n",
       "    <tr>\n",
       "      <th>USD</th>\n",
       "      <td>0.256273</td>\n",
       "      <td>0.036834</td>\n",
       "      <td>0.327380</td>\n",
       "      <td>-0.136091</td>\n",
       "      <td>1.000000</td>\n",
       "      <td>0.334263</td>\n",
       "    </tr>\n",
       "    <tr>\n",
       "      <th>PPI</th>\n",
       "      <td>0.857674</td>\n",
       "      <td>0.657400</td>\n",
       "      <td>0.568375</td>\n",
       "      <td>0.498839</td>\n",
       "      <td>0.334263</td>\n",
       "      <td>1.000000</td>\n",
       "    </tr>\n",
       "  </tbody>\n",
       "</table>\n",
       "</div>"
      ],
      "text/plain": [
       "            Close   SPClose      Gold     Ether       USD       PPI\n",
       "Close    1.000000  0.771784  0.601263  0.585042  0.256273  0.857674\n",
       "SPClose  0.771784  1.000000  0.798416  0.891822  0.036834  0.657400\n",
       "Gold     0.601263  0.798416  1.000000  0.588299  0.327380  0.568375\n",
       "Ether    0.585042  0.891822  0.588299  1.000000 -0.136091  0.498839\n",
       "USD      0.256273  0.036834  0.327380 -0.136091  1.000000  0.334263\n",
       "PPI      0.857674  0.657400  0.568375  0.498839  0.334263  1.000000"
      ]
     },
     "execution_count": 68,
     "metadata": {},
     "output_type": "execute_result"
    }
   ],
   "source": [
    "ko_corr = KO.corr()\n",
    "ko_corr"
   ]
  },
  {
   "cell_type": "code",
   "execution_count": 69,
   "id": "8cb34730",
   "metadata": {},
   "outputs": [
    {
     "data": {
      "image/png": "[encoded data removed]",
      "text/plain": [
       "<Figure size 1800x1440 with 2 Axes>"
      ]
     },
     "metadata": {},
     "output_type": "display_data"
    }
   ],
   "source": [
    "# Build heatmap\n",
    "\n",
    "# Set up figure and axis\n",
    "fig, ax = plt.subplots(figsize=(25, 20))\n",
    "\n",
    "sns.heatmap(KO.corr(), \n",
    "            # Mask to show only half the values instead of showing duplicates\n",
    "            mask=np.triu(np.ones_like(ko_corr, dtype=bool)),\n",
    "            # Specifies that we want values not just colors\n",
    "            annot = True,\n",
    "            linewidths = 10,\n",
    "            center=0);"
   ]
  },
  {
   "cell_type": "code",
   "execution_count": 70,
   "id": "7e145e51",
   "metadata": {},
   "outputs": [
    {
     "data": {
      "text/plain": [
       "<AxesSubplot:xlabel='Date'>"
      ]
     },
     "execution_count": 70,
     "metadata": {},
     "output_type": "execute_result"
    },
    {
     "data": {
      "image/png": "[encoded data removed]",
      "text/plain": [
       "<Figure size 432x288 with 1 Axes>"
      ]
     },
     "metadata": {},
     "output_type": "display_data"
    }
   ],
   "source": [
    "KO.plot(x='Date',y='Close')"
   ]
  },
  {
   "cell_type": "markdown",
   "id": "d636aa26",
   "metadata": {},
   "source": [
    "### PG EDA "
   ]
  },
  {
   "cell_type": "code",
   "execution_count": 71,
   "id": "9791bd46",
   "metadata": {},
   "outputs": [
    {
     "data": {
      "text/html": [
       "<div>\n",
       "<style scoped>\n",
       "    .dataframe tbody tr th:only-of-type {\n",
       "        vertical-align: middle;\n",
       "    }\n",
       "\n",
       "    .dataframe tbody tr th {\n",
       "        vertical-align: top;\n",
       "    }\n",
       "\n",
       "    .dataframe thead th {\n",
       "        text-align: right;\n",
       "    }\n",
       "</style>\n",
       "<table border=\"1\" class=\"dataframe\">\n",
       "  <thead>\n",
       "    <tr style=\"text-align: right;\">\n",
       "      <th></th>\n",
       "      <th>Close</th>\n",
       "      <th>SPClose</th>\n",
       "      <th>Gold</th>\n",
       "      <th>Ether</th>\n",
       "      <th>USD</th>\n",
       "      <th>PPI</th>\n",
       "    </tr>\n",
       "  </thead>\n",
       "  <tbody>\n",
       "    <tr>\n",
       "      <th>Close</th>\n",
       "      <td>1.000000</td>\n",
       "      <td>0.859708</td>\n",
       "      <td>0.900333</td>\n",
       "      <td>0.635895</td>\n",
       "      <td>0.394046</td>\n",
       "      <td>0.679719</td>\n",
       "    </tr>\n",
       "    <tr>\n",
       "      <th>SPClose</th>\n",
       "      <td>0.859708</td>\n",
       "      <td>1.000000</td>\n",
       "      <td>0.798416</td>\n",
       "      <td>0.891822</td>\n",
       "      <td>0.036834</td>\n",
       "      <td>0.657400</td>\n",
       "    </tr>\n",
       "    <tr>\n",
       "      <th>Gold</th>\n",
       "      <td>0.900333</td>\n",
       "      <td>0.798416</td>\n",
       "      <td>1.000000</td>\n",
       "      <td>0.588299</td>\n",
       "      <td>0.327380</td>\n",
       "      <td>0.568375</td>\n",
       "    </tr>\n",
       "    <tr>\n",
       "      <th>Ether</th>\n",
       "      <td>0.635895</td>\n",
       "      <td>0.891822</td>\n",
       "      <td>0.588299</td>\n",
       "      <td>1.000000</td>\n",
       "      <td>-0.136091</td>\n",
       "      <td>0.498839</td>\n",
       "    </tr>\n",
       "    <tr>\n",
       "      <th>USD</th>\n",
       "      <td>0.394046</td>\n",
       "      <td>0.036834</td>\n",
       "      <td>0.327380</td>\n",
       "      <td>-0.136091</td>\n",
       "      <td>1.000000</td>\n",
       "      <td>0.334263</td>\n",
       "    </tr>\n",
       "    <tr>\n",
       "      <th>PPI</th>\n",
       "      <td>0.679719</td>\n",
       "      <td>0.657400</td>\n",
       "      <td>0.568375</td>\n",
       "      <td>0.498839</td>\n",
       "      <td>0.334263</td>\n",
       "      <td>1.000000</td>\n",
       "    </tr>\n",
       "  </tbody>\n",
       "</table>\n",
       "</div>"
      ],
      "text/plain": [
       "            Close   SPClose      Gold     Ether       USD       PPI\n",
       "Close    1.000000  0.859708  0.900333  0.635895  0.394046  0.679719\n",
       "SPClose  0.859708  1.000000  0.798416  0.891822  0.036834  0.657400\n",
       "Gold     0.900333  0.798416  1.000000  0.588299  0.327380  0.568375\n",
       "Ether    0.635895  0.891822  0.588299  1.000000 -0.136091  0.498839\n",
       "USD      0.394046  0.036834  0.327380 -0.136091  1.000000  0.334263\n",
       "PPI      0.679719  0.657400  0.568375  0.498839  0.334263  1.000000"
      ]
     },
     "execution_count": 71,
     "metadata": {},
     "output_type": "execute_result"
    }
   ],
   "source": [
    "pg_corr = PG.corr()\n",
    "pg_corr"
   ]
  },
  {
   "cell_type": "code",
   "execution_count": 72,
   "id": "882d465e",
   "metadata": {},
   "outputs": [
    {
     "data": {
      "image/png": "[encoded data removed]",
      "text/plain": [
       "<Figure size 1800x1440 with 2 Axes>"
      ]
     },
     "metadata": {},
     "output_type": "display_data"
    }
   ],
   "source": [
    "# Set up figure and axis\n",
    "fig, ax = plt.subplots(figsize=(25, 20))\n",
    "\n",
    "sns.heatmap(PG.corr(), \n",
    "            # Mask to show only half the values instead of showing duplicates\n",
    "            mask=np.triu(np.ones_like(pg_corr, dtype=bool)),\n",
    "            # Specifies that we want values not just colors\n",
    "            annot = True,\n",
    "            linewidths = 10,\n",
    "            center=0);"
   ]
  },
  {
   "cell_type": "code",
   "execution_count": 73,
   "id": "2b851761",
   "metadata": {},
   "outputs": [
    {
     "data": {
      "text/plain": [
       "<AxesSubplot:xlabel='Date'>"
      ]
     },
     "execution_count": 73,
     "metadata": {},
     "output_type": "execute_result"
    },
    {
     "data": {
      "image/png": "[encoded data removed]",
      "text/plain": [
       "<Figure size 432x288 with 1 Axes>"
      ]
     },
     "metadata": {},
     "output_type": "display_data"
    }
   ],
   "source": [
    "PG.plot(x='Date',y='Close')"
   ]
  },
  {
   "cell_type": "markdown",
   "id": "ad278347",
   "metadata": {},
   "source": [
    "### Preprocessing"
   ]
  },
  {
   "cell_type": "code",
   "execution_count": 75,
   "id": "d55568cd",
   "metadata": {},
   "outputs": [],
   "source": [
    "WMT_new = WMT.drop(['SPClose','Gold','PPI','Ether','USD','Symbol'],axis=1)"
   ]
  },
  {
   "cell_type": "code",
   "execution_count": 76,
   "id": "69a3e94f",
   "metadata": {},
   "outputs": [
    {
     "name": "stdout",
     "output_type": "stream",
     "text": [
      "<class 'pandas.core.frame.DataFrame'>\n",
      "Int64Index: 38 entries, 4 to 189\n",
      "Data columns (total 2 columns):\n",
      " #   Column  Non-Null Count  Dtype         \n",
      "---  ------  --------------  -----         \n",
      " 0   Date    38 non-null     datetime64[ns]\n",
      " 1   Close   38 non-null     float64       \n",
      "dtypes: datetime64[ns](1), float64(1)\n",
      "memory usage: 912.0 bytes\n"
     ]
    }
   ],
   "source": [
    "WMT_new.info()"
   ]
  },
  {
   "cell_type": "code",
   "execution_count": 77,
   "id": "e8b75a4c",
   "metadata": {},
   "outputs": [
    {
     "name": "stderr",
     "output_type": "stream",
     "text": [
      "/opt/anaconda3/lib/python3.8/site-packages/pandas/core/frame.py:4441: SettingWithCopyWarning: \n",
      "A value is trying to be set on a copy of a slice from a DataFrame\n",
      "\n",
      "See the caveats in the documentation: https://pandas.pydata.org/pandas-docs/stable/user_guide/indexing.html#returning-a-view-versus-a-copy\n",
      "  return super().rename(\n"
     ]
    },
    {
     "data": {
      "text/html": [
       "<div>\n",
       "<style scoped>\n",
       "    .dataframe tbody tr th:only-of-type {\n",
       "        vertical-align: middle;\n",
       "    }\n",
       "\n",
       "    .dataframe tbody tr th {\n",
       "        vertical-align: top;\n",
       "    }\n",
       "\n",
       "    .dataframe thead th {\n",
       "        text-align: right;\n",
       "    }\n",
       "</style>\n",
       "<table border=\"1\" class=\"dataframe\">\n",
       "  <thead>\n",
       "    <tr style=\"text-align: right;\">\n",
       "      <th></th>\n",
       "      <th>Symbol</th>\n",
       "      <th>Close</th>\n",
       "      <th>SPClose</th>\n",
       "      <th>Gold</th>\n",
       "      <th>Ether</th>\n",
       "      <th>USD</th>\n",
       "      <th>PPI</th>\n",
       "    </tr>\n",
       "    <tr>\n",
       "      <th>Date</th>\n",
       "      <th></th>\n",
       "      <th></th>\n",
       "      <th></th>\n",
       "      <th></th>\n",
       "      <th></th>\n",
       "      <th></th>\n",
       "      <th></th>\n",
       "    </tr>\n",
       "  </thead>\n",
       "  <tbody>\n",
       "    <tr>\n",
       "      <th>2017-12-01</th>\n",
       "      <td>WMT</td>\n",
       "      <td>97.349998</td>\n",
       "      <td>2642.22</td>\n",
       "      <td>1275.50</td>\n",
       "      <td>463.82</td>\n",
       "      <td>110.1432</td>\n",
       "      <td>186.000</td>\n",
       "    </tr>\n",
       "    <tr>\n",
       "      <th>2018-02-01</th>\n",
       "      <td>WMT</td>\n",
       "      <td>105.519997</td>\n",
       "      <td>2821.98</td>\n",
       "      <td>1341.35</td>\n",
       "      <td>1017.48</td>\n",
       "      <td>106.4903</td>\n",
       "      <td>186.200</td>\n",
       "    </tr>\n",
       "    <tr>\n",
       "      <th>2018-03-01</th>\n",
       "      <td>WMT</td>\n",
       "      <td>89.080002</td>\n",
       "      <td>2677.67</td>\n",
       "      <td>1307.75</td>\n",
       "      <td>868.74</td>\n",
       "      <td>108.5384</td>\n",
       "      <td>186.300</td>\n",
       "    </tr>\n",
       "    <tr>\n",
       "      <th>2018-05-01</th>\n",
       "      <td>WMT</td>\n",
       "      <td>87.410004</td>\n",
       "      <td>2654.80</td>\n",
       "      <td>1307.10</td>\n",
       "      <td>670.75</td>\n",
       "      <td>109.7461</td>\n",
       "      <td>186.500</td>\n",
       "    </tr>\n",
       "    <tr>\n",
       "      <th>2018-06-01</th>\n",
       "      <td>WMT</td>\n",
       "      <td>82.989998</td>\n",
       "      <td>2734.62</td>\n",
       "      <td>1294.60</td>\n",
       "      <td>578.89</td>\n",
       "      <td>111.8279</td>\n",
       "      <td>186.500</td>\n",
       "    </tr>\n",
       "    <tr>\n",
       "      <th>2018-08-01</th>\n",
       "      <td>WMT</td>\n",
       "      <td>88.239998</td>\n",
       "      <td>2813.36</td>\n",
       "      <td>1219.00</td>\n",
       "      <td>419.60</td>\n",
       "      <td>112.8919</td>\n",
       "      <td>187.600</td>\n",
       "    </tr>\n",
       "    <tr>\n",
       "      <th>2018-10-01</th>\n",
       "      <td>WMT</td>\n",
       "      <td>94.400002</td>\n",
       "      <td>2924.59</td>\n",
       "      <td>1189.35</td>\n",
       "      <td>230.40</td>\n",
       "      <td>113.8247</td>\n",
       "      <td>188.300</td>\n",
       "    </tr>\n",
       "    <tr>\n",
       "      <th>2018-11-01</th>\n",
       "      <td>WMT</td>\n",
       "      <td>100.580002</td>\n",
       "      <td>2740.37</td>\n",
       "      <td>1231.15</td>\n",
       "      <td>197.96</td>\n",
       "      <td>115.8667</td>\n",
       "      <td>187.500</td>\n",
       "    </tr>\n",
       "    <tr>\n",
       "      <th>2019-02-01</th>\n",
       "      <td>WMT</td>\n",
       "      <td>93.860001</td>\n",
       "      <td>2706.53</td>\n",
       "      <td>1318.70</td>\n",
       "      <td>105.88</td>\n",
       "      <td>113.7529</td>\n",
       "      <td>185.200</td>\n",
       "    </tr>\n",
       "    <tr>\n",
       "      <th>2019-03-01</th>\n",
       "      <td>WMT</td>\n",
       "      <td>97.930000</td>\n",
       "      <td>2803.69</td>\n",
       "      <td>1311.95</td>\n",
       "      <td>134.72</td>\n",
       "      <td>114.5355</td>\n",
       "      <td>186.400</td>\n",
       "    </tr>\n",
       "    <tr>\n",
       "      <th>2019-04-01</th>\n",
       "      <td>WMT</td>\n",
       "      <td>97.820000</td>\n",
       "      <td>2867.19</td>\n",
       "      <td>1293.50</td>\n",
       "      <td>141.00</td>\n",
       "      <td>114.9333</td>\n",
       "      <td>187.000</td>\n",
       "    </tr>\n",
       "    <tr>\n",
       "      <th>2019-05-01</th>\n",
       "      <td>WMT</td>\n",
       "      <td>101.360001</td>\n",
       "      <td>2923.73</td>\n",
       "      <td>1283.80</td>\n",
       "      <td>158.30</td>\n",
       "      <td>115.0003</td>\n",
       "      <td>184.600</td>\n",
       "    </tr>\n",
       "    <tr>\n",
       "      <th>2019-07-01</th>\n",
       "      <td>WMT</td>\n",
       "      <td>110.620003</td>\n",
       "      <td>2964.33</td>\n",
       "      <td>1390.10</td>\n",
       "      <td>293.76</td>\n",
       "      <td>114.7241</td>\n",
       "      <td>186.400</td>\n",
       "    </tr>\n",
       "    <tr>\n",
       "      <th>2019-08-01</th>\n",
       "      <td>WMT</td>\n",
       "      <td>109.379997</td>\n",
       "      <td>2953.56</td>\n",
       "      <td>1406.80</td>\n",
       "      <td>217.66</td>\n",
       "      <td>116.0482</td>\n",
       "      <td>189.500</td>\n",
       "    </tr>\n",
       "    <tr>\n",
       "      <th>2019-10-01</th>\n",
       "      <td>WMT</td>\n",
       "      <td>117.849998</td>\n",
       "      <td>2940.25</td>\n",
       "      <td>1473.45</td>\n",
       "      <td>176.25</td>\n",
       "      <td>117.9619</td>\n",
       "      <td>190.000</td>\n",
       "    </tr>\n",
       "    <tr>\n",
       "      <th>2019-11-01</th>\n",
       "      <td>WMT</td>\n",
       "      <td>117.620003</td>\n",
       "      <td>3066.91</td>\n",
       "      <td>1508.80</td>\n",
       "      <td>183.55</td>\n",
       "      <td>115.7331</td>\n",
       "      <td>187.000</td>\n",
       "    </tr>\n",
       "    <tr>\n",
       "      <th>2020-04-01</th>\n",
       "      <td>WMT</td>\n",
       "      <td>114.139999</td>\n",
       "      <td>2470.50</td>\n",
       "      <td>1576.55</td>\n",
       "      <td>137.66</td>\n",
       "      <td>123.8154</td>\n",
       "      <td>188.500</td>\n",
       "    </tr>\n",
       "    <tr>\n",
       "      <th>2020-05-01</th>\n",
       "      <td>WMT</td>\n",
       "      <td>122.919998</td>\n",
       "      <td>2830.71</td>\n",
       "      <td>1686.25</td>\n",
       "      <td>211.39</td>\n",
       "      <td>123.1753</td>\n",
       "      <td>195.100</td>\n",
       "    </tr>\n",
       "    <tr>\n",
       "      <th>2020-06-01</th>\n",
       "      <td>WMT</td>\n",
       "      <td>123.959999</td>\n",
       "      <td>3055.73</td>\n",
       "      <td>1730.60</td>\n",
       "      <td>248.68</td>\n",
       "      <td>120.2854</td>\n",
       "      <td>184.000</td>\n",
       "    </tr>\n",
       "    <tr>\n",
       "      <th>2020-07-01</th>\n",
       "      <td>WMT</td>\n",
       "      <td>119.690002</td>\n",
       "      <td>3115.86</td>\n",
       "      <td>1771.05</td>\n",
       "      <td>231.13</td>\n",
       "      <td>120.1019</td>\n",
       "      <td>193.700</td>\n",
       "    </tr>\n",
       "    <tr>\n",
       "      <th>2020-09-01</th>\n",
       "      <td>WMT</td>\n",
       "      <td>147.589996</td>\n",
       "      <td>3526.65</td>\n",
       "      <td>1972.35</td>\n",
       "      <td>476.15</td>\n",
       "      <td>115.5944</td>\n",
       "      <td>197.700</td>\n",
       "    </tr>\n",
       "    <tr>\n",
       "      <th>2020-10-01</th>\n",
       "      <td>WMT</td>\n",
       "      <td>143.080002</td>\n",
       "      <td>3380.80</td>\n",
       "      <td>1902.00</td>\n",
       "      <td>351.72</td>\n",
       "      <td>116.7437</td>\n",
       "      <td>197.500</td>\n",
       "    </tr>\n",
       "    <tr>\n",
       "      <th>2020-12-01</th>\n",
       "      <td>WMT</td>\n",
       "      <td>152.639999</td>\n",
       "      <td>3662.45</td>\n",
       "      <td>1810.75</td>\n",
       "      <td>585.07</td>\n",
       "      <td>112.8162</td>\n",
       "      <td>199.600</td>\n",
       "    </tr>\n",
       "    <tr>\n",
       "      <th>2021-02-01</th>\n",
       "      <td>WMT</td>\n",
       "      <td>139.270004</td>\n",
       "      <td>3773.86</td>\n",
       "      <td>1862.95</td>\n",
       "      <td>1376.22</td>\n",
       "      <td>112.4154</td>\n",
       "      <td>199.300</td>\n",
       "    </tr>\n",
       "    <tr>\n",
       "      <th>2021-03-01</th>\n",
       "      <td>WMT</td>\n",
       "      <td>131.369995</td>\n",
       "      <td>3901.82</td>\n",
       "      <td>1734.15</td>\n",
       "      <td>1572.90</td>\n",
       "      <td>112.5266</td>\n",
       "      <td>199.100</td>\n",
       "    </tr>\n",
       "    <tr>\n",
       "      <th>2021-04-01</th>\n",
       "      <td>WMT</td>\n",
       "      <td>135.619995</td>\n",
       "      <td>4019.87</td>\n",
       "      <td>1726.05</td>\n",
       "      <td>1967.80</td>\n",
       "      <td>113.7803</td>\n",
       "      <td>200.700</td>\n",
       "    </tr>\n",
       "    <tr>\n",
       "      <th>2021-06-01</th>\n",
       "      <td>WMT</td>\n",
       "      <td>141.660004</td>\n",
       "      <td>4202.04</td>\n",
       "      <td>1899.35</td>\n",
       "      <td>2642.80</td>\n",
       "      <td>110.5378</td>\n",
       "      <td>204.400</td>\n",
       "    </tr>\n",
       "    <tr>\n",
       "      <th>2021-07-01</th>\n",
       "      <td>WMT</td>\n",
       "      <td>139.320007</td>\n",
       "      <td>4319.94</td>\n",
       "      <td>1781.50</td>\n",
       "      <td>2109.49</td>\n",
       "      <td>112.7911</td>\n",
       "      <td>192.949</td>\n",
       "    </tr>\n",
       "    <tr>\n",
       "      <th>2021-09-01</th>\n",
       "      <td>WMT</td>\n",
       "      <td>147.779999</td>\n",
       "      <td>4524.09</td>\n",
       "      <td>1811.80</td>\n",
       "      <td>3825.37</td>\n",
       "      <td>112.9137</td>\n",
       "      <td>207.750</td>\n",
       "    </tr>\n",
       "    <tr>\n",
       "      <th>2021-10-01</th>\n",
       "      <td>WMT</td>\n",
       "      <td>137.050003</td>\n",
       "      <td>4357.04</td>\n",
       "      <td>1757.05</td>\n",
       "      <td>3311.46</td>\n",
       "      <td>114.4094</td>\n",
       "      <td>204.159</td>\n",
       "    </tr>\n",
       "    <tr>\n",
       "      <th>2021-11-01</th>\n",
       "      <td>WMT</td>\n",
       "      <td>149.789993</td>\n",
       "      <td>4613.67</td>\n",
       "      <td>1793.80</td>\n",
       "      <td>4324.21</td>\n",
       "      <td>114.2349</td>\n",
       "      <td>205.602</td>\n",
       "    </tr>\n",
       "    <tr>\n",
       "      <th>2021-12-01</th>\n",
       "      <td>WMT</td>\n",
       "      <td>137.139999</td>\n",
       "      <td>4513.04</td>\n",
       "      <td>1789.25</td>\n",
       "      <td>4589.23</td>\n",
       "      <td>115.8992</td>\n",
       "      <td>204.337</td>\n",
       "    </tr>\n",
       "    <tr>\n",
       "      <th>2022-02-01</th>\n",
       "      <td>WMT</td>\n",
       "      <td>140.910004</td>\n",
       "      <td>4546.54</td>\n",
       "      <td>1799.85</td>\n",
       "      <td>2791.84</td>\n",
       "      <td>115.4098</td>\n",
       "      <td>283.069</td>\n",
       "    </tr>\n",
       "    <tr>\n",
       "      <th>2022-03-01</th>\n",
       "      <td>WMT</td>\n",
       "      <td>135.990005</td>\n",
       "      <td>4306.26</td>\n",
       "      <td>1922.00</td>\n",
       "      <td>2973.53</td>\n",
       "      <td>115.8932</td>\n",
       "      <td>264.710</td>\n",
       "    </tr>\n",
       "    <tr>\n",
       "      <th>2022-04-01</th>\n",
       "      <td>WMT</td>\n",
       "      <td>151.009995</td>\n",
       "      <td>4545.86</td>\n",
       "      <td>1929.40</td>\n",
       "      <td>3450.72</td>\n",
       "      <td>115.6251</td>\n",
       "      <td>266.250</td>\n",
       "    </tr>\n",
       "    <tr>\n",
       "      <th>2022-06-01</th>\n",
       "      <td>WMT</td>\n",
       "      <td>125.449997</td>\n",
       "      <td>4101.23</td>\n",
       "      <td>1844.90</td>\n",
       "      <td>1815.98</td>\n",
       "      <td>118.8763</td>\n",
       "      <td>269.192</td>\n",
       "    </tr>\n",
       "    <tr>\n",
       "      <th>2022-07-01</th>\n",
       "      <td>WMT</td>\n",
       "      <td>122.629997</td>\n",
       "      <td>3825.33</td>\n",
       "      <td>1797.45</td>\n",
       "      <td>1059.50</td>\n",
       "      <td>121.5779</td>\n",
       "      <td>269.265</td>\n",
       "    </tr>\n",
       "    <tr>\n",
       "      <th>2022-08-01</th>\n",
       "      <td>WMT</td>\n",
       "      <td>132.539993</td>\n",
       "      <td>4118.63</td>\n",
       "      <td>1772.40</td>\n",
       "      <td>1629.76</td>\n",
       "      <td>121.5001</td>\n",
       "      <td>269.651</td>\n",
       "    </tr>\n",
       "  </tbody>\n",
       "</table>\n",
       "</div>"
      ],
      "text/plain": [
       "           Symbol       Close  SPClose     Gold    Ether       USD      PPI\n",
       "Date                                                                       \n",
       "2017-12-01    WMT   97.349998  2642.22  1275.50   463.82  110.1432  186.000\n",
       "2018-02-01    WMT  105.519997  2821.98  1341.35  1017.48  106.4903  186.200\n",
       "2018-03-01    WMT   89.080002  2677.67  1307.75   868.74  108.5384  186.300\n",
       "2018-05-01    WMT   87.410004  2654.80  1307.10   670.75  109.7461  186.500\n",
       "2018-06-01    WMT   82.989998  2734.62  1294.60   578.89  111.8279  186.500\n",
       "2018-08-01    WMT   88.239998  2813.36  1219.00   419.60  112.8919  187.600\n",
       "2018-10-01    WMT   94.400002  2924.59  1189.35   230.40  113.8247  188.300\n",
       "2018-11-01    WMT  100.580002  2740.37  1231.15   197.96  115.8667  187.500\n",
       "2019-02-01    WMT   93.860001  2706.53  1318.70   105.88  113.7529  185.200\n",
       "2019-03-01    WMT   97.930000  2803.69  1311.95   134.72  114.5355  186.400\n",
       "2019-04-01    WMT   97.820000  2867.19  1293.50   141.00  114.9333  187.000\n",
       "2019-05-01    WMT  101.360001  2923.73  1283.80   158.30  115.0003  184.600\n",
       "2019-07-01    WMT  110.620003  2964.33  1390.10   293.76  114.7241  186.400\n",
       "2019-08-01    WMT  109.379997  2953.56  1406.80   217.66  116.0482  189.500\n",
       "2019-10-01    WMT  117.849998  2940.25  1473.45   176.25  117.9619  190.000\n",
       "2019-11-01    WMT  117.620003  3066.91  1508.80   183.55  115.7331  187.000\n",
       "2020-04-01    WMT  114.139999  2470.50  1576.55   137.66  123.8154  188.500\n",
       "2020-05-01    WMT  122.919998  2830.71  1686.25   211.39  123.1753  195.100\n",
       "2020-06-01    WMT  123.959999  3055.73  1730.60   248.68  120.2854  184.000\n",
       "2020-07-01    WMT  119.690002  3115.86  1771.05   231.13  120.1019  193.700\n",
       "2020-09-01    WMT  147.589996  3526.65  1972.35   476.15  115.5944  197.700\n",
       "2020-10-01    WMT  143.080002  3380.80  1902.00   351.72  116.7437  197.500\n",
       "2020-12-01    WMT  152.639999  3662.45  1810.75   585.07  112.8162  199.600\n",
       "2021-02-01    WMT  139.270004  3773.86  1862.95  1376.22  112.4154  199.300\n",
       "2021-03-01    WMT  131.369995  3901.82  1734.15  1572.90  112.5266  199.100\n",
       "2021-04-01    WMT  135.619995  4019.87  1726.05  1967.80  113.7803  200.700\n",
       "2021-06-01    WMT  141.660004  4202.04  1899.35  2642.80  110.5378  204.400\n",
       "2021-07-01    WMT  139.320007  4319.94  1781.50  2109.49  112.7911  192.949\n",
       "2021-09-01    WMT  147.779999  4524.09  1811.80  3825.37  112.9137  207.750\n",
       "2021-10-01    WMT  137.050003  4357.04  1757.05  3311.46  114.4094  204.159\n",
       "2021-11-01    WMT  149.789993  4613.67  1793.80  4324.21  114.2349  205.602\n",
       "2021-12-01    WMT  137.139999  4513.04  1789.25  4589.23  115.8992  204.337\n",
       "2022-02-01    WMT  140.910004  4546.54  1799.85  2791.84  115.4098  283.069\n",
       "2022-03-01    WMT  135.990005  4306.26  1922.00  2973.53  115.8932  264.710\n",
       "2022-04-01    WMT  151.009995  4545.86  1929.40  3450.72  115.6251  266.250\n",
       "2022-06-01    WMT  125.449997  4101.23  1844.90  1815.98  118.8763  269.192\n",
       "2022-07-01    WMT  122.629997  3825.33  1797.45  1059.50  121.5779  269.265\n",
       "2022-08-01    WMT  132.539993  4118.63  1772.40  1629.76  121.5001  269.651"
      ]
     },
     "execution_count": 77,
     "metadata": {},
     "output_type": "execute_result"
    }
   ],
   "source": [
    "# Make sure that index is DatetimeIndex named \"date\"\n",
    "if isinstance(WMT.index, pd.DatetimeIndex):\n",
    "    WMT.index.name = 'Date'\n",
    "else:\n",
    "    WMT.rename(columns={'index':'Date'}, inplace=True)\n",
    "    WMT.set_index('Date', inplace=True)\n",
    "    \n",
    "WMT"
   ]
  },
  {
   "cell_type": "code",
   "execution_count": 78,
   "id": "6f75e68e",
   "metadata": {},
   "outputs": [
    {
     "data": {
      "text/plain": [
       "Date\n",
       "2017-12-01     97.349998\n",
       "2018-01-01           NaN\n",
       "2018-02-01    105.519997\n",
       "2018-03-01     89.080002\n",
       "2018-04-01           NaN\n",
       "2018-05-01     87.410004\n",
       "2018-06-01     82.989998\n",
       "2018-07-01           NaN\n",
       "2018-08-01     88.239998\n",
       "2018-09-01           NaN\n",
       "2018-10-01     94.400002\n",
       "2018-11-01    100.580002\n",
       "2018-12-01           NaN\n",
       "2019-01-01           NaN\n",
       "2019-02-01     93.860001\n",
       "2019-03-01     97.930000\n",
       "2019-04-01     97.820000\n",
       "2019-05-01    101.360001\n",
       "2019-06-01           NaN\n",
       "2019-07-01    110.620003\n",
       "2019-08-01    109.379997\n",
       "2019-09-01           NaN\n",
       "2019-10-01    117.849998\n",
       "2019-11-01    117.620003\n",
       "2019-12-01           NaN\n",
       "2020-01-01           NaN\n",
       "2020-02-01           NaN\n",
       "2020-03-01           NaN\n",
       "2020-04-01    114.139999\n",
       "2020-05-01    122.919998\n",
       "2020-06-01    123.959999\n",
       "2020-07-01    119.690002\n",
       "2020-08-01           NaN\n",
       "2020-09-01    147.589996\n",
       "2020-10-01    143.080002\n",
       "2020-11-01           NaN\n",
       "2020-12-01    152.639999\n",
       "2021-01-01           NaN\n",
       "2021-02-01    139.270004\n",
       "2021-03-01    131.369995\n",
       "2021-04-01    135.619995\n",
       "2021-05-01           NaN\n",
       "2021-06-01    141.660004\n",
       "2021-07-01    139.320007\n",
       "2021-08-01           NaN\n",
       "2021-09-01    147.779999\n",
       "2021-10-01    137.050003\n",
       "2021-11-01    149.789993\n",
       "2021-12-01    137.139999\n",
       "2022-01-01           NaN\n",
       "2022-02-01    140.910004\n",
       "2022-03-01    135.990005\n",
       "2022-04-01    151.009995\n",
       "2022-05-01           NaN\n",
       "2022-06-01    125.449997\n",
       "2022-07-01    122.629997\n",
       "2022-08-01    132.539993\n",
       "Freq: MS, Name: Close, dtype: float64"
      ]
     },
     "execution_count": 78,
     "metadata": {},
     "output_type": "execute_result"
    }
   ],
   "source": [
    "wmt_new = WMT.asfreq('D')\n",
    "\n",
    "# The 'MS' string groups the data in buckets by start of the month\n",
    "wmt_new = wmt_new['Close'].resample('MS').mean()\n",
    "\n",
    "wmt_new"
   ]
  },
  {
   "cell_type": "code",
   "execution_count": 79,
   "id": "55457138",
   "metadata": {},
   "outputs": [
    {
     "data": {
      "text/plain": [
       "Date\n",
       "2017-12-01     97.349998\n",
       "2018-01-01    105.519997\n",
       "2018-02-01    105.519997\n",
       "2018-03-01     89.080002\n",
       "2018-04-01     87.410004\n",
       "2018-05-01     87.410004\n",
       "2018-06-01     82.989998\n",
       "2018-07-01     88.239998\n",
       "2018-08-01     88.239998\n",
       "2018-09-01     94.400002\n",
       "2018-10-01     94.400002\n",
       "2018-11-01    100.580002\n",
       "2018-12-01     93.860001\n",
       "2019-01-01     93.860001\n",
       "2019-02-01     93.860001\n",
       "2019-03-01     97.930000\n",
       "2019-04-01     97.820000\n",
       "2019-05-01    101.360001\n",
       "2019-06-01    110.620003\n",
       "2019-07-01    110.620003\n",
       "2019-08-01    109.379997\n",
       "2019-09-01    117.849998\n",
       "2019-10-01    117.849998\n",
       "2019-11-01    117.620003\n",
       "2019-12-01    114.139999\n",
       "2020-01-01    114.139999\n",
       "2020-02-01    114.139999\n",
       "2020-03-01    114.139999\n",
       "2020-04-01    114.139999\n",
       "2020-05-01    122.919998\n",
       "2020-06-01    123.959999\n",
       "2020-07-01    119.690002\n",
       "2020-08-01    147.589996\n",
       "2020-09-01    147.589996\n",
       "2020-10-01    143.080002\n",
       "2020-11-01    152.639999\n",
       "2020-12-01    152.639999\n",
       "2021-01-01    139.270004\n",
       "2021-02-01    139.270004\n",
       "2021-03-01    131.369995\n",
       "2021-04-01    135.619995\n",
       "2021-05-01    141.660004\n",
       "2021-06-01    141.660004\n",
       "2021-07-01    139.320007\n",
       "2021-08-01    147.779999\n",
       "2021-09-01    147.779999\n",
       "2021-10-01    137.050003\n",
       "2021-11-01    149.789993\n",
       "2021-12-01    137.139999\n",
       "2022-01-01    140.910004\n",
       "2022-02-01    140.910004\n",
       "2022-03-01    135.990005\n",
       "2022-04-01    151.009995\n",
       "2022-05-01    125.449997\n",
       "2022-06-01    125.449997\n",
       "2022-07-01    122.629997\n",
       "2022-08-01    132.539993\n",
       "Freq: MS, Name: Close, dtype: float64"
      ]
     },
     "execution_count": 79,
     "metadata": {},
     "output_type": "execute_result"
    }
   ],
   "source": [
    "# The term bfill means that we use the value before filling in missing values\n",
    "wmt_new = wmt_new.fillna(wmt_new.bfill())\n",
    "\n",
    "wmt_new"
   ]
  },
  {
   "cell_type": "code",
   "execution_count": 80,
   "id": "202d4351",
   "metadata": {},
   "outputs": [],
   "source": [
    "monthly_mean_wmt = wmt_new.resample('M').mean()"
   ]
  },
  {
   "cell_type": "code",
   "execution_count": 81,
   "id": "82bfcb09",
   "metadata": {},
   "outputs": [
    {
     "data": {
      "text/plain": [
       "Date\n",
       "2017-12-31     97.349998\n",
       "2018-01-31    105.519997\n",
       "2018-02-28    105.519997\n",
       "2018-03-31     89.080002\n",
       "2018-04-30     87.410004\n",
       "2018-05-31     87.410004\n",
       "2018-06-30     82.989998\n",
       "2018-07-31     88.239998\n",
       "2018-08-31     88.239998\n",
       "2018-09-30     94.400002\n",
       "2018-10-31     94.400002\n",
       "2018-11-30    100.580002\n",
       "2018-12-31     93.860001\n",
       "2019-01-31     93.860001\n",
       "2019-02-28     93.860001\n",
       "2019-03-31     97.930000\n",
       "2019-04-30     97.820000\n",
       "2019-05-31    101.360001\n",
       "2019-06-30    110.620003\n",
       "2019-07-31    110.620003\n",
       "2019-08-31    109.379997\n",
       "2019-09-30    117.849998\n",
       "2019-10-31    117.849998\n",
       "2019-11-30    117.620003\n",
       "2019-12-31    114.139999\n",
       "2020-01-31    114.139999\n",
       "2020-02-29    114.139999\n",
       "2020-03-31    114.139999\n",
       "2020-04-30    114.139999\n",
       "2020-05-31    122.919998\n",
       "2020-06-30    123.959999\n",
       "2020-07-31    119.690002\n",
       "2020-08-31    147.589996\n",
       "2020-09-30    147.589996\n",
       "2020-10-31    143.080002\n",
       "2020-11-30    152.639999\n",
       "2020-12-31    152.639999\n",
       "2021-01-31    139.270004\n",
       "2021-02-28    139.270004\n",
       "2021-03-31    131.369995\n",
       "2021-04-30    135.619995\n",
       "2021-05-31    141.660004\n",
       "2021-06-30    141.660004\n",
       "2021-07-31    139.320007\n",
       "2021-08-31    147.779999\n",
       "2021-09-30    147.779999\n",
       "2021-10-31    137.050003\n",
       "2021-11-30    149.789993\n",
       "2021-12-31    137.139999\n",
       "2022-01-31    140.910004\n",
       "2022-02-28    140.910004\n",
       "2022-03-31    135.990005\n",
       "2022-04-30    151.009995\n",
       "2022-05-31    125.449997\n",
       "2022-06-30    125.449997\n",
       "2022-07-31    122.629997\n",
       "2022-08-31    132.539993\n",
       "Freq: M, Name: Close, dtype: float64"
      ]
     },
     "execution_count": 81,
     "metadata": {},
     "output_type": "execute_result"
    }
   ],
   "source": [
    "monthly_mean_wmt"
   ]
  },
  {
   "cell_type": "markdown",
   "id": "617384b4",
   "metadata": {},
   "source": [
    "### SARIMA model WMT"
   ]
  },
  {
   "cell_type": "code",
   "execution_count": 82,
   "id": "c4b19345",
   "metadata": {},
   "outputs": [],
   "source": [
    "# Define the p, d and q parameters to take any value between 0 and 2\n",
    "p = d = q = range(0, 2)\n",
    "\n",
    "# Generate all different combinations of p, q and q triplets\n",
    "pdq = list(itertools.product(p, d, q))\n",
    "\n",
    "# Generate all different combinations of seasonal p, q and q triplets\n",
    "pdqs = [(x[0], x[1], x[2], 12) for x in list(itertools.product(p, d, q))]"
   ]
  },
  {
   "cell_type": "code",
   "execution_count": 83,
   "id": "b22b2dad",
   "metadata": {},
   "outputs": [
    {
     "name": "stdout",
     "output_type": "stream",
     "text": [
      "ARIMA (0, 0, 0) x (0, 0, 0, 12): AIC Calculated=698.9479458092487\n",
      "ARIMA (0, 0, 0) x (0, 0, 1, 12): AIC Calculated=521.4251418051593\n",
      "ARIMA (0, 0, 0) x (0, 1, 0, 12): AIC Calculated=387.8855338695862\n",
      "ARIMA (0, 0, 0) x (0, 1, 1, 12): AIC Calculated=1213.7701156717362\n",
      "ARIMA (0, 0, 0) x (1, 0, 0, 12): AIC Calculated=383.5370700430021\n",
      "ARIMA (0, 0, 0) x (1, 0, 1, 12): AIC Calculated=369.7336117970756\n",
      "ARIMA (0, 0, 0) x (1, 1, 0, 12): AIC Calculated=289.1988413337509\n",
      "ARIMA (0, 0, 0) x (1, 1, 1, 12): AIC Calculated=1232.8188899120933\n",
      "ARIMA (0, 0, 1) x (0, 0, 0, 12): AIC Calculated=618.7739277994842\n",
      "ARIMA (0, 0, 1) x (0, 0, 1, 12): AIC Calculated=458.26199178001275\n",
      "ARIMA (0, 0, 1) x (0, 1, 0, 12): AIC Calculated=349.56008328562035\n",
      "ARIMA (0, 0, 1) x (0, 1, 1, 12): AIC Calculated=1127.3442305655583\n",
      "ARIMA (0, 0, 1) x (1, 0, 0, 12): AIC Calculated=358.4436448741885\n",
      "ARIMA (0, 0, 1) x (1, 0, 1, 12): AIC Calculated=340.3320008847448\n",
      "ARIMA (0, 0, 1) x (1, 1, 0, 12): AIC Calculated=272.3980917496168\n",
      "ARIMA (0, 0, 1) x (1, 1, 1, 12): AIC Calculated=1019.8586775378163\n",
      "ARIMA (0, 1, 0) x (0, 0, 0, 12): AIC Calculated=385.9082614337891\n",
      "ARIMA (0, 1, 0) x (0, 0, 1, 12): AIC Calculated=307.4705511137134\n",
      "ARIMA (0, 1, 0) x (0, 1, 0, 12): AIC Calculated=320.68585439985173\n",
      "ARIMA (0, 1, 0) x (0, 1, 1, 12): AIC Calculated=967.2748909566897\n",
      "ARIMA (0, 1, 0) x (1, 0, 0, 12): AIC Calculated=313.6331810085941\n",
      "ARIMA (0, 1, 0) x (1, 0, 1, 12): AIC Calculated=309.3146448457404\n",
      "ARIMA (0, 1, 0) x (1, 1, 0, 12): AIC Calculated=241.31080481728057\n",
      "ARIMA (0, 1, 0) x (1, 1, 1, 12): AIC Calculated=1376.1212303341144\n",
      "ARIMA (0, 1, 1) x (0, 0, 0, 12): AIC Calculated=377.04618801225394\n",
      "ARIMA (0, 1, 1) x (0, 0, 1, 12): AIC Calculated=298.05065592256466\n",
      "ARIMA (0, 1, 1) x (0, 1, 0, 12): AIC Calculated=312.8167250436691\n",
      "ARIMA (0, 1, 1) x (0, 1, 1, 12): AIC Calculated=1139.7747631427708\n",
      "ARIMA (0, 1, 1) x (1, 0, 0, 12): AIC Calculated=310.36235510454736\n",
      "ARIMA (0, 1, 1) x (1, 0, 1, 12): AIC Calculated=299.9642678881659\n",
      "ARIMA (0, 1, 1) x (1, 1, 0, 12): AIC Calculated=239.20892728329574\n",
      "ARIMA (0, 1, 1) x (1, 1, 1, 12): AIC Calculated=1138.3237675290493\n",
      "ARIMA (1, 0, 0) x (0, 0, 0, 12): AIC Calculated=394.8486742476689\n",
      "ARIMA (1, 0, 0) x (0, 0, 1, 12): AIC Calculated=315.4865674287973\n",
      "ARIMA (1, 0, 0) x (0, 1, 0, 12): AIC Calculated=327.15157998334826\n",
      "ARIMA (1, 0, 0) x (0, 1, 1, 12): AIC Calculated=1145.9323997081174\n",
      "ARIMA (1, 0, 0) x (1, 0, 0, 12): AIC Calculated=315.5998268593914\n",
      "ARIMA (1, 0, 0) x (1, 0, 1, 12): AIC Calculated=317.34157859958447\n",
      "ARIMA (1, 0, 0) x (1, 1, 0, 12): AIC Calculated=241.77045871178848\n",
      "ARIMA (1, 0, 0) x (1, 1, 1, 12): AIC Calculated=1172.3070754932467\n",
      "ARIMA (1, 0, 1) x (0, 0, 0, 12): AIC Calculated=384.8117779987958\n",
      "ARIMA (1, 0, 1) x (0, 0, 1, 12): AIC Calculated=305.83826706153155\n",
      "ARIMA (1, 0, 1) x (0, 1, 0, 12): AIC Calculated=319.95158651457746\n",
      "ARIMA (1, 0, 1) x (0, 1, 1, 12): AIC Calculated=1177.869460988938\n",
      "ARIMA (1, 0, 1) x (1, 0, 0, 12): AIC Calculated=312.1228062646303\n",
      "ARIMA (1, 0, 1) x (1, 0, 1, 12): AIC Calculated=307.7706631109256\n",
      "ARIMA (1, 0, 1) x (1, 1, 0, 12): AIC Calculated=240.47559180019618\n",
      "ARIMA (1, 0, 1) x (1, 1, 1, 12): AIC Calculated=1203.622620950424\n",
      "ARIMA (1, 1, 0) x (0, 0, 0, 12): AIC Calculated=382.74502887718904\n",
      "ARIMA (1, 1, 0) x (0, 0, 1, 12): AIC Calculated=304.099630982028\n",
      "ARIMA (1, 1, 0) x (0, 1, 0, 12): AIC Calculated=319.8075127484466\n",
      "ARIMA (1, 1, 0) x (0, 1, 1, 12): AIC Calculated=1415.5909259941702\n",
      "ARIMA (1, 1, 0) x (1, 0, 0, 12): AIC Calculated=304.35360944525837\n",
      "ARIMA (1, 1, 0) x (1, 0, 1, 12): AIC Calculated=306.0364797031591\n",
      "ARIMA (1, 1, 0) x (1, 1, 0, 12): AIC Calculated=232.79850342833694\n",
      "ARIMA (1, 1, 0) x (1, 1, 1, 12): AIC Calculated=1416.0669441292894\n",
      "ARIMA (1, 1, 1) x (0, 0, 0, 12): AIC Calculated=378.5559840013315\n",
      "ARIMA (1, 1, 1) x (0, 0, 1, 12): AIC Calculated=299.80005640383195\n",
      "ARIMA (1, 1, 1) x (0, 1, 0, 12): AIC Calculated=314.81201164453836\n",
      "ARIMA (1, 1, 1) x (0, 1, 1, 12): AIC Calculated=957.8262580018597\n",
      "ARIMA (1, 1, 1) x (1, 0, 0, 12): AIC Calculated=306.0514799567176\n",
      "ARIMA (1, 1, 1) x (1, 0, 1, 12): AIC Calculated=301.726985970913\n",
      "ARIMA (1, 1, 1) x (1, 1, 0, 12): AIC Calculated=234.49411728429033\n",
      "ARIMA (1, 1, 1) x (1, 1, 1, 12): AIC Calculated=964.8246635016466\n"
     ]
    }
   ],
   "source": [
    "# Run a grid with pdq and seasonal pdq parameters calculated above and get the best AIC value\n",
    "ans = []\n",
    "for comb in pdq:\n",
    "    for combs in pdqs:\n",
    "        try:\n",
    "            mod = sm.tsa.statespace.SARIMAX(monthly_mean_wmt,\n",
    "                                            order=comb,\n",
    "                                            seasonal_order=combs,\n",
    "                                            enforce_stationarity=False,\n",
    "                                            enforce_invertibility=False)\n",
    "\n",
    "            output = mod.fit()\n",
    "            ans.append([comb, combs, output.aic])\n",
    "            print('ARIMA {} x {}: AIC Calculated={}'.format(comb, combs, output.aic))\n",
    "        except:\n",
    "            continue"
   ]
  },
  {
   "cell_type": "code",
   "execution_count": 84,
   "id": "2b715a96",
   "metadata": {},
   "outputs": [
    {
     "name": "stderr",
     "output_type": "stream",
     "text": [
      "/opt/anaconda3/lib/python3.8/site-packages/statsmodels/tsa/statespace/sarimax.py:997: UserWarning: Non-stationary starting seasonal autoregressive Using zeros as starting parameters.\n",
      "  warn('Non-stationary starting seasonal autoregressive'\n"
     ]
    },
    {
     "name": "stdout",
     "output_type": "stream",
     "text": [
      "==============================================================================\n",
      "                 coef    std err          z      P>|z|      [0.025      0.975]\n",
      "------------------------------------------------------------------------------\n",
      "ar.L1         -2.4639    5.5e-21  -4.48e+20      0.000      -2.464      -2.464\n",
      "ar.L2         -2.9781   1.32e-22  -2.26e+22      0.000      -2.978      -2.978\n",
      "ar.L3         -2.2054   8.99e-21  -2.45e+20      0.000      -2.205      -2.205\n",
      "ar.L4         -1.0362      8e-21  -1.29e+20      0.000      -1.036      -1.036\n",
      "ar.L5         -0.1702   5.65e-21  -3.01e+19      0.000      -0.170      -0.170\n",
      "ma.L1          0.7117   1.95e-19   3.65e+18      0.000       0.712       0.712\n",
      "ma.L2          1.5363   3.23e-19   4.76e+18      0.000       1.536       1.536\n",
      "ma.L3          0.7133   3.96e-19    1.8e+18      0.000       0.713       0.713\n",
      "ma.L4          0.7721   3.34e-20   2.31e+19      0.000       0.772       0.772\n",
      "ma.L5          0.4194   3.94e-19   1.06e+18      0.000       0.419       0.419\n",
      "ar.S.L12       0.4593   6.09e-21   7.54e+19      0.000       0.459       0.459\n",
      "ma.S.L12     7.78e+13   7.34e-33   1.06e+46      0.000    7.78e+13    7.78e+13\n",
      "sigma2      3.805e-12      3e-10      0.013      0.990   -5.85e-10    5.93e-10\n",
      "==============================================================================\n"
     ]
    }
   ],
   "source": [
    "# Plug the optimal parameter values into a new SARIMAX model\n",
    "ARIMA_MODEL = sm.tsa.statespace.SARIMAX(monthly_mean_wmt, \n",
    "                                        order=(5, 5, 5), \n",
    "                                        seasonal_order=(1, 1, 1, 12), \n",
    "#                                         enforce_stationarity=False, \n",
    "                                         enforce_invertibility=False)\n",
    "\n",
    "# Fit the model and print results\n",
    "output = ARIMA_MODEL.fit()\n",
    "\n",
    "print(output.summary().tables[1])"
   ]
  },
  {
   "cell_type": "code",
   "execution_count": 85,
   "id": "2d6cdb9b",
   "metadata": {},
   "outputs": [
    {
     "data": {
      "image/png": "[encoded data removed]",
      "text/plain": [
       "<Figure size 720x936 with 4 Axes>"
      ]
     },
     "metadata": {},
     "output_type": "display_data"
    }
   ],
   "source": [
    "# Call plot_diagnostics() on the results calculated above \n",
    "output.plot_diagnostics(figsize=(10, 13))\n",
    "plt.show()"
   ]
  },
  {
   "cell_type": "code",
   "execution_count": 86,
   "id": "a6c71fa2",
   "metadata": {},
   "outputs": [
    {
     "name": "stderr",
     "output_type": "stream",
     "text": [
      "/opt/anaconda3/lib/python3.8/site-packages/seaborn/distributions.py:2557: FutureWarning: `distplot` is a deprecated function and will be removed in a future version. Please adapt your code to use either `displot` (a figure-level function with similar flexibility) or `histplot` (an axes-level function for histograms).\n",
      "  warnings.warn(msg, FutureWarning)\n"
     ]
    },
    {
     "data": {
      "text/plain": [
       "(array([0.    , 0.0025, 0.005 , 0.0075, 0.01  , 0.0125, 0.015 , 0.0175,\n",
       "        0.02  , 0.0225]),\n",
       " [Text(0, 0, ''),\n",
       "  Text(0, 0, ''),\n",
       "  Text(0, 0, ''),\n",
       "  Text(0, 0, ''),\n",
       "  Text(0, 0, ''),\n",
       "  Text(0, 0, ''),\n",
       "  Text(0, 0, ''),\n",
       "  Text(0, 0, ''),\n",
       "  Text(0, 0, ''),\n",
       "  Text(0, 0, '')])"
      ]
     },
     "execution_count": 86,
     "metadata": {},
     "output_type": "execute_result"
    },
    {
     "data": {
      "image/png": "[encoded data removed]",
      "text/plain": [
       "<Figure size 720x576 with 1 Axes>"
      ]
     },
     "metadata": {},
     "output_type": "display_data"
    }
   ],
   "source": [
    "##Checking Distribution of Our Data \n",
    "fig = plt.figure(figsize=(10,8))\n",
    "sns.distplot(monthly_mean_wmt).set_title(\"Distribution Plot Adj Close -WMT\")\n",
    "ax.tick_params(labelsize=12)\n",
    "sns.set(font_scale=1)\n",
    "plt.xticks(fontsize=16)\n",
    "plt.yticks(fontsize=16)"
   ]
  },
  {
   "cell_type": "code",
   "execution_count": 87,
   "id": "61416d43",
   "metadata": {},
   "outputs": [],
   "source": [
    "# Get predictions starting from 01-01-1998 and calculate confidence intervals\n",
    "pred = output.get_prediction(start=pd.to_datetime('2017-12-31'), dynamic=False)\n",
    "pred_conf = pred.conf_int()"
   ]
  },
  {
   "cell_type": "code",
   "execution_count": 88,
   "id": "db3e2718",
   "metadata": {},
   "outputs": [
    {
     "data": {
      "image/png": "[encoded data removed]",
      "text/plain": [
       "<Figure size 1080x432 with 1 Axes>"
      ]
     },
     "metadata": {},
     "output_type": "display_data"
    }
   ],
   "source": [
    "# Plot real vs predicted values along with confidence interval\n",
    "\n",
    "rcParams['figure.figsize'] = 15, 6\n",
    "\n",
    "# Plot observed values\n",
    "ax = monthly_mean_wmt['2017':].plot(label='observed')\n",
    "\n",
    "# Plot predicted values\n",
    "pred.predicted_mean.plot(ax=ax, label='One-step ahead Forecast', alpha=0.9)\n",
    "\n",
    "# Plot the range for confidence intervals\n",
    "ax.fill_between(pred_conf.index,\n",
    "                pred_conf.iloc[:, 0],\n",
    "                pred_conf.iloc[:, 1], color='g', alpha=0.9)\n",
    "\n",
    "# Set axes labels\n",
    "ax.set_xlabel('Date')\n",
    "ax.set_ylabel('')\n",
    "plt.legend()\n",
    "\n",
    "plt.show()"
   ]
  },
  {
   "cell_type": "code",
   "execution_count": 91,
   "id": "72fe2917",
   "metadata": {},
   "outputs": [
    {
     "data": {
      "text/plain": [
       "Date\n",
       "2017-12-31      0.000000\n",
       "2018-01-31    400.146240\n",
       "2018-02-28    128.781359\n",
       "2018-03-31   -151.602537\n",
       "2018-04-30     33.386665\n",
       "2018-05-31    402.043244\n",
       "2018-06-30    101.789464\n",
       "2018-07-31    -72.693706\n",
       "2018-08-31     19.897339\n",
       "2018-09-30    141.950984\n",
       "2018-10-31    139.808400\n",
       "2018-11-30    141.847492\n",
       "2018-12-31    232.656006\n",
       "2019-01-31   -140.822147\n",
       "2019-02-28    -23.027123\n",
       "2019-03-31    577.243546\n",
       "2019-04-30    262.437389\n",
       "2019-05-31   -468.340340\n",
       "2019-06-30     -3.956823\n",
       "2019-07-31    442.699571\n",
       "2019-08-31    215.942472\n",
       "2019-09-30      2.144804\n",
       "2019-10-31    110.361964\n",
       "2019-11-30     44.375785\n",
       "2019-12-31      4.564993\n",
       "2020-01-31    406.292149\n",
       "2020-02-29    214.675675\n",
       "2020-03-31   -251.908634\n",
       "2020-04-30     26.836490\n",
       "2020-05-31    441.157400\n",
       "2020-06-30    158.077017\n",
       "2020-07-31    -16.495824\n",
       "2020-08-31     95.658711\n",
       "2020-09-30    212.042597\n",
       "2020-10-31    153.246580\n",
       "2020-11-30    117.651690\n",
       "2020-12-31    189.018160\n",
       "2021-01-31    166.240656\n",
       "2021-02-28     49.003990\n",
       "2021-03-31    151.639190\n",
       "2021-04-30    196.347748\n",
       "2021-05-31    125.946333\n",
       "2021-06-30    118.388343\n",
       "2021-07-31    145.605466\n",
       "2021-08-31    163.425211\n",
       "2021-09-30     89.624699\n",
       "2021-10-31    141.633104\n",
       "2021-11-30    254.125732\n",
       "2021-12-31    130.442608\n",
       "2022-01-31    -15.996250\n",
       "2022-02-28    223.161243\n",
       "2022-03-31    229.685410\n",
       "2022-04-30     57.858639\n",
       "2022-05-31    128.165915\n",
       "2022-06-30    141.298176\n",
       "2022-07-31     32.556874\n",
       "2022-08-31    235.504848\n",
       "Freq: M, Name: predicted_mean, dtype: float64"
      ]
     },
     "execution_count": 91,
     "metadata": {},
     "output_type": "execute_result"
    }
   ],
   "source": [
    "pred.predicted_mean"
   ]
  },
  {
   "cell_type": "code",
   "execution_count": 89,
   "id": "3bed8eac",
   "metadata": {},
   "outputs": [
    {
     "name": "stdout",
     "output_type": "stream",
     "text": [
      "The Mean Squared Error of our forecasts is 27935.9\n"
     ]
    }
   ],
   "source": [
    "# Get the real and predicted values\n",
    "WMT_forecasted = pred.predicted_mean\n",
    "WMT_truth = monthly_mean_wmt['2017-12-31':]\n",
    "\n",
    "# Compute the mean square error\n",
    "mse = ((WMT_forecasted - WMT_truth) ** 2).mean()\n",
    "print('The Mean Squared Error of our forecasts is {}'.format(round(mse, 2)))"
   ]
  },
  {
   "cell_type": "code",
   "execution_count": null,
   "id": "0aed7af7",
   "metadata": {},
   "outputs": [],
   "source": [
    "# rcParams['figure.figsize'] = 18, 8\n",
    "\n",
    "# decomposition = sm.tsa.seasonal_decompose(monthly_mean_wmt, model='additive')\n",
    "# fig = decomposition.plot()\n",
    "# plt.show()"
   ]
  },
  {
   "cell_type": "code",
   "execution_count": null,
   "id": "a0eb0c24",
   "metadata": {},
   "outputs": [],
   "source": [
    "# #Plot the ACF\n",
    "# fig, ax = plt.subplots(figsize=(8,3))\n",
    "# plot_acf(monthly_mean_wmt,ax=ax, lags=8);"
   ]
  },
  {
   "cell_type": "code",
   "execution_count": null,
   "id": "12512dea",
   "metadata": {},
   "outputs": [],
   "source": [
    "# # Fit an ARMA(1,0) model\n",
    "# mod_arma = ARIMA(monthly_mean_wmt, order=(1,0,0))\n",
    "# res_arma = mod_arma.fit()\n",
    "\n",
    "# # Print out summary information on the fit\n",
    "# print(res_arma.summary())"
   ]
  },
  {
   "cell_type": "code",
   "execution_count": null,
   "id": "8e294860",
   "metadata": {},
   "outputs": [],
   "source": [
    "# # Fit an ARMA(2,1) model\n",
    "# mod_arma = ARIMA(monthly_mean_wmt, order=(2,0,1))\n",
    "# res_arma = mod_arma.fit()\n",
    "\n",
    "# # Print out summary information on the fit\n",
    "# print(res_arma.summary())"
   ]
  },
  {
   "cell_type": "code",
   "execution_count": null,
   "id": "f1c2ff54",
   "metadata": {},
   "outputs": [],
   "source": [
    "# # Fit an ARMA(2,2) model\n",
    "# mod_arma = ARIMA(monthly_mean_wmt, order=(2,0,2))\n",
    "# res_arma = mod_arma.fit()\n",
    "\n",
    "# # Print out summary information on the fit\n",
    "# print(res_arma.summary())"
   ]
  },
  {
   "cell_type": "markdown",
   "id": "2205d9c8",
   "metadata": {},
   "source": [
    "### Linear Regression WMT "
   ]
  },
  {
   "cell_type": "code",
   "execution_count": null,
   "id": "6a859372",
   "metadata": {},
   "outputs": [],
   "source": [
    "WMT.describe()"
   ]
  },
  {
   "cell_type": "code",
   "execution_count": null,
   "id": "7d3335f1",
   "metadata": {},
   "outputs": [],
   "source": [
    "WMT_lr = WMT"
   ]
  },
  {
   "cell_type": "code",
   "execution_count": null,
   "id": "db75d135",
   "metadata": {},
   "outputs": [],
   "source": [
    "# Model displays a very high R-squared which is promising\n",
    "b_wmt = 'Close~Gold+Ether+USD+PPI+SPClose'\n",
    "\n",
    "model_wmt = ols(formula=b_wmt, data=WMT_lr).fit()\n",
    "model_wmt.summary()"
   ]
  },
  {
   "cell_type": "code",
   "execution_count": null,
   "id": "5b8444b2",
   "metadata": {},
   "outputs": [],
   "source": [
    "# Visualize terms, specifically Gold\n",
    "\n",
    "fig = plt.figure(figsize=(15,8))\n",
    "fig = sm.graphics.plot_regress_exog(model_wmt, \"Gold\", fig=fig)\n",
    "plt.show()\n",
    "\n",
    "# the positive correlation in Y and Fitted vs. X graph shows that sqft_living and price are correlated. \n",
    "# this is heteroscedastic "
   ]
  },
  {
   "cell_type": "code",
   "execution_count": null,
   "id": "63788f92",
   "metadata": {},
   "outputs": [],
   "source": [
    "# Gold\n",
    "WMT_lr['Gold'].hist()"
   ]
  },
  {
   "cell_type": "code",
   "execution_count": null,
   "id": "5ce950bd",
   "metadata": {},
   "outputs": [],
   "source": [
    "# in order to scale this distribution we will need to perform a log transform \n",
    "WMT_lr['log_Gold'] = np.log(WMT_lr['Gold'])\n",
    "WMT_lr['log_Gold'].hist()"
   ]
  },
  {
   "cell_type": "code",
   "execution_count": null,
   "id": "95e82a9a",
   "metadata": {},
   "outputs": [],
   "source": [
    "WMT['Close'].hist()"
   ]
  },
  {
   "cell_type": "code",
   "execution_count": null,
   "id": "c52f2b7e",
   "metadata": {},
   "outputs": [],
   "source": [
    "WMT_lr['log_Close'] = np.log(WMT_lr['Close'])\n",
    "WMT_lr['log_Close'].hist()"
   ]
  },
  {
   "cell_type": "code",
   "execution_count": null,
   "id": "52110cc9",
   "metadata": {},
   "outputs": [],
   "source": [
    "# final model\n",
    "\n",
    "b2_wmt = 'log_Close~log_Gold+Ether+USD+PPI+SPClose'\n",
    "\n",
    "model2_wmt = ols(formula=b2_wmt, data=WMT_lr).fit()\n",
    "model2_wmt.summary()"
   ]
  },
  {
   "cell_type": "code",
   "execution_count": null,
   "id": "7c72e078",
   "metadata": {},
   "outputs": [],
   "source": [
    "residuals_wmt = model2_wmt.resid\n",
    "fig = sm.graphics.qqplot(residuals_wmt, dist=stats.norm, line='45', fit=True)\n",
    "fig.show()\n",
    "\n",
    "# Q-Q plot shows normality of distribution "
   ]
  },
  {
   "cell_type": "code",
   "execution_count": null,
   "id": "9ef49ba6",
   "metadata": {},
   "outputs": [],
   "source": [
    "# This histogram shows the normal distribution\n",
    "residuals_wmt.hist()"
   ]
  },
  {
   "cell_type": "code",
   "execution_count": null,
   "id": "b6477bb4",
   "metadata": {},
   "outputs": [],
   "source": [
    "# Perform White's test \n",
    "\n",
    "white_test_wmt = het_white(model2_wmt.resid, model2_wmt.model.exog)\n",
    "\n",
    "# define labels to use for output of White's test\n",
    "labels = ['Test Statistic', 'Test Statistic p-value', 'F-Statistic', 'F-Test p-value']\n",
    "\n",
    "# print results of White's test\n",
    "print(dict(zip(labels, white_test_wmt)))\n",
    "\n",
    "# p-value is small which shows that the residuals are homoscedastic and therefore evenly distributed"
   ]
  },
  {
   "cell_type": "code",
   "execution_count": null,
   "id": "226eec09",
   "metadata": {},
   "outputs": [],
   "source": [
    "residuals_wmt = model2_wmt.resid"
   ]
  },
  {
   "cell_type": "code",
   "execution_count": null,
   "id": "6a030e09",
   "metadata": {},
   "outputs": [],
   "source": [
    "X = WMT_lr.drop(['Close', 'log_Close'], axis=1)\n",
    "\n",
    "y_pred = model_wmt.predict(X)"
   ]
  },
  {
   "cell_type": "code",
   "execution_count": null,
   "id": "0efd6b63",
   "metadata": {},
   "outputs": [],
   "source": [
    "sns.scatterplot(y_pred,residuals_wmt)"
   ]
  },
  {
   "cell_type": "markdown",
   "id": "bf2ba05a",
   "metadata": {},
   "source": [
    "### Linear Regression KO "
   ]
  },
  {
   "cell_type": "code",
   "execution_count": null,
   "id": "3825a63e",
   "metadata": {},
   "outputs": [],
   "source": [
    "KO.describe()"
   ]
  },
  {
   "cell_type": "code",
   "execution_count": null,
   "id": "71a437ea",
   "metadata": {},
   "outputs": [],
   "source": [
    "ko_lr = KO"
   ]
  },
  {
   "cell_type": "code",
   "execution_count": null,
   "id": "4e0927f4",
   "metadata": {},
   "outputs": [],
   "source": [
    "# Model displays a very high R-squared \n",
    "b_ko = 'Close~Gold+Ether+USD+PPI+SPClose'\n",
    "\n",
    "model_ko = ols(formula=b_ko, data=ko_lr).fit()\n",
    "model_ko.summary()"
   ]
  },
  {
   "cell_type": "code",
   "execution_count": null,
   "id": "6898ca31",
   "metadata": {},
   "outputs": [],
   "source": [
    "# Visualize terms, specifically Gold\n",
    "\n",
    "fig = plt.figure(figsize=(15,8))\n",
    "fig = sm.graphics.plot_regress_exog(model_ko, \"PPI\", fig=fig)\n",
    "plt.show()"
   ]
  },
  {
   "cell_type": "code",
   "execution_count": null,
   "id": "a1756931",
   "metadata": {},
   "outputs": [],
   "source": [
    "ko_lr['Close'].hist()"
   ]
  },
  {
   "cell_type": "code",
   "execution_count": null,
   "id": "81f9e40d",
   "metadata": {},
   "outputs": [],
   "source": [
    "ko_lr['PPI'].hist()"
   ]
  },
  {
   "cell_type": "code",
   "execution_count": null,
   "id": "9b2525de",
   "metadata": {},
   "outputs": [],
   "source": [
    "ko_lr['log_Close'] = np.log(ko_lr['Close'])\n",
    "ko_lr['log_Close'].hist()"
   ]
  },
  {
   "cell_type": "code",
   "execution_count": null,
   "id": "d1eb434f",
   "metadata": {},
   "outputs": [],
   "source": [
    "ko_lr['log_PPI'] = np.log(ko_lr['PPI'])\n",
    "ko_lr['log_PPI'].hist()"
   ]
  },
  {
   "cell_type": "code",
   "execution_count": null,
   "id": "f707c173",
   "metadata": {},
   "outputs": [],
   "source": [
    "# final model\n",
    "\n",
    "b2_ko = 'log_Close~Gold+Ether+USD+log_PPI+SPClose'\n",
    "\n",
    "model2_ko = ols(formula=b2_ko, data=ko_lr).fit()\n",
    "model2_ko.summary()"
   ]
  },
  {
   "cell_type": "code",
   "execution_count": null,
   "id": "c88cfa3d",
   "metadata": {},
   "outputs": [],
   "source": [
    "residuals_ko = model2_ko.resid\n",
    "fig = sm.graphics.qqplot(residuals_ko, dist=stats.norm, line='45', fit=True)\n",
    "fig.show()\n",
    "\n",
    "# Q-Q plot shows normality of distribution "
   ]
  },
  {
   "cell_type": "code",
   "execution_count": null,
   "id": "ba099e5e",
   "metadata": {},
   "outputs": [],
   "source": [
    "# This histogram shows the normal distribution\n",
    "\n",
    "residuals_ko.hist()"
   ]
  },
  {
   "cell_type": "code",
   "execution_count": null,
   "id": "c591e7e6",
   "metadata": {},
   "outputs": [],
   "source": [
    "# Perform White's test \n",
    "\n",
    "white_test_ko = het_white(model2_ko.resid, model2_ko.model.exog)\n",
    "\n",
    "# define labels to use for output of White's test\n",
    "labels = ['Test Statistic', 'Test Statistic p-value', 'F-Statistic', 'F-Test p-value']\n",
    "\n",
    "# print results of White's test\n",
    "print(dict(zip(labels, white_test_ko)))"
   ]
  },
  {
   "cell_type": "code",
   "execution_count": null,
   "id": "ba23eb1f",
   "metadata": {},
   "outputs": [],
   "source": [
    "residuals_ko = model2_ko.resid"
   ]
  },
  {
   "cell_type": "code",
   "execution_count": null,
   "id": "4f6e23a3",
   "metadata": {},
   "outputs": [],
   "source": [
    "X_ko = ko_lr.drop(['Close', 'log_Close'], axis=1)\n",
    "\n",
    "y_pred_ko = model_ko.predict(X_ko)"
   ]
  },
  {
   "cell_type": "code",
   "execution_count": null,
   "id": "2874d917",
   "metadata": {},
   "outputs": [],
   "source": [
    "sns.scatterplot(y_pred_ko,residuals_ko)"
   ]
  },
  {
   "cell_type": "markdown",
   "id": "ea8dcabe",
   "metadata": {},
   "source": [
    "### Linear Regression PG"
   ]
  },
  {
   "cell_type": "code",
   "execution_count": null,
   "id": "3dc521f4",
   "metadata": {},
   "outputs": [],
   "source": [
    "PG.describe()"
   ]
  },
  {
   "cell_type": "code",
   "execution_count": null,
   "id": "e70bdad8",
   "metadata": {},
   "outputs": [],
   "source": [
    "pg_lr = PG"
   ]
  },
  {
   "cell_type": "code",
   "execution_count": null,
   "id": "480fa488",
   "metadata": {},
   "outputs": [],
   "source": [
    "# Model displays a very high R-squared \n",
    "b_pg = 'Close~Gold+Ether+USD+PPI+SPClose'\n",
    "\n",
    "model_pg = ols(formula=b_pg, data=pg_lr).fit()\n",
    "model_pg.summary()"
   ]
  },
  {
   "cell_type": "code",
   "execution_count": null,
   "id": "17e1064e",
   "metadata": {},
   "outputs": [],
   "source": [
    "# Visualize terms, specifically Gold\n",
    "\n",
    "fig = plt.figure(figsize=(15,8))\n",
    "fig = sm.graphics.plot_regress_exog(model_pg, \"Gold\", fig=fig)\n",
    "plt.show()"
   ]
  },
  {
   "cell_type": "code",
   "execution_count": null,
   "id": "69356968",
   "metadata": {},
   "outputs": [],
   "source": [
    "# Gold\n",
    "pg_lr['Gold'].hist()"
   ]
  },
  {
   "cell_type": "code",
   "execution_count": null,
   "id": "b624a0dd",
   "metadata": {},
   "outputs": [],
   "source": [
    "pg_lr['Close'].hist()"
   ]
  },
  {
   "cell_type": "code",
   "execution_count": null,
   "id": "eaa4dab7",
   "metadata": {},
   "outputs": [],
   "source": [
    "# in order to scale this distribution we will need to perform a log transform \n",
    "\n",
    "pg_lr['log_Gold'] = np.log(pg_lr['Gold'])\n",
    "pg_lr['log_Gold'].hist()"
   ]
  },
  {
   "cell_type": "code",
   "execution_count": null,
   "id": "fe4996c3",
   "metadata": {},
   "outputs": [],
   "source": [
    "# final model\n",
    "\n",
    "b2_pg = 'Close~log_Gold+Ether+USD+PPI+SPClose'\n",
    "\n",
    "model2_pg = ols(formula=b2_pg, data=pg_lr).fit()\n",
    "model2_pg.summary()"
   ]
  },
  {
   "cell_type": "code",
   "execution_count": null,
   "id": "4752a0be",
   "metadata": {},
   "outputs": [],
   "source": [
    "residuals_pg = model2_pg.resid\n",
    "fig = sm.graphics.qqplot(residuals_pg, dist=stats.norm, line='45', fit=True)\n",
    "fig.show()\n",
    "\n",
    "# Q-Q plot shows normality of distribution "
   ]
  },
  {
   "cell_type": "code",
   "execution_count": null,
   "id": "88bc4e26",
   "metadata": {},
   "outputs": [],
   "source": [
    "residuals_pg.hist()"
   ]
  },
  {
   "cell_type": "code",
   "execution_count": null,
   "id": "af2beffc",
   "metadata": {},
   "outputs": [],
   "source": [
    "X_pg = pg_lr.drop(['Close'], axis=1)\n",
    "\n",
    "y_pred_pg = model_pg.predict(X_pg)"
   ]
  },
  {
   "cell_type": "code",
   "execution_count": null,
   "id": "d8bd1af4",
   "metadata": {},
   "outputs": [],
   "source": [
    "sns.scatterplot(y_pred_pg,residuals_pg)"
   ]
  }
 ],
 "metadata": {
  "kernelspec": {
   "display_name": "Python 3",
   "language": "python",
   "name": "python3"
  },
  "language_info": {
   "codemirror_mode": {
    "name": "ipython",
    "version": 3
   },
   "file_extension": ".py",
   "mimetype": "text/x-python",
   "name": "python",
   "nbconvert_exporter": "python",
   "pygments_lexer": "ipython3",
   "version": "3.8.8"
  }
 },
 "nbformat": 4,
 "nbformat_minor": 5
}
