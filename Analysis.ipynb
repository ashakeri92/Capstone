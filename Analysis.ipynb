{
 "cells": [
  {
   "cell_type": "markdown",
   "id": "2077f0e3",
   "metadata": {},
   "source": [
    "# Defensive Stock Analysis"
   ]
  },
  {
   "cell_type": "markdown",
   "id": "b85e3812",
   "metadata": {},
   "source": [
    "### Overview"
   ]
  },
  {
   "cell_type": "markdown",
   "id": "251e7762",
   "metadata": {},
   "source": [
    "Do defensive stocks protect against market volatility? If so should you buy or sell the top 3 market weighted defensive stocks. This analysis is for educational purposes only and does not represent any investment recommendations. "
   ]
  },
  {
   "cell_type": "markdown",
   "id": "0aec938b",
   "metadata": {},
   "source": [
    "### Business Problem"
   ]
  },
  {
   "cell_type": "markdown",
   "id": "b4d2bdcd",
   "metadata": {},
   "source": [
    "During times of uncertainty investors want to protect their assets from loss. For this project we will analyze 3 consumer defensive stocks by performing time series analysis (SARIMA models) and linear regression. By doing so we will try to forecast stock prices in the near future. We will choose the 3 stocks based on highest market caps."
   ]
  },
  {
   "cell_type": "markdown",
   "id": "bb6b0ce6",
   "metadata": {},
   "source": [
    "### Data "
   ]
  },
  {
   "cell_type": "markdown",
   "id": "38d5e984",
   "metadata": {},
   "source": [
    "The data acquired for this project represents broad market data including, S&P 500, stocks within the S&P500, Etherum, PPI (producer price index), Dollar index, and gold rates. \n",
    "\n",
    "The final merged dataset (df4) has 190 columns and contains 8 columns:\n",
    "<br />Date: Date of close\n",
    "<br />Symbol: Symbol of defensive stock\n",
    "<br />Close: Close price of defensive stock\n",
    "<br />SPClose: Close Price of S&P 500\n",
    "<br />Gold: Gold Price\n",
    "<br />Ether: Ethereum Price\n",
    "<br />USD: US dollar index\n",
    "<br />PPI: Producer Price Index\n",
    "\n",
    "### Import Data and packages"
   ]
  },
  {
   "cell_type": "markdown",
   "id": "6b2abfda",
   "metadata": {},
   "source": [
    "Import packages:"
   ]
  },
  {
   "cell_type": "code",
   "execution_count": 1,
   "id": "9a27ba23",
   "metadata": {},
   "outputs": [],
   "source": [
    "import pandas as pd\n",
    "import numpy as np\n",
    "import matplotlib.pyplot as plt\n",
    "import seaborn as sns\n",
    "import itertools\n",
    "import zipfile\n",
    "import time\n",
    "import warnings\n",
    "import scipy.stats as stats\n",
    "from datetime import datetime\n",
    "from sklearn.model_selection import GroupShuffleSplit \n",
    "from statsmodels.formula.api import ols\n",
    "from sklearn.metrics import mean_squared_error\n",
    "from statsmodels.tsa.stattools import adfuller\n",
    "from statsmodels.graphics.tsaplots import plot_acf, plot_pacf\n",
    "from statsmodels.tsa.arima.model import ARIMA\n",
    "from statsmodels.tsa.statespace.sarimax import SARIMAX\n",
    "from sklearn.preprocessing import StandardScaler\n",
    "from pmdarima import auto_arima\n",
    "from sklearn.model_selection import train_test_split\n",
    "from sklearn.linear_model import LogisticRegression\n",
    "from sklearn.metrics import precision_score, recall_score, accuracy_score, f1_score, classification_report\n",
    "from sklearn import preprocessing\n",
    "from sklearn import utils\n",
    "from sklearn.metrics import mean_squared_error\n",
    "from statsmodels.stats.diagnostic import het_white\n",
    "import statsmodels.api as sm\n",
    "from pylab import rcParams\n",
    "from statsmodels.tools.sm_exceptions import ConvergenceWarning\n",
    "from sklearn.metrics import mean_squared_error, r2_score\n",
    "from sklearn.linear_model import LinearRegression\n",
    "warnings.simplefilter('ignore', ConvergenceWarning)\n",
    "%matplotlib inline\n",
    "plt.style.use('ggplot')"
   ]
  },
  {
   "cell_type": "code",
   "execution_count": 2,
   "id": "5569d3ec",
   "metadata": {},
   "outputs": [],
   "source": [
    "# with zipfile.ZipFile(\"Data/archive.zip\") as zip_ref:\n",
    "#     zip_ref.extractall(\"Data\")"
   ]
  },
  {
   "cell_type": "code",
   "execution_count": 3,
   "id": "e3de261e",
   "metadata": {},
   "outputs": [],
   "source": [
    "df1 = pd.read_csv('Data/sp500_companies.csv')\n",
    "df2 = pd.read_csv('Data/sp500_index.csv')\n",
    "df3 = pd.read_csv('Data/sp500_stocks.csv')\n",
    "dfg = pd.read_csv('Data/daily_gold_rate.csv')\n",
    "deth = pd.read_csv('Data/CBETHUSD.csv')\n",
    "dollar = pd.read_csv('Data/DTWEXBGS.csv')\n",
    "ppi = pd.read_csv('Data/WPU02850113.csv')"
   ]
  },
  {
   "cell_type": "markdown",
   "id": "6361f125",
   "metadata": {},
   "source": [
    "## Datasets "
   ]
  },
  {
   "cell_type": "markdown",
   "id": "0e7a2653",
   "metadata": {},
   "source": [
    "### Dataset #1"
   ]
  },
  {
   "cell_type": "markdown",
   "id": "cda94ba1",
   "metadata": {},
   "source": [
    "This dataset represents information regarding all stocks within the S&P500. We will narrow this stock down to only consumer defensive stocks, and choose the stocks we will be using for analysis based on market cap. "
   ]
  },
  {
   "cell_type": "code",
   "execution_count": 4,
   "id": "7e14fb9b",
   "metadata": {},
   "outputs": [
    {
     "data": {
      "text/html": [
       "<div>\n",
       "<style scoped>\n",
       "    .dataframe tbody tr th:only-of-type {\n",
       "        vertical-align: middle;\n",
       "    }\n",
       "\n",
       "    .dataframe tbody tr th {\n",
       "        vertical-align: top;\n",
       "    }\n",
       "\n",
       "    .dataframe thead th {\n",
       "        text-align: right;\n",
       "    }\n",
       "</style>\n",
       "<table border=\"1\" class=\"dataframe\">\n",
       "  <thead>\n",
       "    <tr style=\"text-align: right;\">\n",
       "      <th></th>\n",
       "      <th>Exchange</th>\n",
       "      <th>Symbol</th>\n",
       "      <th>Shortname</th>\n",
       "      <th>Longname</th>\n",
       "      <th>Sector</th>\n",
       "      <th>Industry</th>\n",
       "      <th>Currentprice</th>\n",
       "      <th>Marketcap</th>\n",
       "      <th>Ebitda</th>\n",
       "      <th>Revenuegrowth</th>\n",
       "      <th>City</th>\n",
       "      <th>State</th>\n",
       "      <th>Country</th>\n",
       "      <th>Fulltimeemployees</th>\n",
       "      <th>Longbusinesssummary</th>\n",
       "      <th>Weight</th>\n",
       "    </tr>\n",
       "  </thead>\n",
       "  <tbody>\n",
       "    <tr>\n",
       "      <th>0</th>\n",
       "      <td>NMS</td>\n",
       "      <td>AAPL</td>\n",
       "      <td>Apple Inc.</td>\n",
       "      <td>Apple Inc.</td>\n",
       "      <td>Technology</td>\n",
       "      <td>Consumer Electronics</td>\n",
       "      <td>149.70</td>\n",
       "      <td>2381442449408</td>\n",
       "      <td>1.305410e+11</td>\n",
       "      <td>0.081</td>\n",
       "      <td>Cupertino</td>\n",
       "      <td>CA</td>\n",
       "      <td>United States</td>\n",
       "      <td>164000.0</td>\n",
       "      <td>Apple Inc. designs, manufactures, and markets ...</td>\n",
       "      <td>0.067072</td>\n",
       "    </tr>\n",
       "    <tr>\n",
       "      <th>1</th>\n",
       "      <td>NMS</td>\n",
       "      <td>MSFT</td>\n",
       "      <td>Microsoft Corporation</td>\n",
       "      <td>Microsoft Corporation</td>\n",
       "      <td>Technology</td>\n",
       "      <td>Software—Infrastructure</td>\n",
       "      <td>247.11</td>\n",
       "      <td>1855296897024</td>\n",
       "      <td>9.798300e+10</td>\n",
       "      <td>0.124</td>\n",
       "      <td>Redmond</td>\n",
       "      <td>WA</td>\n",
       "      <td>United States</td>\n",
       "      <td>221000.0</td>\n",
       "      <td>Microsoft Corporation develops, licenses, and ...</td>\n",
       "      <td>0.052254</td>\n",
       "    </tr>\n",
       "    <tr>\n",
       "      <th>2</th>\n",
       "      <td>NMS</td>\n",
       "      <td>GOOGL</td>\n",
       "      <td>Alphabet Inc.</td>\n",
       "      <td>Alphabet Inc.</td>\n",
       "      <td>Communication Services</td>\n",
       "      <td>Internet Content &amp; Information</td>\n",
       "      <td>96.41</td>\n",
       "      <td>1249782136832</td>\n",
       "      <td>9.373300e+10</td>\n",
       "      <td>0.061</td>\n",
       "      <td>Mountain View</td>\n",
       "      <td>CA</td>\n",
       "      <td>United States</td>\n",
       "      <td>186779.0</td>\n",
       "      <td>Alphabet Inc. provides various products and pl...</td>\n",
       "      <td>0.035200</td>\n",
       "    </tr>\n",
       "    <tr>\n",
       "      <th>3</th>\n",
       "      <td>NMS</td>\n",
       "      <td>GOOG</td>\n",
       "      <td>Alphabet Inc.</td>\n",
       "      <td>Alphabet Inc.</td>\n",
       "      <td>Communication Services</td>\n",
       "      <td>Internet Content &amp; Information</td>\n",
       "      <td>96.73</td>\n",
       "      <td>1249780563968</td>\n",
       "      <td>9.373300e+10</td>\n",
       "      <td>0.061</td>\n",
       "      <td>Mountain View</td>\n",
       "      <td>CA</td>\n",
       "      <td>United States</td>\n",
       "      <td>186779.0</td>\n",
       "      <td>Alphabet Inc. provides various products and pl...</td>\n",
       "      <td>0.035200</td>\n",
       "    </tr>\n",
       "    <tr>\n",
       "      <th>4</th>\n",
       "      <td>NMS</td>\n",
       "      <td>AMZN</td>\n",
       "      <td>Amazon.com, Inc.</td>\n",
       "      <td>Amazon.com, Inc.</td>\n",
       "      <td>Consumer Cyclical</td>\n",
       "      <td>Internet Retail</td>\n",
       "      <td>100.79</td>\n",
       "      <td>1028229365760</td>\n",
       "      <td>5.154900e+10</td>\n",
       "      <td>0.147</td>\n",
       "      <td>Seattle</td>\n",
       "      <td>WA</td>\n",
       "      <td>United States</td>\n",
       "      <td>1544000.0</td>\n",
       "      <td>Amazon.com, Inc. engages in the retail sale of...</td>\n",
       "      <td>0.028960</td>\n",
       "    </tr>\n",
       "  </tbody>\n",
       "</table>\n",
       "</div>"
      ],
      "text/plain": [
       "  Exchange Symbol              Shortname               Longname  \\\n",
       "0      NMS   AAPL             Apple Inc.             Apple Inc.   \n",
       "1      NMS   MSFT  Microsoft Corporation  Microsoft Corporation   \n",
       "2      NMS  GOOGL          Alphabet Inc.          Alphabet Inc.   \n",
       "3      NMS   GOOG          Alphabet Inc.          Alphabet Inc.   \n",
       "4      NMS   AMZN       Amazon.com, Inc.       Amazon.com, Inc.   \n",
       "\n",
       "                   Sector                        Industry  Currentprice  \\\n",
       "0              Technology            Consumer Electronics        149.70   \n",
       "1              Technology         Software—Infrastructure        247.11   \n",
       "2  Communication Services  Internet Content & Information         96.41   \n",
       "3  Communication Services  Internet Content & Information         96.73   \n",
       "4       Consumer Cyclical                 Internet Retail        100.79   \n",
       "\n",
       "       Marketcap        Ebitda  Revenuegrowth           City State  \\\n",
       "0  2381442449408  1.305410e+11          0.081      Cupertino    CA   \n",
       "1  1855296897024  9.798300e+10          0.124        Redmond    WA   \n",
       "2  1249782136832  9.373300e+10          0.061  Mountain View    CA   \n",
       "3  1249780563968  9.373300e+10          0.061  Mountain View    CA   \n",
       "4  1028229365760  5.154900e+10          0.147        Seattle    WA   \n",
       "\n",
       "         Country  Fulltimeemployees  \\\n",
       "0  United States           164000.0   \n",
       "1  United States           221000.0   \n",
       "2  United States           186779.0   \n",
       "3  United States           186779.0   \n",
       "4  United States          1544000.0   \n",
       "\n",
       "                                 Longbusinesssummary    Weight  \n",
       "0  Apple Inc. designs, manufactures, and markets ...  0.067072  \n",
       "1  Microsoft Corporation develops, licenses, and ...  0.052254  \n",
       "2  Alphabet Inc. provides various products and pl...  0.035200  \n",
       "3  Alphabet Inc. provides various products and pl...  0.035200  \n",
       "4  Amazon.com, Inc. engages in the retail sale of...  0.028960  "
      ]
     },
     "execution_count": 4,
     "metadata": {},
     "output_type": "execute_result"
    }
   ],
   "source": [
    "df1.head()"
   ]
  },
  {
   "cell_type": "code",
   "execution_count": 5,
   "id": "a294d236",
   "metadata": {},
   "outputs": [
    {
     "data": {
      "text/html": [
       "<div>\n",
       "<style scoped>\n",
       "    .dataframe tbody tr th:only-of-type {\n",
       "        vertical-align: middle;\n",
       "    }\n",
       "\n",
       "    .dataframe tbody tr th {\n",
       "        vertical-align: top;\n",
       "    }\n",
       "\n",
       "    .dataframe thead th {\n",
       "        text-align: right;\n",
       "    }\n",
       "</style>\n",
       "<table border=\"1\" class=\"dataframe\">\n",
       "  <thead>\n",
       "    <tr style=\"text-align: right;\">\n",
       "      <th></th>\n",
       "      <th>Exchange</th>\n",
       "      <th>Symbol</th>\n",
       "      <th>Shortname</th>\n",
       "      <th>Longname</th>\n",
       "      <th>Sector</th>\n",
       "      <th>Industry</th>\n",
       "      <th>Currentprice</th>\n",
       "      <th>Marketcap</th>\n",
       "      <th>Ebitda</th>\n",
       "      <th>Revenuegrowth</th>\n",
       "      <th>City</th>\n",
       "      <th>State</th>\n",
       "      <th>Country</th>\n",
       "      <th>Fulltimeemployees</th>\n",
       "      <th>Longbusinesssummary</th>\n",
       "      <th>Weight</th>\n",
       "    </tr>\n",
       "  </thead>\n",
       "  <tbody>\n",
       "    <tr>\n",
       "      <th>11</th>\n",
       "      <td>NYQ</td>\n",
       "      <td>WMT</td>\n",
       "      <td>Walmart Inc.</td>\n",
       "      <td>Walmart Inc.</td>\n",
       "      <td>Consumer Defensive</td>\n",
       "      <td>Discount Stores</td>\n",
       "      <td>142.58</td>\n",
       "      <td>395499831296</td>\n",
       "      <td>3.458600e+10</td>\n",
       "      <td>0.084</td>\n",
       "      <td>Bentonville</td>\n",
       "      <td>AR</td>\n",
       "      <td>United States</td>\n",
       "      <td>2300000.0</td>\n",
       "      <td>Walmart Inc. engages in the operation of retai...</td>\n",
       "      <td>0.011139</td>\n",
       "    </tr>\n",
       "    <tr>\n",
       "      <th>13</th>\n",
       "      <td>NYQ</td>\n",
       "      <td>PG</td>\n",
       "      <td>Procter &amp; Gamble Company (The)</td>\n",
       "      <td>The Procter &amp; Gamble Company</td>\n",
       "      <td>Consumer Defensive</td>\n",
       "      <td>Household &amp; Personal Products</td>\n",
       "      <td>140.97</td>\n",
       "      <td>341140373504</td>\n",
       "      <td>2.136400e+10</td>\n",
       "      <td>0.013</td>\n",
       "      <td>Cincinnati</td>\n",
       "      <td>OH</td>\n",
       "      <td>United States</td>\n",
       "      <td>106000.0</td>\n",
       "      <td>The Procter &amp; Gamble Company provides branded ...</td>\n",
       "      <td>0.009608</td>\n",
       "    </tr>\n",
       "    <tr>\n",
       "      <th>20</th>\n",
       "      <td>NYQ</td>\n",
       "      <td>KO</td>\n",
       "      <td>Coca-Cola Company (The)</td>\n",
       "      <td>The Coca-Cola Company</td>\n",
       "      <td>Consumer Defensive</td>\n",
       "      <td>Beverages—Non-Alcoholic</td>\n",
       "      <td>61.32</td>\n",
       "      <td>264866824192</td>\n",
       "      <td>1.341400e+10</td>\n",
       "      <td>0.102</td>\n",
       "      <td>Atlanta</td>\n",
       "      <td>GA</td>\n",
       "      <td>United States</td>\n",
       "      <td>79000.0</td>\n",
       "      <td>The Coca-Cola Company, a beverage company, man...</td>\n",
       "      <td>0.007460</td>\n",
       "    </tr>\n",
       "    <tr>\n",
       "      <th>22</th>\n",
       "      <td>NMS</td>\n",
       "      <td>PEP</td>\n",
       "      <td>Pepsico, Inc.</td>\n",
       "      <td>PepsiCo, Inc.</td>\n",
       "      <td>Consumer Defensive</td>\n",
       "      <td>Beverages—Non-Alcoholic</td>\n",
       "      <td>178.05</td>\n",
       "      <td>246180839424</td>\n",
       "      <td>1.515600e+10</td>\n",
       "      <td>0.088</td>\n",
       "      <td>Purchase</td>\n",
       "      <td>NY</td>\n",
       "      <td>United States</td>\n",
       "      <td>309000.0</td>\n",
       "      <td>PepsiCo, Inc. manufactures, markets, distribut...</td>\n",
       "      <td>0.006934</td>\n",
       "    </tr>\n",
       "    <tr>\n",
       "      <th>23</th>\n",
       "      <td>NMS</td>\n",
       "      <td>COST</td>\n",
       "      <td>Costco Wholesale Corporation</td>\n",
       "      <td>Costco Wholesale Corporation</td>\n",
       "      <td>Consumer Defensive</td>\n",
       "      <td>Discount Stores</td>\n",
       "      <td>515.47</td>\n",
       "      <td>228575887360</td>\n",
       "      <td>9.693000e+09</td>\n",
       "      <td>0.150</td>\n",
       "      <td>Issaquah</td>\n",
       "      <td>WA</td>\n",
       "      <td>United States</td>\n",
       "      <td>304000.0</td>\n",
       "      <td>Costco Wholesale Corporation, together with it...</td>\n",
       "      <td>0.006438</td>\n",
       "    </tr>\n",
       "  </tbody>\n",
       "</table>\n",
       "</div>"
      ],
      "text/plain": [
       "   Exchange Symbol                       Shortname  \\\n",
       "11      NYQ    WMT                    Walmart Inc.   \n",
       "13      NYQ     PG  Procter & Gamble Company (The)   \n",
       "20      NYQ     KO         Coca-Cola Company (The)   \n",
       "22      NMS    PEP                   Pepsico, Inc.   \n",
       "23      NMS   COST    Costco Wholesale Corporation   \n",
       "\n",
       "                        Longname              Sector  \\\n",
       "11                  Walmart Inc.  Consumer Defensive   \n",
       "13  The Procter & Gamble Company  Consumer Defensive   \n",
       "20         The Coca-Cola Company  Consumer Defensive   \n",
       "22                 PepsiCo, Inc.  Consumer Defensive   \n",
       "23  Costco Wholesale Corporation  Consumer Defensive   \n",
       "\n",
       "                         Industry  Currentprice     Marketcap        Ebitda  \\\n",
       "11                Discount Stores        142.58  395499831296  3.458600e+10   \n",
       "13  Household & Personal Products        140.97  341140373504  2.136400e+10   \n",
       "20        Beverages—Non-Alcoholic         61.32  264866824192  1.341400e+10   \n",
       "22        Beverages—Non-Alcoholic        178.05  246180839424  1.515600e+10   \n",
       "23                Discount Stores        515.47  228575887360  9.693000e+09   \n",
       "\n",
       "    Revenuegrowth         City State        Country  Fulltimeemployees  \\\n",
       "11          0.084  Bentonville    AR  United States          2300000.0   \n",
       "13          0.013   Cincinnati    OH  United States           106000.0   \n",
       "20          0.102      Atlanta    GA  United States            79000.0   \n",
       "22          0.088     Purchase    NY  United States           309000.0   \n",
       "23          0.150     Issaquah    WA  United States           304000.0   \n",
       "\n",
       "                                  Longbusinesssummary    Weight  \n",
       "11  Walmart Inc. engages in the operation of retai...  0.011139  \n",
       "13  The Procter & Gamble Company provides branded ...  0.009608  \n",
       "20  The Coca-Cola Company, a beverage company, man...  0.007460  \n",
       "22  PepsiCo, Inc. manufactures, markets, distribut...  0.006934  \n",
       "23  Costco Wholesale Corporation, together with it...  0.006438  "
      ]
     },
     "execution_count": 5,
     "metadata": {},
     "output_type": "execute_result"
    }
   ],
   "source": [
    "df1 = df1[df1['Sector'] == 'Consumer Defensive']\n",
    "df1.head()"
   ]
  },
  {
   "cell_type": "markdown",
   "id": "f44ac9f3",
   "metadata": {},
   "source": [
    "### Dataset #2"
   ]
  },
  {
   "cell_type": "markdown",
   "id": "c75a3630",
   "metadata": {},
   "source": [
    "This dataset contains close price of the S&P500 and the date of close. We will convert the values in the \"Date\" column to datetime. "
   ]
  },
  {
   "cell_type": "code",
   "execution_count": 6,
   "id": "a70666f8",
   "metadata": {},
   "outputs": [
    {
     "name": "stdout",
     "output_type": "stream",
     "text": [
      "<class 'pandas.core.frame.DataFrame'>\n",
      "RangeIndex: 2519 entries, 0 to 2518\n",
      "Data columns (total 2 columns):\n",
      " #   Column  Non-Null Count  Dtype  \n",
      "---  ------  --------------  -----  \n",
      " 0   Date    2519 non-null   object \n",
      " 1   S&P500  2519 non-null   float64\n",
      "dtypes: float64(1), object(1)\n",
      "memory usage: 39.5+ KB\n"
     ]
    }
   ],
   "source": [
    "df2.info()"
   ]
  },
  {
   "cell_type": "code",
   "execution_count": 7,
   "id": "f0dae194",
   "metadata": {},
   "outputs": [
    {
     "data": {
      "text/html": [
       "<div>\n",
       "<style scoped>\n",
       "    .dataframe tbody tr th:only-of-type {\n",
       "        vertical-align: middle;\n",
       "    }\n",
       "\n",
       "    .dataframe tbody tr th {\n",
       "        vertical-align: top;\n",
       "    }\n",
       "\n",
       "    .dataframe thead th {\n",
       "        text-align: right;\n",
       "    }\n",
       "</style>\n",
       "<table border=\"1\" class=\"dataframe\">\n",
       "  <thead>\n",
       "    <tr style=\"text-align: right;\">\n",
       "      <th></th>\n",
       "      <th>Date</th>\n",
       "      <th>S&amp;P500</th>\n",
       "    </tr>\n",
       "  </thead>\n",
       "  <tbody>\n",
       "    <tr>\n",
       "      <th>0</th>\n",
       "      <td>2012-11-12</td>\n",
       "      <td>1380.03</td>\n",
       "    </tr>\n",
       "    <tr>\n",
       "      <th>1</th>\n",
       "      <td>2012-11-13</td>\n",
       "      <td>1374.53</td>\n",
       "    </tr>\n",
       "    <tr>\n",
       "      <th>2</th>\n",
       "      <td>2012-11-14</td>\n",
       "      <td>1355.49</td>\n",
       "    </tr>\n",
       "    <tr>\n",
       "      <th>3</th>\n",
       "      <td>2012-11-15</td>\n",
       "      <td>1353.33</td>\n",
       "    </tr>\n",
       "    <tr>\n",
       "      <th>4</th>\n",
       "      <td>2012-11-16</td>\n",
       "      <td>1359.88</td>\n",
       "    </tr>\n",
       "  </tbody>\n",
       "</table>\n",
       "</div>"
      ],
      "text/plain": [
       "         Date   S&P500\n",
       "0  2012-11-12  1380.03\n",
       "1  2012-11-13  1374.53\n",
       "2  2012-11-14  1355.49\n",
       "3  2012-11-15  1353.33\n",
       "4  2012-11-16  1359.88"
      ]
     },
     "execution_count": 7,
     "metadata": {},
     "output_type": "execute_result"
    }
   ],
   "source": [
    "df2.head()"
   ]
  },
  {
   "cell_type": "code",
   "execution_count": 8,
   "id": "872956a9",
   "metadata": {},
   "outputs": [
    {
     "data": {
      "text/plain": [
       "(2519, 2)"
      ]
     },
     "execution_count": 8,
     "metadata": {},
     "output_type": "execute_result"
    }
   ],
   "source": [
    "df2.shape"
   ]
  },
  {
   "cell_type": "code",
   "execution_count": 9,
   "id": "de404587",
   "metadata": {},
   "outputs": [],
   "source": [
    "df2['Date'] = pd.to_datetime(df2['Date'],infer_datetime_format=True)"
   ]
  },
  {
   "cell_type": "code",
   "execution_count": 10,
   "id": "cd14277e",
   "metadata": {},
   "outputs": [],
   "source": [
    "# df2=df2[df2['Date'] >= '2019-01-1']"
   ]
  },
  {
   "cell_type": "code",
   "execution_count": 11,
   "id": "36d35574",
   "metadata": {},
   "outputs": [],
   "source": [
    "df2 = df2.rename(columns={\"S&P500\":\"SPClose\"})"
   ]
  },
  {
   "cell_type": "code",
   "execution_count": 12,
   "id": "b6b9e5d9",
   "metadata": {},
   "outputs": [],
   "source": [
    "df2['Symbol'] = \"S&P500\""
   ]
  },
  {
   "cell_type": "code",
   "execution_count": 13,
   "id": "65c5d9a2",
   "metadata": {},
   "outputs": [
    {
     "data": {
      "text/html": [
       "<div>\n",
       "<style scoped>\n",
       "    .dataframe tbody tr th:only-of-type {\n",
       "        vertical-align: middle;\n",
       "    }\n",
       "\n",
       "    .dataframe tbody tr th {\n",
       "        vertical-align: top;\n",
       "    }\n",
       "\n",
       "    .dataframe thead th {\n",
       "        text-align: right;\n",
       "    }\n",
       "</style>\n",
       "<table border=\"1\" class=\"dataframe\">\n",
       "  <thead>\n",
       "    <tr style=\"text-align: right;\">\n",
       "      <th></th>\n",
       "      <th>Date</th>\n",
       "      <th>SPClose</th>\n",
       "      <th>Symbol</th>\n",
       "    </tr>\n",
       "  </thead>\n",
       "  <tbody>\n",
       "    <tr>\n",
       "      <th>0</th>\n",
       "      <td>2012-11-12</td>\n",
       "      <td>1380.03</td>\n",
       "      <td>S&amp;P500</td>\n",
       "    </tr>\n",
       "    <tr>\n",
       "      <th>1</th>\n",
       "      <td>2012-11-13</td>\n",
       "      <td>1374.53</td>\n",
       "      <td>S&amp;P500</td>\n",
       "    </tr>\n",
       "    <tr>\n",
       "      <th>2</th>\n",
       "      <td>2012-11-14</td>\n",
       "      <td>1355.49</td>\n",
       "      <td>S&amp;P500</td>\n",
       "    </tr>\n",
       "    <tr>\n",
       "      <th>3</th>\n",
       "      <td>2012-11-15</td>\n",
       "      <td>1353.33</td>\n",
       "      <td>S&amp;P500</td>\n",
       "    </tr>\n",
       "    <tr>\n",
       "      <th>4</th>\n",
       "      <td>2012-11-16</td>\n",
       "      <td>1359.88</td>\n",
       "      <td>S&amp;P500</td>\n",
       "    </tr>\n",
       "  </tbody>\n",
       "</table>\n",
       "</div>"
      ],
      "text/plain": [
       "        Date  SPClose  Symbol\n",
       "0 2012-11-12  1380.03  S&P500\n",
       "1 2012-11-13  1374.53  S&P500\n",
       "2 2012-11-14  1355.49  S&P500\n",
       "3 2012-11-15  1353.33  S&P500\n",
       "4 2012-11-16  1359.88  S&P500"
      ]
     },
     "execution_count": 13,
     "metadata": {},
     "output_type": "execute_result"
    }
   ],
   "source": [
    "df2.head()"
   ]
  },
  {
   "cell_type": "code",
   "execution_count": 14,
   "id": "c359903c",
   "metadata": {},
   "outputs": [
    {
     "data": {
      "text/plain": [
       "Date       0\n",
       "SPClose    0\n",
       "Symbol     0\n",
       "dtype: int64"
      ]
     },
     "execution_count": 14,
     "metadata": {},
     "output_type": "execute_result"
    }
   ],
   "source": [
    "df2.isna().sum()"
   ]
  },
  {
   "cell_type": "markdown",
   "id": "3d4cbc41",
   "metadata": {},
   "source": [
    "### Dataset #3"
   ]
  },
  {
   "cell_type": "markdown",
   "id": "b0cdd961",
   "metadata": {},
   "source": [
    "This dataset contains all stocks within the S&P500, the symbol, adj close, close, high, low, open, and volume. We will only be using the date, symbol, and close columns and only be using 'PEP', 'KO', 'PG', 'WMT', 'COST' symbols. We will also convert the date column to datetime. "
   ]
  },
  {
   "cell_type": "code",
   "execution_count": 15,
   "id": "0213c0fd",
   "metadata": {},
   "outputs": [
    {
     "name": "stdout",
     "output_type": "stream",
     "text": [
      "<class 'pandas.core.frame.DataFrame'>\n",
      "RangeIndex: 1629217 entries, 0 to 1629216\n",
      "Data columns (total 8 columns):\n",
      " #   Column     Non-Null Count    Dtype  \n",
      "---  ------     --------------    -----  \n",
      " 0   Date       1629217 non-null  object \n",
      " 1   Symbol     1629217 non-null  object \n",
      " 2   Adj Close  1560290 non-null  float64\n",
      " 3   Close      1560290 non-null  float64\n",
      " 4   High       1560290 non-null  float64\n",
      " 5   Low        1560290 non-null  float64\n",
      " 6   Open       1560290 non-null  float64\n",
      " 7   Volume     1560290 non-null  float64\n",
      "dtypes: float64(6), object(2)\n",
      "memory usage: 99.4+ MB\n"
     ]
    }
   ],
   "source": [
    "df3.info()"
   ]
  },
  {
   "cell_type": "code",
   "execution_count": 16,
   "id": "c79fe1d7",
   "metadata": {},
   "outputs": [],
   "source": [
    "df3['Date'] = pd.to_datetime(df3['Date'])"
   ]
  },
  {
   "cell_type": "code",
   "execution_count": 17,
   "id": "621d6383",
   "metadata": {},
   "outputs": [],
   "source": [
    "df3 = df3.drop(['Adj Close', 'High', 'Low', 'Open', 'Volume'], axis=1)"
   ]
  },
  {
   "cell_type": "code",
   "execution_count": 18,
   "id": "63eaea20",
   "metadata": {},
   "outputs": [
    {
     "data": {
      "text/html": [
       "<div>\n",
       "<style scoped>\n",
       "    .dataframe tbody tr th:only-of-type {\n",
       "        vertical-align: middle;\n",
       "    }\n",
       "\n",
       "    .dataframe tbody tr th {\n",
       "        vertical-align: top;\n",
       "    }\n",
       "\n",
       "    .dataframe thead th {\n",
       "        text-align: right;\n",
       "    }\n",
       "</style>\n",
       "<table border=\"1\" class=\"dataframe\">\n",
       "  <thead>\n",
       "    <tr style=\"text-align: right;\">\n",
       "      <th></th>\n",
       "      <th>Date</th>\n",
       "      <th>Symbol</th>\n",
       "      <th>Close</th>\n",
       "    </tr>\n",
       "  </thead>\n",
       "  <tbody>\n",
       "    <tr>\n",
       "      <th>0</th>\n",
       "      <td>2010-01-04</td>\n",
       "      <td>MMM</td>\n",
       "      <td>83.019997</td>\n",
       "    </tr>\n",
       "    <tr>\n",
       "      <th>1</th>\n",
       "      <td>2010-01-05</td>\n",
       "      <td>MMM</td>\n",
       "      <td>82.500000</td>\n",
       "    </tr>\n",
       "    <tr>\n",
       "      <th>2</th>\n",
       "      <td>2010-01-06</td>\n",
       "      <td>MMM</td>\n",
       "      <td>83.669998</td>\n",
       "    </tr>\n",
       "    <tr>\n",
       "      <th>3</th>\n",
       "      <td>2010-01-07</td>\n",
       "      <td>MMM</td>\n",
       "      <td>83.730003</td>\n",
       "    </tr>\n",
       "    <tr>\n",
       "      <th>4</th>\n",
       "      <td>2010-01-08</td>\n",
       "      <td>MMM</td>\n",
       "      <td>84.320000</td>\n",
       "    </tr>\n",
       "  </tbody>\n",
       "</table>\n",
       "</div>"
      ],
      "text/plain": [
       "        Date Symbol      Close\n",
       "0 2010-01-04    MMM  83.019997\n",
       "1 2010-01-05    MMM  82.500000\n",
       "2 2010-01-06    MMM  83.669998\n",
       "3 2010-01-07    MMM  83.730003\n",
       "4 2010-01-08    MMM  84.320000"
      ]
     },
     "execution_count": 18,
     "metadata": {},
     "output_type": "execute_result"
    }
   ],
   "source": [
    "df3.head()"
   ]
  },
  {
   "cell_type": "code",
   "execution_count": 19,
   "id": "11590625",
   "metadata": {},
   "outputs": [],
   "source": [
    "df3 = df3.loc[df3['Symbol'].isin(['PEP', 'KO', 'PG', 'WMT', 'COST'])]"
   ]
  },
  {
   "cell_type": "code",
   "execution_count": 20,
   "id": "3186b161",
   "metadata": {},
   "outputs": [
    {
     "data": {
      "text/plain": [
       "Date      0\n",
       "Symbol    0\n",
       "Close     0\n",
       "dtype: int64"
      ]
     },
     "execution_count": 20,
     "metadata": {},
     "output_type": "execute_result"
    }
   ],
   "source": [
    "df3.isna().sum()"
   ]
  },
  {
   "cell_type": "code",
   "execution_count": 21,
   "id": "38b340ad",
   "metadata": {},
   "outputs": [],
   "source": [
    "df3['Date'] = pd.to_datetime(df3['Date'],infer_datetime_format=True)"
   ]
  },
  {
   "cell_type": "code",
   "execution_count": 22,
   "id": "87cb5a13",
   "metadata": {},
   "outputs": [],
   "source": [
    "# df3=df3[df3['Date'] >= '2019-01-1']"
   ]
  },
  {
   "cell_type": "code",
   "execution_count": 23,
   "id": "2e7db4a8",
   "metadata": {},
   "outputs": [
    {
     "data": {
      "text/html": [
       "<div>\n",
       "<style scoped>\n",
       "    .dataframe tbody tr th:only-of-type {\n",
       "        vertical-align: middle;\n",
       "    }\n",
       "\n",
       "    .dataframe tbody tr th {\n",
       "        vertical-align: top;\n",
       "    }\n",
       "\n",
       "    .dataframe thead th {\n",
       "        text-align: right;\n",
       "    }\n",
       "</style>\n",
       "<table border=\"1\" class=\"dataframe\">\n",
       "  <thead>\n",
       "    <tr style=\"text-align: right;\">\n",
       "      <th></th>\n",
       "      <th>Date</th>\n",
       "      <th>Symbol</th>\n",
       "      <th>Close</th>\n",
       "    </tr>\n",
       "  </thead>\n",
       "  <tbody>\n",
       "    <tr>\n",
       "      <th>382202</th>\n",
       "      <td>2010-01-04</td>\n",
       "      <td>KO</td>\n",
       "      <td>28.520000</td>\n",
       "    </tr>\n",
       "    <tr>\n",
       "      <th>382203</th>\n",
       "      <td>2010-01-05</td>\n",
       "      <td>KO</td>\n",
       "      <td>28.174999</td>\n",
       "    </tr>\n",
       "    <tr>\n",
       "      <th>382204</th>\n",
       "      <td>2010-01-06</td>\n",
       "      <td>KO</td>\n",
       "      <td>28.165001</td>\n",
       "    </tr>\n",
       "    <tr>\n",
       "      <th>382205</th>\n",
       "      <td>2010-01-07</td>\n",
       "      <td>KO</td>\n",
       "      <td>28.094999</td>\n",
       "    </tr>\n",
       "    <tr>\n",
       "      <th>382206</th>\n",
       "      <td>2010-01-08</td>\n",
       "      <td>KO</td>\n",
       "      <td>27.575001</td>\n",
       "    </tr>\n",
       "  </tbody>\n",
       "</table>\n",
       "</div>"
      ],
      "text/plain": [
       "             Date Symbol      Close\n",
       "382202 2010-01-04     KO  28.520000\n",
       "382203 2010-01-05     KO  28.174999\n",
       "382204 2010-01-06     KO  28.165001\n",
       "382205 2010-01-07     KO  28.094999\n",
       "382206 2010-01-08     KO  27.575001"
      ]
     },
     "execution_count": 23,
     "metadata": {},
     "output_type": "execute_result"
    }
   ],
   "source": [
    "df3.head()"
   ]
  },
  {
   "cell_type": "markdown",
   "id": "d199e331",
   "metadata": {},
   "source": [
    "### Dfg "
   ]
  },
  {
   "cell_type": "markdown",
   "id": "c8c894c8",
   "metadata": {},
   "source": [
    "Dfg represents the daily gold rate. We will only keep the gold rate that is relevant to the US dollar, and we will convert the date column to datetime. "
   ]
  },
  {
   "cell_type": "code",
   "execution_count": 24,
   "id": "85ce6718",
   "metadata": {},
   "outputs": [
    {
     "name": "stdout",
     "output_type": "stream",
     "text": [
      "<class 'pandas.core.frame.DataFrame'>\n",
      "RangeIndex: 9824 entries, 0 to 9823\n",
      "Data columns (total 7 columns):\n",
      " #   Column  Non-Null Count  Dtype  \n",
      "---  ------  --------------  -----  \n",
      " 0   Date    9824 non-null   object \n",
      " 1   USD     9824 non-null   float64\n",
      " 2   EUR     9824 non-null   float64\n",
      " 3   GBP     9824 non-null   float64\n",
      " 4   INR     9824 non-null   float64\n",
      " 5   AED     9824 non-null   float64\n",
      " 6   CNY     9820 non-null   float64\n",
      "dtypes: float64(6), object(1)\n",
      "memory usage: 537.4+ KB\n"
     ]
    }
   ],
   "source": [
    "dfg.info()"
   ]
  },
  {
   "cell_type": "code",
   "execution_count": 25,
   "id": "2be34764",
   "metadata": {},
   "outputs": [],
   "source": [
    "dfg = dfg.drop(['EUR','GBP','INR','AED','CNY'],axis=1)"
   ]
  },
  {
   "cell_type": "code",
   "execution_count": 26,
   "id": "e455a768",
   "metadata": {},
   "outputs": [],
   "source": [
    "dfg = dfg.rename(columns={\"USD\":\"Gold\"})"
   ]
  },
  {
   "cell_type": "code",
   "execution_count": 27,
   "id": "f67ea2f5",
   "metadata": {},
   "outputs": [
    {
     "data": {
      "text/plain": [
       "Date    0\n",
       "Gold    0\n",
       "dtype: int64"
      ]
     },
     "execution_count": 27,
     "metadata": {},
     "output_type": "execute_result"
    }
   ],
   "source": [
    "dfg.isna().sum()"
   ]
  },
  {
   "cell_type": "code",
   "execution_count": 28,
   "id": "a7a3f4ab",
   "metadata": {},
   "outputs": [],
   "source": [
    "dfg['Date'] = pd.to_datetime(dfg['Date'],infer_datetime_format=True)"
   ]
  },
  {
   "cell_type": "code",
   "execution_count": 29,
   "id": "9dec0d5c",
   "metadata": {},
   "outputs": [],
   "source": [
    "# dfg=dfg[dfg['Date'] >= '2019-01-1']"
   ]
  },
  {
   "cell_type": "code",
   "execution_count": 30,
   "id": "ffa549f3",
   "metadata": {},
   "outputs": [
    {
     "data": {
      "text/html": [
       "<div>\n",
       "<style scoped>\n",
       "    .dataframe tbody tr th:only-of-type {\n",
       "        vertical-align: middle;\n",
       "    }\n",
       "\n",
       "    .dataframe tbody tr th {\n",
       "        vertical-align: top;\n",
       "    }\n",
       "\n",
       "    .dataframe thead th {\n",
       "        text-align: right;\n",
       "    }\n",
       "</style>\n",
       "<table border=\"1\" class=\"dataframe\">\n",
       "  <thead>\n",
       "    <tr style=\"text-align: right;\">\n",
       "      <th></th>\n",
       "      <th>Date</th>\n",
       "      <th>Gold</th>\n",
       "    </tr>\n",
       "  </thead>\n",
       "  <tbody>\n",
       "    <tr>\n",
       "      <th>0</th>\n",
       "      <td>1985-01-01</td>\n",
       "      <td>308.30</td>\n",
       "    </tr>\n",
       "    <tr>\n",
       "      <th>1</th>\n",
       "      <td>1985-01-02</td>\n",
       "      <td>305.50</td>\n",
       "    </tr>\n",
       "    <tr>\n",
       "      <th>2</th>\n",
       "      <td>1985-01-03</td>\n",
       "      <td>302.30</td>\n",
       "    </tr>\n",
       "    <tr>\n",
       "      <th>3</th>\n",
       "      <td>1985-01-04</td>\n",
       "      <td>303.15</td>\n",
       "    </tr>\n",
       "    <tr>\n",
       "      <th>4</th>\n",
       "      <td>1985-01-07</td>\n",
       "      <td>298.25</td>\n",
       "    </tr>\n",
       "  </tbody>\n",
       "</table>\n",
       "</div>"
      ],
      "text/plain": [
       "        Date    Gold\n",
       "0 1985-01-01  308.30\n",
       "1 1985-01-02  305.50\n",
       "2 1985-01-03  302.30\n",
       "3 1985-01-04  303.15\n",
       "4 1985-01-07  298.25"
      ]
     },
     "execution_count": 30,
     "metadata": {},
     "output_type": "execute_result"
    }
   ],
   "source": [
    "dfg.head()"
   ]
  },
  {
   "cell_type": "code",
   "execution_count": 31,
   "id": "842ae2e1",
   "metadata": {},
   "outputs": [
    {
     "name": "stdout",
     "output_type": "stream",
     "text": [
      "<class 'pandas.core.frame.DataFrame'>\n",
      "RangeIndex: 9824 entries, 0 to 9823\n",
      "Data columns (total 2 columns):\n",
      " #   Column  Non-Null Count  Dtype         \n",
      "---  ------  --------------  -----         \n",
      " 0   Date    9824 non-null   datetime64[ns]\n",
      " 1   Gold    9824 non-null   float64       \n",
      "dtypes: datetime64[ns](1), float64(1)\n",
      "memory usage: 153.6 KB\n"
     ]
    }
   ],
   "source": [
    "dfg.info()"
   ]
  },
  {
   "cell_type": "markdown",
   "id": "15ace464",
   "metadata": {},
   "source": [
    "### Deth"
   ]
  },
  {
   "cell_type": "markdown",
   "id": "ba59959f",
   "metadata": {},
   "source": [
    "Deth is ethereum prices. We will keep the dataset relatively unchanged, and will convert the date column to datetime. "
   ]
  },
  {
   "cell_type": "code",
   "execution_count": 32,
   "id": "77f6afa0",
   "metadata": {},
   "outputs": [
    {
     "name": "stdout",
     "output_type": "stream",
     "text": [
      "<class 'pandas.core.frame.DataFrame'>\n",
      "RangeIndex: 1827 entries, 0 to 1826\n",
      "Data columns (total 2 columns):\n",
      " #   Column    Non-Null Count  Dtype \n",
      "---  ------    --------------  ----- \n",
      " 0   DATE      1827 non-null   object\n",
      " 1   CBETHUSD  1827 non-null   object\n",
      "dtypes: object(2)\n",
      "memory usage: 28.7+ KB\n"
     ]
    }
   ],
   "source": [
    "deth.info()"
   ]
  },
  {
   "cell_type": "code",
   "execution_count": 33,
   "id": "14392767",
   "metadata": {},
   "outputs": [
    {
     "data": {
      "text/plain": [
       "DATE        0\n",
       "CBETHUSD    0\n",
       "dtype: int64"
      ]
     },
     "execution_count": 33,
     "metadata": {},
     "output_type": "execute_result"
    }
   ],
   "source": [
    "deth.isna().sum()"
   ]
  },
  {
   "cell_type": "code",
   "execution_count": 34,
   "id": "d4bbafde",
   "metadata": {},
   "outputs": [],
   "source": [
    "deth = deth.rename(columns={\"DATE\":\"Date\",\"CBETHUSD\":\"Ether\"})"
   ]
  },
  {
   "cell_type": "code",
   "execution_count": 35,
   "id": "81a299ac",
   "metadata": {},
   "outputs": [],
   "source": [
    "deth['Date'] = pd.to_datetime(deth['Date'],infer_datetime_format=True)"
   ]
  },
  {
   "cell_type": "code",
   "execution_count": 36,
   "id": "ba736d33",
   "metadata": {},
   "outputs": [],
   "source": [
    "# deth=deth[deth['Date'] >= '2019-01-1']"
   ]
  },
  {
   "cell_type": "code",
   "execution_count": 37,
   "id": "f020bce4",
   "metadata": {},
   "outputs": [
    {
     "data": {
      "text/html": [
       "<div>\n",
       "<style scoped>\n",
       "    .dataframe tbody tr th:only-of-type {\n",
       "        vertical-align: middle;\n",
       "    }\n",
       "\n",
       "    .dataframe tbody tr th {\n",
       "        vertical-align: top;\n",
       "    }\n",
       "\n",
       "    .dataframe thead th {\n",
       "        text-align: right;\n",
       "    }\n",
       "</style>\n",
       "<table border=\"1\" class=\"dataframe\">\n",
       "  <thead>\n",
       "    <tr style=\"text-align: right;\">\n",
       "      <th></th>\n",
       "      <th>Date</th>\n",
       "      <th>Ether</th>\n",
       "    </tr>\n",
       "  </thead>\n",
       "  <tbody>\n",
       "    <tr>\n",
       "      <th>0</th>\n",
       "      <td>2017-11-22</td>\n",
       "      <td>381.73</td>\n",
       "    </tr>\n",
       "    <tr>\n",
       "      <th>1</th>\n",
       "      <td>2017-11-23</td>\n",
       "      <td>406.61</td>\n",
       "    </tr>\n",
       "    <tr>\n",
       "      <th>2</th>\n",
       "      <td>2017-11-24</td>\n",
       "      <td>470.98</td>\n",
       "    </tr>\n",
       "    <tr>\n",
       "      <th>3</th>\n",
       "      <td>2017-11-25</td>\n",
       "      <td>466.77</td>\n",
       "    </tr>\n",
       "    <tr>\n",
       "      <th>4</th>\n",
       "      <td>2017-11-26</td>\n",
       "      <td>473.99</td>\n",
       "    </tr>\n",
       "  </tbody>\n",
       "</table>\n",
       "</div>"
      ],
      "text/plain": [
       "        Date   Ether\n",
       "0 2017-11-22  381.73\n",
       "1 2017-11-23  406.61\n",
       "2 2017-11-24  470.98\n",
       "3 2017-11-25  466.77\n",
       "4 2017-11-26  473.99"
      ]
     },
     "execution_count": 37,
     "metadata": {},
     "output_type": "execute_result"
    }
   ],
   "source": [
    "deth.head()"
   ]
  },
  {
   "cell_type": "markdown",
   "id": "79b46f29",
   "metadata": {},
   "source": [
    "### Dollar"
   ]
  },
  {
   "cell_type": "markdown",
   "id": "ec46c5bf",
   "metadata": {},
   "source": [
    "This dataset is the US dollar index, we will convert the date column of this dataset to datetime.  "
   ]
  },
  {
   "cell_type": "code",
   "execution_count": 38,
   "id": "97f6128d",
   "metadata": {},
   "outputs": [
    {
     "name": "stdout",
     "output_type": "stream",
     "text": [
      "<class 'pandas.core.frame.DataFrame'>\n",
      "RangeIndex: 1305 entries, 0 to 1304\n",
      "Data columns (total 2 columns):\n",
      " #   Column    Non-Null Count  Dtype \n",
      "---  ------    --------------  ----- \n",
      " 0   DATE      1305 non-null   object\n",
      " 1   DTWEXBGS  1305 non-null   object\n",
      "dtypes: object(2)\n",
      "memory usage: 20.5+ KB\n"
     ]
    }
   ],
   "source": [
    "dollar.info()"
   ]
  },
  {
   "cell_type": "code",
   "execution_count": 39,
   "id": "4c9bedcd",
   "metadata": {},
   "outputs": [
    {
     "data": {
      "text/plain": [
       "DATE        0\n",
       "DTWEXBGS    0\n",
       "dtype: int64"
      ]
     },
     "execution_count": 39,
     "metadata": {},
     "output_type": "execute_result"
    }
   ],
   "source": [
    "dollar.isna().sum()"
   ]
  },
  {
   "cell_type": "code",
   "execution_count": 40,
   "id": "91884e27",
   "metadata": {},
   "outputs": [],
   "source": [
    "dollar = dollar.rename(columns={\"DATE\":\"Date\", \"DTWEXBGS\":\"USD\"})"
   ]
  },
  {
   "cell_type": "code",
   "execution_count": 41,
   "id": "ca781f62",
   "metadata": {},
   "outputs": [],
   "source": [
    "dollar['Date'] = pd.to_datetime(dollar['Date'],infer_datetime_format=True)"
   ]
  },
  {
   "cell_type": "code",
   "execution_count": 42,
   "id": "54999e3c",
   "metadata": {},
   "outputs": [],
   "source": [
    "# dollar=dollar[dollar['Date'] >= '2019-01-1']"
   ]
  },
  {
   "cell_type": "code",
   "execution_count": 43,
   "id": "0b66f04b",
   "metadata": {},
   "outputs": [
    {
     "data": {
      "text/html": [
       "<div>\n",
       "<style scoped>\n",
       "    .dataframe tbody tr th:only-of-type {\n",
       "        vertical-align: middle;\n",
       "    }\n",
       "\n",
       "    .dataframe tbody tr th {\n",
       "        vertical-align: top;\n",
       "    }\n",
       "\n",
       "    .dataframe thead th {\n",
       "        text-align: right;\n",
       "    }\n",
       "</style>\n",
       "<table border=\"1\" class=\"dataframe\">\n",
       "  <thead>\n",
       "    <tr style=\"text-align: right;\">\n",
       "      <th></th>\n",
       "      <th>Date</th>\n",
       "      <th>USD</th>\n",
       "    </tr>\n",
       "  </thead>\n",
       "  <tbody>\n",
       "    <tr>\n",
       "      <th>0</th>\n",
       "      <td>2017-11-20</td>\n",
       "      <td>111.261</td>\n",
       "    </tr>\n",
       "    <tr>\n",
       "      <th>1</th>\n",
       "      <td>2017-11-21</td>\n",
       "      <td>110.9836</td>\n",
       "    </tr>\n",
       "    <tr>\n",
       "      <th>2</th>\n",
       "      <td>2017-11-22</td>\n",
       "      <td>110.5642</td>\n",
       "    </tr>\n",
       "    <tr>\n",
       "      <th>3</th>\n",
       "      <td>2017-11-23</td>\n",
       "      <td>.</td>\n",
       "    </tr>\n",
       "    <tr>\n",
       "      <th>4</th>\n",
       "      <td>2017-11-24</td>\n",
       "      <td>110.0266</td>\n",
       "    </tr>\n",
       "  </tbody>\n",
       "</table>\n",
       "</div>"
      ],
      "text/plain": [
       "        Date       USD\n",
       "0 2017-11-20   111.261\n",
       "1 2017-11-21  110.9836\n",
       "2 2017-11-22  110.5642\n",
       "3 2017-11-23         .\n",
       "4 2017-11-24  110.0266"
      ]
     },
     "execution_count": 43,
     "metadata": {},
     "output_type": "execute_result"
    }
   ],
   "source": [
    "dollar.head()"
   ]
  },
  {
   "cell_type": "code",
   "execution_count": 44,
   "id": "50cdbdc2",
   "metadata": {},
   "outputs": [
    {
     "data": {
      "text/html": [
       "<div>\n",
       "<style scoped>\n",
       "    .dataframe tbody tr th:only-of-type {\n",
       "        vertical-align: middle;\n",
       "    }\n",
       "\n",
       "    .dataframe tbody tr th {\n",
       "        vertical-align: top;\n",
       "    }\n",
       "\n",
       "    .dataframe thead th {\n",
       "        text-align: right;\n",
       "    }\n",
       "</style>\n",
       "<table border=\"1\" class=\"dataframe\">\n",
       "  <thead>\n",
       "    <tr style=\"text-align: right;\">\n",
       "      <th></th>\n",
       "      <th>Date</th>\n",
       "      <th>USD</th>\n",
       "    </tr>\n",
       "  </thead>\n",
       "  <tbody>\n",
       "    <tr>\n",
       "      <th>1300</th>\n",
       "      <td>2022-11-14</td>\n",
       "      <td>123.5788</td>\n",
       "    </tr>\n",
       "    <tr>\n",
       "      <th>1301</th>\n",
       "      <td>2022-11-15</td>\n",
       "      <td>123.1759</td>\n",
       "    </tr>\n",
       "    <tr>\n",
       "      <th>1302</th>\n",
       "      <td>2022-11-16</td>\n",
       "      <td>123.4178</td>\n",
       "    </tr>\n",
       "    <tr>\n",
       "      <th>1303</th>\n",
       "      <td>2022-11-17</td>\n",
       "      <td>124.1229</td>\n",
       "    </tr>\n",
       "    <tr>\n",
       "      <th>1304</th>\n",
       "      <td>2022-11-18</td>\n",
       "      <td>123.9828</td>\n",
       "    </tr>\n",
       "  </tbody>\n",
       "</table>\n",
       "</div>"
      ],
      "text/plain": [
       "           Date       USD\n",
       "1300 2022-11-14  123.5788\n",
       "1301 2022-11-15  123.1759\n",
       "1302 2022-11-16  123.4178\n",
       "1303 2022-11-17  124.1229\n",
       "1304 2022-11-18  123.9828"
      ]
     },
     "execution_count": 44,
     "metadata": {},
     "output_type": "execute_result"
    }
   ],
   "source": [
    "dollar.tail()"
   ]
  },
  {
   "cell_type": "markdown",
   "id": "66651af6",
   "metadata": {},
   "source": [
    "### PPI "
   ]
  },
  {
   "cell_type": "markdown",
   "id": "fca54a01",
   "metadata": {},
   "source": [
    "The final dataset is the producer price index for goods, excluding seafood. We will change the \"WPU02850113\" column to \"PPI\" and convert the date column to datetime. "
   ]
  },
  {
   "cell_type": "code",
   "execution_count": 45,
   "id": "9e19b701",
   "metadata": {},
   "outputs": [
    {
     "name": "stdout",
     "output_type": "stream",
     "text": [
      "<class 'pandas.core.frame.DataFrame'>\n",
      "RangeIndex: 479 entries, 0 to 478\n",
      "Data columns (total 2 columns):\n",
      " #   Column       Non-Null Count  Dtype  \n",
      "---  ------       --------------  -----  \n",
      " 0   DATE         479 non-null    object \n",
      " 1   WPU02850113  479 non-null    float64\n",
      "dtypes: float64(1), object(1)\n",
      "memory usage: 7.6+ KB\n"
     ]
    }
   ],
   "source": [
    "ppi.info()"
   ]
  },
  {
   "cell_type": "code",
   "execution_count": 46,
   "id": "a22f792a",
   "metadata": {},
   "outputs": [
    {
     "data": {
      "text/plain": [
       "DATE           0\n",
       "WPU02850113    0\n",
       "dtype: int64"
      ]
     },
     "execution_count": 46,
     "metadata": {},
     "output_type": "execute_result"
    }
   ],
   "source": [
    "ppi.isna().sum()"
   ]
  },
  {
   "cell_type": "code",
   "execution_count": 47,
   "id": "2e2262cb",
   "metadata": {},
   "outputs": [],
   "source": [
    "ppi = ppi.rename(columns={\"DATE\":\"Date\", \"WPU02850113\":\"PPI\"})"
   ]
  },
  {
   "cell_type": "code",
   "execution_count": 48,
   "id": "2866d95d",
   "metadata": {},
   "outputs": [],
   "source": [
    "ppi['Date'] = pd.to_datetime(ppi['Date'],infer_datetime_format=True)"
   ]
  },
  {
   "cell_type": "code",
   "execution_count": 49,
   "id": "2c9c5fa5",
   "metadata": {},
   "outputs": [
    {
     "data": {
      "text/html": [
       "<div>\n",
       "<style scoped>\n",
       "    .dataframe tbody tr th:only-of-type {\n",
       "        vertical-align: middle;\n",
       "    }\n",
       "\n",
       "    .dataframe tbody tr th {\n",
       "        vertical-align: top;\n",
       "    }\n",
       "\n",
       "    .dataframe thead th {\n",
       "        text-align: right;\n",
       "    }\n",
       "</style>\n",
       "<table border=\"1\" class=\"dataframe\">\n",
       "  <thead>\n",
       "    <tr style=\"text-align: right;\">\n",
       "      <th></th>\n",
       "      <th>Date</th>\n",
       "      <th>PPI</th>\n",
       "    </tr>\n",
       "  </thead>\n",
       "  <tbody>\n",
       "    <tr>\n",
       "      <th>0</th>\n",
       "      <td>1982-12-01</td>\n",
       "      <td>100.000</td>\n",
       "    </tr>\n",
       "    <tr>\n",
       "      <th>1</th>\n",
       "      <td>1983-01-01</td>\n",
       "      <td>99.700</td>\n",
       "    </tr>\n",
       "    <tr>\n",
       "      <th>2</th>\n",
       "      <td>1983-02-01</td>\n",
       "      <td>100.400</td>\n",
       "    </tr>\n",
       "    <tr>\n",
       "      <th>3</th>\n",
       "      <td>1983-03-01</td>\n",
       "      <td>101.500</td>\n",
       "    </tr>\n",
       "    <tr>\n",
       "      <th>4</th>\n",
       "      <td>1983-04-01</td>\n",
       "      <td>102.200</td>\n",
       "    </tr>\n",
       "    <tr>\n",
       "      <th>...</th>\n",
       "      <td>...</td>\n",
       "      <td>...</td>\n",
       "    </tr>\n",
       "    <tr>\n",
       "      <th>474</th>\n",
       "      <td>2022-06-01</td>\n",
       "      <td>269.192</td>\n",
       "    </tr>\n",
       "    <tr>\n",
       "      <th>475</th>\n",
       "      <td>2022-07-01</td>\n",
       "      <td>269.265</td>\n",
       "    </tr>\n",
       "    <tr>\n",
       "      <th>476</th>\n",
       "      <td>2022-08-01</td>\n",
       "      <td>269.651</td>\n",
       "    </tr>\n",
       "    <tr>\n",
       "      <th>477</th>\n",
       "      <td>2022-09-01</td>\n",
       "      <td>276.928</td>\n",
       "    </tr>\n",
       "    <tr>\n",
       "      <th>478</th>\n",
       "      <td>2022-10-01</td>\n",
       "      <td>276.928</td>\n",
       "    </tr>\n",
       "  </tbody>\n",
       "</table>\n",
       "<p>479 rows × 2 columns</p>\n",
       "</div>"
      ],
      "text/plain": [
       "          Date      PPI\n",
       "0   1982-12-01  100.000\n",
       "1   1983-01-01   99.700\n",
       "2   1983-02-01  100.400\n",
       "3   1983-03-01  101.500\n",
       "4   1983-04-01  102.200\n",
       "..         ...      ...\n",
       "474 2022-06-01  269.192\n",
       "475 2022-07-01  269.265\n",
       "476 2022-08-01  269.651\n",
       "477 2022-09-01  276.928\n",
       "478 2022-10-01  276.928\n",
       "\n",
       "[479 rows x 2 columns]"
      ]
     },
     "execution_count": 49,
     "metadata": {},
     "output_type": "execute_result"
    }
   ],
   "source": [
    "ppi"
   ]
  },
  {
   "cell_type": "code",
   "execution_count": 50,
   "id": "387f9512",
   "metadata": {},
   "outputs": [
    {
     "data": {
      "text/html": [
       "<div>\n",
       "<style scoped>\n",
       "    .dataframe tbody tr th:only-of-type {\n",
       "        vertical-align: middle;\n",
       "    }\n",
       "\n",
       "    .dataframe tbody tr th {\n",
       "        vertical-align: top;\n",
       "    }\n",
       "\n",
       "    .dataframe thead th {\n",
       "        text-align: right;\n",
       "    }\n",
       "</style>\n",
       "<table border=\"1\" class=\"dataframe\">\n",
       "  <thead>\n",
       "    <tr style=\"text-align: right;\">\n",
       "      <th></th>\n",
       "      <th>PPI</th>\n",
       "    </tr>\n",
       "    <tr>\n",
       "      <th>Date</th>\n",
       "      <th></th>\n",
       "    </tr>\n",
       "  </thead>\n",
       "  <tbody>\n",
       "    <tr>\n",
       "      <th>1982-12-01</th>\n",
       "      <td>100.000</td>\n",
       "    </tr>\n",
       "    <tr>\n",
       "      <th>1982-12-02</th>\n",
       "      <td>100.000</td>\n",
       "    </tr>\n",
       "    <tr>\n",
       "      <th>1982-12-03</th>\n",
       "      <td>100.000</td>\n",
       "    </tr>\n",
       "    <tr>\n",
       "      <th>1982-12-04</th>\n",
       "      <td>100.000</td>\n",
       "    </tr>\n",
       "    <tr>\n",
       "      <th>1982-12-05</th>\n",
       "      <td>100.000</td>\n",
       "    </tr>\n",
       "    <tr>\n",
       "      <th>...</th>\n",
       "      <td>...</td>\n",
       "    </tr>\n",
       "    <tr>\n",
       "      <th>2022-09-27</th>\n",
       "      <td>276.928</td>\n",
       "    </tr>\n",
       "    <tr>\n",
       "      <th>2022-09-28</th>\n",
       "      <td>276.928</td>\n",
       "    </tr>\n",
       "    <tr>\n",
       "      <th>2022-09-29</th>\n",
       "      <td>276.928</td>\n",
       "    </tr>\n",
       "    <tr>\n",
       "      <th>2022-09-30</th>\n",
       "      <td>276.928</td>\n",
       "    </tr>\n",
       "    <tr>\n",
       "      <th>2022-10-01</th>\n",
       "      <td>276.928</td>\n",
       "    </tr>\n",
       "  </tbody>\n",
       "</table>\n",
       "<p>14550 rows × 1 columns</p>\n",
       "</div>"
      ],
      "text/plain": [
       "                PPI\n",
       "Date               \n",
       "1982-12-01  100.000\n",
       "1982-12-02  100.000\n",
       "1982-12-03  100.000\n",
       "1982-12-04  100.000\n",
       "1982-12-05  100.000\n",
       "...             ...\n",
       "2022-09-27  276.928\n",
       "2022-09-28  276.928\n",
       "2022-09-29  276.928\n",
       "2022-09-30  276.928\n",
       "2022-10-01  276.928\n",
       "\n",
       "[14550 rows x 1 columns]"
      ]
     },
     "execution_count": 50,
     "metadata": {},
     "output_type": "execute_result"
    }
   ],
   "source": [
    "ppi['Date'] = pd.to_datetime(ppi.Date, format='%d/%m/%Y')\n",
    "ppi.set_index('Date').resample('D').ffill()"
   ]
  },
  {
   "cell_type": "code",
   "execution_count": 51,
   "id": "be3258bd",
   "metadata": {},
   "outputs": [],
   "source": [
    "# ppi=ppi[ppi['Date'] >= '2019-01-1']"
   ]
  },
  {
   "cell_type": "code",
   "execution_count": 52,
   "id": "436c9e38",
   "metadata": {},
   "outputs": [
    {
     "data": {
      "text/html": [
       "<div>\n",
       "<style scoped>\n",
       "    .dataframe tbody tr th:only-of-type {\n",
       "        vertical-align: middle;\n",
       "    }\n",
       "\n",
       "    .dataframe tbody tr th {\n",
       "        vertical-align: top;\n",
       "    }\n",
       "\n",
       "    .dataframe thead th {\n",
       "        text-align: right;\n",
       "    }\n",
       "</style>\n",
       "<table border=\"1\" class=\"dataframe\">\n",
       "  <thead>\n",
       "    <tr style=\"text-align: right;\">\n",
       "      <th></th>\n",
       "      <th>Date</th>\n",
       "      <th>PPI</th>\n",
       "    </tr>\n",
       "  </thead>\n",
       "  <tbody>\n",
       "    <tr>\n",
       "      <th>0</th>\n",
       "      <td>1982-12-01</td>\n",
       "      <td>100.0</td>\n",
       "    </tr>\n",
       "    <tr>\n",
       "      <th>1</th>\n",
       "      <td>1983-01-01</td>\n",
       "      <td>99.7</td>\n",
       "    </tr>\n",
       "    <tr>\n",
       "      <th>2</th>\n",
       "      <td>1983-02-01</td>\n",
       "      <td>100.4</td>\n",
       "    </tr>\n",
       "    <tr>\n",
       "      <th>3</th>\n",
       "      <td>1983-03-01</td>\n",
       "      <td>101.5</td>\n",
       "    </tr>\n",
       "    <tr>\n",
       "      <th>4</th>\n",
       "      <td>1983-04-01</td>\n",
       "      <td>102.2</td>\n",
       "    </tr>\n",
       "  </tbody>\n",
       "</table>\n",
       "</div>"
      ],
      "text/plain": [
       "        Date    PPI\n",
       "0 1982-12-01  100.0\n",
       "1 1983-01-01   99.7\n",
       "2 1983-02-01  100.4\n",
       "3 1983-03-01  101.5\n",
       "4 1983-04-01  102.2"
      ]
     },
     "execution_count": 52,
     "metadata": {},
     "output_type": "execute_result"
    }
   ],
   "source": [
    "ppi.head()"
   ]
  },
  {
   "cell_type": "markdown",
   "id": "33b92a82",
   "metadata": {},
   "source": [
    "## Merge datasets"
   ]
  },
  {
   "cell_type": "markdown",
   "id": "773ef2c3",
   "metadata": {},
   "source": [
    "Below we will merge all datasets above, excluding df1, together. "
   ]
  },
  {
   "cell_type": "code",
   "execution_count": 53,
   "id": "5cdd19d8",
   "metadata": {},
   "outputs": [],
   "source": [
    "df4 = pd.merge(df2,df3, on='Date', how='outer')"
   ]
  },
  {
   "cell_type": "code",
   "execution_count": 54,
   "id": "e1dfb667",
   "metadata": {
    "scrolled": true
   },
   "outputs": [],
   "source": [
    "df4 = pd.merge(df4, dfg, on='Date')"
   ]
  },
  {
   "cell_type": "code",
   "execution_count": 55,
   "id": "71645309",
   "metadata": {},
   "outputs": [],
   "source": [
    "df4 = pd.merge(df4, deth, on='Date')"
   ]
  },
  {
   "cell_type": "code",
   "execution_count": 56,
   "id": "f49ad812",
   "metadata": {},
   "outputs": [],
   "source": [
    "df4 = pd.merge(df4, dollar, on='Date')"
   ]
  },
  {
   "cell_type": "code",
   "execution_count": 57,
   "id": "a9a9c30d",
   "metadata": {},
   "outputs": [],
   "source": [
    "df4 = pd.merge(df4, ppi, on='Date')"
   ]
  },
  {
   "cell_type": "code",
   "execution_count": 58,
   "id": "0df60467",
   "metadata": {},
   "outputs": [
    {
     "data": {
      "text/html": [
       "<div>\n",
       "<style scoped>\n",
       "    .dataframe tbody tr th:only-of-type {\n",
       "        vertical-align: middle;\n",
       "    }\n",
       "\n",
       "    .dataframe tbody tr th {\n",
       "        vertical-align: top;\n",
       "    }\n",
       "\n",
       "    .dataframe thead th {\n",
       "        text-align: right;\n",
       "    }\n",
       "</style>\n",
       "<table border=\"1\" class=\"dataframe\">\n",
       "  <thead>\n",
       "    <tr style=\"text-align: right;\">\n",
       "      <th></th>\n",
       "      <th>Date</th>\n",
       "      <th>SPClose</th>\n",
       "      <th>Symbol_y</th>\n",
       "      <th>Close</th>\n",
       "      <th>Gold</th>\n",
       "      <th>Ether</th>\n",
       "      <th>USD</th>\n",
       "      <th>PPI</th>\n",
       "    </tr>\n",
       "  </thead>\n",
       "  <tbody>\n",
       "    <tr>\n",
       "      <th>0</th>\n",
       "      <td>2017-12-01</td>\n",
       "      <td>2642.22</td>\n",
       "      <td>KO</td>\n",
       "      <td>45.970001</td>\n",
       "      <td>1275.5</td>\n",
       "      <td>463.82</td>\n",
       "      <td>110.1432</td>\n",
       "      <td>186.000</td>\n",
       "    </tr>\n",
       "    <tr>\n",
       "      <th>1</th>\n",
       "      <td>2017-12-01</td>\n",
       "      <td>2642.22</td>\n",
       "      <td>COST</td>\n",
       "      <td>185.130005</td>\n",
       "      <td>1275.5</td>\n",
       "      <td>463.82</td>\n",
       "      <td>110.1432</td>\n",
       "      <td>186.000</td>\n",
       "    </tr>\n",
       "    <tr>\n",
       "      <th>2</th>\n",
       "      <td>2017-12-01</td>\n",
       "      <td>2642.22</td>\n",
       "      <td>PEP</td>\n",
       "      <td>116.779999</td>\n",
       "      <td>1275.5</td>\n",
       "      <td>463.82</td>\n",
       "      <td>110.1432</td>\n",
       "      <td>186.000</td>\n",
       "    </tr>\n",
       "    <tr>\n",
       "      <th>3</th>\n",
       "      <td>2017-12-01</td>\n",
       "      <td>2642.22</td>\n",
       "      <td>PG</td>\n",
       "      <td>90.360001</td>\n",
       "      <td>1275.5</td>\n",
       "      <td>463.82</td>\n",
       "      <td>110.1432</td>\n",
       "      <td>186.000</td>\n",
       "    </tr>\n",
       "    <tr>\n",
       "      <th>4</th>\n",
       "      <td>2017-12-01</td>\n",
       "      <td>2642.22</td>\n",
       "      <td>WMT</td>\n",
       "      <td>97.349998</td>\n",
       "      <td>1275.5</td>\n",
       "      <td>463.82</td>\n",
       "      <td>110.1432</td>\n",
       "      <td>186.000</td>\n",
       "    </tr>\n",
       "    <tr>\n",
       "      <th>...</th>\n",
       "      <td>...</td>\n",
       "      <td>...</td>\n",
       "      <td>...</td>\n",
       "      <td>...</td>\n",
       "      <td>...</td>\n",
       "      <td>...</td>\n",
       "      <td>...</td>\n",
       "      <td>...</td>\n",
       "    </tr>\n",
       "    <tr>\n",
       "      <th>185</th>\n",
       "      <td>2022-08-01</td>\n",
       "      <td>4118.63</td>\n",
       "      <td>KO</td>\n",
       "      <td>64.519997</td>\n",
       "      <td>1772.4</td>\n",
       "      <td>1629.76</td>\n",
       "      <td>121.5001</td>\n",
       "      <td>269.651</td>\n",
       "    </tr>\n",
       "    <tr>\n",
       "      <th>186</th>\n",
       "      <td>2022-08-01</td>\n",
       "      <td>4118.63</td>\n",
       "      <td>COST</td>\n",
       "      <td>546.809998</td>\n",
       "      <td>1772.4</td>\n",
       "      <td>1629.76</td>\n",
       "      <td>121.5001</td>\n",
       "      <td>269.651</td>\n",
       "    </tr>\n",
       "    <tr>\n",
       "      <th>187</th>\n",
       "      <td>2022-08-01</td>\n",
       "      <td>4118.63</td>\n",
       "      <td>PEP</td>\n",
       "      <td>176.949997</td>\n",
       "      <td>1772.4</td>\n",
       "      <td>1629.76</td>\n",
       "      <td>121.5001</td>\n",
       "      <td>269.651</td>\n",
       "    </tr>\n",
       "    <tr>\n",
       "      <th>188</th>\n",
       "      <td>2022-08-01</td>\n",
       "      <td>4118.63</td>\n",
       "      <td>PG</td>\n",
       "      <td>142.899994</td>\n",
       "      <td>1772.4</td>\n",
       "      <td>1629.76</td>\n",
       "      <td>121.5001</td>\n",
       "      <td>269.651</td>\n",
       "    </tr>\n",
       "    <tr>\n",
       "      <th>189</th>\n",
       "      <td>2022-08-01</td>\n",
       "      <td>4118.63</td>\n",
       "      <td>WMT</td>\n",
       "      <td>132.539993</td>\n",
       "      <td>1772.4</td>\n",
       "      <td>1629.76</td>\n",
       "      <td>121.5001</td>\n",
       "      <td>269.651</td>\n",
       "    </tr>\n",
       "  </tbody>\n",
       "</table>\n",
       "<p>190 rows × 8 columns</p>\n",
       "</div>"
      ],
      "text/plain": [
       "          Date  SPClose Symbol_y       Close    Gold    Ether       USD  \\\n",
       "0   2017-12-01  2642.22       KO   45.970001  1275.5   463.82  110.1432   \n",
       "1   2017-12-01  2642.22     COST  185.130005  1275.5   463.82  110.1432   \n",
       "2   2017-12-01  2642.22      PEP  116.779999  1275.5   463.82  110.1432   \n",
       "3   2017-12-01  2642.22       PG   90.360001  1275.5   463.82  110.1432   \n",
       "4   2017-12-01  2642.22      WMT   97.349998  1275.5   463.82  110.1432   \n",
       "..         ...      ...      ...         ...     ...      ...       ...   \n",
       "185 2022-08-01  4118.63       KO   64.519997  1772.4  1629.76  121.5001   \n",
       "186 2022-08-01  4118.63     COST  546.809998  1772.4  1629.76  121.5001   \n",
       "187 2022-08-01  4118.63      PEP  176.949997  1772.4  1629.76  121.5001   \n",
       "188 2022-08-01  4118.63       PG  142.899994  1772.4  1629.76  121.5001   \n",
       "189 2022-08-01  4118.63      WMT  132.539993  1772.4  1629.76  121.5001   \n",
       "\n",
       "         PPI  \n",
       "0    186.000  \n",
       "1    186.000  \n",
       "2    186.000  \n",
       "3    186.000  \n",
       "4    186.000  \n",
       "..       ...  \n",
       "185  269.651  \n",
       "186  269.651  \n",
       "187  269.651  \n",
       "188  269.651  \n",
       "189  269.651  \n",
       "\n",
       "[190 rows x 8 columns]"
      ]
     },
     "execution_count": 58,
     "metadata": {},
     "output_type": "execute_result"
    }
   ],
   "source": [
    "df4.drop('Symbol_x', axis=1)"
   ]
  },
  {
   "cell_type": "code",
   "execution_count": 59,
   "id": "f97af627",
   "metadata": {},
   "outputs": [],
   "source": [
    "df4 = df4.rename(columns={'Symbol_y': 'Symbol'})"
   ]
  },
  {
   "cell_type": "code",
   "execution_count": 60,
   "id": "c13ea833",
   "metadata": {},
   "outputs": [],
   "source": [
    "df4 = df4[['Date', 'Symbol', 'Close', 'SPClose','Gold','Ether','USD','PPI']]"
   ]
  },
  {
   "cell_type": "code",
   "execution_count": 61,
   "id": "f7de3902",
   "metadata": {},
   "outputs": [
    {
     "data": {
      "text/html": [
       "<div>\n",
       "<style scoped>\n",
       "    .dataframe tbody tr th:only-of-type {\n",
       "        vertical-align: middle;\n",
       "    }\n",
       "\n",
       "    .dataframe tbody tr th {\n",
       "        vertical-align: top;\n",
       "    }\n",
       "\n",
       "    .dataframe thead th {\n",
       "        text-align: right;\n",
       "    }\n",
       "</style>\n",
       "<table border=\"1\" class=\"dataframe\">\n",
       "  <thead>\n",
       "    <tr style=\"text-align: right;\">\n",
       "      <th></th>\n",
       "      <th>Date</th>\n",
       "      <th>Symbol</th>\n",
       "      <th>Close</th>\n",
       "      <th>SPClose</th>\n",
       "      <th>Gold</th>\n",
       "      <th>Ether</th>\n",
       "      <th>USD</th>\n",
       "      <th>PPI</th>\n",
       "    </tr>\n",
       "  </thead>\n",
       "  <tbody>\n",
       "    <tr>\n",
       "      <th>0</th>\n",
       "      <td>2017-12-01</td>\n",
       "      <td>KO</td>\n",
       "      <td>45.970001</td>\n",
       "      <td>2642.22</td>\n",
       "      <td>1275.50</td>\n",
       "      <td>463.82</td>\n",
       "      <td>110.1432</td>\n",
       "      <td>186.0</td>\n",
       "    </tr>\n",
       "    <tr>\n",
       "      <th>1</th>\n",
       "      <td>2017-12-01</td>\n",
       "      <td>COST</td>\n",
       "      <td>185.130005</td>\n",
       "      <td>2642.22</td>\n",
       "      <td>1275.50</td>\n",
       "      <td>463.82</td>\n",
       "      <td>110.1432</td>\n",
       "      <td>186.0</td>\n",
       "    </tr>\n",
       "    <tr>\n",
       "      <th>2</th>\n",
       "      <td>2017-12-01</td>\n",
       "      <td>PEP</td>\n",
       "      <td>116.779999</td>\n",
       "      <td>2642.22</td>\n",
       "      <td>1275.50</td>\n",
       "      <td>463.82</td>\n",
       "      <td>110.1432</td>\n",
       "      <td>186.0</td>\n",
       "    </tr>\n",
       "    <tr>\n",
       "      <th>3</th>\n",
       "      <td>2017-12-01</td>\n",
       "      <td>PG</td>\n",
       "      <td>90.360001</td>\n",
       "      <td>2642.22</td>\n",
       "      <td>1275.50</td>\n",
       "      <td>463.82</td>\n",
       "      <td>110.1432</td>\n",
       "      <td>186.0</td>\n",
       "    </tr>\n",
       "    <tr>\n",
       "      <th>4</th>\n",
       "      <td>2017-12-01</td>\n",
       "      <td>WMT</td>\n",
       "      <td>97.349998</td>\n",
       "      <td>2642.22</td>\n",
       "      <td>1275.50</td>\n",
       "      <td>463.82</td>\n",
       "      <td>110.1432</td>\n",
       "      <td>186.0</td>\n",
       "    </tr>\n",
       "    <tr>\n",
       "      <th>5</th>\n",
       "      <td>2018-02-01</td>\n",
       "      <td>KO</td>\n",
       "      <td>47.450001</td>\n",
       "      <td>2821.98</td>\n",
       "      <td>1341.35</td>\n",
       "      <td>1017.48</td>\n",
       "      <td>106.4903</td>\n",
       "      <td>186.2</td>\n",
       "    </tr>\n",
       "    <tr>\n",
       "      <th>6</th>\n",
       "      <td>2018-02-01</td>\n",
       "      <td>COST</td>\n",
       "      <td>193.470001</td>\n",
       "      <td>2821.98</td>\n",
       "      <td>1341.35</td>\n",
       "      <td>1017.48</td>\n",
       "      <td>106.4903</td>\n",
       "      <td>186.2</td>\n",
       "    </tr>\n",
       "    <tr>\n",
       "      <th>7</th>\n",
       "      <td>2018-02-01</td>\n",
       "      <td>PEP</td>\n",
       "      <td>120.300003</td>\n",
       "      <td>2821.98</td>\n",
       "      <td>1341.35</td>\n",
       "      <td>1017.48</td>\n",
       "      <td>106.4903</td>\n",
       "      <td>186.2</td>\n",
       "    </tr>\n",
       "    <tr>\n",
       "      <th>8</th>\n",
       "      <td>2018-02-01</td>\n",
       "      <td>PG</td>\n",
       "      <td>85.849998</td>\n",
       "      <td>2821.98</td>\n",
       "      <td>1341.35</td>\n",
       "      <td>1017.48</td>\n",
       "      <td>106.4903</td>\n",
       "      <td>186.2</td>\n",
       "    </tr>\n",
       "    <tr>\n",
       "      <th>9</th>\n",
       "      <td>2018-02-01</td>\n",
       "      <td>WMT</td>\n",
       "      <td>105.519997</td>\n",
       "      <td>2821.98</td>\n",
       "      <td>1341.35</td>\n",
       "      <td>1017.48</td>\n",
       "      <td>106.4903</td>\n",
       "      <td>186.2</td>\n",
       "    </tr>\n",
       "    <tr>\n",
       "      <th>10</th>\n",
       "      <td>2018-03-01</td>\n",
       "      <td>KO</td>\n",
       "      <td>43.430000</td>\n",
       "      <td>2677.67</td>\n",
       "      <td>1307.75</td>\n",
       "      <td>868.74</td>\n",
       "      <td>108.5384</td>\n",
       "      <td>186.3</td>\n",
       "    </tr>\n",
       "    <tr>\n",
       "      <th>11</th>\n",
       "      <td>2018-03-01</td>\n",
       "      <td>COST</td>\n",
       "      <td>189.029999</td>\n",
       "      <td>2677.67</td>\n",
       "      <td>1307.75</td>\n",
       "      <td>868.74</td>\n",
       "      <td>108.5384</td>\n",
       "      <td>186.3</td>\n",
       "    </tr>\n",
       "    <tr>\n",
       "      <th>12</th>\n",
       "      <td>2018-03-01</td>\n",
       "      <td>PEP</td>\n",
       "      <td>108.120003</td>\n",
       "      <td>2677.67</td>\n",
       "      <td>1307.75</td>\n",
       "      <td>868.74</td>\n",
       "      <td>108.5384</td>\n",
       "      <td>186.3</td>\n",
       "    </tr>\n",
       "    <tr>\n",
       "      <th>13</th>\n",
       "      <td>2018-03-01</td>\n",
       "      <td>PG</td>\n",
       "      <td>78.699997</td>\n",
       "      <td>2677.67</td>\n",
       "      <td>1307.75</td>\n",
       "      <td>868.74</td>\n",
       "      <td>108.5384</td>\n",
       "      <td>186.3</td>\n",
       "    </tr>\n",
       "    <tr>\n",
       "      <th>14</th>\n",
       "      <td>2018-03-01</td>\n",
       "      <td>WMT</td>\n",
       "      <td>89.080002</td>\n",
       "      <td>2677.67</td>\n",
       "      <td>1307.75</td>\n",
       "      <td>868.74</td>\n",
       "      <td>108.5384</td>\n",
       "      <td>186.3</td>\n",
       "    </tr>\n",
       "    <tr>\n",
       "      <th>15</th>\n",
       "      <td>2018-05-01</td>\n",
       "      <td>KO</td>\n",
       "      <td>42.590000</td>\n",
       "      <td>2654.80</td>\n",
       "      <td>1307.10</td>\n",
       "      <td>670.75</td>\n",
       "      <td>109.7461</td>\n",
       "      <td>186.5</td>\n",
       "    </tr>\n",
       "    <tr>\n",
       "      <th>16</th>\n",
       "      <td>2018-05-01</td>\n",
       "      <td>COST</td>\n",
       "      <td>196.550003</td>\n",
       "      <td>2654.80</td>\n",
       "      <td>1307.10</td>\n",
       "      <td>670.75</td>\n",
       "      <td>109.7461</td>\n",
       "      <td>186.5</td>\n",
       "    </tr>\n",
       "    <tr>\n",
       "      <th>17</th>\n",
       "      <td>2018-05-01</td>\n",
       "      <td>PEP</td>\n",
       "      <td>99.129997</td>\n",
       "      <td>2654.80</td>\n",
       "      <td>1307.10</td>\n",
       "      <td>670.75</td>\n",
       "      <td>109.7461</td>\n",
       "      <td>186.5</td>\n",
       "    </tr>\n",
       "    <tr>\n",
       "      <th>18</th>\n",
       "      <td>2018-05-01</td>\n",
       "      <td>PG</td>\n",
       "      <td>71.959999</td>\n",
       "      <td>2654.80</td>\n",
       "      <td>1307.10</td>\n",
       "      <td>670.75</td>\n",
       "      <td>109.7461</td>\n",
       "      <td>186.5</td>\n",
       "    </tr>\n",
       "    <tr>\n",
       "      <th>19</th>\n",
       "      <td>2018-05-01</td>\n",
       "      <td>WMT</td>\n",
       "      <td>87.410004</td>\n",
       "      <td>2654.80</td>\n",
       "      <td>1307.10</td>\n",
       "      <td>670.75</td>\n",
       "      <td>109.7461</td>\n",
       "      <td>186.5</td>\n",
       "    </tr>\n",
       "  </tbody>\n",
       "</table>\n",
       "</div>"
      ],
      "text/plain": [
       "         Date Symbol       Close  SPClose     Gold    Ether       USD    PPI\n",
       "0  2017-12-01     KO   45.970001  2642.22  1275.50   463.82  110.1432  186.0\n",
       "1  2017-12-01   COST  185.130005  2642.22  1275.50   463.82  110.1432  186.0\n",
       "2  2017-12-01    PEP  116.779999  2642.22  1275.50   463.82  110.1432  186.0\n",
       "3  2017-12-01     PG   90.360001  2642.22  1275.50   463.82  110.1432  186.0\n",
       "4  2017-12-01    WMT   97.349998  2642.22  1275.50   463.82  110.1432  186.0\n",
       "5  2018-02-01     KO   47.450001  2821.98  1341.35  1017.48  106.4903  186.2\n",
       "6  2018-02-01   COST  193.470001  2821.98  1341.35  1017.48  106.4903  186.2\n",
       "7  2018-02-01    PEP  120.300003  2821.98  1341.35  1017.48  106.4903  186.2\n",
       "8  2018-02-01     PG   85.849998  2821.98  1341.35  1017.48  106.4903  186.2\n",
       "9  2018-02-01    WMT  105.519997  2821.98  1341.35  1017.48  106.4903  186.2\n",
       "10 2018-03-01     KO   43.430000  2677.67  1307.75   868.74  108.5384  186.3\n",
       "11 2018-03-01   COST  189.029999  2677.67  1307.75   868.74  108.5384  186.3\n",
       "12 2018-03-01    PEP  108.120003  2677.67  1307.75   868.74  108.5384  186.3\n",
       "13 2018-03-01     PG   78.699997  2677.67  1307.75   868.74  108.5384  186.3\n",
       "14 2018-03-01    WMT   89.080002  2677.67  1307.75   868.74  108.5384  186.3\n",
       "15 2018-05-01     KO   42.590000  2654.80  1307.10   670.75  109.7461  186.5\n",
       "16 2018-05-01   COST  196.550003  2654.80  1307.10   670.75  109.7461  186.5\n",
       "17 2018-05-01    PEP   99.129997  2654.80  1307.10   670.75  109.7461  186.5\n",
       "18 2018-05-01     PG   71.959999  2654.80  1307.10   670.75  109.7461  186.5\n",
       "19 2018-05-01    WMT   87.410004  2654.80  1307.10   670.75  109.7461  186.5"
      ]
     },
     "execution_count": 61,
     "metadata": {},
     "output_type": "execute_result"
    }
   ],
   "source": [
    "df4.head(20)"
   ]
  },
  {
   "cell_type": "code",
   "execution_count": 62,
   "id": "b1b24d1b",
   "metadata": {},
   "outputs": [],
   "source": [
    "df4['USD']=df4['USD'].astype(float)"
   ]
  },
  {
   "cell_type": "code",
   "execution_count": 63,
   "id": "e139456f",
   "metadata": {},
   "outputs": [],
   "source": [
    "df4['Ether']=df4['Ether'].astype(float)"
   ]
  },
  {
   "cell_type": "code",
   "execution_count": 64,
   "id": "42207b9b",
   "metadata": {},
   "outputs": [
    {
     "name": "stdout",
     "output_type": "stream",
     "text": [
      "<class 'pandas.core.frame.DataFrame'>\n",
      "Int64Index: 190 entries, 0 to 189\n",
      "Data columns (total 8 columns):\n",
      " #   Column   Non-Null Count  Dtype         \n",
      "---  ------   --------------  -----         \n",
      " 0   Date     190 non-null    datetime64[ns]\n",
      " 1   Symbol   190 non-null    object        \n",
      " 2   Close    190 non-null    float64       \n",
      " 3   SPClose  190 non-null    float64       \n",
      " 4   Gold     190 non-null    float64       \n",
      " 5   Ether    190 non-null    float64       \n",
      " 6   USD      190 non-null    float64       \n",
      " 7   PPI      190 non-null    float64       \n",
      "dtypes: datetime64[ns](1), float64(6), object(1)\n",
      "memory usage: 13.4+ KB\n"
     ]
    }
   ],
   "source": [
    "df4.info()"
   ]
  },
  {
   "cell_type": "markdown",
   "id": "63ed054c",
   "metadata": {},
   "source": [
    "## EDA"
   ]
  },
  {
   "cell_type": "markdown",
   "id": "82bf084b",
   "metadata": {},
   "source": [
    "Here we begin exploratory data analysis (EDA) before we begin time series modeling. We will explore WMT, KO, and PG by separating those stocks into their own respective groups. "
   ]
  },
  {
   "cell_type": "code",
   "execution_count": 65,
   "id": "5494d365",
   "metadata": {},
   "outputs": [],
   "source": [
    "symbol_groups = df4.groupby(by='Symbol')"
   ]
  },
  {
   "cell_type": "code",
   "execution_count": 66,
   "id": "186598fa",
   "metadata": {},
   "outputs": [],
   "source": [
    "COST = symbol_groups.get_group('COST')\n",
    "WMT = symbol_groups.get_group('WMT')\n",
    "KO = symbol_groups.get_group('KO')\n",
    "PG = symbol_groups.get_group('PG')\n",
    "PEP = symbol_groups.get_group('PEP')"
   ]
  },
  {
   "cell_type": "markdown",
   "id": "d0e70938",
   "metadata": {},
   "source": [
    "### WMT EDA"
   ]
  },
  {
   "cell_type": "markdown",
   "id": "9b3f8749",
   "metadata": {},
   "source": [
    "Examining the correlation table below we can see that the close price of WMT is nearly 1:1 with Gold."
   ]
  },
  {
   "cell_type": "code",
   "execution_count": 67,
   "id": "7141b392",
   "metadata": {},
   "outputs": [
    {
     "data": {
      "text/html": [
       "<div>\n",
       "<style scoped>\n",
       "    .dataframe tbody tr th:only-of-type {\n",
       "        vertical-align: middle;\n",
       "    }\n",
       "\n",
       "    .dataframe tbody tr th {\n",
       "        vertical-align: top;\n",
       "    }\n",
       "\n",
       "    .dataframe thead th {\n",
       "        text-align: right;\n",
       "    }\n",
       "</style>\n",
       "<table border=\"1\" class=\"dataframe\">\n",
       "  <thead>\n",
       "    <tr style=\"text-align: right;\">\n",
       "      <th></th>\n",
       "      <th>Close</th>\n",
       "      <th>SPClose</th>\n",
       "      <th>Gold</th>\n",
       "      <th>Ether</th>\n",
       "      <th>USD</th>\n",
       "      <th>PPI</th>\n",
       "    </tr>\n",
       "  </thead>\n",
       "  <tbody>\n",
       "    <tr>\n",
       "      <th>Close</th>\n",
       "      <td>1.000000</td>\n",
       "      <td>0.837826</td>\n",
       "      <td>0.932504</td>\n",
       "      <td>0.640993</td>\n",
       "      <td>0.218195</td>\n",
       "      <td>0.469566</td>\n",
       "    </tr>\n",
       "    <tr>\n",
       "      <th>SPClose</th>\n",
       "      <td>0.837826</td>\n",
       "      <td>1.000000</td>\n",
       "      <td>0.798416</td>\n",
       "      <td>0.891822</td>\n",
       "      <td>0.036834</td>\n",
       "      <td>0.657400</td>\n",
       "    </tr>\n",
       "    <tr>\n",
       "      <th>Gold</th>\n",
       "      <td>0.932504</td>\n",
       "      <td>0.798416</td>\n",
       "      <td>1.000000</td>\n",
       "      <td>0.588299</td>\n",
       "      <td>0.327380</td>\n",
       "      <td>0.568375</td>\n",
       "    </tr>\n",
       "    <tr>\n",
       "      <th>Ether</th>\n",
       "      <td>0.640993</td>\n",
       "      <td>0.891822</td>\n",
       "      <td>0.588299</td>\n",
       "      <td>1.000000</td>\n",
       "      <td>-0.136091</td>\n",
       "      <td>0.498839</td>\n",
       "    </tr>\n",
       "    <tr>\n",
       "      <th>USD</th>\n",
       "      <td>0.218195</td>\n",
       "      <td>0.036834</td>\n",
       "      <td>0.327380</td>\n",
       "      <td>-0.136091</td>\n",
       "      <td>1.000000</td>\n",
       "      <td>0.334263</td>\n",
       "    </tr>\n",
       "    <tr>\n",
       "      <th>PPI</th>\n",
       "      <td>0.469566</td>\n",
       "      <td>0.657400</td>\n",
       "      <td>0.568375</td>\n",
       "      <td>0.498839</td>\n",
       "      <td>0.334263</td>\n",
       "      <td>1.000000</td>\n",
       "    </tr>\n",
       "  </tbody>\n",
       "</table>\n",
       "</div>"
      ],
      "text/plain": [
       "            Close   SPClose      Gold     Ether       USD       PPI\n",
       "Close    1.000000  0.837826  0.932504  0.640993  0.218195  0.469566\n",
       "SPClose  0.837826  1.000000  0.798416  0.891822  0.036834  0.657400\n",
       "Gold     0.932504  0.798416  1.000000  0.588299  0.327380  0.568375\n",
       "Ether    0.640993  0.891822  0.588299  1.000000 -0.136091  0.498839\n",
       "USD      0.218195  0.036834  0.327380 -0.136091  1.000000  0.334263\n",
       "PPI      0.469566  0.657400  0.568375  0.498839  0.334263  1.000000"
      ]
     },
     "execution_count": 67,
     "metadata": {},
     "output_type": "execute_result"
    }
   ],
   "source": [
    "wmt_corr = WMT.corr()\n",
    "wmt_corr"
   ]
  },
  {
   "cell_type": "code",
   "execution_count": 68,
   "id": "ee02830c",
   "metadata": {},
   "outputs": [
    {
     "data": {
      "image/png": "[encoded data removed]",
      "text/plain": [
       "<Figure size 1080x720 with 2 Axes>"
      ]
     },
     "metadata": {},
     "output_type": "display_data"
    }
   ],
   "source": [
    "# Build heatmap\n",
    "\n",
    "# Set up figure and axis\n",
    "fig, ax = plt.subplots(figsize=(15, 10))\n",
    "\n",
    "sns.heatmap(WMT.corr(), \n",
    "            # Mask to show only half the values instead of showing duplicates\n",
    "            mask=np.triu(np.ones_like(wmt_corr, dtype=bool)),\n",
    "            # Specifies that we want values not just colors\n",
    "            annot = True,\n",
    "            linewidths = 10,\n",
    "            center=0);"
   ]
  },
  {
   "cell_type": "code",
   "execution_count": 69,
   "id": "e6b51b54",
   "metadata": {},
   "outputs": [
    {
     "data": {
      "text/plain": [
       "Text(0.5, 1.0, 'Time Series WMT')"
      ]
     },
     "execution_count": 69,
     "metadata": {},
     "output_type": "execute_result"
    },
    {
     "data": {
      "image/png": "[encoded data removed]",
      "text/plain": [
       "<Figure size 432x288 with 1 Axes>"
      ]
     },
     "metadata": {},
     "output_type": "display_data"
    }
   ],
   "source": [
    "WMT.plot(x='Date',y='Close')\n",
    "plt.title(\"Time Series WMT\")"
   ]
  },
  {
   "cell_type": "markdown",
   "id": "ca29223a",
   "metadata": {},
   "source": [
    "Above we can see what was expected with the close price of WMT, we can see the major dip that WMT experienced at the beginning of the pandemic when the market was struggling."
   ]
  },
  {
   "cell_type": "markdown",
   "id": "91de0579",
   "metadata": {},
   "source": [
    "### KO EDA "
   ]
  },
  {
   "cell_type": "markdown",
   "id": "48ccb3d3",
   "metadata": {},
   "source": [
    "Below we can see that the close price of KO is most correlated with the close price of the S&P500. "
   ]
  },
  {
   "cell_type": "code",
   "execution_count": 70,
   "id": "848b828e",
   "metadata": {},
   "outputs": [
    {
     "data": {
      "text/html": [
       "<div>\n",
       "<style scoped>\n",
       "    .dataframe tbody tr th:only-of-type {\n",
       "        vertical-align: middle;\n",
       "    }\n",
       "\n",
       "    .dataframe tbody tr th {\n",
       "        vertical-align: top;\n",
       "    }\n",
       "\n",
       "    .dataframe thead th {\n",
       "        text-align: right;\n",
       "    }\n",
       "</style>\n",
       "<table border=\"1\" class=\"dataframe\">\n",
       "  <thead>\n",
       "    <tr style=\"text-align: right;\">\n",
       "      <th></th>\n",
       "      <th>Close</th>\n",
       "      <th>SPClose</th>\n",
       "      <th>Gold</th>\n",
       "      <th>Ether</th>\n",
       "      <th>USD</th>\n",
       "      <th>PPI</th>\n",
       "    </tr>\n",
       "  </thead>\n",
       "  <tbody>\n",
       "    <tr>\n",
       "      <th>Close</th>\n",
       "      <td>1.000000</td>\n",
       "      <td>0.771784</td>\n",
       "      <td>0.601263</td>\n",
       "      <td>0.585042</td>\n",
       "      <td>0.256273</td>\n",
       "      <td>0.857674</td>\n",
       "    </tr>\n",
       "    <tr>\n",
       "      <th>SPClose</th>\n",
       "      <td>0.771784</td>\n",
       "      <td>1.000000</td>\n",
       "      <td>0.798416</td>\n",
       "      <td>0.891822</td>\n",
       "      <td>0.036834</td>\n",
       "      <td>0.657400</td>\n",
       "    </tr>\n",
       "    <tr>\n",
       "      <th>Gold</th>\n",
       "      <td>0.601263</td>\n",
       "      <td>0.798416</td>\n",
       "      <td>1.000000</td>\n",
       "      <td>0.588299</td>\n",
       "      <td>0.327380</td>\n",
       "      <td>0.568375</td>\n",
       "    </tr>\n",
       "    <tr>\n",
       "      <th>Ether</th>\n",
       "      <td>0.585042</td>\n",
       "      <td>0.891822</td>\n",
       "      <td>0.588299</td>\n",
       "      <td>1.000000</td>\n",
       "      <td>-0.136091</td>\n",
       "      <td>0.498839</td>\n",
       "    </tr>\n",
       "    <tr>\n",
       "      <th>USD</th>\n",
       "      <td>0.256273</td>\n",
       "      <td>0.036834</td>\n",
       "      <td>0.327380</td>\n",
       "      <td>-0.136091</td>\n",
       "      <td>1.000000</td>\n",
       "      <td>0.334263</td>\n",
       "    </tr>\n",
       "    <tr>\n",
       "      <th>PPI</th>\n",
       "      <td>0.857674</td>\n",
       "      <td>0.657400</td>\n",
       "      <td>0.568375</td>\n",
       "      <td>0.498839</td>\n",
       "      <td>0.334263</td>\n",
       "      <td>1.000000</td>\n",
       "    </tr>\n",
       "  </tbody>\n",
       "</table>\n",
       "</div>"
      ],
      "text/plain": [
       "            Close   SPClose      Gold     Ether       USD       PPI\n",
       "Close    1.000000  0.771784  0.601263  0.585042  0.256273  0.857674\n",
       "SPClose  0.771784  1.000000  0.798416  0.891822  0.036834  0.657400\n",
       "Gold     0.601263  0.798416  1.000000  0.588299  0.327380  0.568375\n",
       "Ether    0.585042  0.891822  0.588299  1.000000 -0.136091  0.498839\n",
       "USD      0.256273  0.036834  0.327380 -0.136091  1.000000  0.334263\n",
       "PPI      0.857674  0.657400  0.568375  0.498839  0.334263  1.000000"
      ]
     },
     "execution_count": 70,
     "metadata": {},
     "output_type": "execute_result"
    }
   ],
   "source": [
    "ko_corr = KO.corr()\n",
    "ko_corr"
   ]
  },
  {
   "cell_type": "code",
   "execution_count": 71,
   "id": "8cb34730",
   "metadata": {},
   "outputs": [
    {
     "data": {
      "image/png": "[encoded data removed]",
      "text/plain": [
       "<Figure size 1080x720 with 2 Axes>"
      ]
     },
     "metadata": {},
     "output_type": "display_data"
    }
   ],
   "source": [
    "# Build heatmap\n",
    "\n",
    "# Set up figure and axis\n",
    "fig, ax = plt.subplots(figsize=(15, 10))\n",
    "\n",
    "sns.heatmap(KO.corr(), \n",
    "            # Mask to show only half the values instead of showing duplicates\n",
    "            mask=np.triu(np.ones_like(ko_corr, dtype=bool)),\n",
    "            # Specifies that we want values not just colors\n",
    "            annot = True,\n",
    "            linewidths = 10,\n",
    "            center=0);"
   ]
  },
  {
   "cell_type": "code",
   "execution_count": 72,
   "id": "7e145e51",
   "metadata": {},
   "outputs": [
    {
     "data": {
      "text/plain": [
       "Text(0.5, 1.0, 'Time Series KO')"
      ]
     },
     "execution_count": 72,
     "metadata": {},
     "output_type": "execute_result"
    },
    {
     "data": {
      "image/png": "[encoded data removed]",
      "text/plain": [
       "<Figure size 432x288 with 1 Axes>"
      ]
     },
     "metadata": {},
     "output_type": "display_data"
    }
   ],
   "source": [
    "KO.plot(x='Date',y='Close')\n",
    "plt.title(\"Time Series KO\")"
   ]
  },
  {
   "cell_type": "markdown",
   "id": "7c6cd204",
   "metadata": {},
   "source": [
    "KO didn't experience as much of a drop as WMT did during the pandemic. "
   ]
  },
  {
   "cell_type": "markdown",
   "id": "d636aa26",
   "metadata": {},
   "source": [
    "### PG EDA "
   ]
  },
  {
   "cell_type": "markdown",
   "id": "43748058",
   "metadata": {},
   "source": [
    "Like WMT PG is most correlated with Gold. "
   ]
  },
  {
   "cell_type": "code",
   "execution_count": 73,
   "id": "9791bd46",
   "metadata": {},
   "outputs": [
    {
     "data": {
      "text/html": [
       "<div>\n",
       "<style scoped>\n",
       "    .dataframe tbody tr th:only-of-type {\n",
       "        vertical-align: middle;\n",
       "    }\n",
       "\n",
       "    .dataframe tbody tr th {\n",
       "        vertical-align: top;\n",
       "    }\n",
       "\n",
       "    .dataframe thead th {\n",
       "        text-align: right;\n",
       "    }\n",
       "</style>\n",
       "<table border=\"1\" class=\"dataframe\">\n",
       "  <thead>\n",
       "    <tr style=\"text-align: right;\">\n",
       "      <th></th>\n",
       "      <th>Close</th>\n",
       "      <th>SPClose</th>\n",
       "      <th>Gold</th>\n",
       "      <th>Ether</th>\n",
       "      <th>USD</th>\n",
       "      <th>PPI</th>\n",
       "    </tr>\n",
       "  </thead>\n",
       "  <tbody>\n",
       "    <tr>\n",
       "      <th>Close</th>\n",
       "      <td>1.000000</td>\n",
       "      <td>0.859708</td>\n",
       "      <td>0.900333</td>\n",
       "      <td>0.635895</td>\n",
       "      <td>0.394046</td>\n",
       "      <td>0.679719</td>\n",
       "    </tr>\n",
       "    <tr>\n",
       "      <th>SPClose</th>\n",
       "      <td>0.859708</td>\n",
       "      <td>1.000000</td>\n",
       "      <td>0.798416</td>\n",
       "      <td>0.891822</td>\n",
       "      <td>0.036834</td>\n",
       "      <td>0.657400</td>\n",
       "    </tr>\n",
       "    <tr>\n",
       "      <th>Gold</th>\n",
       "      <td>0.900333</td>\n",
       "      <td>0.798416</td>\n",
       "      <td>1.000000</td>\n",
       "      <td>0.588299</td>\n",
       "      <td>0.327380</td>\n",
       "      <td>0.568375</td>\n",
       "    </tr>\n",
       "    <tr>\n",
       "      <th>Ether</th>\n",
       "      <td>0.635895</td>\n",
       "      <td>0.891822</td>\n",
       "      <td>0.588299</td>\n",
       "      <td>1.000000</td>\n",
       "      <td>-0.136091</td>\n",
       "      <td>0.498839</td>\n",
       "    </tr>\n",
       "    <tr>\n",
       "      <th>USD</th>\n",
       "      <td>0.394046</td>\n",
       "      <td>0.036834</td>\n",
       "      <td>0.327380</td>\n",
       "      <td>-0.136091</td>\n",
       "      <td>1.000000</td>\n",
       "      <td>0.334263</td>\n",
       "    </tr>\n",
       "    <tr>\n",
       "      <th>PPI</th>\n",
       "      <td>0.679719</td>\n",
       "      <td>0.657400</td>\n",
       "      <td>0.568375</td>\n",
       "      <td>0.498839</td>\n",
       "      <td>0.334263</td>\n",
       "      <td>1.000000</td>\n",
       "    </tr>\n",
       "  </tbody>\n",
       "</table>\n",
       "</div>"
      ],
      "text/plain": [
       "            Close   SPClose      Gold     Ether       USD       PPI\n",
       "Close    1.000000  0.859708  0.900333  0.635895  0.394046  0.679719\n",
       "SPClose  0.859708  1.000000  0.798416  0.891822  0.036834  0.657400\n",
       "Gold     0.900333  0.798416  1.000000  0.588299  0.327380  0.568375\n",
       "Ether    0.635895  0.891822  0.588299  1.000000 -0.136091  0.498839\n",
       "USD      0.394046  0.036834  0.327380 -0.136091  1.000000  0.334263\n",
       "PPI      0.679719  0.657400  0.568375  0.498839  0.334263  1.000000"
      ]
     },
     "execution_count": 73,
     "metadata": {},
     "output_type": "execute_result"
    }
   ],
   "source": [
    "pg_corr = PG.corr()\n",
    "pg_corr"
   ]
  },
  {
   "cell_type": "code",
   "execution_count": 74,
   "id": "882d465e",
   "metadata": {},
   "outputs": [
    {
     "data": {
      "image/png": "[encoded data removed]",
      "text/plain": [
       "<Figure size 1080x720 with 2 Axes>"
      ]
     },
     "metadata": {},
     "output_type": "display_data"
    }
   ],
   "source": [
    "# Set up figure and axis\n",
    "fig, ax = plt.subplots(figsize=(15, 10))\n",
    "\n",
    "sns.heatmap(PG.corr(), \n",
    "            # Mask to show only half the values instead of showing duplicates\n",
    "            mask=np.triu(np.ones_like(pg_corr, dtype=bool)),\n",
    "            # Specifies that we want values not just colors\n",
    "            annot = True,\n",
    "            linewidths = 10,\n",
    "            center=0);"
   ]
  },
  {
   "cell_type": "code",
   "execution_count": 75,
   "id": "2b851761",
   "metadata": {},
   "outputs": [
    {
     "data": {
      "text/plain": [
       "Text(0.5, 1.0, 'Time Series PG')"
      ]
     },
     "execution_count": 75,
     "metadata": {},
     "output_type": "execute_result"
    },
    {
     "data": {
      "image/png": "[encoded data removed]",
      "text/plain": [
       "<Figure size 432x288 with 1 Axes>"
      ]
     },
     "metadata": {},
     "output_type": "display_data"
    }
   ],
   "source": [
    "PG.plot(x='Date',y='Close')\n",
    "plt.title(\"Time Series PG\")"
   ]
  },
  {
   "cell_type": "markdown",
   "id": "6c41efc1",
   "metadata": {},
   "source": [
    "Also like WMT PG experienced a low during the pandemic."
   ]
  },
  {
   "cell_type": "markdown",
   "id": "ad278347",
   "metadata": {},
   "source": [
    "### Preprocessing"
   ]
  },
  {
   "cell_type": "markdown",
   "id": "d79fb51e",
   "metadata": {},
   "source": [
    "We begin preprocessing for time series analysis (SARIMA models). For SARIMA models we will need 3 parameters, p, d, and q which we will define below."
   ]
  },
  {
   "cell_type": "code",
   "execution_count": 76,
   "id": "0a167f2c",
   "metadata": {},
   "outputs": [],
   "source": [
    "# Define the p, d and q parameters to take any value between 0 and 2\n",
    "p = d = q = range(0, 2)\n",
    "\n",
    "# Generate all different combinations of p, q and q triplets\n",
    "pdq = list(itertools.product(p, d, q))\n",
    "\n",
    "# Generate all different combinations of seasonal p, q and q triplets\n",
    "pdqs = [(x[0], x[1], x[2], 12) for x in list(itertools.product(p, d, q))]"
   ]
  },
  {
   "cell_type": "markdown",
   "id": "b0c97812",
   "metadata": {},
   "source": [
    "### Preprocessing WMT"
   ]
  },
  {
   "cell_type": "markdown",
   "id": "b26c1fa8",
   "metadata": {},
   "source": [
    "Each stock will need its individual preprocessing, we will begin with WMT. Since we will be only using the date and close we will drop 'SPClose','Gold','PPI','Ether','USD', and 'Symbol' columns."
   ]
  },
  {
   "cell_type": "code",
   "execution_count": 77,
   "id": "d55568cd",
   "metadata": {},
   "outputs": [],
   "source": [
    "WMT_new = WMT.drop(['SPClose','Gold','PPI','Ether','USD','Symbol'],axis=1)"
   ]
  },
  {
   "cell_type": "code",
   "execution_count": 78,
   "id": "69a3e94f",
   "metadata": {},
   "outputs": [
    {
     "name": "stdout",
     "output_type": "stream",
     "text": [
      "<class 'pandas.core.frame.DataFrame'>\n",
      "Int64Index: 38 entries, 4 to 189\n",
      "Data columns (total 2 columns):\n",
      " #   Column  Non-Null Count  Dtype         \n",
      "---  ------  --------------  -----         \n",
      " 0   Date    38 non-null     datetime64[ns]\n",
      " 1   Close   38 non-null     float64       \n",
      "dtypes: datetime64[ns](1), float64(1)\n",
      "memory usage: 912.0 bytes\n"
     ]
    }
   ],
   "source": [
    "WMT_new.info()"
   ]
  },
  {
   "cell_type": "markdown",
   "id": "a3d265f5",
   "metadata": {},
   "source": [
    "We want to make sure that the Datetime index is named \"date\"."
   ]
  },
  {
   "cell_type": "code",
   "execution_count": 79,
   "id": "e8b75a4c",
   "metadata": {},
   "outputs": [
    {
     "name": "stderr",
     "output_type": "stream",
     "text": [
      "/opt/anaconda3/lib/python3.8/site-packages/pandas/core/frame.py:4441: SettingWithCopyWarning: \n",
      "A value is trying to be set on a copy of a slice from a DataFrame\n",
      "\n",
      "See the caveats in the documentation: https://pandas.pydata.org/pandas-docs/stable/user_guide/indexing.html#returning-a-view-versus-a-copy\n",
      "  return super().rename(\n"
     ]
    }
   ],
   "source": [
    "# Make sure that index is DatetimeIndex named \"date\"\n",
    "if isinstance(WMT.index, pd.DatetimeIndex):\n",
    "    WMT.index.name = 'Date'\n",
    "else:\n",
    "    WMT.rename(columns={'index':'Date'}, inplace=True)\n",
    "    WMT.set_index('Date', inplace=True)"
   ]
  },
  {
   "cell_type": "markdown",
   "id": "dfe42f31",
   "metadata": {},
   "source": [
    "We will set the frequency of the dates to daily, and also fill in missing dates, weekends and holidays, using back fill."
   ]
  },
  {
   "cell_type": "code",
   "execution_count": 80,
   "id": "6f75e68e",
   "metadata": {},
   "outputs": [],
   "source": [
    "wmt_new = WMT.asfreq('D')\n",
    "\n",
    "# The 'MS' string groups the data in buckets by start of the month\n",
    "wmt_new = wmt_new['Close'].resample('MS').mean()"
   ]
  },
  {
   "cell_type": "code",
   "execution_count": 81,
   "id": "55457138",
   "metadata": {},
   "outputs": [],
   "source": [
    "# The term bfill means that we use the value before filling in missing values\n",
    "wmt_new = wmt_new.fillna(wmt_new.bfill())"
   ]
  },
  {
   "cell_type": "code",
   "execution_count": 82,
   "id": "202d4351",
   "metadata": {},
   "outputs": [],
   "source": [
    "wmt_new = wmt_new.resample('D').mean()"
   ]
  },
  {
   "cell_type": "code",
   "execution_count": 83,
   "id": "82bfcb09",
   "metadata": {},
   "outputs": [
    {
     "data": {
      "text/plain": [
       "Date\n",
       "2017-12-01     97.349998\n",
       "2017-12-02           NaN\n",
       "2017-12-03           NaN\n",
       "2017-12-04           NaN\n",
       "2017-12-05           NaN\n",
       "                 ...    \n",
       "2022-07-28           NaN\n",
       "2022-07-29           NaN\n",
       "2022-07-30           NaN\n",
       "2022-07-31           NaN\n",
       "2022-08-01    132.539993\n",
       "Freq: D, Name: Close, Length: 1705, dtype: float64"
      ]
     },
     "execution_count": 83,
     "metadata": {},
     "output_type": "execute_result"
    }
   ],
   "source": [
    "wmt_new"
   ]
  },
  {
   "cell_type": "code",
   "execution_count": 84,
   "id": "a303a113",
   "metadata": {},
   "outputs": [
    {
     "data": {
      "text/plain": [
       "Date\n",
       "2017-12-01     97.349998\n",
       "2017-12-02    105.519997\n",
       "2017-12-03    105.519997\n",
       "2017-12-04    105.519997\n",
       "2017-12-05    105.519997\n",
       "                 ...    \n",
       "2022-07-28    132.539993\n",
       "2022-07-29    132.539993\n",
       "2022-07-30    132.539993\n",
       "2022-07-31    132.539993\n",
       "2022-08-01    132.539993\n",
       "Freq: D, Name: Close, Length: 1705, dtype: float64"
      ]
     },
     "execution_count": 84,
     "metadata": {},
     "output_type": "execute_result"
    }
   ],
   "source": [
    "wmt_new = wmt_new.fillna(wmt_new.bfill())\n",
    "\n",
    "wmt_new"
   ]
  },
  {
   "cell_type": "markdown",
   "id": "617384b4",
   "metadata": {},
   "source": [
    "### SARIMA model WMT"
   ]
  },
  {
   "cell_type": "markdown",
   "id": "99f8fe80",
   "metadata": {},
   "source": [
    "We will start the SARIMA model for WMT. To start we will begin with a gridsearch with the p d and q values defined above. "
   ]
  },
  {
   "cell_type": "code",
   "execution_count": 85,
   "id": "b22b2dad",
   "metadata": {},
   "outputs": [
    {
     "name": "stdout",
     "output_type": "stream",
     "text": [
      "ARIMA (0, 0, 0) x (0, 0, 0, 12): AIC Calculated=21210.915808708887\n",
      "ARIMA (0, 0, 0) x (0, 0, 1, 12): AIC Calculated=18859.374644543866\n",
      "ARIMA (0, 0, 0) x (0, 1, 0, 12): AIC Calculated=10219.52016660312\n",
      "ARIMA (0, 0, 0) x (0, 1, 1, 12): AIC Calculated=10161.012830523217\n",
      "ARIMA (0, 0, 0) x (1, 0, 0, 12): AIC Calculated=10228.71632211432\n",
      "ARIMA (0, 0, 0) x (1, 0, 1, 12): AIC Calculated=10223.003703850662\n",
      "ARIMA (0, 0, 0) x (1, 1, 0, 12): AIC Calculated=10166.05837383225\n",
      "ARIMA (0, 0, 0) x (1, 1, 1, 12): AIC Calculated=10135.357516182994\n",
      "ARIMA (0, 0, 1) x (0, 0, 0, 12): AIC Calculated=18871.270964451203\n",
      "ARIMA (0, 0, 1) x (0, 0, 1, 12): AIC Calculated=16566.37278629316\n",
      "ARIMA (0, 0, 1) x (0, 1, 0, 12): AIC Calculated=8730.676342776545\n",
      "ARIMA (0, 0, 1) x (0, 1, 1, 12): AIC Calculated=8647.642896036119\n",
      "ARIMA (0, 0, 1) x (1, 0, 0, 12): AIC Calculated=8746.787665508822\n",
      "ARIMA (0, 0, 1) x (1, 0, 1, 12): AIC Calculated=8700.067952330639\n",
      "ARIMA (0, 0, 1) x (1, 1, 0, 12): AIC Calculated=8667.015551001105\n",
      "ARIMA (0, 0, 1) x (1, 1, 1, 12): AIC Calculated=8610.268649926202\n",
      "ARIMA (0, 1, 0) x (0, 0, 0, 12): AIC Calculated=6043.114421319302\n",
      "ARIMA (0, 1, 0) x (0, 0, 1, 12): AIC Calculated=6014.504002825224\n",
      "ARIMA (0, 1, 0) x (0, 1, 0, 12): AIC Calculated=7184.615885090437\n",
      "ARIMA (0, 1, 0) x (0, 1, 1, 12): AIC Calculated=6030.524138503972\n",
      "ARIMA (0, 1, 0) x (1, 0, 0, 12): AIC Calculated=6017.058115161427\n",
      "ARIMA (0, 1, 0) x (1, 0, 1, 12): AIC Calculated=6016.50400298698\n",
      "ARIMA (0, 1, 0) x (1, 1, 0, 12): AIC Calculated=6672.889501312433\n",
      "ARIMA (0, 1, 0) x (1, 1, 1, 12): AIC Calculated=6028.908558611628\n",
      "ARIMA (0, 1, 1) x (0, 0, 0, 12): AIC Calculated=6042.566790994595\n",
      "ARIMA (0, 1, 1) x (0, 0, 1, 12): AIC Calculated=6013.949299082913\n",
      "ARIMA (0, 1, 1) x (0, 1, 0, 12): AIC Calculated=7183.368034125361\n",
      "ARIMA (0, 1, 1) x (0, 1, 1, 12): AIC Calculated=6020.813088175199\n",
      "ARIMA (0, 1, 1) x (1, 0, 0, 12): AIC Calculated=6019.058115267114\n",
      "ARIMA (0, 1, 1) x (1, 0, 1, 12): AIC Calculated=6015.949299044791\n",
      "ARIMA (0, 1, 1) x (1, 1, 0, 12): AIC Calculated=6674.889501392201\n",
      "ARIMA (0, 1, 1) x (1, 1, 1, 12): AIC Calculated=6022.813050272662\n",
      "ARIMA (1, 0, 0) x (0, 0, 0, 12): AIC Calculated=6080.103480476541\n",
      "ARIMA (1, 0, 0) x (0, 0, 1, 12): AIC Calculated=6022.891343603169\n",
      "ARIMA (1, 0, 0) x (0, 1, 0, 12): AIC Calculated=7132.071248517124\n",
      "ARIMA (1, 0, 0) x (0, 1, 1, 12): AIC Calculated=6038.54356166079\n",
      "ARIMA (1, 0, 0) x (1, 0, 0, 12): AIC Calculated=6019.015691485348\n",
      "ARIMA (1, 0, 0) x (1, 0, 1, 12): AIC Calculated=6021.015677846843\n",
      "ARIMA (1, 0, 0) x (1, 1, 0, 12): AIC Calculated=6631.6656751236105\n",
      "ARIMA (1, 0, 0) x (1, 1, 1, 12): AIC Calculated=6032.817126440118\n",
      "ARIMA (1, 0, 1) x (0, 0, 0, 12): AIC Calculated=6047.072799838284\n",
      "ARIMA (1, 0, 1) x (0, 0, 1, 12): AIC Calculated=6023.033749762852\n",
      "ARIMA (1, 0, 1) x (0, 1, 0, 12): AIC Calculated=7113.7566088231715\n",
      "ARIMA (1, 0, 1) x (0, 1, 1, 12): AIC Calculated=6023.751024617924\n",
      "ARIMA (1, 0, 1) x (1, 0, 0, 12): AIC Calculated=6021.015667893911\n",
      "ARIMA (1, 0, 1) x (1, 0, 1, 12): AIC Calculated=6025.513975586214\n",
      "ARIMA (1, 0, 1) x (1, 1, 0, 12): AIC Calculated=6632.573929782919\n",
      "ARIMA (1, 0, 1) x (1, 1, 1, 12): AIC Calculated=6025.751018808653\n",
      "ARIMA (1, 1, 0) x (0, 0, 0, 12): AIC Calculated=6045.114421278108\n",
      "ARIMA (1, 1, 0) x (0, 0, 1, 12): AIC Calculated=6016.504002869037\n",
      "ARIMA (1, 1, 0) x (0, 1, 0, 12): AIC Calculated=7186.6158850688535\n",
      "ARIMA (1, 1, 0) x (0, 1, 1, 12): AIC Calculated=6023.84512481483\n",
      "ARIMA (1, 1, 0) x (1, 0, 0, 12): AIC Calculated=6016.504002869029\n",
      "ARIMA (1, 1, 0) x (1, 0, 1, 12): AIC Calculated=6018.504003024507\n",
      "ARIMA (1, 1, 0) x (1, 1, 0, 12): AIC Calculated=6666.584343358995\n",
      "ARIMA (1, 1, 0) x (1, 1, 1, 12): AIC Calculated=6025.772745822251\n",
      "ARIMA (1, 1, 1) x (0, 0, 0, 12): AIC Calculated=6044.566790953433\n",
      "ARIMA (1, 1, 1) x (0, 0, 1, 12): AIC Calculated=6015.9492990447\n",
      "ARIMA (1, 1, 1) x (0, 1, 0, 12): AIC Calculated=7185.368034780109\n",
      "ARIMA (1, 1, 1) x (0, 1, 1, 12): AIC Calculated=6022.810128092307\n",
      "ARIMA (1, 1, 1) x (1, 0, 0, 12): AIC Calculated=6018.50400280981\n",
      "ARIMA (1, 1, 1) x (1, 0, 1, 12): AIC Calculated=6017.949299016528\n",
      "ARIMA (1, 1, 1) x (1, 1, 0, 12): AIC Calculated=6668.584343324769\n",
      "ARIMA (1, 1, 1) x (1, 1, 1, 12): AIC Calculated=6024.812860746122\n"
     ]
    }
   ],
   "source": [
    "# Run a grid with pdq and seasonal pdq parameters calculated above and get the best AIC value\n",
    "ans = []\n",
    "for comb in pdq:\n",
    "    for combs in pdqs:\n",
    "        try:\n",
    "            mod = sm.tsa.statespace.SARIMAX(wmt_new,\n",
    "                                            order=comb,\n",
    "                                            seasonal_order=combs,\n",
    "                                            enforce_stationarity=False,\n",
    "                                            enforce_invertibility=False)\n",
    "\n",
    "            output = mod.fit()\n",
    "            ans.append([comb, combs, output.aic])\n",
    "            print('ARIMA {} x {}: AIC Calculated={}'.format(comb, combs, output.aic))\n",
    "        except:\n",
    "            continue"
   ]
  },
  {
   "cell_type": "markdown",
   "id": "1da77447",
   "metadata": {},
   "source": [
    "Now we will plug in the optimal values defined above into the SARIMAX model. "
   ]
  },
  {
   "cell_type": "code",
   "execution_count": 86,
   "id": "2b715a96",
   "metadata": {
    "scrolled": true
   },
   "outputs": [
    {
     "name": "stdout",
     "output_type": "stream",
     "text": [
      "==============================================================================\n",
      "                 coef    std err          z      P>|z|      [0.025      0.975]\n",
      "------------------------------------------------------------------------------\n",
      "ar.L1         -2.2101      0.032    -69.497      0.000      -2.272      -2.148\n",
      "ar.L2         -2.5353      0.048    -52.605      0.000      -2.630      -2.441\n",
      "ar.L3         -2.1132      0.043    -49.717      0.000      -2.197      -2.030\n",
      "ar.L4         -1.4520      0.033    -44.580      0.000      -1.516      -1.388\n",
      "ar.L5         -0.5359      0.016    -34.149      0.000      -0.567      -0.505\n",
      "ma.L1         -1.3959      0.032    -43.503      0.000      -1.459      -1.333\n",
      "ma.L2         -0.7112      0.077     -9.211      0.000      -0.863      -0.560\n",
      "ma.L3          0.9028      0.075     11.988      0.000       0.755       1.050\n",
      "ma.L4          0.9156      0.068     13.451      0.000       0.782       1.049\n",
      "ma.L5         -0.7111      0.031    -23.054      0.000      -0.772      -0.651\n",
      "ar.S.L12      -0.1119      0.045     -2.496      0.013      -0.200      -0.024\n",
      "ma.S.L12      -1.1475      0.020    -57.736      0.000      -1.186      -1.109\n",
      "sigma2         2.2081      0.076     28.946      0.000       2.059       2.358\n",
      "==============================================================================\n"
     ]
    }
   ],
   "source": [
    "# Plug the optimal parameter values into a new SARIMAX model\n",
    "ARIMA_MODEL = sm.tsa.statespace.SARIMAX(wmt_new, \n",
    "                                        order=(5, 5, 5), \n",
    "                                        seasonal_order=(1, 1, 1, 12), \n",
    "                                         enforce_stationarity=False, \n",
    "                                         enforce_invertibility=False)\n",
    "\n",
    "# Fit the model and print results\n",
    "output = ARIMA_MODEL.fit()\n",
    "\n",
    "print(output.summary().tables[1])"
   ]
  },
  {
   "cell_type": "markdown",
   "id": "1c0a1cdb",
   "metadata": {},
   "source": [
    "Below we will plot the diagnostics. "
   ]
  },
  {
   "cell_type": "code",
   "execution_count": 87,
   "id": "2d6cdb9b",
   "metadata": {},
   "outputs": [
    {
     "data": {
      "image/png": "[encoded data removed]",
      "text/plain": [
       "<Figure size 576x576 with 4 Axes>"
      ]
     },
     "metadata": {},
     "output_type": "display_data"
    }
   ],
   "source": [
    "# Call plot_diagnostics() on the results calculated above \n",
    "output.plot_diagnostics(figsize=(8, 8))\n",
    "plt.show()"
   ]
  },
  {
   "cell_type": "markdown",
   "id": "c265916c",
   "metadata": {},
   "source": [
    "We can see that there is an observable pattern that we will be able to forecast with.  "
   ]
  },
  {
   "cell_type": "code",
   "execution_count": 88,
   "id": "a6c71fa2",
   "metadata": {},
   "outputs": [
    {
     "name": "stderr",
     "output_type": "stream",
     "text": [
      "/opt/anaconda3/lib/python3.8/site-packages/seaborn/distributions.py:2557: FutureWarning: `distplot` is a deprecated function and will be removed in a future version. Please adapt your code to use either `displot` (a figure-level function with similar flexibility) or `histplot` (an axes-level function for histograms).\n",
      "  warnings.warn(msg, FutureWarning)\n"
     ]
    },
    {
     "data": {
      "text/plain": [
       "(array([0.   , 0.005, 0.01 , 0.015, 0.02 , 0.025]),\n",
       " [Text(0, 0, ''),\n",
       "  Text(0, 0, ''),\n",
       "  Text(0, 0, ''),\n",
       "  Text(0, 0, ''),\n",
       "  Text(0, 0, ''),\n",
       "  Text(0, 0, '')])"
      ]
     },
     "execution_count": 88,
     "metadata": {},
     "output_type": "execute_result"
    },
    {
     "data": {
      "image/png": "[encoded data removed]",
      "text/plain": [
       "<Figure size 576x576 with 1 Axes>"
      ]
     },
     "metadata": {},
     "output_type": "display_data"
    }
   ],
   "source": [
    "##Checking Distribution of Our Data \n",
    "fig = plt.figure(figsize=(8,8))\n",
    "sns.distplot(wmt_new).set_title(\"Distribution Plot Adj Close -WMT\")\n",
    "ax.tick_params(labelsize=12)\n",
    "sns.set(font_scale=1)\n",
    "plt.xticks(fontsize=16)\n",
    "plt.yticks(fontsize=16)"
   ]
  },
  {
   "cell_type": "code",
   "execution_count": 89,
   "id": "61416d43",
   "metadata": {},
   "outputs": [],
   "source": [
    "# Get predictions starting from 01-01-1998 and calculate confidence intervals\n",
    "pred = output.get_prediction(start=pd.to_datetime('2022-06-01'), dynamic=False)\n",
    "pred_conf = pred.conf_int()"
   ]
  },
  {
   "cell_type": "code",
   "execution_count": 90,
   "id": "effc19f4",
   "metadata": {},
   "outputs": [
    {
     "data": {
      "image/png": "[encoded data removed]",
      "text/plain": [
       "<Figure size 720x360 with 1 Axes>"
      ]
     },
     "metadata": {},
     "output_type": "display_data"
    }
   ],
   "source": [
    "# Plot real vs predicted values along with confidence interval\n",
    "\n",
    "rcParams['figure.figsize'] = (10, 5)\n",
    "\n",
    "# Plot observed values\n",
    "ax = wmt_new['2022':].plot(label='observed')\n",
    "\n",
    "# Plot predicted values\n",
    "pred.predicted_mean.plot(ax=ax, label='One-step ahead Forecast', alpha=0.9)\n",
    "\n",
    "# Plot the range for confidence intervals\n",
    "ax.fill_between(pred_conf.index,\n",
    "                pred_conf.iloc[:, 0],\n",
    "                pred_conf.iloc[:, 1], color='g', alpha=0.9)\n",
    "\n",
    "# Set axes labels\n",
    "ax.set_xlabel('Date')\n",
    "ax.set_ylabel('')\n",
    "ax.set_title('One-step ahead Forecast WMT')\n",
    "plt.legend()\n",
    "plt.show()"
   ]
  },
  {
   "cell_type": "code",
   "execution_count": 91,
   "id": "72fe2917",
   "metadata": {},
   "outputs": [
    {
     "data": {
      "text/plain": [
       "Date\n",
       "2022-06-01    123.240407\n",
       "2022-06-02    126.107653\n",
       "2022-06-03    121.757229\n",
       "2022-06-04    122.575142\n",
       "2022-06-05    123.181906\n",
       "                 ...    \n",
       "2022-07-28    131.847582\n",
       "2022-07-29    132.456200\n",
       "2022-07-30    131.919472\n",
       "2022-07-31    131.135246\n",
       "2022-08-01    132.840532\n",
       "Freq: D, Name: predicted_mean, Length: 62, dtype: float64"
      ]
     },
     "execution_count": 91,
     "metadata": {},
     "output_type": "execute_result"
    }
   ],
   "source": [
    "pred.predicted_mean"
   ]
  },
  {
   "cell_type": "code",
   "execution_count": 92,
   "id": "3bed8eac",
   "metadata": {},
   "outputs": [
    {
     "name": "stdout",
     "output_type": "stream",
     "text": [
      "The Mean Squared Error of our forecasts is 3.12\n"
     ]
    }
   ],
   "source": [
    "# Get the real and predicted values\n",
    "WMT_forecasted = pred.predicted_mean\n",
    "WMT_truth = wmt_new['2022-06-01':]\n",
    "\n",
    "# Compute the mean square error\n",
    "mse = ((WMT_forecasted - WMT_truth) ** 2).mean()\n",
    "print('The Mean Squared Error of our forecasts is {}'.format(round(mse, 2)))"
   ]
  },
  {
   "cell_type": "code",
   "execution_count": 93,
   "id": "319204a3",
   "metadata": {},
   "outputs": [],
   "source": [
    "# Get dynamic predictions with confidence intervals as above \n",
    "pred_dynamic = output.get_prediction(start=pd.to_datetime('2022-06-01'), dynamic=True, full_results=True)\n",
    "pred_dynamic_conf = pred_dynamic.conf_int()"
   ]
  },
  {
   "cell_type": "code",
   "execution_count": 94,
   "id": "83b19ad2",
   "metadata": {},
   "outputs": [
    {
     "data": {
      "image/png": "[encoded data removed]",
      "text/plain": [
       "<Figure size 720x360 with 1 Axes>"
      ]
     },
     "metadata": {},
     "output_type": "display_data"
    }
   ],
   "source": [
    "# Plot the dynamic forecast with confidence intervals.\n",
    "\n",
    "ax = wmt_new['2017-12-31':].plot(label='observed', figsize=(10, 5))\n",
    "pred_dynamic.predicted_mean.plot(label='Dynamic Forecast', ax=ax)\n",
    "\n",
    "ax.fill_between(pred_dynamic_conf.index,\n",
    "                pred_dynamic_conf.iloc[:, 0],\n",
    "                pred_dynamic_conf.iloc[:, 1], color='g', alpha=.3)\n",
    "\n",
    "ax.fill_betweenx(ax.get_ylim(), pd.to_datetime('2022-06-01'), WMT_forecasted.index[-1], alpha=.1, zorder=-1)\n",
    "\n",
    "ax.set_xlabel('Date')\n",
    "ax.set_ylabel('WMT Close')\n",
    "ax.set_title('Dynamic Forecast WMT')\n",
    "plt.legend()\n",
    "plt.show()"
   ]
  },
  {
   "cell_type": "markdown",
   "id": "e4078b96",
   "metadata": {},
   "source": [
    "After analysis we can see that WMT has acted relatively flat but does show a slight downward trend for the future. For the following two stocks we will follow the same steps as above. "
   ]
  },
  {
   "cell_type": "markdown",
   "id": "88e8d0c7",
   "metadata": {},
   "source": [
    "### Preprocessing KO"
   ]
  },
  {
   "cell_type": "code",
   "execution_count": 95,
   "id": "95d79ac4",
   "metadata": {},
   "outputs": [],
   "source": [
    "# Drop 'SPClose','Gold','PPI','Ether','USD','Symbol' columns\n",
    "ko_new = KO.drop(['SPClose','Gold','PPI','Ether','USD','Symbol'],axis=1)"
   ]
  },
  {
   "cell_type": "code",
   "execution_count": 96,
   "id": "7953c953",
   "metadata": {},
   "outputs": [],
   "source": [
    "# Make sure that index is DatetimeIndex named \"date\"\n",
    "if isinstance(ko_new.index, pd.DatetimeIndex):\n",
    "    ko_new.index.name = 'Date'\n",
    "else:\n",
    "    ko_new.rename(columns={'index':'Date'}, inplace=True)\n",
    "    ko_new.set_index('Date', inplace=True)"
   ]
  },
  {
   "cell_type": "code",
   "execution_count": 97,
   "id": "48359892",
   "metadata": {},
   "outputs": [],
   "source": [
    "ko_new = ko_new.asfreq('D')\n",
    "\n",
    "# The 'MS' string groups the data in buckets by start of the month\n",
    "ko_new = ko_new['Close'].resample('MS').mean()"
   ]
  },
  {
   "cell_type": "code",
   "execution_count": 98,
   "id": "11b02b3a",
   "metadata": {},
   "outputs": [],
   "source": [
    "# The term bfill means that we use the value before filling in missing values\n",
    "ko_new = ko_new.fillna(ko_new.bfill())"
   ]
  },
  {
   "cell_type": "code",
   "execution_count": 99,
   "id": "14b30d03",
   "metadata": {},
   "outputs": [],
   "source": [
    "# resample the dates \n",
    "ko_new = ko_new.resample('D').mean()"
   ]
  },
  {
   "cell_type": "code",
   "execution_count": 100,
   "id": "4a15090f",
   "metadata": {},
   "outputs": [
    {
     "data": {
      "text/plain": [
       "Date\n",
       "2017-12-01    45.970001\n",
       "2017-12-02    47.450001\n",
       "2017-12-03    47.450001\n",
       "2017-12-04    47.450001\n",
       "2017-12-05    47.450001\n",
       "                ...    \n",
       "2022-07-28    64.519997\n",
       "2022-07-29    64.519997\n",
       "2022-07-30    64.519997\n",
       "2022-07-31    64.519997\n",
       "2022-08-01    64.519997\n",
       "Freq: D, Name: Close, Length: 1705, dtype: float64"
      ]
     },
     "execution_count": 100,
     "metadata": {},
     "output_type": "execute_result"
    }
   ],
   "source": [
    "# use bfill to fill in any missing date values\n",
    "ko_new = ko_new.fillna(ko_new.bfill())\n",
    "\n",
    "ko_new"
   ]
  },
  {
   "cell_type": "markdown",
   "id": "0c88e3d9",
   "metadata": {},
   "source": [
    "### SARIMA model KO "
   ]
  },
  {
   "cell_type": "code",
   "execution_count": 101,
   "id": "203169cb",
   "metadata": {},
   "outputs": [
    {
     "name": "stdout",
     "output_type": "stream",
     "text": [
      "ARIMA (0, 0, 0) x (0, 0, 0, 12): AIC Calculated=18250.250664500658\n",
      "ARIMA (0, 0, 0) x (0, 0, 1, 12): AIC Calculated=15897.422717727426\n",
      "ARIMA (0, 0, 0) x (0, 1, 0, 12): AIC Calculated=6558.557158837687\n",
      "ARIMA (0, 0, 0) x (0, 1, 1, 12): AIC Calculated=6526.014099672454\n",
      "ARIMA (0, 0, 0) x (1, 0, 0, 12): AIC Calculated=6557.47795084707\n",
      "ARIMA (0, 0, 0) x (1, 0, 1, 12): AIC Calculated=6555.856375496747\n",
      "ARIMA (0, 0, 0) x (1, 1, 0, 12): AIC Calculated=6528.895952966674\n",
      "ARIMA (0, 0, 0) x (1, 1, 1, 12): AIC Calculated=6528.014099229133\n",
      "ARIMA (0, 0, 1) x (0, 0, 0, 12): AIC Calculated=15902.368117094598\n",
      "ARIMA (0, 0, 1) x (0, 0, 1, 12): AIC Calculated=13602.090587477032\n",
      "ARIMA (0, 0, 1) x (0, 1, 0, 12): AIC Calculated=5071.5865246833255\n",
      "ARIMA (0, 0, 1) x (0, 1, 1, 12): AIC Calculated=5024.267738702116\n",
      "ARIMA (0, 0, 1) x (1, 0, 0, 12): AIC Calculated=5075.49550176012\n",
      "ARIMA (0, 0, 1) x (1, 0, 1, 12): AIC Calculated=5044.596086639409\n",
      "ARIMA (0, 0, 1) x (1, 1, 0, 12): AIC Calculated=5032.027804700128\n",
      "ARIMA (0, 0, 1) x (1, 1, 1, 12): AIC Calculated=5023.586798234551\n",
      "ARIMA (0, 1, 0) x (0, 0, 0, 12): AIC Calculated=2358.3508269123504\n",
      "ARIMA (0, 1, 0) x (0, 0, 1, 12): AIC Calculated=2355.7046848837044\n",
      "ARIMA (0, 1, 0) x (0, 1, 0, 12): AIC Calculated=3525.8165669966634\n",
      "ARIMA (0, 1, 0) x (0, 1, 1, 12): AIC Calculated=2390.820245984738\n",
      "ARIMA (0, 1, 0) x (1, 0, 0, 12): AIC Calculated=2356.095107365739\n",
      "ARIMA (0, 1, 0) x (1, 0, 1, 12): AIC Calculated=2357.7046848891896\n",
      "ARIMA (0, 1, 0) x (1, 1, 0, 12): AIC Calculated=3034.089181991144\n",
      "ARIMA (0, 1, 0) x (1, 1, 1, 12): AIC Calculated=2392.8202679161786\n",
      "ARIMA (0, 1, 1) x (0, 0, 0, 12): AIC Calculated=2359.9668862664475\n",
      "ARIMA (0, 1, 1) x (0, 0, 1, 12): AIC Calculated=2357.3136706049386\n",
      "ARIMA (0, 1, 1) x (0, 1, 0, 12): AIC Calculated=3526.732405979585\n",
      "ARIMA (0, 1, 1) x (0, 1, 1, 12): AIC Calculated=2390.177962799974\n",
      "ARIMA (0, 1, 1) x (1, 0, 0, 12): AIC Calculated=2358.0951073680285\n",
      "ARIMA (0, 1, 1) x (1, 0, 1, 12): AIC Calculated=2359.31367060733\n",
      "ARIMA (0, 1, 1) x (1, 1, 0, 12): AIC Calculated=3036.0891822461053\n",
      "ARIMA (0, 1, 1) x (1, 1, 1, 12): AIC Calculated=2392.178174179262\n",
      "ARIMA (1, 0, 0) x (0, 0, 0, 12): AIC Calculated=2369.4420164088115\n",
      "ARIMA (1, 0, 0) x (0, 0, 1, 12): AIC Calculated=2359.5534149374707\n",
      "ARIMA (1, 0, 0) x (0, 1, 0, 12): AIC Calculated=3460.9670754012186\n",
      "ARIMA (1, 0, 0) x (0, 1, 1, 12): AIC Calculated=2394.3318131772794\n",
      "ARIMA (1, 0, 0) x (1, 0, 0, 12): AIC Calculated=2357.5457984255145\n",
      "ARIMA (1, 0, 0) x (1, 0, 1, 12): AIC Calculated=2359.5458836867074\n",
      "ARIMA (1, 0, 0) x (1, 1, 0, 12): AIC Calculated=2993.2600793321053\n",
      "ARIMA (1, 0, 0) x (1, 1, 1, 12): AIC Calculated=2396.3251001999647\n",
      "ARIMA (1, 0, 1) x (0, 0, 0, 12): AIC Calculated=2361.801941463794\n",
      "ARIMA (1, 0, 1) x (0, 0, 1, 12): AIC Calculated=2362.3290818321584\n",
      "ARIMA (1, 0, 1) x (0, 1, 0, 12): AIC Calculated=3454.938632738749\n",
      "ARIMA (1, 0, 1) x (0, 1, 1, 12): AIC Calculated=2392.221503300569\n",
      "ARIMA (1, 0, 1) x (1, 0, 0, 12): AIC Calculated=2359.545325881282\n",
      "ARIMA (1, 0, 1) x (1, 0, 1, 12): AIC Calculated=2361.1552407165814\n",
      "ARIMA (1, 0, 1) x (1, 1, 0, 12): AIC Calculated=2994.1906330583665\n",
      "ARIMA (1, 0, 1) x (1, 1, 1, 12): AIC Calculated=2394.221784853605\n",
      "ARIMA (1, 1, 0) x (0, 0, 0, 12): AIC Calculated=2360.350826552307\n",
      "ARIMA (1, 1, 0) x (0, 0, 1, 12): AIC Calculated=2357.7046846696685\n",
      "ARIMA (1, 1, 0) x (0, 1, 0, 12): AIC Calculated=3527.8165669967357\n",
      "ARIMA (1, 1, 0) x (0, 1, 1, 12): AIC Calculated=2390.879691025818\n",
      "ARIMA (1, 1, 0) x (1, 0, 0, 12): AIC Calculated=2357.7046846696776\n",
      "ARIMA (1, 1, 0) x (1, 0, 1, 12): AIC Calculated=2359.7046846720586\n",
      "ARIMA (1, 1, 0) x (1, 1, 0, 12): AIC Calculated=3033.749301930083\n",
      "ARIMA (1, 1, 0) x (1, 1, 1, 12): AIC Calculated=2392.8792879874345\n",
      "ARIMA (1, 1, 1) x (0, 0, 0, 12): AIC Calculated=2361.966886271768\n",
      "ARIMA (1, 1, 1) x (0, 0, 1, 12): AIC Calculated=2359.31367060733\n",
      "ARIMA (1, 1, 1) x (0, 1, 0, 12): AIC Calculated=3528.732405996152\n",
      "ARIMA (1, 1, 1) x (0, 1, 1, 12): AIC Calculated=2392.178107090539\n",
      "ARIMA (1, 1, 1) x (1, 0, 0, 12): AIC Calculated=2359.7046846719104\n",
      "ARIMA (1, 1, 1) x (1, 0, 1, 12): AIC Calculated=2361.3136706097175\n",
      "ARIMA (1, 1, 1) x (1, 1, 0, 12): AIC Calculated=3035.7493019145627\n",
      "ARIMA (1, 1, 1) x (1, 1, 1, 12): AIC Calculated=2394.1782528793683\n"
     ]
    }
   ],
   "source": [
    "# Run a grid with pdq and seasonal pdq parameters calculated above and get the best AIC value\n",
    "ans = []\n",
    "for comb in pdq:\n",
    "    for combs in pdqs:\n",
    "        try:\n",
    "            mod = sm.tsa.statespace.SARIMAX(ko_new,\n",
    "                                            order=comb,\n",
    "                                            seasonal_order=combs,\n",
    "                                            enforce_stationarity=False,\n",
    "                                            enforce_invertibility=False)\n",
    "\n",
    "            output = mod.fit()\n",
    "            ans.append([comb, combs, output.aic])\n",
    "            print('ARIMA {} x {}: AIC Calculated={}'.format(comb, combs, output.aic))\n",
    "        except:\n",
    "            continue"
   ]
  },
  {
   "cell_type": "code",
   "execution_count": 102,
   "id": "63bc64bb",
   "metadata": {},
   "outputs": [
    {
     "name": "stdout",
     "output_type": "stream",
     "text": [
      "==============================================================================\n",
      "                 coef    std err          z      P>|z|      [0.025      0.975]\n",
      "------------------------------------------------------------------------------\n",
      "ar.L1         -2.1305      0.046    -46.671      0.000      -2.220      -2.041\n",
      "ar.L2         -2.5420      0.077    -32.866      0.000      -2.694      -2.390\n",
      "ar.L3         -2.0933      0.073    -28.766      0.000      -2.236      -1.951\n",
      "ar.L4         -1.3130      0.083    -15.877      0.000      -1.475      -1.151\n",
      "ar.L5         -0.4310      0.042    -10.317      0.000      -0.513      -0.349\n",
      "ma.L1         -1.5123      0.054    -28.075      0.000      -1.618      -1.407\n",
      "ma.L2         -0.5450      0.103     -5.277      0.000      -0.747      -0.343\n",
      "ma.L3          0.8105      0.146      5.561      0.000       0.525       1.096\n",
      "ma.L4          1.0651      0.137      7.785      0.000       0.797       1.333\n",
      "ma.L5         -0.8183      0.048    -17.205      0.000      -0.911      -0.725\n",
      "ar.S.L12       0.1946      0.022      8.955      0.000       0.152       0.237\n",
      "ma.S.L12      -0.9851      0.021    -47.032      0.000      -1.026      -0.944\n",
      "sigma2         0.2962      0.004     78.778      0.000       0.289       0.304\n",
      "==============================================================================\n"
     ]
    }
   ],
   "source": [
    "# Plug the optimal parameter values into a new SARIMAX model\n",
    "ARIMA_MODEL_KO = sm.tsa.statespace.SARIMAX(ko_new, \n",
    "                                        order=(5, 5, 5), \n",
    "                                        seasonal_order=(1, 1, 1, 12), \n",
    "                                        enforce_stationarity=False, \n",
    "                                         enforce_invertibility=False)\n",
    "\n",
    "# Fit the model and print results\n",
    "output_ko = ARIMA_MODEL_KO.fit()\n",
    "\n",
    "print(output_ko.summary().tables[1])"
   ]
  },
  {
   "cell_type": "code",
   "execution_count": 103,
   "id": "da3febb7",
   "metadata": {},
   "outputs": [
    {
     "data": {
      "image/png": "[encoded data removed]",
      "text/plain": [
       "<Figure size 576x576 with 4 Axes>"
      ]
     },
     "metadata": {},
     "output_type": "display_data"
    }
   ],
   "source": [
    "# Call plot_diagnostics() on the results calculated above \n",
    "output_ko.plot_diagnostics(figsize=(8, 8))\n",
    "plt.show()"
   ]
  },
  {
   "cell_type": "markdown",
   "id": "2a44d7cb",
   "metadata": {},
   "source": [
    "Follows the same relative trends as WMT. "
   ]
  },
  {
   "cell_type": "code",
   "execution_count": 104,
   "id": "c0fe5361",
   "metadata": {},
   "outputs": [
    {
     "name": "stderr",
     "output_type": "stream",
     "text": [
      "/opt/anaconda3/lib/python3.8/site-packages/seaborn/distributions.py:2557: FutureWarning: `distplot` is a deprecated function and will be removed in a future version. Please adapt your code to use either `displot` (a figure-level function with similar flexibility) or `histplot` (an axes-level function for histograms).\n",
      "  warnings.warn(msg, FutureWarning)\n"
     ]
    },
    {
     "data": {
      "text/plain": [
       "(array([0.  , 0.02, 0.04, 0.06, 0.08, 0.1 , 0.12, 0.14]),\n",
       " [Text(0, 0, ''),\n",
       "  Text(0, 0, ''),\n",
       "  Text(0, 0, ''),\n",
       "  Text(0, 0, ''),\n",
       "  Text(0, 0, ''),\n",
       "  Text(0, 0, ''),\n",
       "  Text(0, 0, ''),\n",
       "  Text(0, 0, '')])"
      ]
     },
     "execution_count": 104,
     "metadata": {},
     "output_type": "execute_result"
    },
    {
     "data": {
      "image/png": "[encoded data removed]",
      "text/plain": [
       "<Figure size 576x576 with 1 Axes>"
      ]
     },
     "metadata": {},
     "output_type": "display_data"
    }
   ],
   "source": [
    "##Checking Distribution of Our Data \n",
    "fig = plt.figure(figsize=(8,8))\n",
    "sns.distplot(ko_new).set_title(\"Distribution Plot Adj Close -WMT\")\n",
    "ax.tick_params(labelsize=12)\n",
    "sns.set(font_scale=1)\n",
    "plt.xticks(fontsize=16)\n",
    "plt.yticks(fontsize=16)"
   ]
  },
  {
   "cell_type": "code",
   "execution_count": 105,
   "id": "5d8bb755",
   "metadata": {},
   "outputs": [],
   "source": [
    "# Get predictions starting from 01-01-1998 and calculate confidence intervals\n",
    "pred = output.get_prediction(start=pd.to_datetime('2022-06-01'), dynamic=False)\n",
    "pred_conf = pred.conf_int()"
   ]
  },
  {
   "cell_type": "code",
   "execution_count": 106,
   "id": "67dce88b",
   "metadata": {},
   "outputs": [
    {
     "data": {
      "image/png": "[encoded data removed]",
      "text/plain": [
       "<Figure size 720x360 with 1 Axes>"
      ]
     },
     "metadata": {},
     "output_type": "display_data"
    }
   ],
   "source": [
    "# Plot real vs predicted values along with confidence interval\n",
    "\n",
    "rcParams['figure.figsize'] = (10, 5)\n",
    "\n",
    "# Plot observed values\n",
    "ax = ko_new['2022':].plot(label='observed')\n",
    "\n",
    "# Plot predicted values\n",
    "pred.predicted_mean.plot(ax=ax, label='One-step ahead Forecast', alpha=0.9)\n",
    "\n",
    "# Plot the range for confidence intervals\n",
    "ax.fill_between(pred_conf.index,\n",
    "                pred_conf.iloc[:, 0],\n",
    "                pred_conf.iloc[:, 1], color='g', alpha=0.9)\n",
    "\n",
    "# Set axes labels\n",
    "ax.set_xlabel('Date')\n",
    "ax.set_ylabel('')\n",
    "ax.set_title('One-step ahead Forecast KO')\n",
    "plt.legend()\n",
    "\n",
    "plt.show()"
   ]
  },
  {
   "cell_type": "code",
   "execution_count": 107,
   "id": "b0a43dc4",
   "metadata": {},
   "outputs": [
    {
     "data": {
      "text/plain": [
       "Date\n",
       "2022-06-01    63.090767\n",
       "2022-06-02    63.097319\n",
       "2022-06-03    64.445358\n",
       "2022-06-04    64.367432\n",
       "2022-06-05    64.347710\n",
       "                ...    \n",
       "2022-07-28    64.530740\n",
       "2022-07-29    64.560939\n",
       "2022-07-30    64.573763\n",
       "2022-07-31    64.540028\n",
       "2022-08-01    64.555638\n",
       "Freq: D, Name: predicted_mean, Length: 62, dtype: float64"
      ]
     },
     "execution_count": 107,
     "metadata": {},
     "output_type": "execute_result"
    }
   ],
   "source": [
    "pred.predicted_mean"
   ]
  },
  {
   "cell_type": "code",
   "execution_count": 108,
   "id": "f64b3e87",
   "metadata": {},
   "outputs": [
    {
     "name": "stdout",
     "output_type": "stream",
     "text": [
      "The Mean Squared Error of our forecasts is 0.03\n"
     ]
    }
   ],
   "source": [
    "# Get the real and predicted values\n",
    "KO_forecasted = pred.predicted_mean\n",
    "KO_truth = ko_new['2022-06-01':]\n",
    "\n",
    "# Compute the mean square error\n",
    "mse = ((KO_forecasted - KO_truth) ** 2).mean()\n",
    "print('The Mean Squared Error of our forecasts is {}'.format(round(mse, 2)))"
   ]
  },
  {
   "cell_type": "code",
   "execution_count": 109,
   "id": "0a3c0113",
   "metadata": {},
   "outputs": [],
   "source": [
    "# Get dynamic predictions with confidence intervals as above \n",
    "pred_dynamic = output.get_prediction(start=pd.to_datetime('2022-06-01'), dynamic=True, full_results=True)\n",
    "pred_dynamic_conf = pred_dynamic.conf_int()"
   ]
  },
  {
   "cell_type": "code",
   "execution_count": 110,
   "id": "934d27dc",
   "metadata": {},
   "outputs": [
    {
     "data": {
      "image/png": "[encoded data removed]",
      "text/plain": [
       "<Figure size 720x360 with 1 Axes>"
      ]
     },
     "metadata": {},
     "output_type": "display_data"
    }
   ],
   "source": [
    "# Plot the dynamic forecast with confidence intervals.\n",
    "\n",
    "ax = ko_new['2017-12-31':].plot(label='observed', figsize=(10, 5))\n",
    "pred_dynamic.predicted_mean.plot(label='Dynamic Forecast', ax=ax)\n",
    "\n",
    "ax.fill_between(pred_dynamic_conf.index,\n",
    "                pred_dynamic_conf.iloc[:, 0],\n",
    "                pred_dynamic_conf.iloc[:, 1], color='g', alpha=.3)\n",
    "\n",
    "ax.fill_betweenx(ax.get_ylim(), pd.to_datetime('2022-06-01'), KO_forecasted.index[-1], alpha=.1, zorder=-1)\n",
    "\n",
    "ax.set_xlabel('Date')\n",
    "ax.set_ylabel('KO Close')\n",
    "ax.set_title('Dynamic Forecast KO')\n",
    "plt.legend()\n",
    "plt.show()"
   ]
  },
  {
   "cell_type": "code",
   "execution_count": 113,
   "id": "4a1bb341",
   "metadata": {},
   "outputs": [
    {
     "data": {
      "text/plain": [
       "0.028605574361787466"
      ]
     },
     "execution_count": 113,
     "metadata": {},
     "output_type": "execute_result"
    }
   ],
   "source": [
    "# sklearn.metrics.mean_squared_error(KO_forecasted ,KO_truth)\n",
    "mean_squared_error(KO_forecasted,KO_truth)"
   ]
  },
  {
   "cell_type": "markdown",
   "id": "5e8c19f8",
   "metadata": {},
   "source": [
    "After analysis we have determined that WMT shows a positive trend. "
   ]
  },
  {
   "cell_type": "markdown",
   "id": "1e8ae5b7",
   "metadata": {},
   "source": [
    "### Preprocessing PG "
   ]
  },
  {
   "cell_type": "code",
   "execution_count": null,
   "id": "4c15e138",
   "metadata": {},
   "outputs": [],
   "source": [
    "# drop unnecessary columns\n",
    "pg_new = PG.drop(['SPClose','Gold','PPI','Ether','USD','Symbol'],axis=1)"
   ]
  },
  {
   "cell_type": "code",
   "execution_count": null,
   "id": "93f680a4",
   "metadata": {},
   "outputs": [],
   "source": [
    "# Make sure that index is DatetimeIndex named \"date\"\n",
    "if isinstance(pg_new.index, pd.DatetimeIndex):\n",
    "    pg_new.index.name = 'Date'\n",
    "else:\n",
    "    pg_new.rename(columns={'index':'Date'}, inplace=True)\n",
    "    pg_new.set_index('Date', inplace=True)"
   ]
  },
  {
   "cell_type": "code",
   "execution_count": null,
   "id": "25cd30f7",
   "metadata": {},
   "outputs": [],
   "source": [
    "pg_new = pg_new.asfreq('D')\n",
    "\n",
    "# The 'MS' string groups the data in buckets by start of the month\n",
    "pg_new = pg_new['Close'].resample('MS').mean()"
   ]
  },
  {
   "cell_type": "code",
   "execution_count": null,
   "id": "66ca431f",
   "metadata": {},
   "outputs": [],
   "source": [
    "# The term bfill means that we use the value before filling in missing values\n",
    "pg_new = pg_new.fillna(ko_new.bfill())"
   ]
  },
  {
   "cell_type": "code",
   "execution_count": null,
   "id": "11f25c39",
   "metadata": {},
   "outputs": [],
   "source": [
    "pg_new = pg_new.resample('D').mean()"
   ]
  },
  {
   "cell_type": "code",
   "execution_count": null,
   "id": "d84543ae",
   "metadata": {},
   "outputs": [],
   "source": [
    "# use bfill to fill in any missing date values\n",
    "pg_new = pg_new.fillna(ko_new.bfill())\n",
    "\n",
    "pg_new"
   ]
  },
  {
   "cell_type": "markdown",
   "id": "5c93fcf6",
   "metadata": {},
   "source": [
    "### SARIMA model PG "
   ]
  },
  {
   "cell_type": "code",
   "execution_count": null,
   "id": "17909c0a",
   "metadata": {},
   "outputs": [],
   "source": [
    "# Run a grid with pdq and seasonal pdq parameters calculated above and get the best AIC value\n",
    "ans = []\n",
    "for comb in pdq:\n",
    "    for combs in pdqs:\n",
    "        try:\n",
    "            mod = sm.tsa.statespace.SARIMAX(pg_new,\n",
    "                                            order=comb,\n",
    "                                            seasonal_order=combs,\n",
    "                                            enforce_stationarity=False,\n",
    "                                            enforce_invertibility=False)\n",
    "\n",
    "            output = mod.fit()\n",
    "            ans.append([comb, combs, output.aic])\n",
    "            print('ARIMA {} x {}: AIC Calculated={}'.format(comb, combs, output.aic))\n",
    "        except:\n",
    "            continue"
   ]
  },
  {
   "cell_type": "code",
   "execution_count": null,
   "id": "bfd1d84d",
   "metadata": {},
   "outputs": [],
   "source": [
    "# Plug the optimal parameter values into a new SARIMAX model\n",
    "ARIMA_MODEL_PG = sm.tsa.statespace.SARIMAX(pg_new, \n",
    "                                        order=(5, 5, 5), \n",
    "                                        seasonal_order=(1, 1, 1, 12), \n",
    "                                        enforce_stationarity=False, \n",
    "                                         enforce_invertibility=False)\n",
    "\n",
    "# Fit the model and print results\n",
    "output_pg = ARIMA_MODEL_PG.fit()\n",
    "\n",
    "print(output_pg.summary().tables[1])"
   ]
  },
  {
   "cell_type": "code",
   "execution_count": null,
   "id": "3ede64ed",
   "metadata": {},
   "outputs": [],
   "source": [
    "# Call plot_diagnostics() on the results calculated above \n",
    "output_pg.plot_diagnostics(figsize=(8, 8))\n",
    "plt.show()"
   ]
  },
  {
   "cell_type": "code",
   "execution_count": null,
   "id": "b309c5a0",
   "metadata": {},
   "outputs": [],
   "source": [
    "# Get predictions starting from 01-01-1998 and calculate confidence intervals\n",
    "pred = output.get_prediction(start=pd.to_datetime('2022-06-01'), dynamic=False)\n",
    "pred_conf = pred.conf_int()"
   ]
  },
  {
   "cell_type": "code",
   "execution_count": null,
   "id": "98a00f8b",
   "metadata": {},
   "outputs": [],
   "source": [
    "# Plot real vs predicted values along with confidence interval\n",
    "\n",
    "rcParams['figure.figsize'] = (10, 5)\n",
    "\n",
    "# Plot observed values\n",
    "ax = pg_new['2022':].plot(label='observed')\n",
    "\n",
    "# Plot predicted values\n",
    "pred.predicted_mean.plot(ax=ax, label='One-step ahead Forecast', alpha=0.9)\n",
    "\n",
    "# Plot the range for confidence intervals\n",
    "ax.fill_between(pred_conf.index,\n",
    "                pred_conf.iloc[:, 0],\n",
    "                pred_conf.iloc[:, 1], color='g', alpha=0.9)\n",
    "\n",
    "# Set axes labels\n",
    "ax.set_xlabel('Date')\n",
    "ax.set_ylabel('')\n",
    "ax.set_title('One-step ahead Forecast PG')\n",
    "plt.legend()\n",
    "plt.show()"
   ]
  },
  {
   "cell_type": "code",
   "execution_count": null,
   "id": "b5fffe55",
   "metadata": {},
   "outputs": [],
   "source": [
    "pred.predicted_mean"
   ]
  },
  {
   "cell_type": "code",
   "execution_count": null,
   "id": "28b07f38",
   "metadata": {},
   "outputs": [],
   "source": [
    "# Get the real and predicted values\n",
    "PG_forecasted = pred.predicted_mean\n",
    "PG_truth = pg_new['2022-06-01':]\n",
    "\n",
    "# Compute the mean square error\n",
    "mse = ((PG_forecasted - PG_truth) ** 2).mean()\n",
    "print('The Mean Squared Error of our forecasts is {}'.format(round(mse, 2)))"
   ]
  },
  {
   "cell_type": "markdown",
   "id": "edc1dc58",
   "metadata": {},
   "source": [
    "The mean squared error for PG is the highest of the three stocks within analyis. We will see if PG exhibits a lower mse for Linear Regression. "
   ]
  },
  {
   "cell_type": "code",
   "execution_count": null,
   "id": "256ee9f0",
   "metadata": {},
   "outputs": [],
   "source": [
    "# Get dynamic predictions with confidence intervals as above \n",
    "pred_dynamic = output.get_prediction(start=pd.to_datetime('2022-06-01'), dynamic=True, full_results=True)\n",
    "pred_dynamic_conf = pred_dynamic.conf_int()"
   ]
  },
  {
   "cell_type": "code",
   "execution_count": null,
   "id": "26df72d1",
   "metadata": {},
   "outputs": [],
   "source": [
    "# Plot the dynamic forecast with confidence intervals.\n",
    "\n",
    "ax = pg_new['2022-06-01':].plot(label='observed', figsize=(10, 5))\n",
    "pred_dynamic.predicted_mean.plot(label='Dynamic Forecast', ax=ax)\n",
    "\n",
    "ax.fill_between(pred_dynamic_conf.index,\n",
    "                pred_dynamic_conf.iloc[:, 0],\n",
    "                pred_dynamic_conf.iloc[:, 1], color='g', alpha=.3)\n",
    "\n",
    "ax.fill_betweenx(ax.get_ylim(), pd.to_datetime('2022-06-01'), PG_forecasted.index[-1], alpha=.1, zorder=-1)\n",
    "\n",
    "ax.set_xlabel('Date')\n",
    "ax.set_ylabel('PG Close')\n",
    "ax.set_title('Dynamic Forecast PG')\n",
    "plt.legend()\n",
    "plt.show()"
   ]
  },
  {
   "cell_type": "markdown",
   "id": "68357bb8",
   "metadata": {},
   "source": [
    "After analysis we have determined that PG shows a slight downward trend. "
   ]
  },
  {
   "cell_type": "markdown",
   "id": "2205d9c8",
   "metadata": {},
   "source": [
    "### Linear Regression WMT "
   ]
  },
  {
   "cell_type": "markdown",
   "id": "6ff507d4",
   "metadata": {},
   "source": [
    "We will create a new dataset for linear regression below."
   ]
  },
  {
   "cell_type": "code",
   "execution_count": null,
   "id": "7d3335f1",
   "metadata": {},
   "outputs": [],
   "source": [
    "# create new dataframe for linear regression\n",
    "WMT_lr = WMT"
   ]
  },
  {
   "cell_type": "code",
   "execution_count": null,
   "id": "1e9fdd31",
   "metadata": {},
   "outputs": [],
   "source": [
    "WMT_lr = WMT_lr.drop('Symbol', axis=1)"
   ]
  },
  {
   "cell_type": "markdown",
   "id": "8294e2f5",
   "metadata": {},
   "source": [
    "First model created below. Without log transforming any of the features, we still see a high r-squared. "
   ]
  },
  {
   "cell_type": "code",
   "execution_count": null,
   "id": "db75d135",
   "metadata": {},
   "outputs": [],
   "source": [
    "# Model displays a very high R-squared which is promising\n",
    "b_wmt = 'Close~Gold+Ether+USD+PPI+SPClose'\n",
    "\n",
    "model_wmt = ols(formula=b_wmt, data=WMT_lr).fit()\n",
    "model_wmt.summary()"
   ]
  },
  {
   "cell_type": "code",
   "execution_count": null,
   "id": "5b8444b2",
   "metadata": {},
   "outputs": [],
   "source": [
    "# Visualize terms, specifically Gold\n",
    "\n",
    "fig = plt.figure(figsize=(10,5))\n",
    "fig = sm.graphics.plot_regress_exog(model_wmt, \"Gold\", fig=fig)\n",
    "plt.show()"
   ]
  },
  {
   "cell_type": "markdown",
   "id": "502440bf",
   "metadata": {},
   "source": [
    "We will begin log transforming Gold and the close price of WMT below. "
   ]
  },
  {
   "cell_type": "code",
   "execution_count": null,
   "id": "63788f92",
   "metadata": {},
   "outputs": [],
   "source": [
    "# Gold\n",
    "WMT_lr['Gold'].hist()"
   ]
  },
  {
   "cell_type": "code",
   "execution_count": null,
   "id": "5ce950bd",
   "metadata": {},
   "outputs": [],
   "source": [
    "# in order to scale this distribution we will need to perform a log transform \n",
    "WMT_lr['log_Gold'] = np.log(WMT_lr['Gold'])\n",
    "WMT_lr['log_Gold'].hist()"
   ]
  },
  {
   "cell_type": "code",
   "execution_count": null,
   "id": "95e82a9a",
   "metadata": {},
   "outputs": [],
   "source": [
    "WMT['Close'].hist()"
   ]
  },
  {
   "cell_type": "code",
   "execution_count": null,
   "id": "c52f2b7e",
   "metadata": {},
   "outputs": [],
   "source": [
    "WMT_lr['log_Close'] = np.log(WMT_lr['Close'])\n",
    "WMT_lr['log_Close'].hist()"
   ]
  },
  {
   "cell_type": "markdown",
   "id": "36b7cc67",
   "metadata": {},
   "source": [
    "The final model post log transformations, it shows a slightly lower r-squared but still is very high."
   ]
  },
  {
   "cell_type": "code",
   "execution_count": null,
   "id": "52110cc9",
   "metadata": {},
   "outputs": [],
   "source": [
    "# final model\n",
    "\n",
    "b2_wmt = 'log_Close~log_Gold+Ether+USD+PPI+SPClose'\n",
    "\n",
    "model2_wmt = ols(formula=b2_wmt, data=WMT_lr).fit()\n",
    "model2_wmt.summary()"
   ]
  },
  {
   "cell_type": "markdown",
   "id": "3713290c",
   "metadata": {},
   "source": [
    "The Q-Q plot below, for the second model, shows the normality of distribution. It also shows taht the model is linear. "
   ]
  },
  {
   "cell_type": "code",
   "execution_count": null,
   "id": "7c72e078",
   "metadata": {},
   "outputs": [],
   "source": [
    "residuals_wmt = model2_wmt.resid\n",
    "fig = sm.graphics.qqplot(residuals_wmt, dist=stats.norm, line='45', fit=True)\n",
    "fig.show()\n",
    "\n",
    "# Q-Q plot shows normality of distribution "
   ]
  },
  {
   "cell_type": "code",
   "execution_count": null,
   "id": "9ef49ba6",
   "metadata": {},
   "outputs": [],
   "source": [
    "# This histogram shows the normal distribution\n",
    "residuals_wmt.hist()"
   ]
  },
  {
   "cell_type": "code",
   "execution_count": null,
   "id": "b6477bb4",
   "metadata": {},
   "outputs": [],
   "source": [
    "# Perform White's test \n",
    "\n",
    "white_test_wmt = het_white(model2_wmt.resid, model2_wmt.model.exog)\n",
    "\n",
    "# define labels to use for output of White's test\n",
    "labels = ['Test Statistic', 'Test Statistic p-value', 'F-Statistic', 'F-Test p-value']\n",
    "\n",
    "# print results of White's test\n",
    "print(dict(zip(labels, white_test_wmt)))\n",
    "\n",
    "# p-value is small which shows that the residuals are homoscedastic and therefore evenly distributed"
   ]
  },
  {
   "cell_type": "code",
   "execution_count": null,
   "id": "226eec09",
   "metadata": {},
   "outputs": [],
   "source": [
    "residuals_wmt = model2_wmt.resid"
   ]
  },
  {
   "cell_type": "code",
   "execution_count": null,
   "id": "6a030e09",
   "metadata": {},
   "outputs": [],
   "source": [
    "X = WMT_lr.drop(['Close', 'log_Close'], axis=1)\n",
    "\n",
    "y_pred = model_wmt.predict(X)"
   ]
  },
  {
   "cell_type": "code",
   "execution_count": null,
   "id": "0efd6b63",
   "metadata": {},
   "outputs": [],
   "source": [
    "sns.scatterplot(y_pred,residuals_wmt).set(title='Residual Scatterplot')"
   ]
  },
  {
   "cell_type": "markdown",
   "id": "b499bf9c",
   "metadata": {},
   "source": [
    "Conduct mean squared error test to observe accuracy of Linear Regression for WMT. "
   ]
  },
  {
   "cell_type": "code",
   "execution_count": null,
   "id": "990b912a",
   "metadata": {},
   "outputs": [],
   "source": [
    "yr = WMT_lr['Gold']\n",
    "Xr = WMT_lr.drop(columns=['Gold'], axis=1)\n",
    "\n",
    "reg = LinearRegression().fit(Xr, yr)\n",
    "\n",
    "mean_squared_error(yr, reg.predict(Xr))"
   ]
  },
  {
   "cell_type": "markdown",
   "id": "180df570",
   "metadata": {},
   "source": [
    "Based on Linear Regression analysis, we can see that Linear Regression observed a much higher mean squared error than the SARIMA models. Therefore showing that the SARIMA model was a more accurate forecast."
   ]
  },
  {
   "cell_type": "markdown",
   "id": "bf2ba05a",
   "metadata": {},
   "source": [
    "### Linear Regression KO "
   ]
  },
  {
   "cell_type": "code",
   "execution_count": null,
   "id": "71a437ea",
   "metadata": {},
   "outputs": [],
   "source": [
    "# create new dataframe for KO\n",
    "ko_lr = KO"
   ]
  },
  {
   "cell_type": "markdown",
   "id": "ebb95ec0",
   "metadata": {},
   "source": [
    "For linear regression we do not need \"Symbol\" or \"Date\" columns, therefore we will drop them. "
   ]
  },
  {
   "cell_type": "code",
   "execution_count": null,
   "id": "b167c6e6",
   "metadata": {},
   "outputs": [],
   "source": [
    "ko_lr = ko_lr.drop([\"Symbol\",\"Date\"], axis=1)"
   ]
  },
  {
   "cell_type": "markdown",
   "id": "7ae9bc79",
   "metadata": {},
   "source": [
    "Like WMT, the initial model for WMT shows a relatively high r-squared. This is promising, but we will continue with log transformations to see if we are able to raise the r-squared higher.  "
   ]
  },
  {
   "cell_type": "code",
   "execution_count": null,
   "id": "4e0927f4",
   "metadata": {},
   "outputs": [],
   "source": [
    "# Model displays a very high R-squared \n",
    "b_ko = 'Close~Gold+Ether+USD+PPI+SPClose'\n",
    "\n",
    "model_ko = ols(formula=b_ko, data=ko_lr).fit()\n",
    "model_ko.summary()"
   ]
  },
  {
   "cell_type": "code",
   "execution_count": null,
   "id": "6898ca31",
   "metadata": {},
   "outputs": [],
   "source": [
    "# Visualize terms, specifically PPI\n",
    "\n",
    "fig = plt.figure(figsize=(10,5))\n",
    "fig = sm.graphics.plot_regress_exog(model_ko, \"PPI\", fig=fig)\n",
    "plt.show()"
   ]
  },
  {
   "cell_type": "code",
   "execution_count": null,
   "id": "a1756931",
   "metadata": {},
   "outputs": [],
   "source": [
    "ko_lr['Close'].hist()"
   ]
  },
  {
   "cell_type": "code",
   "execution_count": null,
   "id": "81f9e40d",
   "metadata": {},
   "outputs": [],
   "source": [
    "ko_lr['PPI'].hist()"
   ]
  },
  {
   "cell_type": "code",
   "execution_count": null,
   "id": "9b2525de",
   "metadata": {},
   "outputs": [],
   "source": [
    "ko_lr['log_Close'] = np.log(ko_lr['Close'])\n",
    "ko_lr['log_Close'].hist()"
   ]
  },
  {
   "cell_type": "code",
   "execution_count": null,
   "id": "d1eb434f",
   "metadata": {},
   "outputs": [],
   "source": [
    "ko_lr['log_PPI'] = np.log(ko_lr['PPI'])\n",
    "ko_lr['log_PPI'].hist()"
   ]
  },
  {
   "cell_type": "markdown",
   "id": "41345e28",
   "metadata": {},
   "source": [
    "Like WMT the r-squared was lowered after log transformations, regardless it is still a high r-squared and still applicable to our analysis. "
   ]
  },
  {
   "cell_type": "code",
   "execution_count": null,
   "id": "f707c173",
   "metadata": {},
   "outputs": [],
   "source": [
    "# final model\n",
    "\n",
    "b2_ko = 'log_Close~Gold+Ether+USD+log_PPI+SPClose'\n",
    "\n",
    "model2_ko = ols(formula=b2_ko, data=ko_lr).fit()\n",
    "model2_ko.summary()"
   ]
  },
  {
   "cell_type": "markdown",
   "id": "530bd014",
   "metadata": {},
   "source": [
    "The Q-Q plot shows that KO close price and PPI are linear with one another. Further proving the high r-squared. "
   ]
  },
  {
   "cell_type": "code",
   "execution_count": null,
   "id": "c88cfa3d",
   "metadata": {},
   "outputs": [],
   "source": [
    "residuals_ko = model2_ko.resid\n",
    "fig = sm.graphics.qqplot(residuals_ko, dist=stats.norm, line='45', fit=True)\n",
    "fig.show()\n",
    "\n",
    "# Q-Q plot shows normality of distribution "
   ]
  },
  {
   "cell_type": "code",
   "execution_count": null,
   "id": "ba099e5e",
   "metadata": {},
   "outputs": [],
   "source": [
    "# This histogram shows the normal distribution\n",
    "\n",
    "residuals_ko.hist()"
   ]
  },
  {
   "cell_type": "code",
   "execution_count": null,
   "id": "c591e7e6",
   "metadata": {},
   "outputs": [],
   "source": [
    "# Perform White's test \n",
    "\n",
    "white_test_ko = het_white(model2_ko.resid, model2_ko.model.exog)\n",
    "\n",
    "# define labels to use for output of White's test\n",
    "labels = ['Test Statistic', 'Test Statistic p-value', 'F-Statistic', 'F-Test p-value']\n",
    "\n",
    "# print results of White's test\n",
    "print(dict(zip(labels, white_test_ko)))"
   ]
  },
  {
   "cell_type": "code",
   "execution_count": null,
   "id": "ba23eb1f",
   "metadata": {},
   "outputs": [],
   "source": [
    "residuals_ko = model2_ko.resid"
   ]
  },
  {
   "cell_type": "code",
   "execution_count": null,
   "id": "4f6e23a3",
   "metadata": {},
   "outputs": [],
   "source": [
    "X_ko = ko_lr.drop(['Close', 'log_Close'], axis=1)\n",
    "\n",
    "y_pred_ko = model_ko.predict(X_ko)"
   ]
  },
  {
   "cell_type": "code",
   "execution_count": null,
   "id": "2874d917",
   "metadata": {},
   "outputs": [],
   "source": [
    "sns.scatterplot(y_pred_ko,residuals_ko).set(title='Residual Scatterplot')"
   ]
  },
  {
   "cell_type": "code",
   "execution_count": null,
   "id": "a74351f9",
   "metadata": {},
   "outputs": [],
   "source": [
    "yrk = ko_lr['PPI']\n",
    "Xrk = ko_lr.drop(columns=['PPI'], axis=1)"
   ]
  },
  {
   "cell_type": "code",
   "execution_count": null,
   "id": "90c66ea9",
   "metadata": {},
   "outputs": [],
   "source": [
    "regk = LinearRegression().fit(Xr, yrk)"
   ]
  },
  {
   "cell_type": "code",
   "execution_count": null,
   "id": "48cf2ed2",
   "metadata": {},
   "outputs": [],
   "source": [
    "mean_squared_error(yrk, regk.predict(Xrk))"
   ]
  },
  {
   "cell_type": "markdown",
   "id": "931fa1d5",
   "metadata": {},
   "source": [
    "The mean squared error is very high for Linear Regression of KO. We will use the SARIMA model for our recommendations. "
   ]
  },
  {
   "cell_type": "markdown",
   "id": "ea8dcabe",
   "metadata": {},
   "source": [
    "### Linear Regression PG"
   ]
  },
  {
   "cell_type": "markdown",
   "id": "148ed06c",
   "metadata": {},
   "source": [
    "Like the last two linear regression models, we will begin analysis by creating a new data frame for PG for linear regression. "
   ]
  },
  {
   "cell_type": "code",
   "execution_count": null,
   "id": "e70bdad8",
   "metadata": {},
   "outputs": [],
   "source": [
    "pg_lr = PG"
   ]
  },
  {
   "cell_type": "markdown",
   "id": "da051461",
   "metadata": {},
   "source": [
    "We will drop the Symbol and Date columns since these columns are irrelevant for linear regression analysis. "
   ]
  },
  {
   "cell_type": "code",
   "execution_count": null,
   "id": "98870904",
   "metadata": {},
   "outputs": [],
   "source": [
    "pg_lr = pg_lr.drop(['Symbol','Date'], axis=1)"
   ]
  },
  {
   "cell_type": "markdown",
   "id": "f42bad6d",
   "metadata": {},
   "source": [
    "The first linear regression model shows that PG almost has a perfect r-squared relationship with the features of the dataset. We will still try to raise the r-squared by performing log transformations. "
   ]
  },
  {
   "cell_type": "code",
   "execution_count": null,
   "id": "480fa488",
   "metadata": {},
   "outputs": [],
   "source": [
    "# Model displays a very high R-squared \n",
    "b_pg = 'Close~Gold+Ether+USD+PPI+SPClose'\n",
    "\n",
    "model_pg = ols(formula=b_pg, data=pg_lr).fit()\n",
    "model_pg.summary()"
   ]
  },
  {
   "cell_type": "code",
   "execution_count": null,
   "id": "17e1064e",
   "metadata": {},
   "outputs": [],
   "source": [
    "# Visualize terms, specifically Gold\n",
    "\n",
    "fig = plt.figure(figsize=(10,5))\n",
    "fig = sm.graphics.plot_regress_exog(model_pg, \"Gold\", fig=fig)\n",
    "plt.show()"
   ]
  },
  {
   "cell_type": "code",
   "execution_count": null,
   "id": "69356968",
   "metadata": {},
   "outputs": [],
   "source": [
    "# Gold\n",
    "pg_lr['Gold'].hist()"
   ]
  },
  {
   "cell_type": "code",
   "execution_count": null,
   "id": "b624a0dd",
   "metadata": {},
   "outputs": [],
   "source": [
    "pg_lr['Close'].hist()"
   ]
  },
  {
   "cell_type": "code",
   "execution_count": null,
   "id": "eaa4dab7",
   "metadata": {},
   "outputs": [],
   "source": [
    "# in order to scale this distribution we will need to perform a log transform \n",
    "\n",
    "pg_lr['log_Gold'] = np.log(pg_lr['Gold'])\n",
    "pg_lr['log_Gold'].hist()"
   ]
  },
  {
   "cell_type": "markdown",
   "id": "10fbc481",
   "metadata": {},
   "source": [
    "Unlike the last two linear regression models, log transformations did raise the r-squared for the PG. We will use this model for linear regression. "
   ]
  },
  {
   "cell_type": "code",
   "execution_count": null,
   "id": "fe4996c3",
   "metadata": {},
   "outputs": [],
   "source": [
    "# final model\n",
    "\n",
    "b2_pg = 'Close~log_Gold+Ether+USD+PPI+SPClose'\n",
    "\n",
    "model2_pg = ols(formula=b2_pg, data=pg_lr).fit()\n",
    "model2_pg.summary()"
   ]
  },
  {
   "cell_type": "code",
   "execution_count": null,
   "id": "7177a692",
   "metadata": {},
   "outputs": [],
   "source": [
    "# Perform White's test \n",
    "\n",
    "white_test_pg = het_white(model2_pg.resid, model2_pg.model.exog)\n",
    "\n",
    "# define labels to use for output of White's test\n",
    "labels = ['Test Statistic', 'Test Statistic p-value', 'F-Statistic', 'F-Test p-value']\n",
    "\n",
    "# print results of White's test\n",
    "print(dict(zip(labels, white_test_ko)))"
   ]
  },
  {
   "cell_type": "markdown",
   "id": "05da8d70",
   "metadata": {},
   "source": [
    "PG is nearly completely linear with Gold, as shown below with the Q-Q plot."
   ]
  },
  {
   "cell_type": "code",
   "execution_count": null,
   "id": "4752a0be",
   "metadata": {},
   "outputs": [],
   "source": [
    "residuals_pg = model2_pg.resid\n",
    "fig = sm.graphics.qqplot(residuals_pg, dist=stats.norm, line='45', fit=True)\n",
    "fig.show()\n",
    "\n",
    "# Q-Q plot shows normality of distribution "
   ]
  },
  {
   "cell_type": "code",
   "execution_count": null,
   "id": "88bc4e26",
   "metadata": {},
   "outputs": [],
   "source": [
    "residuals_pg.hist()"
   ]
  },
  {
   "cell_type": "code",
   "execution_count": null,
   "id": "af2beffc",
   "metadata": {},
   "outputs": [],
   "source": [
    "X_pg = pg_lr.drop(['Close'], axis=1)\n",
    "\n",
    "y_pred_pg = model_pg.predict(X_pg)"
   ]
  },
  {
   "cell_type": "code",
   "execution_count": null,
   "id": "d8bd1af4",
   "metadata": {},
   "outputs": [],
   "source": [
    "sns.scatterplot(y_pred_pg,residuals_pg).set(title='Residual Scatterplot')"
   ]
  },
  {
   "cell_type": "code",
   "execution_count": null,
   "id": "e1d79589",
   "metadata": {},
   "outputs": [],
   "source": [
    "yrp = pg_lr['Gold']\n",
    "Xrp = pg_lr.drop(columns=['Gold'], axis=1)\n",
    "\n",
    "regp = LinearRegression().fit(Xrp, yrp)\n",
    "\n",
    "mean_squared_error(yrp, regp.predict(Xrp))"
   ]
  },
  {
   "cell_type": "markdown",
   "id": "f3dd5189",
   "metadata": {},
   "source": [
    "## Conclusions"
   ]
  },
  {
   "cell_type": "markdown",
   "id": "3d612817",
   "metadata": {},
   "source": [
    "After analysis of the top three defensive stocks, determined by market cap, there were patterns that were observed. The main pattern observed was that defensive stocks did provide protection against market volatility. Based on these observations the recommendations go as follows: \n",
    "\n",
    "<br /> 1) Walmart showed to have an downward trend, hold or sell WMT. \n",
    "\n",
    "<br /> 2) KO showed to have an upward trend, buy KO.  \n",
    "\n",
    "<br /> 3) PG showed a upward trend, buy PG."
   ]
  },
  {
   "cell_type": "markdown",
   "id": "96d425be",
   "metadata": {},
   "source": [
    "## Next Steps "
   ]
  },
  {
   "cell_type": "markdown",
   "id": "a8196b15",
   "metadata": {},
   "source": [
    "1) This project focused mainly on recent market data, beginning in 2017. This created issues when trying to identify an accurate trend. For more accurate results we will gather information about the markets at an earlier date, starting preferably at 2010. \n",
    "\n",
    "2) We will include other indices such as the VIX, NASDAQ, and Dow Jones to provide a wider market perspective to see how defensive stocks hedge against moves in the broader market. "
   ]
  }
 ],
 "metadata": {
  "kernelspec": {
   "display_name": "Python 3",
   "language": "python",
   "name": "python3"
  },
  "language_info": {
   "codemirror_mode": {
    "name": "ipython",
    "version": 3
   },
   "file_extension": ".py",
   "mimetype": "text/x-python",
   "name": "python",
   "nbconvert_exporter": "python",
   "pygments_lexer": "ipython3",
   "version": "3.8.8"
  }
 },
 "nbformat": 4,
 "nbformat_minor": 5
}
