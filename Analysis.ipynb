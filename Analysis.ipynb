{
 "cells": [
  {
   "cell_type": "markdown",
   "id": "2077f0e3",
   "metadata": {},
   "source": [
    "# Defensive Stock Analysis"
   ]
  },
  {
   "cell_type": "markdown",
   "id": "9a8a8862",
   "metadata": {},
   "source": [
    "Which performs better Linear regression or time series? "
   ]
  },
  {
   "cell_type": "code",
   "execution_count": 1,
   "id": "9a27ba23",
   "metadata": {},
   "outputs": [],
   "source": [
    "import pandas as pd\n",
    "import numpy as np\n",
    "import matplotlib.pyplot as plt\n",
    "import seaborn as sns\n",
    "import itertools\n",
    "import zipfile\n",
    "import time\n",
    "from datetime import datetime\n",
    "from sklearn.model_selection import GroupShuffleSplit \n",
    "from sklearn.metrics import mean_squared_error\n",
    "from statsmodels.tsa.stattools import adfuller\n",
    "from statsmodels.graphics.tsaplots import plot_acf, plot_pacf\n",
    "from statsmodels.tsa.arima.model import ARIMA\n",
    "from statsmodels.tsa.statespace.sarimax import SARIMAX\n",
    "from sklearn.preprocessing import StandardScaler\n",
    "from pmdarima import auto_arima\n",
    "from sklearn.model_selection import train_test_split\n",
    "from sklearn.linear_model import LogisticRegression\n",
    "from sklearn.metrics import precision_score, recall_score, accuracy_score, f1_score, classification_report\n",
    "from sklearn import preprocessing\n",
    "from sklearn import utils\n",
    "import statsmodels.api as sm\n",
    "from pylab import rcParams\n",
    "%matplotlib inline"
   ]
  },
  {
   "cell_type": "code",
   "execution_count": 2,
   "id": "5569d3ec",
   "metadata": {},
   "outputs": [],
   "source": [
    "# with zipfile.ZipFile(\"Data/archive.zip\") as zip_ref:\n",
    "#     zip_ref.extractall(\"Data\")"
   ]
  },
  {
   "cell_type": "code",
   "execution_count": 3,
   "id": "e3de261e",
   "metadata": {},
   "outputs": [],
   "source": [
    "df1 = pd.read_csv('Data/sp500_companies.csv')\n",
    "df2 = pd.read_csv('Data/sp500_index.csv')\n",
    "df3 = pd.read_csv('Data/sp500_stocks.csv')\n",
    "dfg = pd.read_csv('Data/daily_gold_rate.csv')\n",
    "deth = pd.read_csv('Data/CBETHUSD.csv')\n",
    "dollar = pd.read_csv('Data/DTWEXBGS.csv')\n",
    "ppi = pd.read_csv('Data/WPU02850113.csv')"
   ]
  },
  {
   "cell_type": "markdown",
   "id": "6361f125",
   "metadata": {},
   "source": [
    "### Datasets "
   ]
  },
  {
   "cell_type": "markdown",
   "id": "0e7a2653",
   "metadata": {},
   "source": [
    "### Dataset #1"
   ]
  },
  {
   "cell_type": "code",
   "execution_count": 4,
   "id": "7e14fb9b",
   "metadata": {},
   "outputs": [
    {
     "data": {
      "text/html": [
       "<div>\n",
       "<style scoped>\n",
       "    .dataframe tbody tr th:only-of-type {\n",
       "        vertical-align: middle;\n",
       "    }\n",
       "\n",
       "    .dataframe tbody tr th {\n",
       "        vertical-align: top;\n",
       "    }\n",
       "\n",
       "    .dataframe thead th {\n",
       "        text-align: right;\n",
       "    }\n",
       "</style>\n",
       "<table border=\"1\" class=\"dataframe\">\n",
       "  <thead>\n",
       "    <tr style=\"text-align: right;\">\n",
       "      <th></th>\n",
       "      <th>Exchange</th>\n",
       "      <th>Symbol</th>\n",
       "      <th>Shortname</th>\n",
       "      <th>Longname</th>\n",
       "      <th>Sector</th>\n",
       "      <th>Industry</th>\n",
       "      <th>Currentprice</th>\n",
       "      <th>Marketcap</th>\n",
       "      <th>Ebitda</th>\n",
       "      <th>Revenuegrowth</th>\n",
       "      <th>City</th>\n",
       "      <th>State</th>\n",
       "      <th>Country</th>\n",
       "      <th>Fulltimeemployees</th>\n",
       "      <th>Longbusinesssummary</th>\n",
       "      <th>Weight</th>\n",
       "    </tr>\n",
       "  </thead>\n",
       "  <tbody>\n",
       "    <tr>\n",
       "      <th>0</th>\n",
       "      <td>NMS</td>\n",
       "      <td>AAPL</td>\n",
       "      <td>Apple Inc.</td>\n",
       "      <td>Apple Inc.</td>\n",
       "      <td>Technology</td>\n",
       "      <td>Consumer Electronics</td>\n",
       "      <td>149.70</td>\n",
       "      <td>2381442449408</td>\n",
       "      <td>1.305410e+11</td>\n",
       "      <td>0.081</td>\n",
       "      <td>Cupertino</td>\n",
       "      <td>CA</td>\n",
       "      <td>United States</td>\n",
       "      <td>164000.0</td>\n",
       "      <td>Apple Inc. designs, manufactures, and markets ...</td>\n",
       "      <td>0.067072</td>\n",
       "    </tr>\n",
       "    <tr>\n",
       "      <th>1</th>\n",
       "      <td>NMS</td>\n",
       "      <td>MSFT</td>\n",
       "      <td>Microsoft Corporation</td>\n",
       "      <td>Microsoft Corporation</td>\n",
       "      <td>Technology</td>\n",
       "      <td>Software—Infrastructure</td>\n",
       "      <td>247.11</td>\n",
       "      <td>1855296897024</td>\n",
       "      <td>9.798300e+10</td>\n",
       "      <td>0.124</td>\n",
       "      <td>Redmond</td>\n",
       "      <td>WA</td>\n",
       "      <td>United States</td>\n",
       "      <td>221000.0</td>\n",
       "      <td>Microsoft Corporation develops, licenses, and ...</td>\n",
       "      <td>0.052254</td>\n",
       "    </tr>\n",
       "    <tr>\n",
       "      <th>2</th>\n",
       "      <td>NMS</td>\n",
       "      <td>GOOGL</td>\n",
       "      <td>Alphabet Inc.</td>\n",
       "      <td>Alphabet Inc.</td>\n",
       "      <td>Communication Services</td>\n",
       "      <td>Internet Content &amp; Information</td>\n",
       "      <td>96.41</td>\n",
       "      <td>1249782136832</td>\n",
       "      <td>9.373300e+10</td>\n",
       "      <td>0.061</td>\n",
       "      <td>Mountain View</td>\n",
       "      <td>CA</td>\n",
       "      <td>United States</td>\n",
       "      <td>186779.0</td>\n",
       "      <td>Alphabet Inc. provides various products and pl...</td>\n",
       "      <td>0.035200</td>\n",
       "    </tr>\n",
       "    <tr>\n",
       "      <th>3</th>\n",
       "      <td>NMS</td>\n",
       "      <td>GOOG</td>\n",
       "      <td>Alphabet Inc.</td>\n",
       "      <td>Alphabet Inc.</td>\n",
       "      <td>Communication Services</td>\n",
       "      <td>Internet Content &amp; Information</td>\n",
       "      <td>96.73</td>\n",
       "      <td>1249780563968</td>\n",
       "      <td>9.373300e+10</td>\n",
       "      <td>0.061</td>\n",
       "      <td>Mountain View</td>\n",
       "      <td>CA</td>\n",
       "      <td>United States</td>\n",
       "      <td>186779.0</td>\n",
       "      <td>Alphabet Inc. provides various products and pl...</td>\n",
       "      <td>0.035200</td>\n",
       "    </tr>\n",
       "    <tr>\n",
       "      <th>4</th>\n",
       "      <td>NMS</td>\n",
       "      <td>AMZN</td>\n",
       "      <td>Amazon.com, Inc.</td>\n",
       "      <td>Amazon.com, Inc.</td>\n",
       "      <td>Consumer Cyclical</td>\n",
       "      <td>Internet Retail</td>\n",
       "      <td>100.79</td>\n",
       "      <td>1028229365760</td>\n",
       "      <td>5.154900e+10</td>\n",
       "      <td>0.147</td>\n",
       "      <td>Seattle</td>\n",
       "      <td>WA</td>\n",
       "      <td>United States</td>\n",
       "      <td>1544000.0</td>\n",
       "      <td>Amazon.com, Inc. engages in the retail sale of...</td>\n",
       "      <td>0.028960</td>\n",
       "    </tr>\n",
       "  </tbody>\n",
       "</table>\n",
       "</div>"
      ],
      "text/plain": [
       "  Exchange Symbol              Shortname               Longname  \\\n",
       "0      NMS   AAPL             Apple Inc.             Apple Inc.   \n",
       "1      NMS   MSFT  Microsoft Corporation  Microsoft Corporation   \n",
       "2      NMS  GOOGL          Alphabet Inc.          Alphabet Inc.   \n",
       "3      NMS   GOOG          Alphabet Inc.          Alphabet Inc.   \n",
       "4      NMS   AMZN       Amazon.com, Inc.       Amazon.com, Inc.   \n",
       "\n",
       "                   Sector                        Industry  Currentprice  \\\n",
       "0              Technology            Consumer Electronics        149.70   \n",
       "1              Technology         Software—Infrastructure        247.11   \n",
       "2  Communication Services  Internet Content & Information         96.41   \n",
       "3  Communication Services  Internet Content & Information         96.73   \n",
       "4       Consumer Cyclical                 Internet Retail        100.79   \n",
       "\n",
       "       Marketcap        Ebitda  Revenuegrowth           City State  \\\n",
       "0  2381442449408  1.305410e+11          0.081      Cupertino    CA   \n",
       "1  1855296897024  9.798300e+10          0.124        Redmond    WA   \n",
       "2  1249782136832  9.373300e+10          0.061  Mountain View    CA   \n",
       "3  1249780563968  9.373300e+10          0.061  Mountain View    CA   \n",
       "4  1028229365760  5.154900e+10          0.147        Seattle    WA   \n",
       "\n",
       "         Country  Fulltimeemployees  \\\n",
       "0  United States           164000.0   \n",
       "1  United States           221000.0   \n",
       "2  United States           186779.0   \n",
       "3  United States           186779.0   \n",
       "4  United States          1544000.0   \n",
       "\n",
       "                                 Longbusinesssummary    Weight  \n",
       "0  Apple Inc. designs, manufactures, and markets ...  0.067072  \n",
       "1  Microsoft Corporation develops, licenses, and ...  0.052254  \n",
       "2  Alphabet Inc. provides various products and pl...  0.035200  \n",
       "3  Alphabet Inc. provides various products and pl...  0.035200  \n",
       "4  Amazon.com, Inc. engages in the retail sale of...  0.028960  "
      ]
     },
     "execution_count": 4,
     "metadata": {},
     "output_type": "execute_result"
    }
   ],
   "source": [
    "df1.head()"
   ]
  },
  {
   "cell_type": "code",
   "execution_count": 5,
   "id": "a294d236",
   "metadata": {},
   "outputs": [
    {
     "data": {
      "text/html": [
       "<div>\n",
       "<style scoped>\n",
       "    .dataframe tbody tr th:only-of-type {\n",
       "        vertical-align: middle;\n",
       "    }\n",
       "\n",
       "    .dataframe tbody tr th {\n",
       "        vertical-align: top;\n",
       "    }\n",
       "\n",
       "    .dataframe thead th {\n",
       "        text-align: right;\n",
       "    }\n",
       "</style>\n",
       "<table border=\"1\" class=\"dataframe\">\n",
       "  <thead>\n",
       "    <tr style=\"text-align: right;\">\n",
       "      <th></th>\n",
       "      <th>Exchange</th>\n",
       "      <th>Symbol</th>\n",
       "      <th>Shortname</th>\n",
       "      <th>Longname</th>\n",
       "      <th>Sector</th>\n",
       "      <th>Industry</th>\n",
       "      <th>Currentprice</th>\n",
       "      <th>Marketcap</th>\n",
       "      <th>Ebitda</th>\n",
       "      <th>Revenuegrowth</th>\n",
       "      <th>City</th>\n",
       "      <th>State</th>\n",
       "      <th>Country</th>\n",
       "      <th>Fulltimeemployees</th>\n",
       "      <th>Longbusinesssummary</th>\n",
       "      <th>Weight</th>\n",
       "    </tr>\n",
       "  </thead>\n",
       "  <tbody>\n",
       "    <tr>\n",
       "      <th>11</th>\n",
       "      <td>NYQ</td>\n",
       "      <td>WMT</td>\n",
       "      <td>Walmart Inc.</td>\n",
       "      <td>Walmart Inc.</td>\n",
       "      <td>Consumer Defensive</td>\n",
       "      <td>Discount Stores</td>\n",
       "      <td>142.58</td>\n",
       "      <td>395499831296</td>\n",
       "      <td>3.458600e+10</td>\n",
       "      <td>0.084</td>\n",
       "      <td>Bentonville</td>\n",
       "      <td>AR</td>\n",
       "      <td>United States</td>\n",
       "      <td>2300000.0</td>\n",
       "      <td>Walmart Inc. engages in the operation of retai...</td>\n",
       "      <td>0.011139</td>\n",
       "    </tr>\n",
       "    <tr>\n",
       "      <th>13</th>\n",
       "      <td>NYQ</td>\n",
       "      <td>PG</td>\n",
       "      <td>Procter &amp; Gamble Company (The)</td>\n",
       "      <td>The Procter &amp; Gamble Company</td>\n",
       "      <td>Consumer Defensive</td>\n",
       "      <td>Household &amp; Personal Products</td>\n",
       "      <td>140.97</td>\n",
       "      <td>341140373504</td>\n",
       "      <td>2.136400e+10</td>\n",
       "      <td>0.013</td>\n",
       "      <td>Cincinnati</td>\n",
       "      <td>OH</td>\n",
       "      <td>United States</td>\n",
       "      <td>106000.0</td>\n",
       "      <td>The Procter &amp; Gamble Company provides branded ...</td>\n",
       "      <td>0.009608</td>\n",
       "    </tr>\n",
       "    <tr>\n",
       "      <th>20</th>\n",
       "      <td>NYQ</td>\n",
       "      <td>KO</td>\n",
       "      <td>Coca-Cola Company (The)</td>\n",
       "      <td>The Coca-Cola Company</td>\n",
       "      <td>Consumer Defensive</td>\n",
       "      <td>Beverages—Non-Alcoholic</td>\n",
       "      <td>61.32</td>\n",
       "      <td>264866824192</td>\n",
       "      <td>1.341400e+10</td>\n",
       "      <td>0.102</td>\n",
       "      <td>Atlanta</td>\n",
       "      <td>GA</td>\n",
       "      <td>United States</td>\n",
       "      <td>79000.0</td>\n",
       "      <td>The Coca-Cola Company, a beverage company, man...</td>\n",
       "      <td>0.007460</td>\n",
       "    </tr>\n",
       "    <tr>\n",
       "      <th>22</th>\n",
       "      <td>NMS</td>\n",
       "      <td>PEP</td>\n",
       "      <td>Pepsico, Inc.</td>\n",
       "      <td>PepsiCo, Inc.</td>\n",
       "      <td>Consumer Defensive</td>\n",
       "      <td>Beverages—Non-Alcoholic</td>\n",
       "      <td>178.05</td>\n",
       "      <td>246180839424</td>\n",
       "      <td>1.515600e+10</td>\n",
       "      <td>0.088</td>\n",
       "      <td>Purchase</td>\n",
       "      <td>NY</td>\n",
       "      <td>United States</td>\n",
       "      <td>309000.0</td>\n",
       "      <td>PepsiCo, Inc. manufactures, markets, distribut...</td>\n",
       "      <td>0.006934</td>\n",
       "    </tr>\n",
       "    <tr>\n",
       "      <th>23</th>\n",
       "      <td>NMS</td>\n",
       "      <td>COST</td>\n",
       "      <td>Costco Wholesale Corporation</td>\n",
       "      <td>Costco Wholesale Corporation</td>\n",
       "      <td>Consumer Defensive</td>\n",
       "      <td>Discount Stores</td>\n",
       "      <td>515.47</td>\n",
       "      <td>228575887360</td>\n",
       "      <td>9.693000e+09</td>\n",
       "      <td>0.150</td>\n",
       "      <td>Issaquah</td>\n",
       "      <td>WA</td>\n",
       "      <td>United States</td>\n",
       "      <td>304000.0</td>\n",
       "      <td>Costco Wholesale Corporation, together with it...</td>\n",
       "      <td>0.006438</td>\n",
       "    </tr>\n",
       "  </tbody>\n",
       "</table>\n",
       "</div>"
      ],
      "text/plain": [
       "   Exchange Symbol                       Shortname  \\\n",
       "11      NYQ    WMT                    Walmart Inc.   \n",
       "13      NYQ     PG  Procter & Gamble Company (The)   \n",
       "20      NYQ     KO         Coca-Cola Company (The)   \n",
       "22      NMS    PEP                   Pepsico, Inc.   \n",
       "23      NMS   COST    Costco Wholesale Corporation   \n",
       "\n",
       "                        Longname              Sector  \\\n",
       "11                  Walmart Inc.  Consumer Defensive   \n",
       "13  The Procter & Gamble Company  Consumer Defensive   \n",
       "20         The Coca-Cola Company  Consumer Defensive   \n",
       "22                 PepsiCo, Inc.  Consumer Defensive   \n",
       "23  Costco Wholesale Corporation  Consumer Defensive   \n",
       "\n",
       "                         Industry  Currentprice     Marketcap        Ebitda  \\\n",
       "11                Discount Stores        142.58  395499831296  3.458600e+10   \n",
       "13  Household & Personal Products        140.97  341140373504  2.136400e+10   \n",
       "20        Beverages—Non-Alcoholic         61.32  264866824192  1.341400e+10   \n",
       "22        Beverages—Non-Alcoholic        178.05  246180839424  1.515600e+10   \n",
       "23                Discount Stores        515.47  228575887360  9.693000e+09   \n",
       "\n",
       "    Revenuegrowth         City State        Country  Fulltimeemployees  \\\n",
       "11          0.084  Bentonville    AR  United States          2300000.0   \n",
       "13          0.013   Cincinnati    OH  United States           106000.0   \n",
       "20          0.102      Atlanta    GA  United States            79000.0   \n",
       "22          0.088     Purchase    NY  United States           309000.0   \n",
       "23          0.150     Issaquah    WA  United States           304000.0   \n",
       "\n",
       "                                  Longbusinesssummary    Weight  \n",
       "11  Walmart Inc. engages in the operation of retai...  0.011139  \n",
       "13  The Procter & Gamble Company provides branded ...  0.009608  \n",
       "20  The Coca-Cola Company, a beverage company, man...  0.007460  \n",
       "22  PepsiCo, Inc. manufactures, markets, distribut...  0.006934  \n",
       "23  Costco Wholesale Corporation, together with it...  0.006438  "
      ]
     },
     "execution_count": 5,
     "metadata": {},
     "output_type": "execute_result"
    }
   ],
   "source": [
    "df1 = df1[df1['Sector'] == 'Consumer Defensive']\n",
    "df1.head()"
   ]
  },
  {
   "cell_type": "markdown",
   "id": "f44ac9f3",
   "metadata": {},
   "source": [
    "### Dataset #2"
   ]
  },
  {
   "cell_type": "code",
   "execution_count": 6,
   "id": "a70666f8",
   "metadata": {},
   "outputs": [
    {
     "name": "stdout",
     "output_type": "stream",
     "text": [
      "<class 'pandas.core.frame.DataFrame'>\n",
      "RangeIndex: 2519 entries, 0 to 2518\n",
      "Data columns (total 2 columns):\n",
      " #   Column  Non-Null Count  Dtype  \n",
      "---  ------  --------------  -----  \n",
      " 0   Date    2519 non-null   object \n",
      " 1   S&P500  2519 non-null   float64\n",
      "dtypes: float64(1), object(1)\n",
      "memory usage: 39.5+ KB\n"
     ]
    }
   ],
   "source": [
    "df2.info()"
   ]
  },
  {
   "cell_type": "code",
   "execution_count": 7,
   "id": "f0dae194",
   "metadata": {},
   "outputs": [
    {
     "data": {
      "text/html": [
       "<div>\n",
       "<style scoped>\n",
       "    .dataframe tbody tr th:only-of-type {\n",
       "        vertical-align: middle;\n",
       "    }\n",
       "\n",
       "    .dataframe tbody tr th {\n",
       "        vertical-align: top;\n",
       "    }\n",
       "\n",
       "    .dataframe thead th {\n",
       "        text-align: right;\n",
       "    }\n",
       "</style>\n",
       "<table border=\"1\" class=\"dataframe\">\n",
       "  <thead>\n",
       "    <tr style=\"text-align: right;\">\n",
       "      <th></th>\n",
       "      <th>Date</th>\n",
       "      <th>S&amp;P500</th>\n",
       "    </tr>\n",
       "  </thead>\n",
       "  <tbody>\n",
       "    <tr>\n",
       "      <th>0</th>\n",
       "      <td>2012-11-12</td>\n",
       "      <td>1380.03</td>\n",
       "    </tr>\n",
       "    <tr>\n",
       "      <th>1</th>\n",
       "      <td>2012-11-13</td>\n",
       "      <td>1374.53</td>\n",
       "    </tr>\n",
       "    <tr>\n",
       "      <th>2</th>\n",
       "      <td>2012-11-14</td>\n",
       "      <td>1355.49</td>\n",
       "    </tr>\n",
       "    <tr>\n",
       "      <th>3</th>\n",
       "      <td>2012-11-15</td>\n",
       "      <td>1353.33</td>\n",
       "    </tr>\n",
       "    <tr>\n",
       "      <th>4</th>\n",
       "      <td>2012-11-16</td>\n",
       "      <td>1359.88</td>\n",
       "    </tr>\n",
       "  </tbody>\n",
       "</table>\n",
       "</div>"
      ],
      "text/plain": [
       "         Date   S&P500\n",
       "0  2012-11-12  1380.03\n",
       "1  2012-11-13  1374.53\n",
       "2  2012-11-14  1355.49\n",
       "3  2012-11-15  1353.33\n",
       "4  2012-11-16  1359.88"
      ]
     },
     "execution_count": 7,
     "metadata": {},
     "output_type": "execute_result"
    }
   ],
   "source": [
    "df2.head()"
   ]
  },
  {
   "cell_type": "code",
   "execution_count": 8,
   "id": "872956a9",
   "metadata": {},
   "outputs": [
    {
     "data": {
      "text/plain": [
       "(2519, 2)"
      ]
     },
     "execution_count": 8,
     "metadata": {},
     "output_type": "execute_result"
    }
   ],
   "source": [
    "df2.shape"
   ]
  },
  {
   "cell_type": "code",
   "execution_count": 9,
   "id": "de404587",
   "metadata": {},
   "outputs": [],
   "source": [
    "df2['Date'] = pd.to_datetime(df2['Date'],infer_datetime_format=True)"
   ]
  },
  {
   "cell_type": "code",
   "execution_count": 10,
   "id": "cd14277e",
   "metadata": {},
   "outputs": [],
   "source": [
    "df2=df2[df2['Date'] >= '2019-01-1']"
   ]
  },
  {
   "cell_type": "code",
   "execution_count": 11,
   "id": "36d35574",
   "metadata": {},
   "outputs": [],
   "source": [
    "df2 = df2.rename(columns={\"S&P500\":\"S&PClose\"})"
   ]
  },
  {
   "cell_type": "code",
   "execution_count": 12,
   "id": "b6b9e5d9",
   "metadata": {},
   "outputs": [],
   "source": [
    "df2['Symbol'] = \"S&P500\""
   ]
  },
  {
   "cell_type": "code",
   "execution_count": 13,
   "id": "65c5d9a2",
   "metadata": {},
   "outputs": [
    {
     "data": {
      "text/html": [
       "<div>\n",
       "<style scoped>\n",
       "    .dataframe tbody tr th:only-of-type {\n",
       "        vertical-align: middle;\n",
       "    }\n",
       "\n",
       "    .dataframe tbody tr th {\n",
       "        vertical-align: top;\n",
       "    }\n",
       "\n",
       "    .dataframe thead th {\n",
       "        text-align: right;\n",
       "    }\n",
       "</style>\n",
       "<table border=\"1\" class=\"dataframe\">\n",
       "  <thead>\n",
       "    <tr style=\"text-align: right;\">\n",
       "      <th></th>\n",
       "      <th>Date</th>\n",
       "      <th>S&amp;PClose</th>\n",
       "      <th>Symbol</th>\n",
       "    </tr>\n",
       "  </thead>\n",
       "  <tbody>\n",
       "    <tr>\n",
       "      <th>1544</th>\n",
       "      <td>2019-01-02</td>\n",
       "      <td>2510.03</td>\n",
       "      <td>S&amp;P500</td>\n",
       "    </tr>\n",
       "    <tr>\n",
       "      <th>1545</th>\n",
       "      <td>2019-01-03</td>\n",
       "      <td>2447.89</td>\n",
       "      <td>S&amp;P500</td>\n",
       "    </tr>\n",
       "    <tr>\n",
       "      <th>1546</th>\n",
       "      <td>2019-01-04</td>\n",
       "      <td>2531.94</td>\n",
       "      <td>S&amp;P500</td>\n",
       "    </tr>\n",
       "    <tr>\n",
       "      <th>1547</th>\n",
       "      <td>2019-01-07</td>\n",
       "      <td>2549.69</td>\n",
       "      <td>S&amp;P500</td>\n",
       "    </tr>\n",
       "    <tr>\n",
       "      <th>1548</th>\n",
       "      <td>2019-01-08</td>\n",
       "      <td>2574.41</td>\n",
       "      <td>S&amp;P500</td>\n",
       "    </tr>\n",
       "  </tbody>\n",
       "</table>\n",
       "</div>"
      ],
      "text/plain": [
       "           Date  S&PClose  Symbol\n",
       "1544 2019-01-02   2510.03  S&P500\n",
       "1545 2019-01-03   2447.89  S&P500\n",
       "1546 2019-01-04   2531.94  S&P500\n",
       "1547 2019-01-07   2549.69  S&P500\n",
       "1548 2019-01-08   2574.41  S&P500"
      ]
     },
     "execution_count": 13,
     "metadata": {},
     "output_type": "execute_result"
    }
   ],
   "source": [
    "df2.head()"
   ]
  },
  {
   "cell_type": "code",
   "execution_count": 14,
   "id": "c359903c",
   "metadata": {},
   "outputs": [
    {
     "data": {
      "text/plain": [
       "Date        0\n",
       "S&PClose    0\n",
       "Symbol      0\n",
       "dtype: int64"
      ]
     },
     "execution_count": 14,
     "metadata": {},
     "output_type": "execute_result"
    }
   ],
   "source": [
    "df2.isna().sum()"
   ]
  },
  {
   "cell_type": "markdown",
   "id": "3d4cbc41",
   "metadata": {},
   "source": [
    "### Dataset #3"
   ]
  },
  {
   "cell_type": "code",
   "execution_count": 15,
   "id": "0213c0fd",
   "metadata": {},
   "outputs": [
    {
     "name": "stdout",
     "output_type": "stream",
     "text": [
      "<class 'pandas.core.frame.DataFrame'>\n",
      "RangeIndex: 1629217 entries, 0 to 1629216\n",
      "Data columns (total 8 columns):\n",
      " #   Column     Non-Null Count    Dtype  \n",
      "---  ------     --------------    -----  \n",
      " 0   Date       1629217 non-null  object \n",
      " 1   Symbol     1629217 non-null  object \n",
      " 2   Adj Close  1560290 non-null  float64\n",
      " 3   Close      1560290 non-null  float64\n",
      " 4   High       1560290 non-null  float64\n",
      " 5   Low        1560290 non-null  float64\n",
      " 6   Open       1560290 non-null  float64\n",
      " 7   Volume     1560290 non-null  float64\n",
      "dtypes: float64(6), object(2)\n",
      "memory usage: 99.4+ MB\n"
     ]
    }
   ],
   "source": [
    "df3.info()"
   ]
  },
  {
   "cell_type": "code",
   "execution_count": 16,
   "id": "c79fe1d7",
   "metadata": {},
   "outputs": [],
   "source": [
    "df3['Date'] = pd.to_datetime(df3['Date'])"
   ]
  },
  {
   "cell_type": "code",
   "execution_count": 17,
   "id": "621d6383",
   "metadata": {},
   "outputs": [],
   "source": [
    "df3 = df3.drop(['Adj Close', 'High', 'Low', 'Open', 'Volume'], axis=1)"
   ]
  },
  {
   "cell_type": "code",
   "execution_count": 18,
   "id": "63eaea20",
   "metadata": {},
   "outputs": [
    {
     "data": {
      "text/html": [
       "<div>\n",
       "<style scoped>\n",
       "    .dataframe tbody tr th:only-of-type {\n",
       "        vertical-align: middle;\n",
       "    }\n",
       "\n",
       "    .dataframe tbody tr th {\n",
       "        vertical-align: top;\n",
       "    }\n",
       "\n",
       "    .dataframe thead th {\n",
       "        text-align: right;\n",
       "    }\n",
       "</style>\n",
       "<table border=\"1\" class=\"dataframe\">\n",
       "  <thead>\n",
       "    <tr style=\"text-align: right;\">\n",
       "      <th></th>\n",
       "      <th>Date</th>\n",
       "      <th>Symbol</th>\n",
       "      <th>Close</th>\n",
       "    </tr>\n",
       "  </thead>\n",
       "  <tbody>\n",
       "    <tr>\n",
       "      <th>0</th>\n",
       "      <td>2010-01-04</td>\n",
       "      <td>MMM</td>\n",
       "      <td>83.019997</td>\n",
       "    </tr>\n",
       "    <tr>\n",
       "      <th>1</th>\n",
       "      <td>2010-01-05</td>\n",
       "      <td>MMM</td>\n",
       "      <td>82.500000</td>\n",
       "    </tr>\n",
       "    <tr>\n",
       "      <th>2</th>\n",
       "      <td>2010-01-06</td>\n",
       "      <td>MMM</td>\n",
       "      <td>83.669998</td>\n",
       "    </tr>\n",
       "    <tr>\n",
       "      <th>3</th>\n",
       "      <td>2010-01-07</td>\n",
       "      <td>MMM</td>\n",
       "      <td>83.730003</td>\n",
       "    </tr>\n",
       "    <tr>\n",
       "      <th>4</th>\n",
       "      <td>2010-01-08</td>\n",
       "      <td>MMM</td>\n",
       "      <td>84.320000</td>\n",
       "    </tr>\n",
       "  </tbody>\n",
       "</table>\n",
       "</div>"
      ],
      "text/plain": [
       "        Date Symbol      Close\n",
       "0 2010-01-04    MMM  83.019997\n",
       "1 2010-01-05    MMM  82.500000\n",
       "2 2010-01-06    MMM  83.669998\n",
       "3 2010-01-07    MMM  83.730003\n",
       "4 2010-01-08    MMM  84.320000"
      ]
     },
     "execution_count": 18,
     "metadata": {},
     "output_type": "execute_result"
    }
   ],
   "source": [
    "df3.head()"
   ]
  },
  {
   "cell_type": "code",
   "execution_count": 19,
   "id": "11590625",
   "metadata": {},
   "outputs": [],
   "source": [
    "df3 = df3.loc[df3['Symbol'].isin(['PEP', 'KO', 'PG', 'WMT', 'COST'])]"
   ]
  },
  {
   "cell_type": "code",
   "execution_count": 20,
   "id": "3186b161",
   "metadata": {},
   "outputs": [
    {
     "data": {
      "text/plain": [
       "Date      0\n",
       "Symbol    0\n",
       "Close     0\n",
       "dtype: int64"
      ]
     },
     "execution_count": 20,
     "metadata": {},
     "output_type": "execute_result"
    }
   ],
   "source": [
    "df3.isna().sum()"
   ]
  },
  {
   "cell_type": "code",
   "execution_count": 21,
   "id": "38b340ad",
   "metadata": {},
   "outputs": [],
   "source": [
    "df3['Date'] = pd.to_datetime(df3['Date'],infer_datetime_format=True)"
   ]
  },
  {
   "cell_type": "code",
   "execution_count": 22,
   "id": "87cb5a13",
   "metadata": {},
   "outputs": [],
   "source": [
    "df3=df3[df3['Date'] >= '2019-01-1']"
   ]
  },
  {
   "cell_type": "code",
   "execution_count": 23,
   "id": "2e7db4a8",
   "metadata": {},
   "outputs": [
    {
     "data": {
      "text/html": [
       "<div>\n",
       "<style scoped>\n",
       "    .dataframe tbody tr th:only-of-type {\n",
       "        vertical-align: middle;\n",
       "    }\n",
       "\n",
       "    .dataframe tbody tr th {\n",
       "        vertical-align: top;\n",
       "    }\n",
       "\n",
       "    .dataframe thead th {\n",
       "        text-align: right;\n",
       "    }\n",
       "</style>\n",
       "<table border=\"1\" class=\"dataframe\">\n",
       "  <thead>\n",
       "    <tr style=\"text-align: right;\">\n",
       "      <th></th>\n",
       "      <th>Date</th>\n",
       "      <th>Symbol</th>\n",
       "      <th>Close</th>\n",
       "    </tr>\n",
       "  </thead>\n",
       "  <tbody>\n",
       "    <tr>\n",
       "      <th>384466</th>\n",
       "      <td>2019-01-02</td>\n",
       "      <td>KO</td>\n",
       "      <td>46.930000</td>\n",
       "    </tr>\n",
       "    <tr>\n",
       "      <th>384467</th>\n",
       "      <td>2019-01-03</td>\n",
       "      <td>KO</td>\n",
       "      <td>46.639999</td>\n",
       "    </tr>\n",
       "    <tr>\n",
       "      <th>384468</th>\n",
       "      <td>2019-01-04</td>\n",
       "      <td>KO</td>\n",
       "      <td>47.570000</td>\n",
       "    </tr>\n",
       "    <tr>\n",
       "      <th>384469</th>\n",
       "      <td>2019-01-07</td>\n",
       "      <td>KO</td>\n",
       "      <td>46.950001</td>\n",
       "    </tr>\n",
       "    <tr>\n",
       "      <th>384470</th>\n",
       "      <td>2019-01-08</td>\n",
       "      <td>KO</td>\n",
       "      <td>47.480000</td>\n",
       "    </tr>\n",
       "  </tbody>\n",
       "</table>\n",
       "</div>"
      ],
      "text/plain": [
       "             Date Symbol      Close\n",
       "384466 2019-01-02     KO  46.930000\n",
       "384467 2019-01-03     KO  46.639999\n",
       "384468 2019-01-04     KO  47.570000\n",
       "384469 2019-01-07     KO  46.950001\n",
       "384470 2019-01-08     KO  47.480000"
      ]
     },
     "execution_count": 23,
     "metadata": {},
     "output_type": "execute_result"
    }
   ],
   "source": [
    "df3.head()"
   ]
  },
  {
   "cell_type": "markdown",
   "id": "d199e331",
   "metadata": {},
   "source": [
    "### Dfg "
   ]
  },
  {
   "cell_type": "code",
   "execution_count": 24,
   "id": "85ce6718",
   "metadata": {},
   "outputs": [
    {
     "name": "stdout",
     "output_type": "stream",
     "text": [
      "<class 'pandas.core.frame.DataFrame'>\n",
      "RangeIndex: 9824 entries, 0 to 9823\n",
      "Data columns (total 7 columns):\n",
      " #   Column  Non-Null Count  Dtype  \n",
      "---  ------  --------------  -----  \n",
      " 0   Date    9824 non-null   object \n",
      " 1   USD     9824 non-null   float64\n",
      " 2   EUR     9824 non-null   float64\n",
      " 3   GBP     9824 non-null   float64\n",
      " 4   INR     9824 non-null   float64\n",
      " 5   AED     9824 non-null   float64\n",
      " 6   CNY     9820 non-null   float64\n",
      "dtypes: float64(6), object(1)\n",
      "memory usage: 537.4+ KB\n"
     ]
    }
   ],
   "source": [
    "dfg.info()"
   ]
  },
  {
   "cell_type": "code",
   "execution_count": 25,
   "id": "2be34764",
   "metadata": {},
   "outputs": [],
   "source": [
    "dfg = dfg.drop(['EUR','GBP','INR','AED','CNY'],axis=1)"
   ]
  },
  {
   "cell_type": "code",
   "execution_count": 26,
   "id": "e455a768",
   "metadata": {},
   "outputs": [],
   "source": [
    "dfg = dfg.rename(columns={\"USD\":\"Gold\"})"
   ]
  },
  {
   "cell_type": "code",
   "execution_count": 27,
   "id": "f67ea2f5",
   "metadata": {},
   "outputs": [
    {
     "data": {
      "text/plain": [
       "Date    0\n",
       "Gold    0\n",
       "dtype: int64"
      ]
     },
     "execution_count": 27,
     "metadata": {},
     "output_type": "execute_result"
    }
   ],
   "source": [
    "dfg.isna().sum()"
   ]
  },
  {
   "cell_type": "code",
   "execution_count": 28,
   "id": "a7a3f4ab",
   "metadata": {},
   "outputs": [],
   "source": [
    "dfg['Date'] = pd.to_datetime(dfg['Date'],infer_datetime_format=True)"
   ]
  },
  {
   "cell_type": "code",
   "execution_count": 29,
   "id": "9dec0d5c",
   "metadata": {},
   "outputs": [],
   "source": [
    "dfg=dfg[dfg['Date'] >= '2019-01-1']"
   ]
  },
  {
   "cell_type": "code",
   "execution_count": 30,
   "id": "ffa549f3",
   "metadata": {},
   "outputs": [
    {
     "data": {
      "text/html": [
       "<div>\n",
       "<style scoped>\n",
       "    .dataframe tbody tr th:only-of-type {\n",
       "        vertical-align: middle;\n",
       "    }\n",
       "\n",
       "    .dataframe tbody tr th {\n",
       "        vertical-align: top;\n",
       "    }\n",
       "\n",
       "    .dataframe thead th {\n",
       "        text-align: right;\n",
       "    }\n",
       "</style>\n",
       "<table border=\"1\" class=\"dataframe\">\n",
       "  <thead>\n",
       "    <tr style=\"text-align: right;\">\n",
       "      <th></th>\n",
       "      <th>Date</th>\n",
       "      <th>Gold</th>\n",
       "    </tr>\n",
       "  </thead>\n",
       "  <tbody>\n",
       "    <tr>\n",
       "      <th>8870</th>\n",
       "      <td>2019-01-01</td>\n",
       "      <td>1279.00</td>\n",
       "    </tr>\n",
       "    <tr>\n",
       "      <th>8871</th>\n",
       "      <td>2019-01-02</td>\n",
       "      <td>1282.90</td>\n",
       "    </tr>\n",
       "    <tr>\n",
       "      <th>8872</th>\n",
       "      <td>2019-01-03</td>\n",
       "      <td>1290.45</td>\n",
       "    </tr>\n",
       "    <tr>\n",
       "      <th>8873</th>\n",
       "      <td>2019-01-04</td>\n",
       "      <td>1279.90</td>\n",
       "    </tr>\n",
       "    <tr>\n",
       "      <th>8874</th>\n",
       "      <td>2019-01-07</td>\n",
       "      <td>1292.20</td>\n",
       "    </tr>\n",
       "  </tbody>\n",
       "</table>\n",
       "</div>"
      ],
      "text/plain": [
       "           Date     Gold\n",
       "8870 2019-01-01  1279.00\n",
       "8871 2019-01-02  1282.90\n",
       "8872 2019-01-03  1290.45\n",
       "8873 2019-01-04  1279.90\n",
       "8874 2019-01-07  1292.20"
      ]
     },
     "execution_count": 30,
     "metadata": {},
     "output_type": "execute_result"
    }
   ],
   "source": [
    "dfg.head()"
   ]
  },
  {
   "cell_type": "code",
   "execution_count": 31,
   "id": "842ae2e1",
   "metadata": {},
   "outputs": [
    {
     "name": "stdout",
     "output_type": "stream",
     "text": [
      "<class 'pandas.core.frame.DataFrame'>\n",
      "Int64Index: 954 entries, 8870 to 9823\n",
      "Data columns (total 2 columns):\n",
      " #   Column  Non-Null Count  Dtype         \n",
      "---  ------  --------------  -----         \n",
      " 0   Date    954 non-null    datetime64[ns]\n",
      " 1   Gold    954 non-null    float64       \n",
      "dtypes: datetime64[ns](1), float64(1)\n",
      "memory usage: 22.4 KB\n"
     ]
    }
   ],
   "source": [
    "dfg.info()"
   ]
  },
  {
   "cell_type": "markdown",
   "id": "15ace464",
   "metadata": {},
   "source": [
    "### Deth"
   ]
  },
  {
   "cell_type": "code",
   "execution_count": 32,
   "id": "77f6afa0",
   "metadata": {},
   "outputs": [
    {
     "name": "stdout",
     "output_type": "stream",
     "text": [
      "<class 'pandas.core.frame.DataFrame'>\n",
      "RangeIndex: 1827 entries, 0 to 1826\n",
      "Data columns (total 2 columns):\n",
      " #   Column    Non-Null Count  Dtype \n",
      "---  ------    --------------  ----- \n",
      " 0   DATE      1827 non-null   object\n",
      " 1   CBETHUSD  1827 non-null   object\n",
      "dtypes: object(2)\n",
      "memory usage: 28.7+ KB\n"
     ]
    }
   ],
   "source": [
    "deth.info()"
   ]
  },
  {
   "cell_type": "code",
   "execution_count": 33,
   "id": "14392767",
   "metadata": {},
   "outputs": [
    {
     "data": {
      "text/plain": [
       "DATE        0\n",
       "CBETHUSD    0\n",
       "dtype: int64"
      ]
     },
     "execution_count": 33,
     "metadata": {},
     "output_type": "execute_result"
    }
   ],
   "source": [
    "deth.isna().sum()"
   ]
  },
  {
   "cell_type": "code",
   "execution_count": 34,
   "id": "d4bbafde",
   "metadata": {},
   "outputs": [],
   "source": [
    "deth = deth.rename(columns={\"DATE\":\"Date\",\"CBETHUSD\":\"Ether\"})"
   ]
  },
  {
   "cell_type": "code",
   "execution_count": 35,
   "id": "81a299ac",
   "metadata": {},
   "outputs": [],
   "source": [
    "deth['Date'] = pd.to_datetime(deth['Date'],infer_datetime_format=True)"
   ]
  },
  {
   "cell_type": "code",
   "execution_count": 36,
   "id": "ba736d33",
   "metadata": {},
   "outputs": [],
   "source": [
    "deth=deth[deth['Date'] >= '2019-01-1']"
   ]
  },
  {
   "cell_type": "code",
   "execution_count": 37,
   "id": "f020bce4",
   "metadata": {},
   "outputs": [
    {
     "data": {
      "text/html": [
       "<div>\n",
       "<style scoped>\n",
       "    .dataframe tbody tr th:only-of-type {\n",
       "        vertical-align: middle;\n",
       "    }\n",
       "\n",
       "    .dataframe tbody tr th {\n",
       "        vertical-align: top;\n",
       "    }\n",
       "\n",
       "    .dataframe thead th {\n",
       "        text-align: right;\n",
       "    }\n",
       "</style>\n",
       "<table border=\"1\" class=\"dataframe\">\n",
       "  <thead>\n",
       "    <tr style=\"text-align: right;\">\n",
       "      <th></th>\n",
       "      <th>Date</th>\n",
       "      <th>Ether</th>\n",
       "    </tr>\n",
       "  </thead>\n",
       "  <tbody>\n",
       "    <tr>\n",
       "      <th>405</th>\n",
       "      <td>2019-01-01</td>\n",
       "      <td>139.75</td>\n",
       "    </tr>\n",
       "    <tr>\n",
       "      <th>406</th>\n",
       "      <td>2019-01-02</td>\n",
       "      <td>153.5</td>\n",
       "    </tr>\n",
       "    <tr>\n",
       "      <th>407</th>\n",
       "      <td>2019-01-03</td>\n",
       "      <td>147.23</td>\n",
       "    </tr>\n",
       "    <tr>\n",
       "      <th>408</th>\n",
       "      <td>2019-01-04</td>\n",
       "      <td>153.24</td>\n",
       "    </tr>\n",
       "    <tr>\n",
       "      <th>409</th>\n",
       "      <td>2019-01-05</td>\n",
       "      <td>154.21</td>\n",
       "    </tr>\n",
       "  </tbody>\n",
       "</table>\n",
       "</div>"
      ],
      "text/plain": [
       "          Date   Ether\n",
       "405 2019-01-01  139.75\n",
       "406 2019-01-02   153.5\n",
       "407 2019-01-03  147.23\n",
       "408 2019-01-04  153.24\n",
       "409 2019-01-05  154.21"
      ]
     },
     "execution_count": 37,
     "metadata": {},
     "output_type": "execute_result"
    }
   ],
   "source": [
    "deth.head()"
   ]
  },
  {
   "cell_type": "markdown",
   "id": "79b46f29",
   "metadata": {},
   "source": [
    "### Dollar"
   ]
  },
  {
   "cell_type": "code",
   "execution_count": 38,
   "id": "97f6128d",
   "metadata": {},
   "outputs": [
    {
     "name": "stdout",
     "output_type": "stream",
     "text": [
      "<class 'pandas.core.frame.DataFrame'>\n",
      "RangeIndex: 1305 entries, 0 to 1304\n",
      "Data columns (total 2 columns):\n",
      " #   Column    Non-Null Count  Dtype \n",
      "---  ------    --------------  ----- \n",
      " 0   DATE      1305 non-null   object\n",
      " 1   DTWEXBGS  1305 non-null   object\n",
      "dtypes: object(2)\n",
      "memory usage: 20.5+ KB\n"
     ]
    }
   ],
   "source": [
    "dollar.info()"
   ]
  },
  {
   "cell_type": "code",
   "execution_count": 39,
   "id": "4c9bedcd",
   "metadata": {},
   "outputs": [
    {
     "data": {
      "text/plain": [
       "DATE        0\n",
       "DTWEXBGS    0\n",
       "dtype: int64"
      ]
     },
     "execution_count": 39,
     "metadata": {},
     "output_type": "execute_result"
    }
   ],
   "source": [
    "dollar.isna().sum()"
   ]
  },
  {
   "cell_type": "code",
   "execution_count": 40,
   "id": "91884e27",
   "metadata": {},
   "outputs": [],
   "source": [
    "dollar = dollar.rename(columns={\"DATE\":\"Date\", \"DTWEXBGS\":\"USD\"})"
   ]
  },
  {
   "cell_type": "code",
   "execution_count": 41,
   "id": "ca781f62",
   "metadata": {},
   "outputs": [],
   "source": [
    "dollar['Date'] = pd.to_datetime(dollar['Date'],infer_datetime_format=True)"
   ]
  },
  {
   "cell_type": "code",
   "execution_count": 42,
   "id": "54999e3c",
   "metadata": {},
   "outputs": [],
   "source": [
    "dollar=dollar[dollar['Date'] >= '2019-01-1']"
   ]
  },
  {
   "cell_type": "code",
   "execution_count": 43,
   "id": "0b66f04b",
   "metadata": {},
   "outputs": [
    {
     "data": {
      "text/html": [
       "<div>\n",
       "<style scoped>\n",
       "    .dataframe tbody tr th:only-of-type {\n",
       "        vertical-align: middle;\n",
       "    }\n",
       "\n",
       "    .dataframe tbody tr th {\n",
       "        vertical-align: top;\n",
       "    }\n",
       "\n",
       "    .dataframe thead th {\n",
       "        text-align: right;\n",
       "    }\n",
       "</style>\n",
       "<table border=\"1\" class=\"dataframe\">\n",
       "  <thead>\n",
       "    <tr style=\"text-align: right;\">\n",
       "      <th></th>\n",
       "      <th>Date</th>\n",
       "      <th>USD</th>\n",
       "    </tr>\n",
       "  </thead>\n",
       "  <tbody>\n",
       "    <tr>\n",
       "      <th>291</th>\n",
       "      <td>2019-01-01</td>\n",
       "      <td>.</td>\n",
       "    </tr>\n",
       "    <tr>\n",
       "      <th>292</th>\n",
       "      <td>2019-01-02</td>\n",
       "      <td>115.7681</td>\n",
       "    </tr>\n",
       "    <tr>\n",
       "      <th>293</th>\n",
       "      <td>2019-01-03</td>\n",
       "      <td>115.4621</td>\n",
       "    </tr>\n",
       "    <tr>\n",
       "      <th>294</th>\n",
       "      <td>2019-01-04</td>\n",
       "      <td>114.9822</td>\n",
       "    </tr>\n",
       "    <tr>\n",
       "      <th>295</th>\n",
       "      <td>2019-01-07</td>\n",
       "      <td>114.5631</td>\n",
       "    </tr>\n",
       "  </tbody>\n",
       "</table>\n",
       "</div>"
      ],
      "text/plain": [
       "          Date       USD\n",
       "291 2019-01-01         .\n",
       "292 2019-01-02  115.7681\n",
       "293 2019-01-03  115.4621\n",
       "294 2019-01-04  114.9822\n",
       "295 2019-01-07  114.5631"
      ]
     },
     "execution_count": 43,
     "metadata": {},
     "output_type": "execute_result"
    }
   ],
   "source": [
    "dollar.head()"
   ]
  },
  {
   "cell_type": "code",
   "execution_count": 44,
   "id": "50cdbdc2",
   "metadata": {},
   "outputs": [
    {
     "data": {
      "text/html": [
       "<div>\n",
       "<style scoped>\n",
       "    .dataframe tbody tr th:only-of-type {\n",
       "        vertical-align: middle;\n",
       "    }\n",
       "\n",
       "    .dataframe tbody tr th {\n",
       "        vertical-align: top;\n",
       "    }\n",
       "\n",
       "    .dataframe thead th {\n",
       "        text-align: right;\n",
       "    }\n",
       "</style>\n",
       "<table border=\"1\" class=\"dataframe\">\n",
       "  <thead>\n",
       "    <tr style=\"text-align: right;\">\n",
       "      <th></th>\n",
       "      <th>Date</th>\n",
       "      <th>USD</th>\n",
       "    </tr>\n",
       "  </thead>\n",
       "  <tbody>\n",
       "    <tr>\n",
       "      <th>1300</th>\n",
       "      <td>2022-11-14</td>\n",
       "      <td>123.5788</td>\n",
       "    </tr>\n",
       "    <tr>\n",
       "      <th>1301</th>\n",
       "      <td>2022-11-15</td>\n",
       "      <td>123.1759</td>\n",
       "    </tr>\n",
       "    <tr>\n",
       "      <th>1302</th>\n",
       "      <td>2022-11-16</td>\n",
       "      <td>123.4178</td>\n",
       "    </tr>\n",
       "    <tr>\n",
       "      <th>1303</th>\n",
       "      <td>2022-11-17</td>\n",
       "      <td>124.1229</td>\n",
       "    </tr>\n",
       "    <tr>\n",
       "      <th>1304</th>\n",
       "      <td>2022-11-18</td>\n",
       "      <td>123.9828</td>\n",
       "    </tr>\n",
       "  </tbody>\n",
       "</table>\n",
       "</div>"
      ],
      "text/plain": [
       "           Date       USD\n",
       "1300 2022-11-14  123.5788\n",
       "1301 2022-11-15  123.1759\n",
       "1302 2022-11-16  123.4178\n",
       "1303 2022-11-17  124.1229\n",
       "1304 2022-11-18  123.9828"
      ]
     },
     "execution_count": 44,
     "metadata": {},
     "output_type": "execute_result"
    }
   ],
   "source": [
    "dollar.tail()"
   ]
  },
  {
   "cell_type": "markdown",
   "id": "66651af6",
   "metadata": {},
   "source": [
    "### PPI "
   ]
  },
  {
   "cell_type": "code",
   "execution_count": 45,
   "id": "9e19b701",
   "metadata": {},
   "outputs": [
    {
     "name": "stdout",
     "output_type": "stream",
     "text": [
      "<class 'pandas.core.frame.DataFrame'>\n",
      "RangeIndex: 479 entries, 0 to 478\n",
      "Data columns (total 2 columns):\n",
      " #   Column       Non-Null Count  Dtype  \n",
      "---  ------       --------------  -----  \n",
      " 0   DATE         479 non-null    object \n",
      " 1   WPU02850113  479 non-null    float64\n",
      "dtypes: float64(1), object(1)\n",
      "memory usage: 7.6+ KB\n"
     ]
    }
   ],
   "source": [
    "ppi.info()"
   ]
  },
  {
   "cell_type": "code",
   "execution_count": 46,
   "id": "a22f792a",
   "metadata": {},
   "outputs": [
    {
     "data": {
      "text/plain": [
       "DATE           0\n",
       "WPU02850113    0\n",
       "dtype: int64"
      ]
     },
     "execution_count": 46,
     "metadata": {},
     "output_type": "execute_result"
    }
   ],
   "source": [
    "ppi.isna().sum()"
   ]
  },
  {
   "cell_type": "code",
   "execution_count": 47,
   "id": "2e2262cb",
   "metadata": {},
   "outputs": [],
   "source": [
    "ppi = ppi.rename(columns={\"DATE\":\"Date\", \"WPU02850113\":\"PPI\"})"
   ]
  },
  {
   "cell_type": "code",
   "execution_count": 48,
   "id": "2866d95d",
   "metadata": {},
   "outputs": [],
   "source": [
    "ppi['Date'] = pd.to_datetime(ppi['Date'],infer_datetime_format=True)"
   ]
  },
  {
   "cell_type": "code",
   "execution_count": 49,
   "id": "be3258bd",
   "metadata": {},
   "outputs": [],
   "source": [
    "ppi=ppi[ppi['Date'] >= '2019-01-1']"
   ]
  },
  {
   "cell_type": "code",
   "execution_count": 50,
   "id": "436c9e38",
   "metadata": {},
   "outputs": [
    {
     "data": {
      "text/html": [
       "<div>\n",
       "<style scoped>\n",
       "    .dataframe tbody tr th:only-of-type {\n",
       "        vertical-align: middle;\n",
       "    }\n",
       "\n",
       "    .dataframe tbody tr th {\n",
       "        vertical-align: top;\n",
       "    }\n",
       "\n",
       "    .dataframe thead th {\n",
       "        text-align: right;\n",
       "    }\n",
       "</style>\n",
       "<table border=\"1\" class=\"dataframe\">\n",
       "  <thead>\n",
       "    <tr style=\"text-align: right;\">\n",
       "      <th></th>\n",
       "      <th>Date</th>\n",
       "      <th>PPI</th>\n",
       "    </tr>\n",
       "  </thead>\n",
       "  <tbody>\n",
       "    <tr>\n",
       "      <th>433</th>\n",
       "      <td>2019-01-01</td>\n",
       "      <td>188.3</td>\n",
       "    </tr>\n",
       "    <tr>\n",
       "      <th>434</th>\n",
       "      <td>2019-02-01</td>\n",
       "      <td>185.2</td>\n",
       "    </tr>\n",
       "    <tr>\n",
       "      <th>435</th>\n",
       "      <td>2019-03-01</td>\n",
       "      <td>186.4</td>\n",
       "    </tr>\n",
       "    <tr>\n",
       "      <th>436</th>\n",
       "      <td>2019-04-01</td>\n",
       "      <td>187.0</td>\n",
       "    </tr>\n",
       "    <tr>\n",
       "      <th>437</th>\n",
       "      <td>2019-05-01</td>\n",
       "      <td>184.6</td>\n",
       "    </tr>\n",
       "  </tbody>\n",
       "</table>\n",
       "</div>"
      ],
      "text/plain": [
       "          Date    PPI\n",
       "433 2019-01-01  188.3\n",
       "434 2019-02-01  185.2\n",
       "435 2019-03-01  186.4\n",
       "436 2019-04-01  187.0\n",
       "437 2019-05-01  184.6"
      ]
     },
     "execution_count": 50,
     "metadata": {},
     "output_type": "execute_result"
    }
   ],
   "source": [
    "ppi.head()"
   ]
  },
  {
   "cell_type": "markdown",
   "id": "33b92a82",
   "metadata": {},
   "source": [
    "### Merge datasets"
   ]
  },
  {
   "cell_type": "code",
   "execution_count": 51,
   "id": "5cdd19d8",
   "metadata": {},
   "outputs": [],
   "source": [
    "df4 = pd.merge(df2,df3, on='Date', how='outer')"
   ]
  },
  {
   "cell_type": "code",
   "execution_count": 52,
   "id": "e1dfb667",
   "metadata": {
    "scrolled": true
   },
   "outputs": [],
   "source": [
    "df4 = pd.merge(df4, dfg, on='Date')"
   ]
  },
  {
   "cell_type": "code",
   "execution_count": 53,
   "id": "71645309",
   "metadata": {},
   "outputs": [],
   "source": [
    "df4 = pd.merge(df4, deth, on='Date')"
   ]
  },
  {
   "cell_type": "code",
   "execution_count": 54,
   "id": "f49ad812",
   "metadata": {},
   "outputs": [],
   "source": [
    "df4 = pd.merge(df4, dollar, on='Date')"
   ]
  },
  {
   "cell_type": "code",
   "execution_count": 55,
   "id": "a9a9c30d",
   "metadata": {},
   "outputs": [],
   "source": [
    "df4 = pd.merge(df4, ppi, on='Date')"
   ]
  },
  {
   "cell_type": "code",
   "execution_count": 56,
   "id": "0df60467",
   "metadata": {},
   "outputs": [
    {
     "data": {
      "text/html": [
       "<div>\n",
       "<style scoped>\n",
       "    .dataframe tbody tr th:only-of-type {\n",
       "        vertical-align: middle;\n",
       "    }\n",
       "\n",
       "    .dataframe tbody tr th {\n",
       "        vertical-align: top;\n",
       "    }\n",
       "\n",
       "    .dataframe thead th {\n",
       "        text-align: right;\n",
       "    }\n",
       "</style>\n",
       "<table border=\"1\" class=\"dataframe\">\n",
       "  <thead>\n",
       "    <tr style=\"text-align: right;\">\n",
       "      <th></th>\n",
       "      <th>Date</th>\n",
       "      <th>S&amp;PClose</th>\n",
       "      <th>Symbol_y</th>\n",
       "      <th>Close</th>\n",
       "      <th>Gold</th>\n",
       "      <th>Ether</th>\n",
       "      <th>USD</th>\n",
       "      <th>PPI</th>\n",
       "    </tr>\n",
       "  </thead>\n",
       "  <tbody>\n",
       "    <tr>\n",
       "      <th>0</th>\n",
       "      <td>2019-02-01</td>\n",
       "      <td>2706.53</td>\n",
       "      <td>KO</td>\n",
       "      <td>48.700001</td>\n",
       "      <td>1318.7</td>\n",
       "      <td>105.88</td>\n",
       "      <td>113.7529</td>\n",
       "      <td>185.200</td>\n",
       "    </tr>\n",
       "    <tr>\n",
       "      <th>1</th>\n",
       "      <td>2019-02-01</td>\n",
       "      <td>2706.53</td>\n",
       "      <td>COST</td>\n",
       "      <td>210.270004</td>\n",
       "      <td>1318.7</td>\n",
       "      <td>105.88</td>\n",
       "      <td>113.7529</td>\n",
       "      <td>185.200</td>\n",
       "    </tr>\n",
       "    <tr>\n",
       "      <th>2</th>\n",
       "      <td>2019-02-01</td>\n",
       "      <td>2706.53</td>\n",
       "      <td>PEP</td>\n",
       "      <td>112.190002</td>\n",
       "      <td>1318.7</td>\n",
       "      <td>105.88</td>\n",
       "      <td>113.7529</td>\n",
       "      <td>185.200</td>\n",
       "    </tr>\n",
       "    <tr>\n",
       "      <th>3</th>\n",
       "      <td>2019-02-01</td>\n",
       "      <td>2706.53</td>\n",
       "      <td>PG</td>\n",
       "      <td>97.470001</td>\n",
       "      <td>1318.7</td>\n",
       "      <td>105.88</td>\n",
       "      <td>113.7529</td>\n",
       "      <td>185.200</td>\n",
       "    </tr>\n",
       "    <tr>\n",
       "      <th>4</th>\n",
       "      <td>2019-02-01</td>\n",
       "      <td>2706.53</td>\n",
       "      <td>WMT</td>\n",
       "      <td>93.860001</td>\n",
       "      <td>1318.7</td>\n",
       "      <td>105.88</td>\n",
       "      <td>113.7529</td>\n",
       "      <td>185.200</td>\n",
       "    </tr>\n",
       "    <tr>\n",
       "      <th>...</th>\n",
       "      <td>...</td>\n",
       "      <td>...</td>\n",
       "      <td>...</td>\n",
       "      <td>...</td>\n",
       "      <td>...</td>\n",
       "      <td>...</td>\n",
       "      <td>...</td>\n",
       "      <td>...</td>\n",
       "    </tr>\n",
       "    <tr>\n",
       "      <th>145</th>\n",
       "      <td>2022-08-01</td>\n",
       "      <td>4118.63</td>\n",
       "      <td>KO</td>\n",
       "      <td>64.519997</td>\n",
       "      <td>1772.4</td>\n",
       "      <td>1629.76</td>\n",
       "      <td>121.5001</td>\n",
       "      <td>269.651</td>\n",
       "    </tr>\n",
       "    <tr>\n",
       "      <th>146</th>\n",
       "      <td>2022-08-01</td>\n",
       "      <td>4118.63</td>\n",
       "      <td>COST</td>\n",
       "      <td>546.809998</td>\n",
       "      <td>1772.4</td>\n",
       "      <td>1629.76</td>\n",
       "      <td>121.5001</td>\n",
       "      <td>269.651</td>\n",
       "    </tr>\n",
       "    <tr>\n",
       "      <th>147</th>\n",
       "      <td>2022-08-01</td>\n",
       "      <td>4118.63</td>\n",
       "      <td>PEP</td>\n",
       "      <td>176.949997</td>\n",
       "      <td>1772.4</td>\n",
       "      <td>1629.76</td>\n",
       "      <td>121.5001</td>\n",
       "      <td>269.651</td>\n",
       "    </tr>\n",
       "    <tr>\n",
       "      <th>148</th>\n",
       "      <td>2022-08-01</td>\n",
       "      <td>4118.63</td>\n",
       "      <td>PG</td>\n",
       "      <td>142.899994</td>\n",
       "      <td>1772.4</td>\n",
       "      <td>1629.76</td>\n",
       "      <td>121.5001</td>\n",
       "      <td>269.651</td>\n",
       "    </tr>\n",
       "    <tr>\n",
       "      <th>149</th>\n",
       "      <td>2022-08-01</td>\n",
       "      <td>4118.63</td>\n",
       "      <td>WMT</td>\n",
       "      <td>132.539993</td>\n",
       "      <td>1772.4</td>\n",
       "      <td>1629.76</td>\n",
       "      <td>121.5001</td>\n",
       "      <td>269.651</td>\n",
       "    </tr>\n",
       "  </tbody>\n",
       "</table>\n",
       "<p>150 rows × 8 columns</p>\n",
       "</div>"
      ],
      "text/plain": [
       "          Date  S&PClose Symbol_y       Close    Gold    Ether       USD  \\\n",
       "0   2019-02-01   2706.53       KO   48.700001  1318.7   105.88  113.7529   \n",
       "1   2019-02-01   2706.53     COST  210.270004  1318.7   105.88  113.7529   \n",
       "2   2019-02-01   2706.53      PEP  112.190002  1318.7   105.88  113.7529   \n",
       "3   2019-02-01   2706.53       PG   97.470001  1318.7   105.88  113.7529   \n",
       "4   2019-02-01   2706.53      WMT   93.860001  1318.7   105.88  113.7529   \n",
       "..         ...       ...      ...         ...     ...      ...       ...   \n",
       "145 2022-08-01   4118.63       KO   64.519997  1772.4  1629.76  121.5001   \n",
       "146 2022-08-01   4118.63     COST  546.809998  1772.4  1629.76  121.5001   \n",
       "147 2022-08-01   4118.63      PEP  176.949997  1772.4  1629.76  121.5001   \n",
       "148 2022-08-01   4118.63       PG  142.899994  1772.4  1629.76  121.5001   \n",
       "149 2022-08-01   4118.63      WMT  132.539993  1772.4  1629.76  121.5001   \n",
       "\n",
       "         PPI  \n",
       "0    185.200  \n",
       "1    185.200  \n",
       "2    185.200  \n",
       "3    185.200  \n",
       "4    185.200  \n",
       "..       ...  \n",
       "145  269.651  \n",
       "146  269.651  \n",
       "147  269.651  \n",
       "148  269.651  \n",
       "149  269.651  \n",
       "\n",
       "[150 rows x 8 columns]"
      ]
     },
     "execution_count": 56,
     "metadata": {},
     "output_type": "execute_result"
    }
   ],
   "source": [
    "df4.drop('Symbol_x', axis=1)"
   ]
  },
  {
   "cell_type": "code",
   "execution_count": 57,
   "id": "f97af627",
   "metadata": {},
   "outputs": [],
   "source": [
    "df4 = df4.rename(columns={'Symbol_y': 'Symbol'})"
   ]
  },
  {
   "cell_type": "code",
   "execution_count": 58,
   "id": "c13ea833",
   "metadata": {},
   "outputs": [],
   "source": [
    "df4 = df4[['Date', 'Symbol', 'Close', 'S&PClose','Gold','Ether','USD','PPI']]"
   ]
  },
  {
   "cell_type": "code",
   "execution_count": 59,
   "id": "f7de3902",
   "metadata": {},
   "outputs": [
    {
     "data": {
      "text/html": [
       "<div>\n",
       "<style scoped>\n",
       "    .dataframe tbody tr th:only-of-type {\n",
       "        vertical-align: middle;\n",
       "    }\n",
       "\n",
       "    .dataframe tbody tr th {\n",
       "        vertical-align: top;\n",
       "    }\n",
       "\n",
       "    .dataframe thead th {\n",
       "        text-align: right;\n",
       "    }\n",
       "</style>\n",
       "<table border=\"1\" class=\"dataframe\">\n",
       "  <thead>\n",
       "    <tr style=\"text-align: right;\">\n",
       "      <th></th>\n",
       "      <th>Date</th>\n",
       "      <th>Symbol</th>\n",
       "      <th>Close</th>\n",
       "      <th>S&amp;PClose</th>\n",
       "      <th>Gold</th>\n",
       "      <th>Ether</th>\n",
       "      <th>USD</th>\n",
       "      <th>PPI</th>\n",
       "    </tr>\n",
       "  </thead>\n",
       "  <tbody>\n",
       "    <tr>\n",
       "      <th>0</th>\n",
       "      <td>2019-02-01</td>\n",
       "      <td>KO</td>\n",
       "      <td>48.700001</td>\n",
       "      <td>2706.53</td>\n",
       "      <td>1318.7</td>\n",
       "      <td>105.88</td>\n",
       "      <td>113.7529</td>\n",
       "      <td>185.2</td>\n",
       "    </tr>\n",
       "    <tr>\n",
       "      <th>1</th>\n",
       "      <td>2019-02-01</td>\n",
       "      <td>COST</td>\n",
       "      <td>210.270004</td>\n",
       "      <td>2706.53</td>\n",
       "      <td>1318.7</td>\n",
       "      <td>105.88</td>\n",
       "      <td>113.7529</td>\n",
       "      <td>185.2</td>\n",
       "    </tr>\n",
       "    <tr>\n",
       "      <th>2</th>\n",
       "      <td>2019-02-01</td>\n",
       "      <td>PEP</td>\n",
       "      <td>112.190002</td>\n",
       "      <td>2706.53</td>\n",
       "      <td>1318.7</td>\n",
       "      <td>105.88</td>\n",
       "      <td>113.7529</td>\n",
       "      <td>185.2</td>\n",
       "    </tr>\n",
       "    <tr>\n",
       "      <th>3</th>\n",
       "      <td>2019-02-01</td>\n",
       "      <td>PG</td>\n",
       "      <td>97.470001</td>\n",
       "      <td>2706.53</td>\n",
       "      <td>1318.7</td>\n",
       "      <td>105.88</td>\n",
       "      <td>113.7529</td>\n",
       "      <td>185.2</td>\n",
       "    </tr>\n",
       "    <tr>\n",
       "      <th>4</th>\n",
       "      <td>2019-02-01</td>\n",
       "      <td>WMT</td>\n",
       "      <td>93.860001</td>\n",
       "      <td>2706.53</td>\n",
       "      <td>1318.7</td>\n",
       "      <td>105.88</td>\n",
       "      <td>113.7529</td>\n",
       "      <td>185.2</td>\n",
       "    </tr>\n",
       "  </tbody>\n",
       "</table>\n",
       "</div>"
      ],
      "text/plain": [
       "        Date Symbol       Close  S&PClose    Gold   Ether       USD    PPI\n",
       "0 2019-02-01     KO   48.700001   2706.53  1318.7  105.88  113.7529  185.2\n",
       "1 2019-02-01   COST  210.270004   2706.53  1318.7  105.88  113.7529  185.2\n",
       "2 2019-02-01    PEP  112.190002   2706.53  1318.7  105.88  113.7529  185.2\n",
       "3 2019-02-01     PG   97.470001   2706.53  1318.7  105.88  113.7529  185.2\n",
       "4 2019-02-01    WMT   93.860001   2706.53  1318.7  105.88  113.7529  185.2"
      ]
     },
     "execution_count": 59,
     "metadata": {},
     "output_type": "execute_result"
    }
   ],
   "source": [
    "df4.head()"
   ]
  },
  {
   "cell_type": "code",
   "execution_count": 60,
   "id": "b1b24d1b",
   "metadata": {},
   "outputs": [],
   "source": [
    "df4['USD']=df4['USD'].astype(float)"
   ]
  },
  {
   "cell_type": "code",
   "execution_count": 61,
   "id": "e139456f",
   "metadata": {},
   "outputs": [],
   "source": [
    "df4['Ether']=df4['Ether'].astype(float)"
   ]
  },
  {
   "cell_type": "code",
   "execution_count": 62,
   "id": "42207b9b",
   "metadata": {},
   "outputs": [
    {
     "name": "stdout",
     "output_type": "stream",
     "text": [
      "<class 'pandas.core.frame.DataFrame'>\n",
      "Int64Index: 150 entries, 0 to 149\n",
      "Data columns (total 8 columns):\n",
      " #   Column    Non-Null Count  Dtype         \n",
      "---  ------    --------------  -----         \n",
      " 0   Date      150 non-null    datetime64[ns]\n",
      " 1   Symbol    150 non-null    object        \n",
      " 2   Close     150 non-null    float64       \n",
      " 3   S&PClose  150 non-null    float64       \n",
      " 4   Gold      150 non-null    float64       \n",
      " 5   Ether     150 non-null    float64       \n",
      " 6   USD       150 non-null    float64       \n",
      " 7   PPI       150 non-null    float64       \n",
      "dtypes: datetime64[ns](1), float64(6), object(1)\n",
      "memory usage: 10.5+ KB\n"
     ]
    }
   ],
   "source": [
    "df4.info()"
   ]
  },
  {
   "cell_type": "markdown",
   "id": "63ed054c",
   "metadata": {},
   "source": [
    "### EDA"
   ]
  },
  {
   "cell_type": "code",
   "execution_count": 63,
   "id": "5494d365",
   "metadata": {},
   "outputs": [],
   "source": [
    "symbol_groups = df4.groupby(by='Symbol')"
   ]
  },
  {
   "cell_type": "code",
   "execution_count": 64,
   "id": "182dcb92",
   "metadata": {},
   "outputs": [],
   "source": [
    "# corr = symbol_groups.corr()\n",
    "# corr\n",
    "\n",
    "# why is Ether USD and PPI not showing up?"
   ]
  },
  {
   "cell_type": "code",
   "execution_count": 65,
   "id": "ce7e7c9f",
   "metadata": {},
   "outputs": [],
   "source": [
    "# # Build heatmap\n",
    "\n",
    "# # Set up figure and axis\n",
    "# fig, ax = plt.subplots(figsize=(25, 20))\n",
    "\n",
    "# sns.heatmap(symbol_groups.corr(), \n",
    "#             # Mask to show only half the values instead of showing duplicates\n",
    "#             mask=np.triu(np.ones_like(corr, dtype=bool)),\n",
    "#             # Specifies that we want values not just colors\n",
    "#             annot = True,\n",
    "#             linewidths = 10,\n",
    "#             center=0);\n",
    "\n",
    "# ax.hlines([6, 12, 18, 24],*ax.get_xlim())"
   ]
  },
  {
   "cell_type": "code",
   "execution_count": 66,
   "id": "186598fa",
   "metadata": {},
   "outputs": [],
   "source": [
    "COST = symbol_groups.get_group('COST')\n",
    "WMT = symbol_groups.get_group('WMT')\n",
    "KO = symbol_groups.get_group('KO')\n",
    "PG = symbol_groups.get_group('PG')\n",
    "PEP = symbol_groups.get_group('PEP')"
   ]
  },
  {
   "cell_type": "markdown",
   "id": "6edd5c71",
   "metadata": {},
   "source": [
    "### COST EDA "
   ]
  },
  {
   "cell_type": "code",
   "execution_count": 67,
   "id": "05bd3872",
   "metadata": {},
   "outputs": [
    {
     "data": {
      "text/html": [
       "<div>\n",
       "<style scoped>\n",
       "    .dataframe tbody tr th:only-of-type {\n",
       "        vertical-align: middle;\n",
       "    }\n",
       "\n",
       "    .dataframe tbody tr th {\n",
       "        vertical-align: top;\n",
       "    }\n",
       "\n",
       "    .dataframe thead th {\n",
       "        text-align: right;\n",
       "    }\n",
       "</style>\n",
       "<table border=\"1\" class=\"dataframe\">\n",
       "  <thead>\n",
       "    <tr style=\"text-align: right;\">\n",
       "      <th></th>\n",
       "      <th>Close</th>\n",
       "      <th>S&amp;PClose</th>\n",
       "      <th>Gold</th>\n",
       "      <th>Ether</th>\n",
       "      <th>USD</th>\n",
       "      <th>PPI</th>\n",
       "    </tr>\n",
       "  </thead>\n",
       "  <tbody>\n",
       "    <tr>\n",
       "      <th>Close</th>\n",
       "      <td>1.000000</td>\n",
       "      <td>0.889469</td>\n",
       "      <td>0.747417</td>\n",
       "      <td>0.816349</td>\n",
       "      <td>0.026124</td>\n",
       "      <td>0.799072</td>\n",
       "    </tr>\n",
       "    <tr>\n",
       "      <th>S&amp;PClose</th>\n",
       "      <td>0.889469</td>\n",
       "      <td>1.000000</td>\n",
       "      <td>0.726014</td>\n",
       "      <td>0.918236</td>\n",
       "      <td>-0.363941</td>\n",
       "      <td>0.607492</td>\n",
       "    </tr>\n",
       "    <tr>\n",
       "      <th>Gold</th>\n",
       "      <td>0.747417</td>\n",
       "      <td>0.726014</td>\n",
       "      <td>1.000000</td>\n",
       "      <td>0.564521</td>\n",
       "      <td>-0.008767</td>\n",
       "      <td>0.509451</td>\n",
       "    </tr>\n",
       "    <tr>\n",
       "      <th>Ether</th>\n",
       "      <td>0.816349</td>\n",
       "      <td>0.918236</td>\n",
       "      <td>0.564521</td>\n",
       "      <td>1.000000</td>\n",
       "      <td>-0.338625</td>\n",
       "      <td>0.454566</td>\n",
       "    </tr>\n",
       "    <tr>\n",
       "      <th>USD</th>\n",
       "      <td>0.026124</td>\n",
       "      <td>-0.363941</td>\n",
       "      <td>-0.008767</td>\n",
       "      <td>-0.338625</td>\n",
       "      <td>1.000000</td>\n",
       "      <td>0.219452</td>\n",
       "    </tr>\n",
       "    <tr>\n",
       "      <th>PPI</th>\n",
       "      <td>0.799072</td>\n",
       "      <td>0.607492</td>\n",
       "      <td>0.509451</td>\n",
       "      <td>0.454566</td>\n",
       "      <td>0.219452</td>\n",
       "      <td>1.000000</td>\n",
       "    </tr>\n",
       "  </tbody>\n",
       "</table>\n",
       "</div>"
      ],
      "text/plain": [
       "             Close  S&PClose      Gold     Ether       USD       PPI\n",
       "Close     1.000000  0.889469  0.747417  0.816349  0.026124  0.799072\n",
       "S&PClose  0.889469  1.000000  0.726014  0.918236 -0.363941  0.607492\n",
       "Gold      0.747417  0.726014  1.000000  0.564521 -0.008767  0.509451\n",
       "Ether     0.816349  0.918236  0.564521  1.000000 -0.338625  0.454566\n",
       "USD       0.026124 -0.363941 -0.008767 -0.338625  1.000000  0.219452\n",
       "PPI       0.799072  0.607492  0.509451  0.454566  0.219452  1.000000"
      ]
     },
     "execution_count": 67,
     "metadata": {},
     "output_type": "execute_result"
    }
   ],
   "source": [
    "cost_corr = COST.corr()\n",
    "cost_corr"
   ]
  },
  {
   "cell_type": "code",
   "execution_count": 68,
   "id": "23ed4f58",
   "metadata": {},
   "outputs": [
    {
     "data": {
      "image/png": "[encoded data removed]",
      "text/plain": [
       "<Figure size 1800x1440 with 2 Axes>"
      ]
     },
     "metadata": {
      "needs_background": "light"
     },
     "output_type": "display_data"
    }
   ],
   "source": [
    "# Build heatmap\n",
    "\n",
    "# Set up figure and axis\n",
    "fig, ax = plt.subplots(figsize=(25, 20))\n",
    "\n",
    "sns.heatmap(COST.corr(), \n",
    "            # Mask to show only half the values instead of showing duplicates\n",
    "            mask=np.triu(np.ones_like(cost_corr, dtype=bool)),\n",
    "            # Specifies that we want values not just colors\n",
    "            annot = True,\n",
    "            linewidths = 10,\n",
    "            center=0);\n",
    "\n",
    "# ax.hlines([6, 12, 18, 24],*ax.get_xlim())"
   ]
  },
  {
   "cell_type": "code",
   "execution_count": 69,
   "id": "cbe3ae61",
   "metadata": {},
   "outputs": [
    {
     "data": {
      "text/plain": [
       "<AxesSubplot:xlabel='Date'>"
      ]
     },
     "execution_count": 69,
     "metadata": {},
     "output_type": "execute_result"
    },
    {
     "data": {
      "image/png": "[encoded data removed]",
      "text/plain": [
       "<Figure size 432x288 with 1 Axes>"
      ]
     },
     "metadata": {
      "needs_background": "light"
     },
     "output_type": "display_data"
    }
   ],
   "source": [
    "COST.plot(x='Date',y='Close')"
   ]
  },
  {
   "cell_type": "markdown",
   "id": "d0e70938",
   "metadata": {},
   "source": [
    "### WMT EDA"
   ]
  },
  {
   "cell_type": "code",
   "execution_count": 70,
   "id": "7141b392",
   "metadata": {},
   "outputs": [
    {
     "data": {
      "text/html": [
       "<div>\n",
       "<style scoped>\n",
       "    .dataframe tbody tr th:only-of-type {\n",
       "        vertical-align: middle;\n",
       "    }\n",
       "\n",
       "    .dataframe tbody tr th {\n",
       "        vertical-align: top;\n",
       "    }\n",
       "\n",
       "    .dataframe thead th {\n",
       "        text-align: right;\n",
       "    }\n",
       "</style>\n",
       "<table border=\"1\" class=\"dataframe\">\n",
       "  <thead>\n",
       "    <tr style=\"text-align: right;\">\n",
       "      <th></th>\n",
       "      <th>Close</th>\n",
       "      <th>S&amp;PClose</th>\n",
       "      <th>Gold</th>\n",
       "      <th>Ether</th>\n",
       "      <th>USD</th>\n",
       "      <th>PPI</th>\n",
       "    </tr>\n",
       "  </thead>\n",
       "  <tbody>\n",
       "    <tr>\n",
       "      <th>Close</th>\n",
       "      <td>1.000000</td>\n",
       "      <td>0.794307</td>\n",
       "      <td>0.901195</td>\n",
       "      <td>0.662717</td>\n",
       "      <td>-0.247395</td>\n",
       "      <td>0.371778</td>\n",
       "    </tr>\n",
       "    <tr>\n",
       "      <th>S&amp;PClose</th>\n",
       "      <td>0.794307</td>\n",
       "      <td>1.000000</td>\n",
       "      <td>0.726014</td>\n",
       "      <td>0.918236</td>\n",
       "      <td>-0.363941</td>\n",
       "      <td>0.607492</td>\n",
       "    </tr>\n",
       "    <tr>\n",
       "      <th>Gold</th>\n",
       "      <td>0.901195</td>\n",
       "      <td>0.726014</td>\n",
       "      <td>1.000000</td>\n",
       "      <td>0.564521</td>\n",
       "      <td>-0.008767</td>\n",
       "      <td>0.509451</td>\n",
       "    </tr>\n",
       "    <tr>\n",
       "      <th>Ether</th>\n",
       "      <td>0.662717</td>\n",
       "      <td>0.918236</td>\n",
       "      <td>0.564521</td>\n",
       "      <td>1.000000</td>\n",
       "      <td>-0.338625</td>\n",
       "      <td>0.454566</td>\n",
       "    </tr>\n",
       "    <tr>\n",
       "      <th>USD</th>\n",
       "      <td>-0.247395</td>\n",
       "      <td>-0.363941</td>\n",
       "      <td>-0.008767</td>\n",
       "      <td>-0.338625</td>\n",
       "      <td>1.000000</td>\n",
       "      <td>0.219452</td>\n",
       "    </tr>\n",
       "    <tr>\n",
       "      <th>PPI</th>\n",
       "      <td>0.371778</td>\n",
       "      <td>0.607492</td>\n",
       "      <td>0.509451</td>\n",
       "      <td>0.454566</td>\n",
       "      <td>0.219452</td>\n",
       "      <td>1.000000</td>\n",
       "    </tr>\n",
       "  </tbody>\n",
       "</table>\n",
       "</div>"
      ],
      "text/plain": [
       "             Close  S&PClose      Gold     Ether       USD       PPI\n",
       "Close     1.000000  0.794307  0.901195  0.662717 -0.247395  0.371778\n",
       "S&PClose  0.794307  1.000000  0.726014  0.918236 -0.363941  0.607492\n",
       "Gold      0.901195  0.726014  1.000000  0.564521 -0.008767  0.509451\n",
       "Ether     0.662717  0.918236  0.564521  1.000000 -0.338625  0.454566\n",
       "USD      -0.247395 -0.363941 -0.008767 -0.338625  1.000000  0.219452\n",
       "PPI       0.371778  0.607492  0.509451  0.454566  0.219452  1.000000"
      ]
     },
     "execution_count": 70,
     "metadata": {},
     "output_type": "execute_result"
    }
   ],
   "source": [
    "wmt_corr = WMT.corr()\n",
    "wmt_corr"
   ]
  },
  {
   "cell_type": "code",
   "execution_count": 71,
   "id": "ee02830c",
   "metadata": {},
   "outputs": [
    {
     "data": {
      "image/png": "[encoded data removed]",
      "text/plain": [
       "<Figure size 1800x1440 with 2 Axes>"
      ]
     },
     "metadata": {
      "needs_background": "light"
     },
     "output_type": "display_data"
    }
   ],
   "source": [
    "# Build heatmap\n",
    "\n",
    "# Set up figure and axis\n",
    "fig, ax = plt.subplots(figsize=(25, 20))\n",
    "\n",
    "sns.heatmap(WMT.corr(), \n",
    "            # Mask to show only half the values instead of showing duplicates\n",
    "            mask=np.triu(np.ones_like(wmt_corr, dtype=bool)),\n",
    "            # Specifies that we want values not just colors\n",
    "            annot = True,\n",
    "            linewidths = 10,\n",
    "            center=0);"
   ]
  },
  {
   "cell_type": "code",
   "execution_count": 72,
   "id": "e6b51b54",
   "metadata": {},
   "outputs": [
    {
     "data": {
      "text/plain": [
       "<AxesSubplot:xlabel='Date'>"
      ]
     },
     "execution_count": 72,
     "metadata": {},
     "output_type": "execute_result"
    },
    {
     "data": {
      "image/png": "[encoded data removed]",
      "text/plain": [
       "<Figure size 432x288 with 1 Axes>"
      ]
     },
     "metadata": {
      "needs_background": "light"
     },
     "output_type": "display_data"
    }
   ],
   "source": [
    "WMT.plot(x='Date',y='Close')"
   ]
  },
  {
   "cell_type": "markdown",
   "id": "91de0579",
   "metadata": {},
   "source": [
    "### KO EDA "
   ]
  },
  {
   "cell_type": "code",
   "execution_count": 73,
   "id": "848b828e",
   "metadata": {},
   "outputs": [
    {
     "data": {
      "text/html": [
       "<div>\n",
       "<style scoped>\n",
       "    .dataframe tbody tr th:only-of-type {\n",
       "        vertical-align: middle;\n",
       "    }\n",
       "\n",
       "    .dataframe tbody tr th {\n",
       "        vertical-align: top;\n",
       "    }\n",
       "\n",
       "    .dataframe thead th {\n",
       "        text-align: right;\n",
       "    }\n",
       "</style>\n",
       "<table border=\"1\" class=\"dataframe\">\n",
       "  <thead>\n",
       "    <tr style=\"text-align: right;\">\n",
       "      <th></th>\n",
       "      <th>Close</th>\n",
       "      <th>S&amp;PClose</th>\n",
       "      <th>Gold</th>\n",
       "      <th>Ether</th>\n",
       "      <th>USD</th>\n",
       "      <th>PPI</th>\n",
       "    </tr>\n",
       "  </thead>\n",
       "  <tbody>\n",
       "    <tr>\n",
       "      <th>Close</th>\n",
       "      <td>1.000000</td>\n",
       "      <td>0.700515</td>\n",
       "      <td>0.437022</td>\n",
       "      <td>0.552605</td>\n",
       "      <td>-0.027155</td>\n",
       "      <td>0.858936</td>\n",
       "    </tr>\n",
       "    <tr>\n",
       "      <th>S&amp;PClose</th>\n",
       "      <td>0.700515</td>\n",
       "      <td>1.000000</td>\n",
       "      <td>0.726014</td>\n",
       "      <td>0.918236</td>\n",
       "      <td>-0.363941</td>\n",
       "      <td>0.607492</td>\n",
       "    </tr>\n",
       "    <tr>\n",
       "      <th>Gold</th>\n",
       "      <td>0.437022</td>\n",
       "      <td>0.726014</td>\n",
       "      <td>1.000000</td>\n",
       "      <td>0.564521</td>\n",
       "      <td>-0.008767</td>\n",
       "      <td>0.509451</td>\n",
       "    </tr>\n",
       "    <tr>\n",
       "      <th>Ether</th>\n",
       "      <td>0.552605</td>\n",
       "      <td>0.918236</td>\n",
       "      <td>0.564521</td>\n",
       "      <td>1.000000</td>\n",
       "      <td>-0.338625</td>\n",
       "      <td>0.454566</td>\n",
       "    </tr>\n",
       "    <tr>\n",
       "      <th>USD</th>\n",
       "      <td>-0.027155</td>\n",
       "      <td>-0.363941</td>\n",
       "      <td>-0.008767</td>\n",
       "      <td>-0.338625</td>\n",
       "      <td>1.000000</td>\n",
       "      <td>0.219452</td>\n",
       "    </tr>\n",
       "    <tr>\n",
       "      <th>PPI</th>\n",
       "      <td>0.858936</td>\n",
       "      <td>0.607492</td>\n",
       "      <td>0.509451</td>\n",
       "      <td>0.454566</td>\n",
       "      <td>0.219452</td>\n",
       "      <td>1.000000</td>\n",
       "    </tr>\n",
       "  </tbody>\n",
       "</table>\n",
       "</div>"
      ],
      "text/plain": [
       "             Close  S&PClose      Gold     Ether       USD       PPI\n",
       "Close     1.000000  0.700515  0.437022  0.552605 -0.027155  0.858936\n",
       "S&PClose  0.700515  1.000000  0.726014  0.918236 -0.363941  0.607492\n",
       "Gold      0.437022  0.726014  1.000000  0.564521 -0.008767  0.509451\n",
       "Ether     0.552605  0.918236  0.564521  1.000000 -0.338625  0.454566\n",
       "USD      -0.027155 -0.363941 -0.008767 -0.338625  1.000000  0.219452\n",
       "PPI       0.858936  0.607492  0.509451  0.454566  0.219452  1.000000"
      ]
     },
     "execution_count": 73,
     "metadata": {},
     "output_type": "execute_result"
    }
   ],
   "source": [
    "ko_corr = KO.corr()\n",
    "ko_corr"
   ]
  },
  {
   "cell_type": "code",
   "execution_count": 74,
   "id": "8cb34730",
   "metadata": {},
   "outputs": [
    {
     "data": {
      "image/png": "[encoded data removed]",
      "text/plain": [
       "<Figure size 1800x1440 with 2 Axes>"
      ]
     },
     "metadata": {
      "needs_background": "light"
     },
     "output_type": "display_data"
    }
   ],
   "source": [
    "# Build heatmap\n",
    "\n",
    "# Set up figure and axis\n",
    "fig, ax = plt.subplots(figsize=(25, 20))\n",
    "\n",
    "sns.heatmap(KO.corr(), \n",
    "            # Mask to show only half the values instead of showing duplicates\n",
    "            mask=np.triu(np.ones_like(ko_corr, dtype=bool)),\n",
    "            # Specifies that we want values not just colors\n",
    "            annot = True,\n",
    "            linewidths = 10,\n",
    "            center=0);"
   ]
  },
  {
   "cell_type": "code",
   "execution_count": 75,
   "id": "7e145e51",
   "metadata": {},
   "outputs": [
    {
     "data": {
      "text/plain": [
       "<AxesSubplot:xlabel='Date'>"
      ]
     },
     "execution_count": 75,
     "metadata": {},
     "output_type": "execute_result"
    },
    {
     "data": {
      "image/png": "[encoded data removed]",
      "text/plain": [
       "<Figure size 432x288 with 1 Axes>"
      ]
     },
     "metadata": {
      "needs_background": "light"
     },
     "output_type": "display_data"
    }
   ],
   "source": [
    "KO.plot(x='Date',y='Close')"
   ]
  },
  {
   "cell_type": "markdown",
   "id": "d636aa26",
   "metadata": {},
   "source": [
    "### PG EDA "
   ]
  },
  {
   "cell_type": "code",
   "execution_count": 76,
   "id": "9791bd46",
   "metadata": {},
   "outputs": [
    {
     "data": {
      "text/html": [
       "<div>\n",
       "<style scoped>\n",
       "    .dataframe tbody tr th:only-of-type {\n",
       "        vertical-align: middle;\n",
       "    }\n",
       "\n",
       "    .dataframe tbody tr th {\n",
       "        vertical-align: top;\n",
       "    }\n",
       "\n",
       "    .dataframe thead th {\n",
       "        text-align: right;\n",
       "    }\n",
       "</style>\n",
       "<table border=\"1\" class=\"dataframe\">\n",
       "  <thead>\n",
       "    <tr style=\"text-align: right;\">\n",
       "      <th></th>\n",
       "      <th>Close</th>\n",
       "      <th>S&amp;PClose</th>\n",
       "      <th>Gold</th>\n",
       "      <th>Ether</th>\n",
       "      <th>USD</th>\n",
       "      <th>PPI</th>\n",
       "    </tr>\n",
       "  </thead>\n",
       "  <tbody>\n",
       "    <tr>\n",
       "      <th>Close</th>\n",
       "      <td>1.000000</td>\n",
       "      <td>0.877302</td>\n",
       "      <td>0.839692</td>\n",
       "      <td>0.730754</td>\n",
       "      <td>-0.068138</td>\n",
       "      <td>0.745125</td>\n",
       "    </tr>\n",
       "    <tr>\n",
       "      <th>S&amp;PClose</th>\n",
       "      <td>0.877302</td>\n",
       "      <td>1.000000</td>\n",
       "      <td>0.726014</td>\n",
       "      <td>0.918236</td>\n",
       "      <td>-0.363941</td>\n",
       "      <td>0.607492</td>\n",
       "    </tr>\n",
       "    <tr>\n",
       "      <th>Gold</th>\n",
       "      <td>0.839692</td>\n",
       "      <td>0.726014</td>\n",
       "      <td>1.000000</td>\n",
       "      <td>0.564521</td>\n",
       "      <td>-0.008767</td>\n",
       "      <td>0.509451</td>\n",
       "    </tr>\n",
       "    <tr>\n",
       "      <th>Ether</th>\n",
       "      <td>0.730754</td>\n",
       "      <td>0.918236</td>\n",
       "      <td>0.564521</td>\n",
       "      <td>1.000000</td>\n",
       "      <td>-0.338625</td>\n",
       "      <td>0.454566</td>\n",
       "    </tr>\n",
       "    <tr>\n",
       "      <th>USD</th>\n",
       "      <td>-0.068138</td>\n",
       "      <td>-0.363941</td>\n",
       "      <td>-0.008767</td>\n",
       "      <td>-0.338625</td>\n",
       "      <td>1.000000</td>\n",
       "      <td>0.219452</td>\n",
       "    </tr>\n",
       "    <tr>\n",
       "      <th>PPI</th>\n",
       "      <td>0.745125</td>\n",
       "      <td>0.607492</td>\n",
       "      <td>0.509451</td>\n",
       "      <td>0.454566</td>\n",
       "      <td>0.219452</td>\n",
       "      <td>1.000000</td>\n",
       "    </tr>\n",
       "  </tbody>\n",
       "</table>\n",
       "</div>"
      ],
      "text/plain": [
       "             Close  S&PClose      Gold     Ether       USD       PPI\n",
       "Close     1.000000  0.877302  0.839692  0.730754 -0.068138  0.745125\n",
       "S&PClose  0.877302  1.000000  0.726014  0.918236 -0.363941  0.607492\n",
       "Gold      0.839692  0.726014  1.000000  0.564521 -0.008767  0.509451\n",
       "Ether     0.730754  0.918236  0.564521  1.000000 -0.338625  0.454566\n",
       "USD      -0.068138 -0.363941 -0.008767 -0.338625  1.000000  0.219452\n",
       "PPI       0.745125  0.607492  0.509451  0.454566  0.219452  1.000000"
      ]
     },
     "execution_count": 76,
     "metadata": {},
     "output_type": "execute_result"
    }
   ],
   "source": [
    "pg_corr = PG.corr()\n",
    "pg_corr"
   ]
  },
  {
   "cell_type": "code",
   "execution_count": 77,
   "id": "882d465e",
   "metadata": {},
   "outputs": [
    {
     "data": {
      "image/png": "[encoded data removed]",
      "text/plain": [
       "<Figure size 1800x1440 with 2 Axes>"
      ]
     },
     "metadata": {
      "needs_background": "light"
     },
     "output_type": "display_data"
    }
   ],
   "source": [
    "# Set up figure and axis\n",
    "fig, ax = plt.subplots(figsize=(25, 20))\n",
    "\n",
    "sns.heatmap(PG.corr(), \n",
    "            # Mask to show only half the values instead of showing duplicates\n",
    "            mask=np.triu(np.ones_like(pg_corr, dtype=bool)),\n",
    "            # Specifies that we want values not just colors\n",
    "            annot = True,\n",
    "            linewidths = 10,\n",
    "            center=0);"
   ]
  },
  {
   "cell_type": "code",
   "execution_count": 78,
   "id": "2b851761",
   "metadata": {},
   "outputs": [
    {
     "data": {
      "text/plain": [
       "<AxesSubplot:xlabel='Date'>"
      ]
     },
     "execution_count": 78,
     "metadata": {},
     "output_type": "execute_result"
    },
    {
     "data": {
      "image/png": "[encoded data removed]",
      "text/plain": [
       "<Figure size 432x288 with 1 Axes>"
      ]
     },
     "metadata": {
      "needs_background": "light"
     },
     "output_type": "display_data"
    }
   ],
   "source": [
    "PG.plot(x='Date',y='Close')"
   ]
  },
  {
   "cell_type": "markdown",
   "id": "d8542d1c",
   "metadata": {},
   "source": [
    "### PEP EDA "
   ]
  },
  {
   "cell_type": "code",
   "execution_count": 79,
   "id": "60f69213",
   "metadata": {},
   "outputs": [
    {
     "data": {
      "text/html": [
       "<div>\n",
       "<style scoped>\n",
       "    .dataframe tbody tr th:only-of-type {\n",
       "        vertical-align: middle;\n",
       "    }\n",
       "\n",
       "    .dataframe tbody tr th {\n",
       "        vertical-align: top;\n",
       "    }\n",
       "\n",
       "    .dataframe thead th {\n",
       "        text-align: right;\n",
       "    }\n",
       "</style>\n",
       "<table border=\"1\" class=\"dataframe\">\n",
       "  <thead>\n",
       "    <tr style=\"text-align: right;\">\n",
       "      <th></th>\n",
       "      <th>Close</th>\n",
       "      <th>S&amp;PClose</th>\n",
       "      <th>Gold</th>\n",
       "      <th>Ether</th>\n",
       "      <th>USD</th>\n",
       "      <th>PPI</th>\n",
       "    </tr>\n",
       "  </thead>\n",
       "  <tbody>\n",
       "    <tr>\n",
       "      <th>Close</th>\n",
       "      <td>1.000000</td>\n",
       "      <td>0.853652</td>\n",
       "      <td>0.689322</td>\n",
       "      <td>0.721479</td>\n",
       "      <td>0.041085</td>\n",
       "      <td>0.840919</td>\n",
       "    </tr>\n",
       "    <tr>\n",
       "      <th>S&amp;PClose</th>\n",
       "      <td>0.853652</td>\n",
       "      <td>1.000000</td>\n",
       "      <td>0.726014</td>\n",
       "      <td>0.918236</td>\n",
       "      <td>-0.363941</td>\n",
       "      <td>0.607492</td>\n",
       "    </tr>\n",
       "    <tr>\n",
       "      <th>Gold</th>\n",
       "      <td>0.689322</td>\n",
       "      <td>0.726014</td>\n",
       "      <td>1.000000</td>\n",
       "      <td>0.564521</td>\n",
       "      <td>-0.008767</td>\n",
       "      <td>0.509451</td>\n",
       "    </tr>\n",
       "    <tr>\n",
       "      <th>Ether</th>\n",
       "      <td>0.721479</td>\n",
       "      <td>0.918236</td>\n",
       "      <td>0.564521</td>\n",
       "      <td>1.000000</td>\n",
       "      <td>-0.338625</td>\n",
       "      <td>0.454566</td>\n",
       "    </tr>\n",
       "    <tr>\n",
       "      <th>USD</th>\n",
       "      <td>0.041085</td>\n",
       "      <td>-0.363941</td>\n",
       "      <td>-0.008767</td>\n",
       "      <td>-0.338625</td>\n",
       "      <td>1.000000</td>\n",
       "      <td>0.219452</td>\n",
       "    </tr>\n",
       "    <tr>\n",
       "      <th>PPI</th>\n",
       "      <td>0.840919</td>\n",
       "      <td>0.607492</td>\n",
       "      <td>0.509451</td>\n",
       "      <td>0.454566</td>\n",
       "      <td>0.219452</td>\n",
       "      <td>1.000000</td>\n",
       "    </tr>\n",
       "  </tbody>\n",
       "</table>\n",
       "</div>"
      ],
      "text/plain": [
       "             Close  S&PClose      Gold     Ether       USD       PPI\n",
       "Close     1.000000  0.853652  0.689322  0.721479  0.041085  0.840919\n",
       "S&PClose  0.853652  1.000000  0.726014  0.918236 -0.363941  0.607492\n",
       "Gold      0.689322  0.726014  1.000000  0.564521 -0.008767  0.509451\n",
       "Ether     0.721479  0.918236  0.564521  1.000000 -0.338625  0.454566\n",
       "USD       0.041085 -0.363941 -0.008767 -0.338625  1.000000  0.219452\n",
       "PPI       0.840919  0.607492  0.509451  0.454566  0.219452  1.000000"
      ]
     },
     "execution_count": 79,
     "metadata": {},
     "output_type": "execute_result"
    }
   ],
   "source": [
    "pep_corr = PEP.corr()\n",
    "pep_corr"
   ]
  },
  {
   "cell_type": "code",
   "execution_count": 80,
   "id": "ceda8fe4",
   "metadata": {},
   "outputs": [
    {
     "data": {
      "image/png": "[encoded data removed]",
      "text/plain": [
       "<Figure size 1800x1440 with 2 Axes>"
      ]
     },
     "metadata": {
      "needs_background": "light"
     },
     "output_type": "display_data"
    }
   ],
   "source": [
    "# Set up figure and axis\n",
    "fig, ax = plt.subplots(figsize=(25, 20))\n",
    "\n",
    "sns.heatmap(PEP.corr(), \n",
    "            # Mask to show only half the values instead of showing duplicates\n",
    "            mask=np.triu(np.ones_like(pep_corr, dtype=bool)),\n",
    "            # Specifies that we want values not just colors\n",
    "            annot = True,\n",
    "            linewidths = 10,\n",
    "            center=0);"
   ]
  },
  {
   "cell_type": "code",
   "execution_count": 81,
   "id": "d122caf9",
   "metadata": {
    "scrolled": true
   },
   "outputs": [
    {
     "data": {
      "text/plain": [
       "<AxesSubplot:xlabel='Date'>"
      ]
     },
     "execution_count": 81,
     "metadata": {},
     "output_type": "execute_result"
    },
    {
     "data": {
      "image/png": "[encoded data removed]",
      "text/plain": [
       "<Figure size 432x288 with 1 Axes>"
      ]
     },
     "metadata": {
      "needs_background": "light"
     },
     "output_type": "display_data"
    }
   ],
   "source": [
    "PEP.plot(x='Date',y='Close')"
   ]
  },
  {
   "cell_type": "markdown",
   "id": "ad278347",
   "metadata": {},
   "source": [
    "### Preprocessing"
   ]
  },
  {
   "cell_type": "code",
   "execution_count": 82,
   "id": "2ba27610",
   "metadata": {},
   "outputs": [],
   "source": [
    "# cols = ['S&PClose','Gold','PPI','Ether','USD','Symbol']\n",
    "# col_order = ['Date','Close']\n",
    "# COST.drop(cols, axis=1, inplace=True)"
   ]
  },
  {
   "cell_type": "code",
   "execution_count": 83,
   "id": "d55568cd",
   "metadata": {},
   "outputs": [
    {
     "data": {
      "text/html": [
       "<div>\n",
       "<style scoped>\n",
       "    .dataframe tbody tr th:only-of-type {\n",
       "        vertical-align: middle;\n",
       "    }\n",
       "\n",
       "    .dataframe tbody tr th {\n",
       "        vertical-align: top;\n",
       "    }\n",
       "\n",
       "    .dataframe thead th {\n",
       "        text-align: right;\n",
       "    }\n",
       "</style>\n",
       "<table border=\"1\" class=\"dataframe\">\n",
       "  <thead>\n",
       "    <tr style=\"text-align: right;\">\n",
       "      <th></th>\n",
       "      <th>Date</th>\n",
       "      <th>Close</th>\n",
       "    </tr>\n",
       "  </thead>\n",
       "  <tbody>\n",
       "    <tr>\n",
       "      <th>1</th>\n",
       "      <td>2019-02-01</td>\n",
       "      <td>210.270004</td>\n",
       "    </tr>\n",
       "    <tr>\n",
       "      <th>6</th>\n",
       "      <td>2019-03-01</td>\n",
       "      <td>219.440002</td>\n",
       "    </tr>\n",
       "    <tr>\n",
       "      <th>11</th>\n",
       "      <td>2019-04-01</td>\n",
       "      <td>244.190002</td>\n",
       "    </tr>\n",
       "    <tr>\n",
       "      <th>16</th>\n",
       "      <td>2019-05-01</td>\n",
       "      <td>241.589996</td>\n",
       "    </tr>\n",
       "    <tr>\n",
       "      <th>21</th>\n",
       "      <td>2019-07-01</td>\n",
       "      <td>263.549988</td>\n",
       "    </tr>\n",
       "  </tbody>\n",
       "</table>\n",
       "</div>"
      ],
      "text/plain": [
       "         Date       Close\n",
       "1  2019-02-01  210.270004\n",
       "6  2019-03-01  219.440002\n",
       "11 2019-04-01  244.190002\n",
       "16 2019-05-01  241.589996\n",
       "21 2019-07-01  263.549988"
      ]
     },
     "execution_count": 83,
     "metadata": {},
     "output_type": "execute_result"
    }
   ],
   "source": [
    "COST = COST.drop(['S&PClose','Gold','PPI','Ether','USD','Symbol'],axis=1)\n",
    "COST.head()"
   ]
  },
  {
   "cell_type": "code",
   "execution_count": 84,
   "id": "957f8fd6",
   "metadata": {},
   "outputs": [
    {
     "data": {
      "text/html": [
       "<div>\n",
       "<style scoped>\n",
       "    .dataframe tbody tr th:only-of-type {\n",
       "        vertical-align: middle;\n",
       "    }\n",
       "\n",
       "    .dataframe tbody tr th {\n",
       "        vertical-align: top;\n",
       "    }\n",
       "\n",
       "    .dataframe thead th {\n",
       "        text-align: right;\n",
       "    }\n",
       "</style>\n",
       "<table border=\"1\" class=\"dataframe\">\n",
       "  <thead>\n",
       "    <tr style=\"text-align: right;\">\n",
       "      <th></th>\n",
       "      <th>Date</th>\n",
       "      <th>Close</th>\n",
       "    </tr>\n",
       "  </thead>\n",
       "  <tbody>\n",
       "    <tr>\n",
       "      <th>1</th>\n",
       "      <td>2019-02-01</td>\n",
       "      <td>210.270004</td>\n",
       "    </tr>\n",
       "    <tr>\n",
       "      <th>6</th>\n",
       "      <td>2019-03-01</td>\n",
       "      <td>219.440002</td>\n",
       "    </tr>\n",
       "    <tr>\n",
       "      <th>11</th>\n",
       "      <td>2019-04-01</td>\n",
       "      <td>244.190002</td>\n",
       "    </tr>\n",
       "    <tr>\n",
       "      <th>16</th>\n",
       "      <td>2019-05-01</td>\n",
       "      <td>241.589996</td>\n",
       "    </tr>\n",
       "    <tr>\n",
       "      <th>21</th>\n",
       "      <td>2019-07-01</td>\n",
       "      <td>263.549988</td>\n",
       "    </tr>\n",
       "    <tr>\n",
       "      <th>26</th>\n",
       "      <td>2019-08-01</td>\n",
       "      <td>274.570007</td>\n",
       "    </tr>\n",
       "    <tr>\n",
       "      <th>31</th>\n",
       "      <td>2019-10-01</td>\n",
       "      <td>283.929993</td>\n",
       "    </tr>\n",
       "    <tr>\n",
       "      <th>36</th>\n",
       "      <td>2019-11-01</td>\n",
       "      <td>296.089996</td>\n",
       "    </tr>\n",
       "    <tr>\n",
       "      <th>41</th>\n",
       "      <td>2020-04-01</td>\n",
       "      <td>286.779999</td>\n",
       "    </tr>\n",
       "    <tr>\n",
       "      <th>46</th>\n",
       "      <td>2020-05-01</td>\n",
       "      <td>301.920013</td>\n",
       "    </tr>\n",
       "    <tr>\n",
       "      <th>51</th>\n",
       "      <td>2020-06-01</td>\n",
       "      <td>308.290009</td>\n",
       "    </tr>\n",
       "    <tr>\n",
       "      <th>56</th>\n",
       "      <td>2020-07-01</td>\n",
       "      <td>304.750000</td>\n",
       "    </tr>\n",
       "    <tr>\n",
       "      <th>61</th>\n",
       "      <td>2020-09-01</td>\n",
       "      <td>351.380005</td>\n",
       "    </tr>\n",
       "    <tr>\n",
       "      <th>66</th>\n",
       "      <td>2020-10-01</td>\n",
       "      <td>358.459991</td>\n",
       "    </tr>\n",
       "    <tr>\n",
       "      <th>71</th>\n",
       "      <td>2020-12-01</td>\n",
       "      <td>387.559998</td>\n",
       "    </tr>\n",
       "    <tr>\n",
       "      <th>76</th>\n",
       "      <td>2021-02-01</td>\n",
       "      <td>350.519989</td>\n",
       "    </tr>\n",
       "    <tr>\n",
       "      <th>81</th>\n",
       "      <td>2021-03-01</td>\n",
       "      <td>331.769989</td>\n",
       "    </tr>\n",
       "    <tr>\n",
       "      <th>86</th>\n",
       "      <td>2021-04-01</td>\n",
       "      <td>354.940002</td>\n",
       "    </tr>\n",
       "    <tr>\n",
       "      <th>91</th>\n",
       "      <td>2021-06-01</td>\n",
       "      <td>378.230011</td>\n",
       "    </tr>\n",
       "    <tr>\n",
       "      <th>96</th>\n",
       "      <td>2021-07-01</td>\n",
       "      <td>394.529999</td>\n",
       "    </tr>\n",
       "    <tr>\n",
       "      <th>101</th>\n",
       "      <td>2021-09-01</td>\n",
       "      <td>456.519989</td>\n",
       "    </tr>\n",
       "    <tr>\n",
       "      <th>106</th>\n",
       "      <td>2021-10-01</td>\n",
       "      <td>448.329987</td>\n",
       "    </tr>\n",
       "    <tr>\n",
       "      <th>111</th>\n",
       "      <td>2021-11-01</td>\n",
       "      <td>491.869995</td>\n",
       "    </tr>\n",
       "    <tr>\n",
       "      <th>116</th>\n",
       "      <td>2021-12-01</td>\n",
       "      <td>529.840027</td>\n",
       "    </tr>\n",
       "    <tr>\n",
       "      <th>121</th>\n",
       "      <td>2022-02-01</td>\n",
       "      <td>508.410004</td>\n",
       "    </tr>\n",
       "    <tr>\n",
       "      <th>126</th>\n",
       "      <td>2022-03-01</td>\n",
       "      <td>522.929993</td>\n",
       "    </tr>\n",
       "    <tr>\n",
       "      <th>131</th>\n",
       "      <td>2022-04-01</td>\n",
       "      <td>575.570007</td>\n",
       "    </tr>\n",
       "    <tr>\n",
       "      <th>136</th>\n",
       "      <td>2022-06-01</td>\n",
       "      <td>456.989990</td>\n",
       "    </tr>\n",
       "    <tr>\n",
       "      <th>141</th>\n",
       "      <td>2022-07-01</td>\n",
       "      <td>485.760010</td>\n",
       "    </tr>\n",
       "    <tr>\n",
       "      <th>146</th>\n",
       "      <td>2022-08-01</td>\n",
       "      <td>546.809998</td>\n",
       "    </tr>\n",
       "  </tbody>\n",
       "</table>\n",
       "</div>"
      ],
      "text/plain": [
       "          Date       Close\n",
       "1   2019-02-01  210.270004\n",
       "6   2019-03-01  219.440002\n",
       "11  2019-04-01  244.190002\n",
       "16  2019-05-01  241.589996\n",
       "21  2019-07-01  263.549988\n",
       "26  2019-08-01  274.570007\n",
       "31  2019-10-01  283.929993\n",
       "36  2019-11-01  296.089996\n",
       "41  2020-04-01  286.779999\n",
       "46  2020-05-01  301.920013\n",
       "51  2020-06-01  308.290009\n",
       "56  2020-07-01  304.750000\n",
       "61  2020-09-01  351.380005\n",
       "66  2020-10-01  358.459991\n",
       "71  2020-12-01  387.559998\n",
       "76  2021-02-01  350.519989\n",
       "81  2021-03-01  331.769989\n",
       "86  2021-04-01  354.940002\n",
       "91  2021-06-01  378.230011\n",
       "96  2021-07-01  394.529999\n",
       "101 2021-09-01  456.519989\n",
       "106 2021-10-01  448.329987\n",
       "111 2021-11-01  491.869995\n",
       "116 2021-12-01  529.840027\n",
       "121 2022-02-01  508.410004\n",
       "126 2022-03-01  522.929993\n",
       "131 2022-04-01  575.570007\n",
       "136 2022-06-01  456.989990\n",
       "141 2022-07-01  485.760010\n",
       "146 2022-08-01  546.809998"
      ]
     },
     "execution_count": 84,
     "metadata": {},
     "output_type": "execute_result"
    }
   ],
   "source": [
    "COST.head(40)"
   ]
  },
  {
   "cell_type": "code",
   "execution_count": 85,
   "id": "1d7e6930",
   "metadata": {},
   "outputs": [],
   "source": [
    "# stock_c = stock_c.reindex(columns=col_order)"
   ]
  },
  {
   "cell_type": "code",
   "execution_count": 86,
   "id": "6dc70b5c",
   "metadata": {},
   "outputs": [],
   "source": [
    "# monthly_mean = stock_c['Close'].resample('D').mean()"
   ]
  },
  {
   "cell_type": "code",
   "execution_count": 87,
   "id": "39a83847",
   "metadata": {},
   "outputs": [],
   "source": [
    "# COST = COST.drop(['S&PClose','Gold','PPI','Ether','USD','Symbol'],axis=1)\n",
    "# COST.head()"
   ]
  },
  {
   "cell_type": "code",
   "execution_count": 88,
   "id": "33c8f84b",
   "metadata": {},
   "outputs": [],
   "source": [
    "# error = np.random.normal(0, 2, len(COST['Date']))\n",
    "# Y_0 = 8\n",
    "# mu = 5\n",
    "# phi = 0.7"
   ]
  },
  {
   "cell_type": "code",
   "execution_count": 89,
   "id": "f59ce4c6",
   "metadata": {},
   "outputs": [],
   "source": [
    "# TS = [None] * len(COST['Date'])\n",
    "# y = Y_0\n",
    "# for i, row in enumerate(COST['Date']):\n",
    "#     TS[i] = mu + y * phi + error[i]\n",
    "#     y = TS[i] - mu"
   ]
  },
  {
   "cell_type": "code",
   "execution_count": 90,
   "id": "1a25ea5d",
   "metadata": {},
   "outputs": [],
   "source": [
    "# series = pd.Series(TS, index=COST['Date'])\n",
    "# series.plot(figsize=(14,6), linewidth=2, fontsize=14);"
   ]
  },
  {
   "cell_type": "code",
   "execution_count": 91,
   "id": "935ee201",
   "metadata": {},
   "outputs": [],
   "source": [
    "# series.shape"
   ]
  },
  {
   "cell_type": "code",
   "execution_count": 92,
   "id": "60bcf9bb",
   "metadata": {},
   "outputs": [],
   "source": [
    "# fig, ax = plt.subplots(figsize=(16,3))\n",
    "# plot_acf(series, ax=ax, lags=14);\n",
    "\n",
    "# fig, ax = plt.subplots(figsize=(16,3))\n",
    "# plot_pacf(series, ax=ax, lags=14);"
   ]
  },
  {
   "cell_type": "code",
   "execution_count": 93,
   "id": "37d8cd57",
   "metadata": {},
   "outputs": [],
   "source": [
    "# mod_arma = ARIMA(series, order=(1,0,0))"
   ]
  },
  {
   "cell_type": "code",
   "execution_count": 94,
   "id": "ccb4082b",
   "metadata": {},
   "outputs": [],
   "source": [
    "# res_arma = mod_arma.fit()"
   ]
  },
  {
   "cell_type": "code",
   "execution_count": 95,
   "id": "7f6b8174",
   "metadata": {},
   "outputs": [],
   "source": [
    "# print(res_arma.summary())"
   ]
  },
  {
   "cell_type": "code",
   "execution_count": null,
   "id": "bfaf5020",
   "metadata": {},
   "outputs": [],
   "source": []
  },
  {
   "cell_type": "markdown",
   "id": "e5d65eb5",
   "metadata": {},
   "source": [
    "### Logistic Regression"
   ]
  },
  {
   "cell_type": "code",
   "execution_count": null,
   "id": "3bdab5ac",
   "metadata": {},
   "outputs": [],
   "source": []
  },
  {
   "cell_type": "code",
   "execution_count": null,
   "id": "b29c6ad1",
   "metadata": {},
   "outputs": [],
   "source": []
  },
  {
   "cell_type": "code",
   "execution_count": null,
   "id": "2bb43952",
   "metadata": {},
   "outputs": [],
   "source": []
  },
  {
   "cell_type": "code",
   "execution_count": null,
   "id": "60bc812a",
   "metadata": {},
   "outputs": [],
   "source": []
  },
  {
   "cell_type": "code",
   "execution_count": null,
   "id": "e9e8947f",
   "metadata": {},
   "outputs": [],
   "source": []
  }
 ],
 "metadata": {
  "kernelspec": {
   "display_name": "Python 3",
   "language": "python",
   "name": "python3"
  },
  "language_info": {
   "codemirror_mode": {
    "name": "ipython",
    "version": 3
   },
   "file_extension": ".py",
   "mimetype": "text/x-python",
   "name": "python",
   "nbconvert_exporter": "python",
   "pygments_lexer": "ipython3",
   "version": "3.8.8"
  }
 },
 "nbformat": 4,
 "nbformat_minor": 5
}
